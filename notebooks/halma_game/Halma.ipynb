{
 "cells": [
  {
   "cell_type": "code",
   "execution_count": 31,
   "id": "initial_id",
   "metadata": {
    "collapsed": true,
    "ExecuteTime": {
     "end_time": "2024-04-26T18:01:12.626526700Z",
     "start_time": "2024-04-26T18:01:12.615614900Z"
    }
   },
   "outputs": [],
   "source": [
    "from pathlib import Path\n",
    "\n",
    "import pandas as pd\n",
    "\n",
    "from ai_data_eng.halma_game.logic.engine import Engine\n",
    "from ai_data_eng.halma_game.logic.gamestate import GameState\n",
    "from ai_data_eng.halma_game.utils import print_board"
   ]
  },
  {
   "cell_type": "code",
   "outputs": [],
   "source": [
    "match_dir = Path('../../data/halma/human_minmax_minmax-26-1755')"
   ],
   "metadata": {
    "collapsed": false,
    "ExecuteTime": {
     "end_time": "2024-04-26T18:00:45.106307600Z",
     "start_time": "2024-04-26T18:00:45.103142300Z"
    }
   },
   "id": "3bbcb84086245bfa",
   "execution_count": 24
  },
  {
   "cell_type": "code",
   "outputs": [],
   "source": [
    "engine = Engine()\n",
    "game_repr = GameState(engine)"
   ],
   "metadata": {
    "collapsed": false,
    "ExecuteTime": {
     "end_time": "2024-04-26T18:00:45.826815500Z",
     "start_time": "2024-04-26T18:00:45.824787700Z"
    }
   },
   "id": "90cf0010739b2a10",
   "execution_count": 25
  },
  {
   "cell_type": "code",
   "outputs": [],
   "source": [
    "player_black = pd.read_csv(match_dir / 'PLAYER.WHITE', header=None, sep=';')\n",
    "player_white = pd.read_csv(match_dir / 'PLAYER.BLACK', header=None, sep=';')"
   ],
   "metadata": {
    "collapsed": false,
    "ExecuteTime": {
     "end_time": "2024-04-26T18:02:45.410225400Z",
     "start_time": "2024-04-26T18:02:45.391060200Z"
    }
   },
   "id": "9c9fcd591eec6082",
   "execution_count": 33
  },
  {
   "cell_type": "code",
   "outputs": [
    {
     "data": {
      "text/plain": "241"
     },
     "execution_count": 34,
     "metadata": {},
     "output_type": "execute_result"
    }
   ],
   "source": [
    "len(player_white)"
   ],
   "metadata": {
    "collapsed": false,
    "ExecuteTime": {
     "end_time": "2024-04-26T18:02:47.006264900Z",
     "start_time": "2024-04-26T18:02:46.998385700Z"
    }
   },
   "id": "4d4e281c81d983ff",
   "execution_count": 34
  },
  {
   "cell_type": "code",
   "outputs": [],
   "source": [
    "def split(field):\n",
    "    pos = field.split(',')\n",
    "    return int(pos[0]), int(pos[1])"
   ],
   "metadata": {
    "collapsed": false,
    "ExecuteTime": {
     "end_time": "2024-04-26T18:02:47.789650400Z",
     "start_time": "2024-04-26T18:02:47.786552500Z"
    }
   },
   "id": "b0cc89ad1efd2a1c",
   "execution_count": 35
  },
  {
   "cell_type": "code",
   "outputs": [],
   "source": [
    "for i in range(10):\n",
    "    game_repr.move(split(player_black.iloc[i, 0]), \n",
    "                   split(player_black.iloc[i, 1]))\n",
    "    game_repr.move(split(player_white.iloc[i, 0]), \n",
    "                   split(player_white.iloc[i, 1]))"
   ],
   "metadata": {
    "collapsed": false,
    "ExecuteTime": {
     "end_time": "2024-04-26T18:02:48.607191200Z",
     "start_time": "2024-04-26T18:02:48.602629400Z"
    }
   },
   "id": "b08453ae7ed7c741",
   "execution_count": 36
  },
  {
   "cell_type": "code",
   "outputs": [
    {
     "name": "stdout",
     "output_type": "stream",
     "text": [
      "    00 01 02 03 04 05 06 07 08 09 10 11 12 13 14 15\n",
      "----------------------------------------------------\n",
      "00 | 1  1  0  0  0  0  0  0  0  0  0  0  0  0  0  0 | 00\n",
      "01 | 1  0  0  0  1  0  0  0  0  0  0  0  0  0  0  0 | 01\n",
      "02 | 0  0  1  1  0  1  0  0  0  2  0  0  0  0  0  0 | 02\n",
      "03 | 0  1  1  0  0  1  1  0  0  0  2  0  0  0  0  0 | 03\n",
      "04 | 1  1  1  1  0  0  1  0  0  0  2  0  0  0  0  0 | 04\n",
      "05 | 0  0  0  1  1  0  0  0  0  0  0  2  0  0  0  0 | 05\n",
      "06 | 0  0  0  0  1  0  0  0  0  0  0  0  0  0  0  0 | 06\n",
      "07 | 0  0  0  0  0  0  0  0  0  0  0  0  0  0  0  0 | 07\n",
      "08 | 0  0  0  0  0  0  0  0  0  0  0  0  0  0  0  0 | 08\n",
      "09 | 0  0  0  0  0  0  0  0  0  0  0  0  2  0  0  0 | 09\n",
      "10 | 0  0  0  0  0  0  0  0  0  0  0  0  0  0  0  0 | 10\n",
      "11 | 0  0  0  0  0  0  0  0  0  0  0  0  0  0  2  2 | 11\n",
      "12 | 0  0  0  0  0  0  0  0  0  0  0  0  0  2  0  0 | 12\n",
      "13 | 0  0  0  0  0  0  0  0  0  0  0  0  2  2  0  0 | 13\n",
      "14 | 0  0  0  0  0  0  0  0  0  0  0  2  2  2  2  2 | 14\n",
      "15 | 0  0  0  0  0  0  0  0  0  0  0  2  2  2  0  2 | 15\n",
      "----------------------------------------------------\n",
      "    00 01 02 03 04 05 06 07 08 09 10 11 12 13 14 15\n"
     ]
    }
   ],
   "source": [
    "print_board(game_repr.get_board())"
   ],
   "metadata": {
    "collapsed": false,
    "ExecuteTime": {
     "end_time": "2024-04-26T18:02:49.510587200Z",
     "start_time": "2024-04-26T18:02:49.506663100Z"
    }
   },
   "id": "cfffdfccec8399a2",
   "execution_count": 37
  }
 ],
 "metadata": {
  "kernelspec": {
   "display_name": "Python 3",
   "language": "python",
   "name": "python3"
  },
  "language_info": {
   "codemirror_mode": {
    "name": "ipython",
    "version": 2
   },
   "file_extension": ".py",
   "mimetype": "text/x-python",
   "name": "python",
   "nbconvert_exporter": "python",
   "pygments_lexer": "ipython2",
   "version": "2.7.6"
  }
 },
 "nbformat": 4,
 "nbformat_minor": 5
}
