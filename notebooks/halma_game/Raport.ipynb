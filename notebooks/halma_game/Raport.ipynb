{
 "cells": [
  {
   "cell_type": "markdown",
   "source": [
    "### Pytania\n",
    "\n",
    "1. Czy to normalne że się zapętla to drzewo? Co robić z tym: albo zakazywać stanów, a może zakazywać ruchów na jakiś czas (tak jak w TabuSearch)\n",
    "2. Jeśli tak, to czy te gałęzie, które już odwiedziliśmy mamy po prostu omijać, czy je ewaluować? \n",
    "3. Czy ma sens dawać taką głębokość drzewa, że ostatnim ruchem jest ruch przeciwnika? Bo wtedy naturalnie zawsze gorsze ruchy będą, niż gdyby to o ostatnim ruchu decydował Max\n",
    "4. Co oznacza adaptacyjność heurystyk\n",
    "5. Czy strategia oznacza to, jak oceniamy szanse bez analizowania drzewa, tj. tylko na podstawie aktualnego stanu, czy też to, które ruchy wybieramy (normalnie testuje każdy możliwy ruch).\n",
    "6. Czy alpha-beta powinno dawać taki sam ruch? Czy taką samą wartość (wtedy ruch może być inny)?\n",
    "7. Czy to normalne, że pod koniec algorytm błądzi między tymi samymi stanami? Czy można np. zakazać mu przechodzić do stanu, jeśli przed chwilą tam był? (na wzór tabu-search)\n",
    "\n",
    "Nie trzeba obliczać dla przeciwnika wartości. Czas dla roznych glebokosci, brak heurystyki. Dwa ruchy na raz  \n",
    "\n",
    "Jakie rodzaje porównań stworzyć:\n",
    "1. Ta sama strategia dla tej samej głębokości drzewa i tego samego algorytmu\n",
    "2. Ta sama strategia dla tej róznej głębokości drzewa i tego samego algorytmu\n",
    "3. Ta sama strategia dla tej samej głębokości drzewa i różnych algorytmów\n",
    "4. Ta sama strategia dla tej różnej głębokości drzewa i różnych algorytmów\n",
    "5. Różne strategie dla tej samej głębokości drzewa i tego samego algorytmu\n",
    "6. Różne strategie dla tej różnej głębokości drzewa i tego samego algorytmu\n",
    "\n",
    "Jak wizualizować porównania: \n",
    "- Na jednym wykresie porównywać różnych graczy w stosunku do tej samej zmiennej\n",
    "- Na jednym wykresie porównać różne zmienne dla tego samego gracza \n",
    "- Porównać statystyki dla różnych graczy na tym samym wykresie\n",
    "\n",
    "Która strategia wygrała najczęściej?\n",
    "Który algorytm wygrał najczęściej?"
   ],
   "metadata": {
    "collapsed": false
   },
   "id": "51b1cdd49db437c4"
  },
  {
   "cell_type": "code",
   "outputs": [],
   "source": [
    "import os\n",
    "from pathlib import Path\n",
    "import matplotlib.pyplot as plt\n",
    "import seaborn as sns\n",
    "\n",
    "import numpy as np\n",
    "import pandas as pd"
   ],
   "metadata": {
    "collapsed": false
   },
   "id": "59e62bedc589e7e",
   "execution_count": null
  },
  {
   "cell_type": "code",
   "outputs": [],
   "source": [
    "halma_dir = Path('../../data/halma')"
   ],
   "metadata": {
    "collapsed": false
   },
   "id": "52cef3d9c2ed836b",
   "execution_count": null
  },
  {
   "cell_type": "code",
   "outputs": [],
   "source": [
    "match_dir = halma_dir.joinpath('alphabeta-alphabeta/1-1/STRATEGY.DISTANCE-STRATEGY.DISTANCE')"
   ],
   "metadata": {
    "collapsed": false
   },
   "id": "5b609ebc1e01dd20",
   "execution_count": null
  },
  {
   "cell_type": "code",
   "outputs": [],
   "source": [
    "str(match_dir)"
   ],
   "metadata": {
    "collapsed": false
   },
   "id": "c6551130079e47e2",
   "execution_count": null
  },
  {
   "cell_type": "code",
   "outputs": [],
   "source": [
    "elements = str(match_dir).split('\\\\')\n",
    "elements"
   ],
   "metadata": {
    "collapsed": false
   },
   "id": "349e72a75764fda7",
   "execution_count": null
  },
  {
   "cell_type": "code",
   "outputs": [],
   "source": [
    "elements[-3].split('-')"
   ],
   "metadata": {
    "collapsed": false
   },
   "id": "62926e206ee943c2",
   "execution_count": null
  },
  {
   "cell_type": "code",
   "outputs": [],
   "source": [
    "def get_configuration(match_dir, date_prefix):\n",
    "    elements = str(match_dir).split('\\\\')\n",
    "    strategies, depths, algorithms = elements[-1].split('-'), elements[-2].split('-'), elements[-3].split('-')\n",
    "    if os.path.exists(match_dir / f'{date_prefix}-stats'):\n",
    "        match_results = pd.read_csv(match_dir / f'{date_prefix}-stats', sep=';', names=['Total moves', 'Winner'])\n",
    "    else:\n",
    "        match_results = pd.DataFrame(data={'Total moves': [len(player_white) + len(player_black)], 'Winner': ['None']})\n",
    "    config = {\n",
    "        'black': {\n",
    "            'strategy': strategies[0].split('.')[1].lower(), 'depth': depths[0], 'algorithm': algorithms[0]\n",
    "        }, \n",
    "        'white': {\n",
    "            'strategy': strategies[1].split('.')[1].lower(), 'depth': depths[1], 'algorithm': algorithms[1]\n",
    "        },\n",
    "        'match': ''.join(elements[-3:]),\n",
    "        'winner': match_results.loc[0, 'Winner']\n",
    "    }\n",
    "    \n",
    "    return config\n",
    "\n",
    "def add_metadata(dfs, players, match_dir, date_prefix):\n",
    "    config = get_configuration(match_dir, date_prefix)\n",
    "    for (df, player) in zip(dfs, players):\n",
    "        df.player = player \n",
    "        df.strategy = config[player]['strategy']\n",
    "        df.depth = config[player]['depth']\n",
    "        df.algorithm = config[player]['algorithm']\n",
    "        df.match = config['match']\n",
    "        df.winner = config['winner']"
   ],
   "metadata": {
    "collapsed": false
   },
   "id": "7a00372ed9805f18",
   "execution_count": null
  },
  {
   "cell_type": "code",
   "outputs": [],
   "source": [
    "def read_match(match_dir: Path, date_prefix: str):\n",
    "    header = ['Move from', 'Move to', 'Compute time', 'Tree size', 'Eval value']\n",
    "    player_black = pd.read_csv(match_dir / f'{date_prefix}-PLAYER.BLACK',\n",
    "                                       names=header, sep=';')\n",
    "    player_white = pd.read_csv(match_dir / f'{date_prefix}-PLAYER.WHITE',\n",
    "                                       names=header, sep=';')\n",
    "    for df in [player_black, player_white]:\n",
    "        df['Jump size'] = df.apply(lambda x: jump_size(x.iloc[0], x.iloc[1]), axis=1)\n",
    "    add_metadata([player_black, player_white], ['black', 'white'], match_dir, date_prefix)\n",
    "    return player_black, player_white"
   ],
   "metadata": {
    "collapsed": false
   },
   "id": "7a719687e8698149",
   "execution_count": null
  },
  {
   "cell_type": "code",
   "outputs": [],
   "source": [
    "from ai_data_eng.halma_game.utils import split\n",
    "\n",
    "def jump_size(move_from, move_to):\n",
    "    y_f, x_f = split(move_from)\n",
    "    y_t, x_t = split(move_to)\n",
    "    return abs(y_f-y_t) + abs(x_f - x_t)"
   ],
   "metadata": {
    "collapsed": false
   },
   "id": "85f908d0d64a3405",
   "execution_count": null
  },
  {
   "cell_type": "code",
   "outputs": [],
   "source": [
    "player_black, player_white= read_match(halma_dir.joinpath('alphabeta-alphabeta/1-1/STRATEGY.DISTANCE-STRATEGY.DISTANCE'), '30-0909')"
   ],
   "metadata": {
    "collapsed": false
   },
   "id": "1a3455fbe297be3",
   "execution_count": null
  },
  {
   "cell_type": "code",
   "outputs": [],
   "source": [
    "player_black.winner"
   ],
   "metadata": {
    "collapsed": false
   },
   "id": "9421d56679f614d3",
   "execution_count": null
  },
  {
   "cell_type": "code",
   "outputs": [],
   "source": [
    "match_results"
   ],
   "metadata": {
    "collapsed": false
   },
   "id": "e0a24795e82f4bb2",
   "execution_count": null
  },
  {
   "cell_type": "markdown",
   "source": [],
   "metadata": {
    "collapsed": false
   },
   "id": "c18b89d124b99bb9"
  },
  {
   "cell_type": "code",
   "outputs": [],
   "source": [
    "player_white.reset_index().rename({'index': 'move'}, axis=1)"
   ],
   "metadata": {
    "collapsed": false
   },
   "id": "f117f7a5aa2df352",
   "execution_count": null
  },
  {
   "cell_type": "code",
   "outputs": [],
   "source": [
    "player_white_long = pd.melt(player_white[['Compute time', 'Tree size', 'Eval value', 'Jump size']].reset_index().rename({'index': 'move'}, axis=1), id_vars=['move'],\n",
    "        value_vars=['Compute time', 'Tree size', 'Eval value', 'Jump size'])"
   ],
   "metadata": {
    "collapsed": false
   },
   "id": "65443f24c82570ec",
   "execution_count": null
  },
  {
   "cell_type": "markdown",
   "source": [],
   "metadata": {
    "collapsed": false
   },
   "id": "31fbe5e5b3f940ba"
  },
  {
   "cell_type": "markdown",
   "source": [],
   "metadata": {
    "collapsed": false
   },
   "id": "2f81da51165e9cfe"
  },
  {
   "cell_type": "code",
   "outputs": [],
   "source": [
    "sns.relplot(player_white_long, x='move', y='value',\n",
    "            kind='line', row='variable')"
   ],
   "metadata": {
    "collapsed": false
   },
   "id": "f61e8a0314009adc",
   "execution_count": null
  },
  {
   "cell_type": "code",
   "outputs": [],
   "source": [
    "def plot_compare_two_players(df1, df2, var, colors=('orange', 'blue'), line_styles=('solid', 'dashed')):\n",
    "    fig, ax1 = plt.subplots(figsize=(10, 5))\n",
    "\n",
    "    moves = np.arange(len(df1))\n",
    "    \n",
    "    plt.title(f'Compare {var} for {df1.player} vs {df2.player}')\n",
    "    \n",
    "    ax1.plot(moves, df1[var], color=colors[0], linestyle=line_styles[0], label=df1.player)\n",
    "    ax1.set_xlabel('Move')\n",
    "    ax1.set_ylabel(var)\n",
    "    \n",
    "    moves = np.arange(len(df2))\n",
    "    ax2 = ax1.twinx()\n",
    "    ax2.plot(moves, df2[var], color=colors[1], linestyle=line_styles[1], label=df2.player)\n",
    "    ax2.set_ylabel(var)\n",
    "    \n",
    "    fig.legend()\n",
    "    \n",
    "    plt.show()"
   ],
   "metadata": {
    "collapsed": false
   },
   "id": "864f9032a350bf51",
   "execution_count": null
  },
  {
   "cell_type": "code",
   "outputs": [],
   "source": [
    "plot_compare_two_players(player_white, player_black, 'Compute time')"
   ],
   "metadata": {
    "collapsed": false
   },
   "id": "60cc25e87c43f907",
   "execution_count": null
  },
  {
   "cell_type": "code",
   "outputs": [],
   "source": [
    "def plot_compare_two_variables(df, var1, var2, colors=('orange', 'blue'), line_styles=('solid', 'dashed')):\n",
    "    fig, ax1 = plt.subplots(figsize=(10, 5))\n",
    "\n",
    "    moves = np.arange(len(df))\n",
    "    \n",
    "    plt.title(f'Compare {var1} vs {var2} for {df.player} player with strategy {df.strategy}, {df.algorithm}, d={df.depth}')\n",
    "    \n",
    "    ax1.plot(moves, df[var1], color=colors[0], linestyle=line_styles[0], label=var1)\n",
    "    ax1.set_xlabel('Move')\n",
    "    ax1.set_ylabel(var1)\n",
    "    \n",
    "    ax2 = ax1.twinx()\n",
    "    ax2.plot(moves, df[var2], color=colors[1], linestyle=line_styles[1], label=var2)\n",
    "    ax2.set_ylabel(var2)\n",
    "    \n",
    "    fig.legend()\n",
    "    \n",
    "    plt.show()"
   ],
   "metadata": {
    "collapsed": false
   },
   "id": "1982f29ed095e8bf",
   "execution_count": null
  },
  {
   "cell_type": "code",
   "outputs": [],
   "source": [
    "plot_compare_two_variables(player_white, 'Compute time', 'Tree size')\n",
    "plot_compare_two_variables(player_white, 'Eval value', 'Jump size')"
   ],
   "metadata": {
    "collapsed": false
   },
   "id": "d5789adee1fb384a",
   "execution_count": null
  },
  {
   "cell_type": "code",
   "outputs": [],
   "source": [
    "fig, ax1 = plt.subplots(figsize=(10, 6))\n",
    "\n",
    "moves = np.arange(len(player_white))\n",
    "\n",
    "ax1.plot(moves, player_white['Compute time'], 'b--')\n",
    "ax1.set_xlabel('Move')\n",
    "ax1.set_ylabel('Compute time')\n",
    "\n",
    "ax2 = ax1.twinx()\n",
    "ax2.plot(moves, player_white['Tree size'])\n",
    "ax2.set_ylabel('Tree size')\n",
    "\n",
    "plt.show()"
   ],
   "metadata": {
    "collapsed": false
   },
   "id": "fb29693131e99682",
   "execution_count": null
  },
  {
   "cell_type": "code",
   "outputs": [],
   "source": [
    "player_black"
   ],
   "metadata": {
    "collapsed": false
   },
   "id": "cab6dd9127bb87b3",
   "execution_count": null
  },
  {
   "cell_type": "code",
   "outputs": [],
   "source": [
    "player_black[['Compute time', 'Tree size', 'Eval value', 'Jump size']].agg([np.mean, np.sum, np.median])"
   ],
   "metadata": {
    "collapsed": false
   },
   "id": "ee4e5cd6f0f7624c",
   "execution_count": null
  },
  {
   "cell_type": "code",
   "outputs": [],
   "source": [
    "def get_match_stats(player_white, player_black):\n",
    "    total_stats = []\n",
    "    for (df, player) in zip([player_black, player_white], ['Black', 'White']):\n",
    "        stats_df = df[['Compute time', 'Tree size', 'Eval value', 'Jump size']].agg([np.mean, np.sum, np.max, np.min])\n",
    "        stats_df['player'] = player\n",
    "        stats_df['strategy'] = df.strategy\n",
    "        stats_df['algorithm'] = df.algorithm\n",
    "        stats_df['depth'] = df.depth\n",
    "        stats_df['match'] = df.match\n",
    "        stats_df['winner'] = df.winner\n",
    "        total_stats.append(stats_df)\n",
    "    return pd.concat(total_stats).apply(lambda x: np.round(x, 2))\n",
    "    "
   ],
   "metadata": {
    "collapsed": false
   },
   "id": "3deb8f4ca3956d85",
   "execution_count": null
  },
  {
   "cell_type": "code",
   "outputs": [],
   "source": [
    "def summarize_matches(dfs):\n",
    "    "
   ],
   "metadata": {
    "collapsed": false
   },
   "id": "2560811ff96b9df0"
  },
  {
   "cell_type": "code",
   "outputs": [],
   "source": [
    "player_black_2, player_white_2 = read_match(halma_dir.joinpath('alphabeta-alphabeta/2-2/STRATEGY.STATIC_WEIGHTS-STRATEGY.STATIC_WEIGHTS'), '28-0804')\n"
   ],
   "metadata": {
    "collapsed": false
   },
   "id": "16c3371f47ac6ed2",
   "execution_count": null
  },
  {
   "cell_type": "code",
   "outputs": [],
   "source": [
    "match_stats_2 = get_match_stats(player_white_2, player_black_2)"
   ],
   "metadata": {
    "collapsed": false
   },
   "id": "b16a5257dda283f4",
   "execution_count": null
  },
  {
   "cell_type": "code",
   "outputs": [],
   "source": [
    "player_black_2.winner"
   ],
   "metadata": {
    "collapsed": false
   },
   "id": "6f3d9e1bd384103e",
   "execution_count": null
  },
  {
   "cell_type": "code",
   "outputs": [],
   "source": [
    "match_stats_2"
   ],
   "metadata": {
    "collapsed": false
   },
   "id": "d23076c6d9c73173",
   "execution_count": null
  },
  {
   "cell_type": "code",
   "outputs": [],
   "source": [
    "match_stats = get_match_stats(player_white, player_black)"
   ],
   "metadata": {
    "collapsed": false
   },
   "id": "d9b1f9e2cbd50261",
   "execution_count": null
  },
  {
   "cell_type": "code",
   "outputs": [],
   "source": [
    "match_stats = pd.concat([match_stats, match_stats_2])"
   ],
   "metadata": {
    "collapsed": false
   },
   "id": "5ff46c904d0d11cc",
   "execution_count": null
  },
  {
   "cell_type": "code",
   "outputs": [],
   "source": [
    "match_stats"
   ],
   "metadata": {
    "collapsed": false
   },
   "id": "7bd2b17094377bc2",
   "execution_count": null
  },
  {
   "cell_type": "code",
   "outputs": [],
   "source": [
    "long_stats = match_stats.reset_index().melt(id_vars=['index', 'Player'], value_vars=['Compute time', 'Tree size', 'Eval value', 'Jump size'])"
   ],
   "metadata": {
    "collapsed": false
   },
   "id": "e93daa8e16a6c657",
   "execution_count": null
  },
  {
   "cell_type": "code",
   "outputs": [],
   "source": [
    "long_stats"
   ],
   "metadata": {
    "collapsed": false
   },
   "id": "951c112e1c2d0a0d",
   "execution_count": null
  },
  {
   "cell_type": "code",
   "outputs": [],
   "source": [
    "import matplotlib.pyplot as plt\n",
    "import numpy as np\n",
    "\n",
    "# Example data\n",
    "categories = ['Category 1', 'Category 2', 'Category 3', 'Category 4', 'Category 5']\n",
    "values1 = [10, 20, 15, 25, 30]  # First variable\n",
    "values2 = [15, 25, 20, 30, 35]  # Second variable\n",
    "\n",
    "# Set the positions for the bars\n",
    "positions = np.arange(len(categories))\n",
    "bar_width = 0.35  # Width of the bars\n",
    "\n",
    "# Create the horizontal bar plot\n",
    "bars1 = plt.barh(positions - bar_width/2, values1, bar_width, color='skyblue', label='Variable 1')\n",
    "bars2 = plt.barh(positions + bar_width/2, values2, bar_width, color='salmon', label='Variable 2')\n",
    "\n",
    "# Add annotations for each bar\n",
    "for bar1, bar2 in zip(bars1, bars2):\n",
    "    plt.text(bar1.get_width(), bar1.get_y() + bar1.get_height()/2, str(int(bar1.get_width())), ha='left', va='center', color='black', fontsize=10)\n",
    "    plt.text(bar2.get_width(), bar2.get_y() + bar2.get_height()/2, str(int(bar2.get_width())), ha='left', va='center', color='black', fontsize=10)\n",
    "\n",
    "# Customize the plot\n",
    "plt.yticks(positions, categories)\n",
    "plt.xlabel('Values')\n",
    "plt.title('Horizontal Bar Plot with Two Variables')\n",
    "plt.legend()\n",
    "\n",
    "# Show plot\n",
    "plt.show()\n"
   ],
   "metadata": {
    "collapsed": false
   },
   "id": "f5323e9e06be6a28",
   "execution_count": null
  },
  {
   "cell_type": "code",
   "outputs": [],
   "source": [
    "def compare_matches(df, stat, var):\n",
    "    _df = df.loc[stat].sort_values(by=['match', 'player'])\n",
    "    positions = np.arange(len(_df) // 2) # number of matches to compare\n",
    "    bar_width = 0.35\n",
    "    \n",
    "    black_players = _df.loc[_df['player'] == 'Black']\n",
    "    white_players = _df.loc[_df['player'] == 'White']\n",
    "    \n",
    "    bars1 = plt.barh(positions - bar_width/2, black_players[var], bar_width, color='skyblue', label=f'Black')\n",
    "    bars2 = plt.barh(positions + bar_width/2, white_players[var], bar_width, color='salmon', label='White')   \n",
    "    \n",
    "    plt.xlabel(var)\n",
    "    \n",
    "    def create_annotation(row):\n",
    "        return f'{row[\"strategy\"]}, {row[\"algorithm\"]}, d={row[\"depth\"]}'\n",
    "    \n",
    "    for i, (bar1, bar2) in enumerate(zip(bars1, bars2)):\n",
    "        plt.text(bar1.get_width(), bar1.get_y() + bar1.get_height()/2, create_annotation(black_players.iloc[i]), ha='left', va='center', color='black', fontsize=10)\n",
    "        plt.text(bar2.get_width(), bar2.get_y() + bar2.get_height()/2, create_annotation(white_players.iloc[i]), ha='left', va='center', color='black', fontsize=10)\n",
    "    \n",
    "    plt.yticks(positions, black_players['winner'])\n",
    "    \n",
    "    plt.title(f'Compare {stat} of {var} across matches')\n",
    "    plt.legend()\n",
    "    "
   ],
   "metadata": {
    "collapsed": false
   },
   "id": "de96721c54b8fbe6",
   "execution_count": null
  },
  {
   "cell_type": "code",
   "outputs": [],
   "source": [
    "compare_matches(match_stats, 'max', 'Tree size')"
   ],
   "metadata": {
    "collapsed": false
   },
   "id": "d84a54413ffe5d8b",
   "execution_count": null
  },
  {
   "cell_type": "code",
   "outputs": [],
   "source": [
    "import matplotlib.pyplot as plt\n",
    "import numpy as np\n",
    "\n",
    "# Example data\n",
    "categories = ['Category 1', 'Category 2', 'Category 3', 'Category 4', 'Category 5']\n",
    "values1 = [10, 20, 15, 25, 30]  # First variable\n",
    "values2 = [15, 25, 20, 30, 35]  # Second variable\n",
    "\n",
    "# Set the positions for the bars\n",
    "positions = np.arange(len(categories))\n",
    "bar_width = 0.35  # Width of the bars\n",
    "\n",
    "# Create the horizontal bar plot\n",
    "plt.barh(positions - bar_width/2, values1, bar_width, color='skyblue', label='Variable 1')\n",
    "plt.barh(positions + bar_width/2, values2, bar_width, color='salmon', label='Variable 2')\n",
    "\n",
    "# Customize the plot\n",
    "plt.yticks(positions, categories)\n",
    "plt.xlabel('Values')\n",
    "plt.title('Horizontal Bar Plot with Two Variables')\n",
    "plt.legend()\n",
    "\n",
    "# Show plot\n",
    "plt.show()\n",
    "\n"
   ],
   "metadata": {
    "collapsed": false
   },
   "id": "50bdeda8a45214e5",
   "execution_count": null
  },
  {
   "cell_type": "code",
   "outputs": [],
   "source": [
    "vars = ['depth', 'algorithm']\n",
    "_match = match_stats.loc['mean', ['Compute time', *vars]].groupby(vars).mean().reset_index()"
   ],
   "metadata": {
    "collapsed": false
   },
   "id": "3cc2c788f094707b",
   "execution_count": null
  },
  {
   "cell_type": "code",
   "outputs": [],
   "source": [
    "_match[_match['depth']]"
   ],
   "metadata": {
    "collapsed": false
   },
   "id": "d3b10db0fafcc5a8",
   "execution_count": null
  },
  {
   "cell_type": "code",
   "outputs": [],
   "source": [
    "def compare_algorithms(df, stat, var, depths):\n",
    "    vars = ['depth', 'algorithm']\n",
    "    _df = df.loc[stat, [var, *vars]].groupby(vars).mean().reset_index().sort_values(by=['algorithm', 'depth'])\n",
    "    _df = _df.loc[_df['depth'].isin(depths)]\n",
    "    positions = np.arange(len(_df))  # number of matches to compare\n",
    "    bar_width = 0.35\n",
    "    \n",
    "    bars1 = plt.bar(positions - bar_width / 2, _df.loc[_df['algorithm'] == 'alphabeta', var], bar_width, color='skyblue', label='alphabeta')\n",
    "    bars2 = plt.bar(positions + bar_width / 2, _df[_df['algorithm'] == 'minmax', var], bar_width, color='salmon', label='White')\n",
    "\n",
    "    plt.xticks(positions, depths)\n",
    "    plt.xlabel('Depth')\n",
    "    plt.ylabel('Compute time')\n",
    "\n",
    "    plt.title(f'Compare {stat} of {var} across matches')\n",
    "    plt.legend()"
   ],
   "metadata": {
    "collapsed": false
   },
   "id": "3027b88bb2b75280",
   "execution_count": null
  },
  {
   "cell_type": "code",
   "outputs": [],
   "source": [
    "compare_algorithms(match_stats, 'mean', 'Compute time', np.array(['1', '2']))"
   ],
   "metadata": {
    "collapsed": false
   },
   "id": "2f55214e5992ae8c",
   "execution_count": null
  },
  {
   "cell_type": "code",
   "outputs": [],
   "source": [
    "sns.barplot(long_stats[long_stats['variable'] == 'Compute time'], x='index', y='value', hue='Player')"
   ],
   "metadata": {
    "collapsed": false
   },
   "id": "1a12ebccfcfdeb00",
   "execution_count": null
  },
  {
   "cell_type": "code",
   "outputs": [],
   "source": [
    "plt.subplots(2, 2, figsize=(10, 12))\n",
    "\n",
    "plt.bar(x=)"
   ],
   "metadata": {
    "collapsed": false
   },
   "id": "c72f245679e7682b"
  },
  {
   "cell_type": "code",
   "outputs": [],
   "source": [
    "sns.catplot(long_stats, kind='bar', x='index', y='value', hue='Player', row='variable')"
   ],
   "metadata": {
    "collapsed": false
   },
   "id": "ce6b061dbc771e80",
   "execution_count": null
  },
  {
   "cell_type": "code",
   "outputs": [],
   "source": [
    "sns.relplot(player_black, y='Tree size', x=player_black.index)"
   ],
   "metadata": {
    "collapsed": false
   },
   "id": "cd5063237bb4f1d3",
   "execution_count": null
  }
 ],
 "metadata": {
  "kernelspec": {
   "display_name": "Python 3",
   "language": "python",
   "name": "python3"
  },
  "language_info": {
   "codemirror_mode": {
    "name": "ipython",
    "version": 2
   },
   "file_extension": ".py",
   "mimetype": "text/x-python",
   "name": "python",
   "nbconvert_exporter": "python",
   "pygments_lexer": "ipython2",
   "version": "2.7.6"
  }
 },
 "nbformat": 4,
 "nbformat_minor": 5
}
