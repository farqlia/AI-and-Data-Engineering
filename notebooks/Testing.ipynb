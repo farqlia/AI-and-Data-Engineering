{
 "cells": [
  {
   "cell_type": "code",
   "execution_count": 1,
   "id": "initial_id",
   "metadata": {
    "collapsed": true,
    "ExecuteTime": {
     "end_time": "2024-03-31T19:14:27.519182400Z",
     "start_time": "2024-03-31T19:14:24.968789900Z"
    }
   },
   "outputs": [],
   "source": [
    "from ai_data_eng.searching.graph import *\n",
    "from ai_data_eng.searching.utils import *\n",
    "from ai_data_eng.searching.searchning import * \n",
    "from ai_data_eng.searching.a_star_time_opt import a_star_time_opt_light\n",
    "from ai_data_eng.searching.a_star_changes_opt import a_star_changes_opt_light\n",
    "from ai_data_eng.searching.heuristics import WeightedAverageTimeHeuristic, ChangeHeuristic\n",
    "from pathlib import Path\n",
    "\n",
    "DATA_DIR = Path('../data')"
   ]
  },
  {
   "cell_type": "code",
   "outputs": [
    {
     "name": "stderr",
     "output_type": "stream",
     "text": [
      "C:\\Users\\julia\\AppData\\Local\\Temp\\ipykernel_9068\\3791013718.py:1: DtypeWarning: Columns (2) have mixed types. Specify dtype option on import or set low_memory=False.\n",
      "  connection_graph = pd.read_csv(DATA_DIR / 'connection_graph.csv',\n"
     ]
    }
   ],
   "source": [
    "connection_graph = pd.read_csv(DATA_DIR / 'connection_graph.csv', \n",
    "                               usecols=['line', 'departure_time', 'arrival_time', 'start_stop',\n",
    "       'end_stop', 'start_stop_lat', 'start_stop_lon', 'end_stop_lat',\n",
    "       'end_stop_lon'])"
   ],
   "metadata": {
    "collapsed": false,
    "ExecuteTime": {
     "end_time": "2024-03-31T19:14:35.007871400Z",
     "start_time": "2024-03-31T19:14:32.564373900Z"
    }
   },
   "id": "fbc8338392f1edba",
   "execution_count": 2
  },
  {
   "cell_type": "code",
   "outputs": [],
   "source": [
    "g = Graph(connection_graph, add_constant_change_time)"
   ],
   "metadata": {
    "collapsed": false,
    "ExecuteTime": {
     "end_time": "2024-03-31T19:14:44.554185500Z",
     "start_time": "2024-03-31T19:14:41.798759Z"
    }
   },
   "id": "e17c7ba3874f711e",
   "execution_count": 3
  },
  {
   "cell_type": "code",
   "outputs": [],
   "source": [
    "dep_time = time_to_normalized_sec('08:00:00')\n",
    "start_stop = 'PL. GRUNWALDZKI'\n",
    "end_stop = 'most Grunwaldzki'"
   ],
   "metadata": {
    "collapsed": false,
    "ExecuteTime": {
     "end_time": "2024-03-31T19:19:20.863660500Z",
     "start_time": "2024-03-31T19:19:20.847630700Z"
    }
   },
   "id": "7743ed4c18cd7d7b",
   "execution_count": 11
  },
  {
   "cell_type": "code",
   "outputs": [],
   "source": [
    "valid_conns = g.conn_graph.loc[(g.conn_graph['start_stop'] == start_stop) & (g.conn_graph['end_stop'] == end_stop) & (diff(g.conn_graph['departure_sec'], dep_time) >= 0)]"
   ],
   "metadata": {
    "collapsed": false,
    "ExecuteTime": {
     "end_time": "2024-03-31T19:20:07.908085700Z",
     "start_time": "2024-03-31T19:20:07.861937Z"
    }
   },
   "id": "b8e782b80b449d17",
   "execution_count": 14
  },
  {
   "cell_type": "code",
   "outputs": [
    {
     "data": {
      "text/plain": "       line departure_time arrival_time       start_stop          end_stop  \\\n14027     D       23:01:00     23:02:00  PL. GRUNWALDZKI  most Grunwaldzki   \n14065     D       22:41:00     22:42:00  PL. GRUNWALDZKI  most Grunwaldzki   \n14111     D       23:08:00     23:09:00  PL. GRUNWALDZKI  most Grunwaldzki   \n14184     D       11:00:00     11:02:00  PL. GRUNWALDZKI  most Grunwaldzki   \n14240     D       13:30:00     13:32:00  PL. GRUNWALDZKI  most Grunwaldzki   \n...     ...            ...          ...              ...               ...   \n894793  241       27:40:00     27:41:00  PL. GRUNWALDZKI  most Grunwaldzki   \n894885  241       25:40:00     25:41:00  PL. GRUNWALDZKI  most Grunwaldzki   \n894999  241       28:40:00     28:41:00  PL. GRUNWALDZKI  most Grunwaldzki   \n895078  241       23:40:00     23:41:00  PL. GRUNWALDZKI  most Grunwaldzki   \n895192  241       26:40:00     26:41:00  PL. GRUNWALDZKI  most Grunwaldzki   \n\n        start_stop_lat  start_stop_lon  end_stop_lat  end_stop_lon  \\\n14027        51.111621       17.060086     51.110136     17.055093   \n14065        51.111621       17.060086     51.110136     17.055093   \n14111        51.111621       17.060086     51.110136     17.055093   \n14184        51.111621       17.060086     51.110136     17.055093   \n14240        51.111621       17.060086     51.110136     17.055093   \n...                ...             ...           ...           ...   \n894793       51.111621       17.060086     51.110136     17.055093   \n894885       51.111621       17.060086     51.110136     17.055093   \n894999       51.111621       17.060086     51.110136     17.055093   \n895078       51.111621       17.060086     51.110136     17.055093   \n895192       51.111621       17.060086     51.110136     17.055093   \n\n        departure_sec  arrival_sec  \n14027           82860        82920  \n14065           81660        81720  \n14111           83280        83340  \n14184           39600        39720  \n14240           48600        48720  \n...               ...          ...  \n894793          13200        13260  \n894885           6000         6060  \n894999          16800        16860  \n895078          85200        85260  \n895192           9600         9660  \n\n[877 rows x 11 columns]",
      "text/html": "<div>\n<style scoped>\n    .dataframe tbody tr th:only-of-type {\n        vertical-align: middle;\n    }\n\n    .dataframe tbody tr th {\n        vertical-align: top;\n    }\n\n    .dataframe thead th {\n        text-align: right;\n    }\n</style>\n<table border=\"1\" class=\"dataframe\">\n  <thead>\n    <tr style=\"text-align: right;\">\n      <th></th>\n      <th>line</th>\n      <th>departure_time</th>\n      <th>arrival_time</th>\n      <th>start_stop</th>\n      <th>end_stop</th>\n      <th>start_stop_lat</th>\n      <th>start_stop_lon</th>\n      <th>end_stop_lat</th>\n      <th>end_stop_lon</th>\n      <th>departure_sec</th>\n      <th>arrival_sec</th>\n    </tr>\n  </thead>\n  <tbody>\n    <tr>\n      <th>14027</th>\n      <td>D</td>\n      <td>23:01:00</td>\n      <td>23:02:00</td>\n      <td>PL. GRUNWALDZKI</td>\n      <td>most Grunwaldzki</td>\n      <td>51.111621</td>\n      <td>17.060086</td>\n      <td>51.110136</td>\n      <td>17.055093</td>\n      <td>82860</td>\n      <td>82920</td>\n    </tr>\n    <tr>\n      <th>14065</th>\n      <td>D</td>\n      <td>22:41:00</td>\n      <td>22:42:00</td>\n      <td>PL. GRUNWALDZKI</td>\n      <td>most Grunwaldzki</td>\n      <td>51.111621</td>\n      <td>17.060086</td>\n      <td>51.110136</td>\n      <td>17.055093</td>\n      <td>81660</td>\n      <td>81720</td>\n    </tr>\n    <tr>\n      <th>14111</th>\n      <td>D</td>\n      <td>23:08:00</td>\n      <td>23:09:00</td>\n      <td>PL. GRUNWALDZKI</td>\n      <td>most Grunwaldzki</td>\n      <td>51.111621</td>\n      <td>17.060086</td>\n      <td>51.110136</td>\n      <td>17.055093</td>\n      <td>83280</td>\n      <td>83340</td>\n    </tr>\n    <tr>\n      <th>14184</th>\n      <td>D</td>\n      <td>11:00:00</td>\n      <td>11:02:00</td>\n      <td>PL. GRUNWALDZKI</td>\n      <td>most Grunwaldzki</td>\n      <td>51.111621</td>\n      <td>17.060086</td>\n      <td>51.110136</td>\n      <td>17.055093</td>\n      <td>39600</td>\n      <td>39720</td>\n    </tr>\n    <tr>\n      <th>14240</th>\n      <td>D</td>\n      <td>13:30:00</td>\n      <td>13:32:00</td>\n      <td>PL. GRUNWALDZKI</td>\n      <td>most Grunwaldzki</td>\n      <td>51.111621</td>\n      <td>17.060086</td>\n      <td>51.110136</td>\n      <td>17.055093</td>\n      <td>48600</td>\n      <td>48720</td>\n    </tr>\n    <tr>\n      <th>...</th>\n      <td>...</td>\n      <td>...</td>\n      <td>...</td>\n      <td>...</td>\n      <td>...</td>\n      <td>...</td>\n      <td>...</td>\n      <td>...</td>\n      <td>...</td>\n      <td>...</td>\n      <td>...</td>\n    </tr>\n    <tr>\n      <th>894793</th>\n      <td>241</td>\n      <td>27:40:00</td>\n      <td>27:41:00</td>\n      <td>PL. GRUNWALDZKI</td>\n      <td>most Grunwaldzki</td>\n      <td>51.111621</td>\n      <td>17.060086</td>\n      <td>51.110136</td>\n      <td>17.055093</td>\n      <td>13200</td>\n      <td>13260</td>\n    </tr>\n    <tr>\n      <th>894885</th>\n      <td>241</td>\n      <td>25:40:00</td>\n      <td>25:41:00</td>\n      <td>PL. GRUNWALDZKI</td>\n      <td>most Grunwaldzki</td>\n      <td>51.111621</td>\n      <td>17.060086</td>\n      <td>51.110136</td>\n      <td>17.055093</td>\n      <td>6000</td>\n      <td>6060</td>\n    </tr>\n    <tr>\n      <th>894999</th>\n      <td>241</td>\n      <td>28:40:00</td>\n      <td>28:41:00</td>\n      <td>PL. GRUNWALDZKI</td>\n      <td>most Grunwaldzki</td>\n      <td>51.111621</td>\n      <td>17.060086</td>\n      <td>51.110136</td>\n      <td>17.055093</td>\n      <td>16800</td>\n      <td>16860</td>\n    </tr>\n    <tr>\n      <th>895078</th>\n      <td>241</td>\n      <td>23:40:00</td>\n      <td>23:41:00</td>\n      <td>PL. GRUNWALDZKI</td>\n      <td>most Grunwaldzki</td>\n      <td>51.111621</td>\n      <td>17.060086</td>\n      <td>51.110136</td>\n      <td>17.055093</td>\n      <td>85200</td>\n      <td>85260</td>\n    </tr>\n    <tr>\n      <th>895192</th>\n      <td>241</td>\n      <td>26:40:00</td>\n      <td>26:41:00</td>\n      <td>PL. GRUNWALDZKI</td>\n      <td>most Grunwaldzki</td>\n      <td>51.111621</td>\n      <td>17.060086</td>\n      <td>51.110136</td>\n      <td>17.055093</td>\n      <td>9600</td>\n      <td>9660</td>\n    </tr>\n  </tbody>\n</table>\n<p>877 rows × 11 columns</p>\n</div>"
     },
     "execution_count": 15,
     "metadata": {},
     "output_type": "execute_result"
    }
   ],
   "source": [
    "valid_conns"
   ],
   "metadata": {
    "collapsed": false,
    "ExecuteTime": {
     "end_time": "2024-03-31T19:20:10.627323100Z",
     "start_time": "2024-03-31T19:20:10.622803300Z"
    }
   },
   "id": "a3cd190ecf1c88f4",
   "execution_count": 15
  },
  {
   "cell_type": "code",
   "outputs": [
    {
     "data": {
      "text/plain": "       line departure_time arrival_time       start_stop          end_stop  \\\n14027     D       23:01:00     23:02:00  PL. GRUNWALDZKI  most Grunwaldzki   \n97770     4       08:16:00     08:17:00  PL. GRUNWALDZKI  most Grunwaldzki   \n217303   12       06:24:00     06:25:00  PL. GRUNWALDZKI  most Grunwaldzki   \n230957   13       05:17:00     05:18:00  PL. GRUNWALDZKI  most Grunwaldzki   \n271777   16       05:11:00     05:12:00  PL. GRUNWALDZKI  most Grunwaldzki   \n319465   19       22:40:00     22:41:00  PL. GRUNWALDZKI  most Grunwaldzki   \n832621  145       05:37:00     05:38:00  PL. GRUNWALDZKI  most Grunwaldzki   \n845843  146       05:23:00     05:24:00  PL. GRUNWALDZKI  most Grunwaldzki   \n868724  149       05:25:00     05:26:00  PL. GRUNWALDZKI  most Grunwaldzki   \n893889  240       23:42:00     23:43:00  PL. GRUNWALDZKI  most Grunwaldzki   \n894679  241       24:40:00     24:41:00  PL. GRUNWALDZKI  most Grunwaldzki   \n\n        start_stop_lat  start_stop_lon  end_stop_lat  end_stop_lon  \\\n14027        51.111621       17.060086     51.110136     17.055093   \n97770        51.111444       17.059960     51.110212     17.055385   \n217303       51.111623       17.059965     51.110212     17.055385   \n230957       51.111623       17.059965     51.110212     17.055385   \n271777       51.111444       17.059960     51.110212     17.055385   \n319465       51.111444       17.059960     51.110212     17.055385   \n832621       51.111406       17.059852     51.110136     17.055093   \n845843       51.111406       17.059852     51.110136     17.055093   \n868724       51.111406       17.059852     51.110136     17.055093   \n893889       51.111406       17.059852     51.110136     17.055093   \n894679       51.111621       17.060086     51.110136     17.055093   \n\n        departure_sec  arrival_sec  \n14027           82860        82920  \n97770           29760        29820  \n217303          23040        23100  \n230957          19020        19080  \n271777          18660        18720  \n319465          81600        81660  \n832621          20220        20280  \n845843          19380        19440  \n868724          19500        19560  \n893889          85320        85380  \n894679           2400         2460  ",
      "text/html": "<div>\n<style scoped>\n    .dataframe tbody tr th:only-of-type {\n        vertical-align: middle;\n    }\n\n    .dataframe tbody tr th {\n        vertical-align: top;\n    }\n\n    .dataframe thead th {\n        text-align: right;\n    }\n</style>\n<table border=\"1\" class=\"dataframe\">\n  <thead>\n    <tr style=\"text-align: right;\">\n      <th></th>\n      <th>line</th>\n      <th>departure_time</th>\n      <th>arrival_time</th>\n      <th>start_stop</th>\n      <th>end_stop</th>\n      <th>start_stop_lat</th>\n      <th>start_stop_lon</th>\n      <th>end_stop_lat</th>\n      <th>end_stop_lon</th>\n      <th>departure_sec</th>\n      <th>arrival_sec</th>\n    </tr>\n  </thead>\n  <tbody>\n    <tr>\n      <th>14027</th>\n      <td>D</td>\n      <td>23:01:00</td>\n      <td>23:02:00</td>\n      <td>PL. GRUNWALDZKI</td>\n      <td>most Grunwaldzki</td>\n      <td>51.111621</td>\n      <td>17.060086</td>\n      <td>51.110136</td>\n      <td>17.055093</td>\n      <td>82860</td>\n      <td>82920</td>\n    </tr>\n    <tr>\n      <th>97770</th>\n      <td>4</td>\n      <td>08:16:00</td>\n      <td>08:17:00</td>\n      <td>PL. GRUNWALDZKI</td>\n      <td>most Grunwaldzki</td>\n      <td>51.111444</td>\n      <td>17.059960</td>\n      <td>51.110212</td>\n      <td>17.055385</td>\n      <td>29760</td>\n      <td>29820</td>\n    </tr>\n    <tr>\n      <th>217303</th>\n      <td>12</td>\n      <td>06:24:00</td>\n      <td>06:25:00</td>\n      <td>PL. GRUNWALDZKI</td>\n      <td>most Grunwaldzki</td>\n      <td>51.111623</td>\n      <td>17.059965</td>\n      <td>51.110212</td>\n      <td>17.055385</td>\n      <td>23040</td>\n      <td>23100</td>\n    </tr>\n    <tr>\n      <th>230957</th>\n      <td>13</td>\n      <td>05:17:00</td>\n      <td>05:18:00</td>\n      <td>PL. GRUNWALDZKI</td>\n      <td>most Grunwaldzki</td>\n      <td>51.111623</td>\n      <td>17.059965</td>\n      <td>51.110212</td>\n      <td>17.055385</td>\n      <td>19020</td>\n      <td>19080</td>\n    </tr>\n    <tr>\n      <th>271777</th>\n      <td>16</td>\n      <td>05:11:00</td>\n      <td>05:12:00</td>\n      <td>PL. GRUNWALDZKI</td>\n      <td>most Grunwaldzki</td>\n      <td>51.111444</td>\n      <td>17.059960</td>\n      <td>51.110212</td>\n      <td>17.055385</td>\n      <td>18660</td>\n      <td>18720</td>\n    </tr>\n    <tr>\n      <th>319465</th>\n      <td>19</td>\n      <td>22:40:00</td>\n      <td>22:41:00</td>\n      <td>PL. GRUNWALDZKI</td>\n      <td>most Grunwaldzki</td>\n      <td>51.111444</td>\n      <td>17.059960</td>\n      <td>51.110212</td>\n      <td>17.055385</td>\n      <td>81600</td>\n      <td>81660</td>\n    </tr>\n    <tr>\n      <th>832621</th>\n      <td>145</td>\n      <td>05:37:00</td>\n      <td>05:38:00</td>\n      <td>PL. GRUNWALDZKI</td>\n      <td>most Grunwaldzki</td>\n      <td>51.111406</td>\n      <td>17.059852</td>\n      <td>51.110136</td>\n      <td>17.055093</td>\n      <td>20220</td>\n      <td>20280</td>\n    </tr>\n    <tr>\n      <th>845843</th>\n      <td>146</td>\n      <td>05:23:00</td>\n      <td>05:24:00</td>\n      <td>PL. GRUNWALDZKI</td>\n      <td>most Grunwaldzki</td>\n      <td>51.111406</td>\n      <td>17.059852</td>\n      <td>51.110136</td>\n      <td>17.055093</td>\n      <td>19380</td>\n      <td>19440</td>\n    </tr>\n    <tr>\n      <th>868724</th>\n      <td>149</td>\n      <td>05:25:00</td>\n      <td>05:26:00</td>\n      <td>PL. GRUNWALDZKI</td>\n      <td>most Grunwaldzki</td>\n      <td>51.111406</td>\n      <td>17.059852</td>\n      <td>51.110136</td>\n      <td>17.055093</td>\n      <td>19500</td>\n      <td>19560</td>\n    </tr>\n    <tr>\n      <th>893889</th>\n      <td>240</td>\n      <td>23:42:00</td>\n      <td>23:43:00</td>\n      <td>PL. GRUNWALDZKI</td>\n      <td>most Grunwaldzki</td>\n      <td>51.111406</td>\n      <td>17.059852</td>\n      <td>51.110136</td>\n      <td>17.055093</td>\n      <td>85320</td>\n      <td>85380</td>\n    </tr>\n    <tr>\n      <th>894679</th>\n      <td>241</td>\n      <td>24:40:00</td>\n      <td>24:41:00</td>\n      <td>PL. GRUNWALDZKI</td>\n      <td>most Grunwaldzki</td>\n      <td>51.111621</td>\n      <td>17.060086</td>\n      <td>51.110136</td>\n      <td>17.055093</td>\n      <td>2400</td>\n      <td>2460</td>\n    </tr>\n  </tbody>\n</table>\n</div>"
     },
     "execution_count": 29,
     "metadata": {},
     "output_type": "execute_result"
    }
   ],
   "source": [
    "valid_conns.groupby(['line', 'start_stop', 'end_stop', 'start_stop_lat', 'start_stop_lon', 'end_stop_lat', 'end_stop_lon']).head(1)"
   ],
   "metadata": {
    "collapsed": false,
    "ExecuteTime": {
     "end_time": "2024-03-31T19:31:55.632321700Z",
     "start_time": "2024-03-31T19:31:55.597212800Z"
    }
   },
   "id": "548da1106cc437e8",
   "execution_count": 29
  },
  {
   "cell_type": "code",
   "outputs": [],
   "source": [
    "def rename_stop(stop, prefix='end'):\n",
    "    if isinstance(stop, pd.DataFrame):\n",
    "        return stop.rename({f'{prefix}_stop_lat': 'stop_lat',\n",
    "                            f'{prefix}_stop_lon': 'stop_lon', f'{prefix}_stop': 'stop'}, axis=1, errors='ignore')\n",
    "    else:\n",
    "        return stop.rename({f'{prefix}_stop_lat': 'stop_lat',\n",
    "                            f'{prefix}_stop_lon': 'stop_lon', f'{prefix}_stop': 'stop'}, errors='ignore')\n",
    "\n",
    "def stop_as_tuple(stop, prefix='end'):\n",
    "    stop = rename_stop(stop, prefix)\n",
    "    return (stop['stop'], stop['stop_lat'], stop['stop_lon'])"
   ],
   "metadata": {
    "collapsed": false,
    "ExecuteTime": {
     "end_time": "2024-03-31T19:45:04.400527600Z",
     "start_time": "2024-03-31T19:45:04.364955Z"
    }
   },
   "id": "eca32ea5152a3302",
   "execution_count": 30
  },
  {
   "cell_type": "code",
   "outputs": [
    {
     "data": {
      "text/plain": "  line  departure_time arrival_time            start_stop  \\\n1    A        20:53:00     20:54:00              Paprotna   \n2    A        20:54:00     20:55:00  Obornicka (Wołowska)   \n3    A        20:55:00     20:57:00            Bezpieczna   \n4    A        20:57:00     20:59:00              Bałtycka   \n\n               end_stop start_stop_lat start_stop_lon  end_stop_lat  \\\n1  Obornicka (Wołowska)      51.147752      17.020539     51.144385   \n2            Bezpieczna      51.144385      17.023735     51.141360   \n3              Bałtycka      51.141360      17.026376     51.136632   \n4         Broniewskiego      51.136632      17.030617     51.135851   \n\n   end_stop_lon  departure_sec  ...  departure_time arrival_time  \\\n1     17.023735          75180  ...             NaN          NaN   \n2     17.026376          75240  ...        20:54:00     20:55:00   \n3     17.030617          75300  ...        20:55:00     20:57:00   \n4     17.037383          75420  ...             NaN          NaN   \n\n             start_stop    end_stop start_stop_lat start_stop_lon  \\\n1                   NaN         NaN            NaN            NaN   \n2  Obornicka (Wołowska)  Bezpieczna      51.144385      17.023735   \n3            Bezpieczna    Bałtycka      51.141360      17.026376   \n4                   NaN         NaN            NaN            NaN   \n\n   end_stop_lat  end_stop_lon  departure_sec  arrival_sec  \n1           NaN           NaN            NaN          NaN  \n2     51.141360     17.026376        75240.0      75300.0  \n3     51.136632     17.030617        75300.0      75420.0  \n4           NaN           NaN            NaN          NaN  \n\n[4 rows x 22 columns]",
      "text/html": "<div>\n<style scoped>\n    .dataframe tbody tr th:only-of-type {\n        vertical-align: middle;\n    }\n\n    .dataframe tbody tr th {\n        vertical-align: top;\n    }\n\n    .dataframe thead th {\n        text-align: right;\n    }\n</style>\n<table border=\"1\" class=\"dataframe\">\n  <thead>\n    <tr style=\"text-align: right;\">\n      <th></th>\n      <th>line</th>\n      <th>departure_time</th>\n      <th>arrival_time</th>\n      <th>start_stop</th>\n      <th>end_stop</th>\n      <th>start_stop_lat</th>\n      <th>start_stop_lon</th>\n      <th>end_stop_lat</th>\n      <th>end_stop_lon</th>\n      <th>departure_sec</th>\n      <th>...</th>\n      <th>departure_time</th>\n      <th>arrival_time</th>\n      <th>start_stop</th>\n      <th>end_stop</th>\n      <th>start_stop_lat</th>\n      <th>start_stop_lon</th>\n      <th>end_stop_lat</th>\n      <th>end_stop_lon</th>\n      <th>departure_sec</th>\n      <th>arrival_sec</th>\n    </tr>\n  </thead>\n  <tbody>\n    <tr>\n      <th>1</th>\n      <td>A</td>\n      <td>20:53:00</td>\n      <td>20:54:00</td>\n      <td>Paprotna</td>\n      <td>Obornicka (Wołowska)</td>\n      <td>51.147752</td>\n      <td>17.020539</td>\n      <td>51.144385</td>\n      <td>17.023735</td>\n      <td>75180</td>\n      <td>...</td>\n      <td>NaN</td>\n      <td>NaN</td>\n      <td>NaN</td>\n      <td>NaN</td>\n      <td>NaN</td>\n      <td>NaN</td>\n      <td>NaN</td>\n      <td>NaN</td>\n      <td>NaN</td>\n      <td>NaN</td>\n    </tr>\n    <tr>\n      <th>2</th>\n      <td>A</td>\n      <td>20:54:00</td>\n      <td>20:55:00</td>\n      <td>Obornicka (Wołowska)</td>\n      <td>Bezpieczna</td>\n      <td>51.144385</td>\n      <td>17.023735</td>\n      <td>51.141360</td>\n      <td>17.026376</td>\n      <td>75240</td>\n      <td>...</td>\n      <td>20:54:00</td>\n      <td>20:55:00</td>\n      <td>Obornicka (Wołowska)</td>\n      <td>Bezpieczna</td>\n      <td>51.144385</td>\n      <td>17.023735</td>\n      <td>51.141360</td>\n      <td>17.026376</td>\n      <td>75240.0</td>\n      <td>75300.0</td>\n    </tr>\n    <tr>\n      <th>3</th>\n      <td>A</td>\n      <td>20:55:00</td>\n      <td>20:57:00</td>\n      <td>Bezpieczna</td>\n      <td>Bałtycka</td>\n      <td>51.141360</td>\n      <td>17.026376</td>\n      <td>51.136632</td>\n      <td>17.030617</td>\n      <td>75300</td>\n      <td>...</td>\n      <td>20:55:00</td>\n      <td>20:57:00</td>\n      <td>Bezpieczna</td>\n      <td>Bałtycka</td>\n      <td>51.141360</td>\n      <td>17.026376</td>\n      <td>51.136632</td>\n      <td>17.030617</td>\n      <td>75300.0</td>\n      <td>75420.0</td>\n    </tr>\n    <tr>\n      <th>4</th>\n      <td>A</td>\n      <td>20:57:00</td>\n      <td>20:59:00</td>\n      <td>Bałtycka</td>\n      <td>Broniewskiego</td>\n      <td>51.136632</td>\n      <td>17.030617</td>\n      <td>51.135851</td>\n      <td>17.037383</td>\n      <td>75420</td>\n      <td>...</td>\n      <td>NaN</td>\n      <td>NaN</td>\n      <td>NaN</td>\n      <td>NaN</td>\n      <td>NaN</td>\n      <td>NaN</td>\n      <td>NaN</td>\n      <td>NaN</td>\n      <td>NaN</td>\n      <td>NaN</td>\n    </tr>\n  </tbody>\n</table>\n<p>4 rows × 22 columns</p>\n</div>"
     },
     "execution_count": 44,
     "metadata": {},
     "output_type": "execute_result"
    }
   ],
   "source": [
    "pd.concat([g.conn_graph.loc[1:4], g.conn_graph.loc[2:3]], axis=1)"
   ],
   "metadata": {
    "collapsed": false,
    "ExecuteTime": {
     "end_time": "2024-03-31T19:58:50.765575300Z",
     "start_time": "2024-03-31T19:58:50.721088Z"
    }
   },
   "id": "e8e6aa025713a698",
   "execution_count": 44
  },
  {
   "cell_type": "code",
   "outputs": [
    {
     "data": {
      "text/plain": "  line departure_time arrival_time start_stop              end_stop  \\\n1    A       20:53:00     20:54:00   Paprotna  Obornicka (Wołowska)   \n\n   start_stop_lat  start_stop_lon  end_stop_lat  end_stop_lon  departure_sec  \\\n1       51.147752       17.020539     51.144385     17.023735          75180   \n\n   arrival_sec  \n1        75240  ",
      "text/html": "<div>\n<style scoped>\n    .dataframe tbody tr th:only-of-type {\n        vertical-align: middle;\n    }\n\n    .dataframe tbody tr th {\n        vertical-align: top;\n    }\n\n    .dataframe thead th {\n        text-align: right;\n    }\n</style>\n<table border=\"1\" class=\"dataframe\">\n  <thead>\n    <tr style=\"text-align: right;\">\n      <th></th>\n      <th>line</th>\n      <th>departure_time</th>\n      <th>arrival_time</th>\n      <th>start_stop</th>\n      <th>end_stop</th>\n      <th>start_stop_lat</th>\n      <th>start_stop_lon</th>\n      <th>end_stop_lat</th>\n      <th>end_stop_lon</th>\n      <th>departure_sec</th>\n      <th>arrival_sec</th>\n    </tr>\n  </thead>\n  <tbody>\n    <tr>\n      <th>1</th>\n      <td>A</td>\n      <td>20:53:00</td>\n      <td>20:54:00</td>\n      <td>Paprotna</td>\n      <td>Obornicka (Wołowska)</td>\n      <td>51.147752</td>\n      <td>17.020539</td>\n      <td>51.144385</td>\n      <td>17.023735</td>\n      <td>75180</td>\n      <td>75240</td>\n    </tr>\n  </tbody>\n</table>\n</div>"
     },
     "execution_count": 47,
     "metadata": {},
     "output_type": "execute_result"
    }
   ],
   "source": [
    "g.conn_graph.loc[[1]]"
   ],
   "metadata": {
    "collapsed": false,
    "ExecuteTime": {
     "end_time": "2024-03-31T20:06:11.668253400Z",
     "start_time": "2024-03-31T20:06:11.640422100Z"
    }
   },
   "id": "f20fa93503c66d6f",
   "execution_count": 47
  },
  {
   "cell_type": "code",
   "outputs": [
    {
     "data": {
      "text/plain": "('Obornicka (Wołowska)', 51.144385, 17.023735)"
     },
     "execution_count": 31,
     "metadata": {},
     "output_type": "execute_result"
    }
   ],
   "source": [
    "stop_as_tuple(g.conn_graph.loc[1])"
   ],
   "metadata": {
    "collapsed": false,
    "ExecuteTime": {
     "end_time": "2024-03-31T19:45:15.870823400Z",
     "start_time": "2024-03-31T19:45:15.837993700Z"
    }
   },
   "id": "1dd3338106302bb7",
   "execution_count": 31
  },
  {
   "cell_type": "code",
   "outputs": [
    {
     "data": {
      "text/plain": "('Obornicka (Wołowska)', 51.144385, 17.023735)"
     },
     "execution_count": 33,
     "metadata": {},
     "output_type": "execute_result"
    }
   ],
   "source": [
    "stop_as_tuple(rename_stop(g.conn_graph.loc[1]))"
   ],
   "metadata": {
    "collapsed": false,
    "ExecuteTime": {
     "end_time": "2024-03-31T19:45:37.371551500Z",
     "start_time": "2024-03-31T19:45:37.345432100Z"
    }
   },
   "id": "a7b5bc1201c2c6",
   "execution_count": 33
  },
  {
   "cell_type": "code",
   "outputs": [
    {
     "data": {
      "text/plain": "       line departure_time arrival_time       start_stop          end_stop  \\\n893914  240       24:28:00     24:29:00  PL. GRUNWALDZKI  most Grunwaldzki   \n894679  241       24:40:00     24:41:00  PL. GRUNWALDZKI  most Grunwaldzki   \n871775  149       03:57:00     03:58:00  PL. GRUNWALDZKI  most Grunwaldzki   \n834512  145       04:17:00     04:18:00  PL. GRUNWALDZKI  most Grunwaldzki   \n24342     D       04:29:00     04:30:00  PL. GRUNWALDZKI  most Grunwaldzki   \n847104  146       04:54:00     04:55:00  PL. GRUNWALDZKI  most Grunwaldzki   \n277378   16       04:56:00     04:57:00  PL. GRUNWALDZKI  most Grunwaldzki   \n107187    4       05:00:00     05:01:00  PL. GRUNWALDZKI  most Grunwaldzki   \n230957   13       05:17:00     05:18:00  PL. GRUNWALDZKI  most Grunwaldzki   \n223236   12       05:43:00     05:44:00  PL. GRUNWALDZKI  most Grunwaldzki   \n326306   19       12:36:00     12:37:00  PL. GRUNWALDZKI  most Grunwaldzki   \n\n        start_stop_lat  start_stop_lon  end_stop_lat  end_stop_lon  \\\n893914       51.111406       17.059852     51.110136     17.055093   \n894679       51.111621       17.060086     51.110136     17.055093   \n871775       51.111406       17.059852     51.110136     17.055093   \n834512       51.111406       17.059852     51.110136     17.055093   \n24342        51.111621       17.060086     51.110136     17.055093   \n847104       51.111406       17.059852     51.110136     17.055093   \n277378       51.111444       17.059960     51.110212     17.055385   \n107187       51.111444       17.059960     51.110212     17.055385   \n230957       51.111623       17.059965     51.110212     17.055385   \n223236       51.111623       17.059965     51.110212     17.055385   \n326306       51.111444       17.059960     51.110212     17.055385   \n\n        departure_sec  arrival_sec  \n893914           1680         1740  \n894679           2400         2460  \n871775          14220        14280  \n834512          15420        15480  \n24342           16140        16200  \n847104          17640        17700  \n277378          17760        17820  \n107187          18000        18060  \n230957          19020        19080  \n223236          20580        20640  \n326306          45360        45420  ",
      "text/html": "<div>\n<style scoped>\n    .dataframe tbody tr th:only-of-type {\n        vertical-align: middle;\n    }\n\n    .dataframe tbody tr th {\n        vertical-align: top;\n    }\n\n    .dataframe thead th {\n        text-align: right;\n    }\n</style>\n<table border=\"1\" class=\"dataframe\">\n  <thead>\n    <tr style=\"text-align: right;\">\n      <th></th>\n      <th>line</th>\n      <th>departure_time</th>\n      <th>arrival_time</th>\n      <th>start_stop</th>\n      <th>end_stop</th>\n      <th>start_stop_lat</th>\n      <th>start_stop_lon</th>\n      <th>end_stop_lat</th>\n      <th>end_stop_lon</th>\n      <th>departure_sec</th>\n      <th>arrival_sec</th>\n    </tr>\n  </thead>\n  <tbody>\n    <tr>\n      <th>893914</th>\n      <td>240</td>\n      <td>24:28:00</td>\n      <td>24:29:00</td>\n      <td>PL. GRUNWALDZKI</td>\n      <td>most Grunwaldzki</td>\n      <td>51.111406</td>\n      <td>17.059852</td>\n      <td>51.110136</td>\n      <td>17.055093</td>\n      <td>1680</td>\n      <td>1740</td>\n    </tr>\n    <tr>\n      <th>894679</th>\n      <td>241</td>\n      <td>24:40:00</td>\n      <td>24:41:00</td>\n      <td>PL. GRUNWALDZKI</td>\n      <td>most Grunwaldzki</td>\n      <td>51.111621</td>\n      <td>17.060086</td>\n      <td>51.110136</td>\n      <td>17.055093</td>\n      <td>2400</td>\n      <td>2460</td>\n    </tr>\n    <tr>\n      <th>871775</th>\n      <td>149</td>\n      <td>03:57:00</td>\n      <td>03:58:00</td>\n      <td>PL. GRUNWALDZKI</td>\n      <td>most Grunwaldzki</td>\n      <td>51.111406</td>\n      <td>17.059852</td>\n      <td>51.110136</td>\n      <td>17.055093</td>\n      <td>14220</td>\n      <td>14280</td>\n    </tr>\n    <tr>\n      <th>834512</th>\n      <td>145</td>\n      <td>04:17:00</td>\n      <td>04:18:00</td>\n      <td>PL. GRUNWALDZKI</td>\n      <td>most Grunwaldzki</td>\n      <td>51.111406</td>\n      <td>17.059852</td>\n      <td>51.110136</td>\n      <td>17.055093</td>\n      <td>15420</td>\n      <td>15480</td>\n    </tr>\n    <tr>\n      <th>24342</th>\n      <td>D</td>\n      <td>04:29:00</td>\n      <td>04:30:00</td>\n      <td>PL. GRUNWALDZKI</td>\n      <td>most Grunwaldzki</td>\n      <td>51.111621</td>\n      <td>17.060086</td>\n      <td>51.110136</td>\n      <td>17.055093</td>\n      <td>16140</td>\n      <td>16200</td>\n    </tr>\n    <tr>\n      <th>847104</th>\n      <td>146</td>\n      <td>04:54:00</td>\n      <td>04:55:00</td>\n      <td>PL. GRUNWALDZKI</td>\n      <td>most Grunwaldzki</td>\n      <td>51.111406</td>\n      <td>17.059852</td>\n      <td>51.110136</td>\n      <td>17.055093</td>\n      <td>17640</td>\n      <td>17700</td>\n    </tr>\n    <tr>\n      <th>277378</th>\n      <td>16</td>\n      <td>04:56:00</td>\n      <td>04:57:00</td>\n      <td>PL. GRUNWALDZKI</td>\n      <td>most Grunwaldzki</td>\n      <td>51.111444</td>\n      <td>17.059960</td>\n      <td>51.110212</td>\n      <td>17.055385</td>\n      <td>17760</td>\n      <td>17820</td>\n    </tr>\n    <tr>\n      <th>107187</th>\n      <td>4</td>\n      <td>05:00:00</td>\n      <td>05:01:00</td>\n      <td>PL. GRUNWALDZKI</td>\n      <td>most Grunwaldzki</td>\n      <td>51.111444</td>\n      <td>17.059960</td>\n      <td>51.110212</td>\n      <td>17.055385</td>\n      <td>18000</td>\n      <td>18060</td>\n    </tr>\n    <tr>\n      <th>230957</th>\n      <td>13</td>\n      <td>05:17:00</td>\n      <td>05:18:00</td>\n      <td>PL. GRUNWALDZKI</td>\n      <td>most Grunwaldzki</td>\n      <td>51.111623</td>\n      <td>17.059965</td>\n      <td>51.110212</td>\n      <td>17.055385</td>\n      <td>19020</td>\n      <td>19080</td>\n    </tr>\n    <tr>\n      <th>223236</th>\n      <td>12</td>\n      <td>05:43:00</td>\n      <td>05:44:00</td>\n      <td>PL. GRUNWALDZKI</td>\n      <td>most Grunwaldzki</td>\n      <td>51.111623</td>\n      <td>17.059965</td>\n      <td>51.110212</td>\n      <td>17.055385</td>\n      <td>20580</td>\n      <td>20640</td>\n    </tr>\n    <tr>\n      <th>326306</th>\n      <td>19</td>\n      <td>12:36:00</td>\n      <td>12:37:00</td>\n      <td>PL. GRUNWALDZKI</td>\n      <td>most Grunwaldzki</td>\n      <td>51.111444</td>\n      <td>17.059960</td>\n      <td>51.110212</td>\n      <td>17.055385</td>\n      <td>45360</td>\n      <td>45420</td>\n    </tr>\n  </tbody>\n</table>\n</div>"
     },
     "execution_count": 28,
     "metadata": {},
     "output_type": "execute_result"
    }
   ],
   "source": [
    "valid_conns.sort_values(by='arrival_sec').drop_duplicates(['line', 'start_stop', 'end_stop', 'start_stop_lat', 'start_stop_lon', 'end_stop_lat', 'end_stop_lon'])"
   ],
   "metadata": {
    "collapsed": false,
    "ExecuteTime": {
     "end_time": "2024-03-31T19:30:46.628461400Z",
     "start_time": "2024-03-31T19:30:46.539736300Z"
    }
   },
   "id": "db753a1e869a3c98",
   "execution_count": 28
  },
  {
   "cell_type": "code",
   "outputs": [
    {
     "data": {
      "text/plain": "       line departure_time arrival_time       start_stop          end_stop  \\\n871775  149       03:57:00     03:58:00  PL. GRUNWALDZKI  most Grunwaldzki   \n834512  145       04:17:00     04:18:00  PL. GRUNWALDZKI  most Grunwaldzki   \n838728  145       04:18:00     04:19:00  PL. GRUNWALDZKI  most Grunwaldzki   \n24342     D       04:29:00     04:30:00  PL. GRUNWALDZKI  most Grunwaldzki   \n14840     D       04:30:00     04:31:00  PL. GRUNWALDZKI  most Grunwaldzki   \n...     ...            ...          ...              ...               ...   \n893989  240       26:53:00     26:54:00  PL. GRUNWALDZKI  most Grunwaldzki   \n894793  241       27:40:00     27:41:00  PL. GRUNWALDZKI  most Grunwaldzki   \n894014  240       27:48:00     27:49:00  PL. GRUNWALDZKI  most Grunwaldzki   \n894039  240       28:36:00     28:37:00  PL. GRUNWALDZKI  most Grunwaldzki   \n894999  241       28:40:00     28:41:00  PL. GRUNWALDZKI  most Grunwaldzki   \n\n        start_stop_lat  start_stop_lon  end_stop_lat  end_stop_lon  \\\n871775       51.111406       17.059852     51.110136     17.055093   \n834512       51.111406       17.059852     51.110136     17.055093   \n838728       51.111406       17.059852     51.110136     17.055093   \n24342        51.111621       17.060086     51.110136     17.055093   \n14840        51.111621       17.060086     51.110136     17.055093   \n...                ...             ...           ...           ...   \n893989       51.111406       17.059852     51.110136     17.055093   \n894793       51.111621       17.060086     51.110136     17.055093   \n894014       51.111406       17.059852     51.110136     17.055093   \n894039       51.111406       17.059852     51.110136     17.055093   \n894999       51.111621       17.060086     51.110136     17.055093   \n\n        departure_sec  arrival_sec  \n871775          14220        14280  \n834512          15420        15480  \n838728          15480        15540  \n24342           16140        16200  \n14840           16200        16260  \n...               ...          ...  \n893989          10380        10440  \n894793          13200        13260  \n894014          13680        13740  \n894039          16560        16620  \n894999          16800        16860  \n\n[877 rows x 11 columns]",
      "text/html": "<div>\n<style scoped>\n    .dataframe tbody tr th:only-of-type {\n        vertical-align: middle;\n    }\n\n    .dataframe tbody tr th {\n        vertical-align: top;\n    }\n\n    .dataframe thead th {\n        text-align: right;\n    }\n</style>\n<table border=\"1\" class=\"dataframe\">\n  <thead>\n    <tr style=\"text-align: right;\">\n      <th></th>\n      <th>line</th>\n      <th>departure_time</th>\n      <th>arrival_time</th>\n      <th>start_stop</th>\n      <th>end_stop</th>\n      <th>start_stop_lat</th>\n      <th>start_stop_lon</th>\n      <th>end_stop_lat</th>\n      <th>end_stop_lon</th>\n      <th>departure_sec</th>\n      <th>arrival_sec</th>\n    </tr>\n  </thead>\n  <tbody>\n    <tr>\n      <th>871775</th>\n      <td>149</td>\n      <td>03:57:00</td>\n      <td>03:58:00</td>\n      <td>PL. GRUNWALDZKI</td>\n      <td>most Grunwaldzki</td>\n      <td>51.111406</td>\n      <td>17.059852</td>\n      <td>51.110136</td>\n      <td>17.055093</td>\n      <td>14220</td>\n      <td>14280</td>\n    </tr>\n    <tr>\n      <th>834512</th>\n      <td>145</td>\n      <td>04:17:00</td>\n      <td>04:18:00</td>\n      <td>PL. GRUNWALDZKI</td>\n      <td>most Grunwaldzki</td>\n      <td>51.111406</td>\n      <td>17.059852</td>\n      <td>51.110136</td>\n      <td>17.055093</td>\n      <td>15420</td>\n      <td>15480</td>\n    </tr>\n    <tr>\n      <th>838728</th>\n      <td>145</td>\n      <td>04:18:00</td>\n      <td>04:19:00</td>\n      <td>PL. GRUNWALDZKI</td>\n      <td>most Grunwaldzki</td>\n      <td>51.111406</td>\n      <td>17.059852</td>\n      <td>51.110136</td>\n      <td>17.055093</td>\n      <td>15480</td>\n      <td>15540</td>\n    </tr>\n    <tr>\n      <th>24342</th>\n      <td>D</td>\n      <td>04:29:00</td>\n      <td>04:30:00</td>\n      <td>PL. GRUNWALDZKI</td>\n      <td>most Grunwaldzki</td>\n      <td>51.111621</td>\n      <td>17.060086</td>\n      <td>51.110136</td>\n      <td>17.055093</td>\n      <td>16140</td>\n      <td>16200</td>\n    </tr>\n    <tr>\n      <th>14840</th>\n      <td>D</td>\n      <td>04:30:00</td>\n      <td>04:31:00</td>\n      <td>PL. GRUNWALDZKI</td>\n      <td>most Grunwaldzki</td>\n      <td>51.111621</td>\n      <td>17.060086</td>\n      <td>51.110136</td>\n      <td>17.055093</td>\n      <td>16200</td>\n      <td>16260</td>\n    </tr>\n    <tr>\n      <th>...</th>\n      <td>...</td>\n      <td>...</td>\n      <td>...</td>\n      <td>...</td>\n      <td>...</td>\n      <td>...</td>\n      <td>...</td>\n      <td>...</td>\n      <td>...</td>\n      <td>...</td>\n      <td>...</td>\n    </tr>\n    <tr>\n      <th>893989</th>\n      <td>240</td>\n      <td>26:53:00</td>\n      <td>26:54:00</td>\n      <td>PL. GRUNWALDZKI</td>\n      <td>most Grunwaldzki</td>\n      <td>51.111406</td>\n      <td>17.059852</td>\n      <td>51.110136</td>\n      <td>17.055093</td>\n      <td>10380</td>\n      <td>10440</td>\n    </tr>\n    <tr>\n      <th>894793</th>\n      <td>241</td>\n      <td>27:40:00</td>\n      <td>27:41:00</td>\n      <td>PL. GRUNWALDZKI</td>\n      <td>most Grunwaldzki</td>\n      <td>51.111621</td>\n      <td>17.060086</td>\n      <td>51.110136</td>\n      <td>17.055093</td>\n      <td>13200</td>\n      <td>13260</td>\n    </tr>\n    <tr>\n      <th>894014</th>\n      <td>240</td>\n      <td>27:48:00</td>\n      <td>27:49:00</td>\n      <td>PL. GRUNWALDZKI</td>\n      <td>most Grunwaldzki</td>\n      <td>51.111406</td>\n      <td>17.059852</td>\n      <td>51.110136</td>\n      <td>17.055093</td>\n      <td>13680</td>\n      <td>13740</td>\n    </tr>\n    <tr>\n      <th>894039</th>\n      <td>240</td>\n      <td>28:36:00</td>\n      <td>28:37:00</td>\n      <td>PL. GRUNWALDZKI</td>\n      <td>most Grunwaldzki</td>\n      <td>51.111406</td>\n      <td>17.059852</td>\n      <td>51.110136</td>\n      <td>17.055093</td>\n      <td>16560</td>\n      <td>16620</td>\n    </tr>\n    <tr>\n      <th>894999</th>\n      <td>241</td>\n      <td>28:40:00</td>\n      <td>28:41:00</td>\n      <td>PL. GRUNWALDZKI</td>\n      <td>most Grunwaldzki</td>\n      <td>51.111621</td>\n      <td>17.060086</td>\n      <td>51.110136</td>\n      <td>17.055093</td>\n      <td>16800</td>\n      <td>16860</td>\n    </tr>\n  </tbody>\n</table>\n<p>877 rows × 11 columns</p>\n</div>"
     },
     "execution_count": 21,
     "metadata": {},
     "output_type": "execute_result"
    }
   ],
   "source": [
    "valid_conns.sort_values(by=['arrival_time'])"
   ],
   "metadata": {
    "collapsed": false,
    "ExecuteTime": {
     "end_time": "2024-03-31T19:23:16.895250900Z",
     "start_time": "2024-03-31T19:23:16.833488500Z"
    }
   },
   "id": "b2590a5158a743d3",
   "execution_count": 21
  },
  {
   "cell_type": "code",
   "outputs": [],
   "source": [
    "g.get_earliest_from()"
   ],
   "metadata": {
    "collapsed": false
   },
   "id": "79effcd863cf6348"
  },
  {
   "cell_type": "code",
   "outputs": [
    {
     "data": {
      "text/plain": "  line departure_time arrival_time            start_stop  \\\n1    A       20:53:00     20:54:00              Paprotna   \n2    A       20:54:00     20:55:00  Obornicka (Wołowska)   \n3    A       20:55:00     20:57:00            Bezpieczna   \n4    A       20:57:00     20:59:00              Bałtycka   \n1    A       20:53:00     20:54:00              Paprotna   \n2    A       20:54:00     20:55:00  Obornicka (Wołowska)   \n3    A       20:55:00     20:57:00            Bezpieczna   \n4    A       20:57:00     20:59:00              Bałtycka   \n\n               end_stop  start_stop_lat  start_stop_lon  end_stop_lat  \\\n1  Obornicka (Wołowska)       51.147752       17.020539     51.144385   \n2            Bezpieczna       51.144385       17.023735     51.141360   \n3              Bałtycka       51.141360       17.026376     51.136632   \n4         Broniewskiego       51.136632       17.030617     51.135851   \n1  Obornicka (Wołowska)       51.147752       17.020539     51.144385   \n2            Bezpieczna       51.144385       17.023735     51.141360   \n3              Bałtycka       51.141360       17.026376     51.136632   \n4         Broniewskiego       51.136632       17.030617     51.135851   \n\n   end_stop_lon  departure_sec  arrival_sec  \n1     17.023735          75180        75240  \n2     17.026376          75240        75300  \n3     17.030617          75300        75420  \n4     17.037383          75420        75540  \n1     17.023735          75180        75240  \n2     17.026376          75240        75300  \n3     17.030617          75300        75420  \n4     17.037383          75420        75540  ",
      "text/html": "<div>\n<style scoped>\n    .dataframe tbody tr th:only-of-type {\n        vertical-align: middle;\n    }\n\n    .dataframe tbody tr th {\n        vertical-align: top;\n    }\n\n    .dataframe thead th {\n        text-align: right;\n    }\n</style>\n<table border=\"1\" class=\"dataframe\">\n  <thead>\n    <tr style=\"text-align: right;\">\n      <th></th>\n      <th>line</th>\n      <th>departure_time</th>\n      <th>arrival_time</th>\n      <th>start_stop</th>\n      <th>end_stop</th>\n      <th>start_stop_lat</th>\n      <th>start_stop_lon</th>\n      <th>end_stop_lat</th>\n      <th>end_stop_lon</th>\n      <th>departure_sec</th>\n      <th>arrival_sec</th>\n    </tr>\n  </thead>\n  <tbody>\n    <tr>\n      <th>1</th>\n      <td>A</td>\n      <td>20:53:00</td>\n      <td>20:54:00</td>\n      <td>Paprotna</td>\n      <td>Obornicka (Wołowska)</td>\n      <td>51.147752</td>\n      <td>17.020539</td>\n      <td>51.144385</td>\n      <td>17.023735</td>\n      <td>75180</td>\n      <td>75240</td>\n    </tr>\n    <tr>\n      <th>2</th>\n      <td>A</td>\n      <td>20:54:00</td>\n      <td>20:55:00</td>\n      <td>Obornicka (Wołowska)</td>\n      <td>Bezpieczna</td>\n      <td>51.144385</td>\n      <td>17.023735</td>\n      <td>51.141360</td>\n      <td>17.026376</td>\n      <td>75240</td>\n      <td>75300</td>\n    </tr>\n    <tr>\n      <th>3</th>\n      <td>A</td>\n      <td>20:55:00</td>\n      <td>20:57:00</td>\n      <td>Bezpieczna</td>\n      <td>Bałtycka</td>\n      <td>51.141360</td>\n      <td>17.026376</td>\n      <td>51.136632</td>\n      <td>17.030617</td>\n      <td>75300</td>\n      <td>75420</td>\n    </tr>\n    <tr>\n      <th>4</th>\n      <td>A</td>\n      <td>20:57:00</td>\n      <td>20:59:00</td>\n      <td>Bałtycka</td>\n      <td>Broniewskiego</td>\n      <td>51.136632</td>\n      <td>17.030617</td>\n      <td>51.135851</td>\n      <td>17.037383</td>\n      <td>75420</td>\n      <td>75540</td>\n    </tr>\n    <tr>\n      <th>1</th>\n      <td>A</td>\n      <td>20:53:00</td>\n      <td>20:54:00</td>\n      <td>Paprotna</td>\n      <td>Obornicka (Wołowska)</td>\n      <td>51.147752</td>\n      <td>17.020539</td>\n      <td>51.144385</td>\n      <td>17.023735</td>\n      <td>75180</td>\n      <td>75240</td>\n    </tr>\n    <tr>\n      <th>2</th>\n      <td>A</td>\n      <td>20:54:00</td>\n      <td>20:55:00</td>\n      <td>Obornicka (Wołowska)</td>\n      <td>Bezpieczna</td>\n      <td>51.144385</td>\n      <td>17.023735</td>\n      <td>51.141360</td>\n      <td>17.026376</td>\n      <td>75240</td>\n      <td>75300</td>\n    </tr>\n    <tr>\n      <th>3</th>\n      <td>A</td>\n      <td>20:55:00</td>\n      <td>20:57:00</td>\n      <td>Bezpieczna</td>\n      <td>Bałtycka</td>\n      <td>51.141360</td>\n      <td>17.026376</td>\n      <td>51.136632</td>\n      <td>17.030617</td>\n      <td>75300</td>\n      <td>75420</td>\n    </tr>\n    <tr>\n      <th>4</th>\n      <td>A</td>\n      <td>20:57:00</td>\n      <td>20:59:00</td>\n      <td>Bałtycka</td>\n      <td>Broniewskiego</td>\n      <td>51.136632</td>\n      <td>17.030617</td>\n      <td>51.135851</td>\n      <td>17.037383</td>\n      <td>75420</td>\n      <td>75540</td>\n    </tr>\n  </tbody>\n</table>\n</div>"
     },
     "execution_count": 48,
     "metadata": {},
     "output_type": "execute_result"
    }
   ],
   "source": [
    "pd.concat([g.conn_graph.loc[1:4], g.conn_graph.loc[1:4]])"
   ],
   "metadata": {
    "collapsed": false,
    "ExecuteTime": {
     "end_time": "2024-03-31T20:08:24.542471900Z",
     "start_time": "2024-03-31T20:08:24.513942400Z"
    }
   },
   "id": "cb658058fdcb82d3",
   "execution_count": 48
  }
 ],
 "metadata": {
  "kernelspec": {
   "display_name": "Python 3",
   "language": "python",
   "name": "python3"
  },
  "language_info": {
   "codemirror_mode": {
    "name": "ipython",
    "version": 2
   },
   "file_extension": ".py",
   "mimetype": "text/x-python",
   "name": "python",
   "nbconvert_exporter": "python",
   "pygments_lexer": "ipython2",
   "version": "2.7.6"
  }
 },
 "nbformat": 4,
 "nbformat_minor": 5
}
