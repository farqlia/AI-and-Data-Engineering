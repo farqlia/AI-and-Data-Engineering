{
 "cells": [
  {
   "cell_type": "markdown",
   "source": [
    "1. Wygenerowanie jednego rozwiązania ze ścieżką\n",
    "2. Próba znalezienia pośredniego połączenia między dwoma połączeniami w rozwiazaniu\n",
    "3. Jeśli to rozwiązanie polepsza wynik, to akceptujemy"
   ],
   "metadata": {
    "collapsed": false
   },
   "id": "45250d1c5e70a900"
  },
  {
   "cell_type": "code",
   "execution_count": 4,
   "id": "initial_id",
   "metadata": {
    "collapsed": true,
    "ExecuteTime": {
     "end_time": "2024-04-01T19:35:16.674508600Z",
     "start_time": "2024-04-01T19:35:16.666492300Z"
    }
   },
   "outputs": [],
   "source": [
    "from ai_data_eng.searching.graph import *\n",
    "from ai_data_eng.searching.utils import *\n",
    "from ai_data_eng.searching.searchning import * \n",
    "from ai_data_eng.searching.initialization import *\n",
    "from ai_data_eng.searching.a_star_time_opt import a_star_time_opt_light, find_path_a_star_t\n",
    "from ai_data_eng.searching.a_star_changes_opt import a_star_changes_opt_light, find_path_a_star_p, path_to_list_p\n",
    "from ai_data_eng.searching.heuristics import WeightedAverageTimeHeuristic, ChangeHeuristic\n",
    "from pathlib import Path\n",
    "\n",
    "DATA_DIR = Path('../data')\n",
    "\n",
    "def print_path(connections, print_to=None):\n",
    "    for i, conn in enumerate(connections):\n",
    "        print(\n",
    "            f'({i}) {conn[\"start_stop\"]} [{sec_to_time(conn[\"departure_sec\"])}] --- {conn[\"line\"]} ---> {conn[\"end_stop\"]} [{sec_to_time(conn[\"arrival_sec\"])}] [{conn.name}]',\n",
    "            file=print_to)"
   ]
  },
  {
   "cell_type": "code",
   "outputs": [
    {
     "name": "stderr",
     "output_type": "stream",
     "text": [
      "C:\\Users\\julia\\AppData\\Local\\Temp\\ipykernel_36544\\1491564076.py:1: DtypeWarning: Columns (2) have mixed types. Specify dtype option on import or set low_memory=False.\n",
      "  connection_graph = pd.read_csv(DATA_DIR / 'connection_graph.csv',\n"
     ]
    }
   ],
   "source": [
    "connection_graph = pd.read_csv(DATA_DIR / 'connection_graph.csv', \n",
    "                               usecols=['line', 'departure_time', 'arrival_time', 'start_stop',\n",
    "       'end_stop', 'start_stop_lat', 'start_stop_lon', 'end_stop_lat',\n",
    "       'end_stop_lon'])\n",
    "g = Graph(connection_graph, partial(add_const_change_time, change_time=0))"
   ],
   "metadata": {
    "collapsed": false,
    "ExecuteTime": {
     "end_time": "2024-04-01T19:35:23.348202400Z",
     "start_time": "2024-04-01T19:35:18.891603200Z"
    }
   },
   "id": "36897f01047fd6df",
   "execution_count": 5
  },
  {
   "cell_type": "code",
   "outputs": [],
   "source": [
    "from typing import Set\n",
    "from queue import PriorityQueue\n",
    "\n",
    "CRITERION = OptimizationType.TIME\n",
    "\n",
    "def get_matched_stops(solution, visiting_stops: List[str]):\n",
    "    visiting_stops = set(visiting_stops)\n",
    "    matched_stops = 0\n",
    "    for conn in solution:\n",
    "        if conn['start_stop'] in visiting_stops:\n",
    "            visiting_stops.remove(conn['start_stop'])\n",
    "            matched_stops += 1\n",
    "    return matched_stops, visiting_stops\n",
    "\n",
    "def judge_t_solution(solution, visiting_stops: List[str]):\n",
    "    conn_time = diff(solution[-1]['arrival_sec'], solution[-1]['departure_sec'])\n",
    "    return conn_time / (get_matched_stops(solution, visiting_stops) + 0.01)    \n",
    "\n",
    "def judge_p_solution(solution, visiting_stops: Set[str]):\n",
    "    matched_stops = 0 \n",
    "    line_changes = int(np.sum([1 for (c1, c2) in zip(solution[:-1], solution[1:]) if is_conn_change(c1, c2)]))\n",
    "    \n",
    "    for conn in solution:\n",
    "        if conn['start_stop'] in visiting_stops:\n",
    "            visiting_stops.remove(conn['start_stop'])\n",
    "            matched_stops += 1\n",
    "    return line_changes / (matched_stops + 0.01)  \n",
    "    \n",
    "def get_a_star(criterion: OptimizationType):\n",
    "    if criterion == OptimizationType.TIME:\n",
    "        return partial(find_path_a_star_t, graph=g, heuristic=WeightedAverageTimeHeuristic(),\n",
    "                       cost_func=g.time_cost_between_conns, neighbours_gen=g.get_earliest_from_with_and_without_change)\n",
    "    elif criterion == OptimizationType.CHANGES:\n",
    "        return partial(find_path_a_star_p, graph=g, heuristic=ChangeHeuristic(),\n",
    "                       cost_func=g.change_cost_between_conns, initialization_func=initialize_with_prev_conn, neighbours_gen=g.get_lines_from)\n",
    "\n",
    "\n",
    "def get_connection_path(criterion: OptimizationType):\n",
    "    if criterion ==  OptimizationType.TIME:\n",
    "        def recreate(goal_index, came_from):\n",
    "            return idxs_to_nodes(g, goal_index, came_from)\n",
    "        return recreate\n",
    "    elif criterion == OptimizationType.CHANGES:\n",
    "        def recreate(goal, came_from):\n",
    "            came_from_conn, stop_conn = came_from\n",
    "            conns = path_to_list_p(goal, came_from_conn, stop_conn)\n",
    "            connections = [g.conn_at_index(idx) for idx in conns]\n",
    "            return connections\n",
    "        return recreate\n",
    "\n",
    "\n",
    "def naive_solution(criterion: OptimizationType, start_stop: str, visiting_stops: List[str], leave_hour: str):\n",
    "    a_star = get_a_star(criterion)\n",
    "    conn_path = get_connection_path(criterion)\n",
    "    prev_stop = start_stop\n",
    "    solution = []\n",
    "    for stop in visiting_stops:\n",
    "        goal, came_from, costs = a_star(start_stop=prev_stop, goal_stop=stop, leave_hour=leave_hour)\n",
    "        subsol = conn_path(goal, came_from)\n",
    "        solution += subsol\n",
    "        prev_stop = stop\n",
    "        # add change time\n",
    "        leave_hour = sec_to_time(subsol[-1]['arrival_sec'])\n",
    "        g.reset()\n",
    "    goal, came_from, costs = a_star(start_stop=prev_stop, goal_stop=start_stop, leave_hour=leave_hour)\n",
    "    solution += conn_path(goal, came_from)\n",
    "    g.reset()\n",
    "    return solution"
   ],
   "metadata": {
    "collapsed": false,
    "ExecuteTime": {
     "end_time": "2024-04-01T20:14:31.594991300Z",
     "start_time": "2024-04-01T20:14:31.574684200Z"
    }
   },
   "id": "d7b66a231edec944",
   "execution_count": 43
  },
  {
   "cell_type": "code",
   "outputs": [],
   "source": [
    "sol1 = naive_solution(OptimizationType.TIME, 'PL. GRUNWALDZKI', ['most Grunwaldzki', 'Poczta Główna', 'Renoma'], '08:00:00')"
   ],
   "metadata": {
    "collapsed": false,
    "ExecuteTime": {
     "end_time": "2024-04-01T18:00:04.641720500Z",
     "start_time": "2024-04-01T18:00:00.207844100Z"
    }
   },
   "id": "4080a968c9e3913b",
   "execution_count": 18
  },
  {
   "cell_type": "code",
   "outputs": [
    {
     "name": "stdout",
     "output_type": "stream",
     "text": [
      "PL. GRUNWALDZKI [08:00:00] --- 146 ---> most Grunwaldzki [08:02:00] [849563]\n",
      "most Grunwaldzki [08:02:00] --- 146 ---> Poczta Główna [08:04:00] [849564]\n",
      "Poczta Główna [08:04:00] --- D ---> GALERIA DOMINIKAŃSKA [08:06:00] [14559]\n",
      "GALERIA DOMINIKAŃSKA [08:06:00] --- D ---> Renoma [08:09:00] [14560]\n",
      "Renoma [08:09:00] --- A ---> Arkady (Capitol) [08:11:00] [286]\n",
      "Arkady (Capitol) [08:13:00] --- D ---> GALERIA DOMINIKAŃSKA [08:18:00] [23021]\n",
      "GALERIA DOMINIKAŃSKA [08:18:00] --- D ---> Urząd Wojewódzki (Impart) [08:21:00] [23022]\n",
      "Urząd Wojewódzki (Impart) [08:21:00] --- D ---> most Grunwaldzki [08:22:00] [23023]\n",
      "most Grunwaldzki [08:22:00] --- D ---> PL. GRUNWALDZKI [08:24:00] [23024]\n"
     ]
    }
   ],
   "source": [
    "print_path(sol1)"
   ],
   "metadata": {
    "collapsed": false,
    "ExecuteTime": {
     "end_time": "2024-04-01T18:00:05.492588300Z",
     "start_time": "2024-04-01T18:00:05.471226400Z"
    }
   },
   "id": "a84552b65a51d3ad",
   "execution_count": 19
  },
  {
   "cell_type": "code",
   "outputs": [
    {
     "data": {
      "text/plain": "39.8671096345515"
     },
     "execution_count": 20,
     "metadata": {},
     "output_type": "execute_result"
    }
   ],
   "source": [
    "judge_t_solution(sol1, ['most Grunwaldzki', 'Poczta Główna', 'Renoma'])"
   ],
   "metadata": {
    "collapsed": false,
    "ExecuteTime": {
     "end_time": "2024-04-01T18:00:06.883517200Z",
     "start_time": "2024-04-01T18:00:06.874312200Z"
    }
   },
   "id": "d3d8496d5a2b6331",
   "execution_count": 20
  },
  {
   "cell_type": "code",
   "outputs": [],
   "source": [
    "vis_stops = ['Paprotna', 'Czajkowskiego', 'Ogród Botaniczny', 'Krucza', 'Renoma', 'Kępińska']\n",
    "start_stop = 'PL. GRUNWALDZKI'\n",
    "leave_hour = '08:00:00'"
   ],
   "metadata": {
    "collapsed": false,
    "ExecuteTime": {
     "end_time": "2024-04-01T20:13:34.916076500Z",
     "start_time": "2024-04-01T20:13:34.907046800Z"
    }
   },
   "id": "a64902807b78df72",
   "execution_count": 39
  },
  {
   "cell_type": "code",
   "outputs": [],
   "source": [
    "sol3 = naive_solution(OptimizationType.TIME, start_stop, vis_stops, leave_hour)"
   ],
   "metadata": {
    "collapsed": false,
    "ExecuteTime": {
     "end_time": "2024-04-01T19:36:00.285373400Z",
     "start_time": "2024-04-01T19:35:29.528671400Z"
    }
   },
   "id": "47d86eafb2596eeb",
   "execution_count": 8
  },
  {
   "cell_type": "code",
   "outputs": [
    {
     "data": {
      "text/plain": "29.950083194675543"
     },
     "execution_count": 14,
     "metadata": {},
     "output_type": "execute_result"
    }
   ],
   "source": [
    "judge_t_solution(sol3, vis_stops)"
   ],
   "metadata": {
    "collapsed": false,
    "ExecuteTime": {
     "end_time": "2024-03-25T14:35:02.075715Z",
     "start_time": "2024-03-25T14:35:02.069973900Z"
    }
   },
   "id": "a9d0ebbeab18d590",
   "execution_count": 14
  },
  {
   "cell_type": "code",
   "outputs": [
    {
     "name": "stdout",
     "output_type": "stream",
     "text": [
      "(0) PL. GRUNWALDZKI [08:00:00] --- D ---> Kochanowskiego [08:03:00] [22596]\n",
      "(1) Kochanowskiego [08:03:00] --- D ---> Śniadeckich [08:05:00] [22597]\n",
      "(2) Śniadeckich [08:05:00] --- D ---> Zacisze [08:06:00] [22598]\n",
      "(3) Zacisze [08:06:00] --- D ---> Kwidzyńska [08:08:00] [22599]\n",
      "(4) Kwidzyńska [08:08:00] --- 6 ---> Kętrzyńska [08:09:00] [135055]\n",
      "(5) Kętrzyńska [08:09:00] --- 6 ---> KROMERA [08:11:00] [135056]\n",
      "(6) KROMERA [08:13:00] --- 116 ---> Berenta [08:14:00] [556881]\n",
      "(7) Berenta [08:14:00] --- 116 ---> Kasprowicza [08:15:00] [556882]\n",
      "(8) Kasprowicza [08:15:00] --- 130 ---> Syrokomli [08:16:00] [711637]\n",
      "(9) Syrokomli [08:16:00] --- 130 ---> Pola [08:17:00] [711638]\n",
      "(10) Pola [08:17:00] --- 130 ---> Broniewskiego [08:18:00] [711639]\n",
      "(11) Broniewskiego [08:18:00] --- 118 ---> Bałtycka [08:20:00] [567781]\n",
      "(12) Bałtycka [08:20:00] --- 118 ---> Bezpieczna [08:21:00] [567782]\n",
      "(13) Bezpieczna [08:21:00] --- 602 ---> Paprotna [08:22:00] [933891]\n",
      "(14) Paprotna [08:25:00] --- 111 ---> Obornicka (Wołowska) [08:26:00] [512081]\n",
      "(15) Obornicka (Wołowska) [08:26:00] --- 111 ---> Bezpieczna [08:27:00] [512082]\n",
      "(16) Bezpieczna [08:27:00] --- K ---> Bałtycka [08:29:00] [32288]\n",
      "(17) Bałtycka [08:29:00] --- K ---> Broniewskiego [08:31:00] [32289]\n",
      "(18) Broniewskiego [08:32:00] --- 149 ---> Pola [08:33:00] [871098]\n",
      "(19) Pola [08:33:00] --- 149 ---> Syrokomli [08:34:00] [871099]\n",
      "(20) Syrokomli [08:34:00] --- 149 ---> Berenta [08:36:00] [871100]\n",
      "(21) Berenta [08:37:00] --- 118 ---> pl. Daniłowskiego [08:39:00] [569748]\n",
      "(22) pl. Daniłowskiego [08:40:00] --- 116 ---> Przybyszewskiego [08:41:00] [558574]\n",
      "(23) Przybyszewskiego [08:41:00] --- 116 ---> Czajkowskiego [08:42:00] [558575]\n",
      "(24) Czajkowskiego [08:42:00] --- 116 ---> Koszarowa [08:44:00] [558576]\n",
      "(25) Koszarowa [08:47:00] --- 116 ---> KOSZAROWA (Szpital) [08:48:00] [559320]\n",
      "(26) KOSZAROWA (Szpital) [08:48:00] --- 116 ---> pl. Daniłowskiego [08:51:00] [559321]\n",
      "(27) pl. Daniłowskiego [08:51:00] --- 130 ---> Berenta [08:52:00] [715929]\n",
      "(28) Berenta [08:52:00] --- 130 ---> KROMERA [08:57:00] [715930]\n",
      "(29) KROMERA [08:57:00] --- 23 ---> Mosty Warszawskie [08:59:00] [382992]\n",
      "(30) Mosty Warszawskie [09:00:00] --- 128 ---> Wyszyńskiego [09:02:00] [679764]\n",
      "(31) Wyszyńskiego [09:02:00] --- 128 ---> Ogród Botaniczny [09:05:00] [679765]\n",
      "(32) Ogród Botaniczny [09:09:00] --- N ---> Katedra [09:10:00] [47415]\n",
      "(33) Katedra [09:10:00] --- N ---> Urząd Wojewódzki (Muzeum Narodowe) [09:11:00] [47416]\n",
      "(34) Urząd Wojewódzki (Muzeum Narodowe) [09:11:00] --- N ---> Poczta Główna [09:12:00] [47417]\n",
      "(35) Poczta Główna [09:12:00] --- 149 ---> skwer Krasińskiego [09:15:00] [873089]\n",
      "(36) skwer Krasińskiego [09:15:00] --- 149 ---> Wzgórze Partyzantów [09:16:00] [873090]\n",
      "(37) Wzgórze Partyzantów [09:16:00] --- 149 ---> Renoma [09:18:00] [873091]\n",
      "(38) Renoma [09:19:00] --- 7 ---> Arkady (Capitol) [09:21:00] [139927]\n",
      "(39) Arkady (Capitol) [09:21:00] --- 7 ---> Zaolziańska [09:23:00] [139928]\n",
      "(40) Zaolziańska [09:23:00] --- 7 ---> Wielka [09:24:00] [139929]\n",
      "(41) Wielka [09:24:00] --- 7 ---> Rondo [09:25:00] [139930]\n",
      "(42) Rondo [09:25:00] --- 124 ---> Krucza [09:28:00] [622419]\n",
      "(43) Krucza [09:29:00] --- 144 ---> Żelazna [09:31:00] [817138]\n",
      "(44) Żelazna [09:31:00] --- 144 ---> Zaporoska [09:33:00] [817139]\n",
      "(45) Zaporoska [09:33:00] --- 144 ---> Zielińskiego [09:34:00] [817140]\n",
      "(46) Zielińskiego [09:34:00] --- 144 ---> Piłsudskiego [09:36:00] [817141]\n",
      "(47) Piłsudskiego [09:36:00] --- 144 ---> pl. Orląt Lwowskich [09:38:00] [817142]\n",
      "(48) pl. Orląt Lwowskich [09:39:00] --- 149 ---> Renoma [09:41:00] [870112]\n",
      "(49) Renoma [09:44:00] --- 7 ---> Opera [09:45:00] [147846]\n",
      "(50) Opera [09:45:00] --- 7 ---> ŚWIDNICKA (Dom Europy) [09:46:00] [147847]\n",
      "(51) ŚWIDNICKA (Dom Europy) [09:46:00] --- 7 ---> Oławska [09:48:00] [147848]\n",
      "(52) Oławska [09:48:00] --- 7 ---> Wita Stwosza [09:49:00] [147849]\n",
      "(53) Wita Stwosza [09:49:00] --- 7 ---> Ossolineum (Uniwersytecka) [09:50:00] [147850]\n",
      "(54) Ossolineum (Uniwersytecka) [09:50:00] --- 7 ---> Dubois [09:53:00] [147851]\n",
      "(55) Dubois [09:53:00] --- 7 ---> Paulińska [09:55:00] [147852]\n",
      "(56) Paulińska [09:55:00] --- 7 ---> DWORZEC NADODRZE [09:57:00] [147853]\n",
      "(57) DWORZEC NADODRZE [09:57:00] --- 7 ---> Trzebnicka [09:59:00] [147854]\n",
      "(58) Trzebnicka [09:59:00] --- 7 ---> Broniewskiego [10:03:00] [147855]\n",
      "(59) Broniewskiego [10:03:00] --- 7 ---> Kamieńskiego [10:05:00] [147856]\n",
      "(60) Kamieńskiego [10:05:00] --- 7 ---> Kępińska [10:06:00] [147857]\n",
      "(61) Kępińska [10:06:00] --- D ---> Kamieńskiego [10:07:00] [17261]\n",
      "(62) Kamieńskiego [10:07:00] --- D ---> Broniewskiego [10:09:00] [17262]\n",
      "(63) Broniewskiego [10:09:00] --- D ---> Pola [10:10:00] [17263]\n",
      "(64) Pola [10:10:00] --- D ---> Syrokomli [10:11:00] [17264]\n",
      "(65) Syrokomli [10:11:00] --- D ---> Berenta [10:13:00] [17265]\n",
      "(66) Berenta [10:13:00] --- D ---> KROMERA [10:15:00] [17266]\n",
      "(67) KROMERA [10:17:00] --- 118 ---> Kwidzyńska [10:21:00] [569783]\n",
      "(68) Kwidzyńska [10:21:00] --- 121 ---> Zacisze [10:22:00] [595467]\n",
      "(69) Zacisze [10:22:00] --- 121 ---> Śniadeckich [10:23:00] [595468]\n",
      "(70) Śniadeckich [10:23:00] --- 121 ---> Kochanowskiego [10:25:00] [595469]\n",
      "(71) Kochanowskiego [10:25:00] --- 121 ---> Bujwida [10:27:00] [595470]\n",
      "(72) Bujwida [10:27:00] --- 121 ---> PL. GRUNWALDZKI [10:29:00] [595471]\n"
     ]
    }
   ],
   "source": [
    "print_path(sol3)"
   ],
   "metadata": {
    "collapsed": false,
    "ExecuteTime": {
     "end_time": "2024-04-01T19:36:04.258609700Z",
     "start_time": "2024-04-01T19:36:04.246870100Z"
    }
   },
   "id": "590a368c49f4cd7",
   "execution_count": 9
  },
  {
   "cell_type": "code",
   "outputs": [
    {
     "data": {
      "text/plain": "line                                            253\ndeparture_time                             23:10:00\narrival_time                               23:11:00\nstart_stop                          PL. GRUNWALDZKI\nend_stop          Kliniki - Politechnika Wrocławska\nstart_stop_lat                            51.111981\nstart_stop_lon                            17.064034\nend_stop_lat                              51.109283\nend_stop_lon                              17.066162\ndeparture_sec                                 83400\narrival_sec                                   83460\nName: 918837, dtype: object"
     },
     "execution_count": 17,
     "metadata": {},
     "output_type": "execute_result"
    }
   ],
   "source": [
    "g.conn_at_index(918837)"
   ],
   "metadata": {
    "collapsed": false,
    "ExecuteTime": {
     "end_time": "2024-03-25T14:46:10.211773300Z",
     "start_time": "2024-03-25T14:46:10.205876200Z"
    }
   },
   "id": "259cbceb25e32373",
   "execution_count": 17
  },
  {
   "cell_type": "code",
   "outputs": [],
   "source": [
    "from ai_data_eng.searching.initialization import initialize_queue, initialize_with_prev_conn\n",
    "# print_info = a_star_print_info(sec_to_time)\n",
    "cost_so_far = {}\n",
    "# if commuting A -> B, then this will be came_from_conn[B] = A so we can recreate the path\n",
    "came_from_conn = {}\n",
    "stop_conn = {}\n",
    "\n",
    "prev_conn_idx = 278511\n",
    "\n",
    "start_stop = 'most Grunwaldzki'\n",
    "goal_stop = 'Urząd Wojewódzki (Impart)'\n",
    "dep_time = time_to_normalized_sec('08:36:00')\n",
    "frontier = initialize_with_prev_conn(prev_conn_idx, g, cost_so_far, came_from_conn, stop_conn, start_stop, dep_time)"
   ],
   "metadata": {
    "collapsed": false,
    "ExecuteTime": {
     "end_time": "2024-04-01T18:36:42.359905400Z",
     "start_time": "2024-04-01T18:36:42.165172400Z"
    }
   },
   "id": "54ed4c58b4f68de3",
   "execution_count": 6
  },
  {
   "cell_type": "code",
   "outputs": [
    {
     "data": {
      "text/plain": "{'most Grunwaldzki': 0}"
     },
     "execution_count": 30,
     "metadata": {},
     "output_type": "execute_result"
    }
   ],
   "source": [
    "cost_so_far"
   ],
   "metadata": {
    "collapsed": false,
    "ExecuteTime": {
     "end_time": "2024-04-01T18:01:52.627350Z",
     "start_time": "2024-04-01T18:01:52.618155600Z"
    }
   },
   "id": "36e25340e64fe3e",
   "execution_count": 30
  },
  {
   "cell_type": "code",
   "outputs": [
    {
     "data": {
      "text/plain": "{-1: None, 278511: None}"
     },
     "execution_count": 31,
     "metadata": {},
     "output_type": "execute_result"
    }
   ],
   "source": [
    "came_from_conn"
   ],
   "metadata": {
    "collapsed": false,
    "ExecuteTime": {
     "end_time": "2024-04-01T18:01:53.405108900Z",
     "start_time": "2024-04-01T18:01:53.393596Z"
    }
   },
   "id": "42ede6c1eb6a3fb",
   "execution_count": 31
  },
  {
   "cell_type": "code",
   "outputs": [
    {
     "data": {
      "text/plain": "{'most Grunwaldzki': 278511}"
     },
     "execution_count": 32,
     "metadata": {},
     "output_type": "execute_result"
    }
   ],
   "source": [
    "stop_conn"
   ],
   "metadata": {
    "collapsed": false,
    "ExecuteTime": {
     "end_time": "2024-04-01T18:01:54.139837500Z",
     "start_time": "2024-04-01T18:01:54.132021200Z"
    }
   },
   "id": "3eb926e3be7943b0",
   "execution_count": 32
  },
  {
   "cell_type": "code",
   "outputs": [
    {
     "data": {
      "text/plain": "('Kliniki - Politechnika Wrocławska', 51.109283, 17.066162)"
     },
     "execution_count": 33,
     "metadata": {},
     "output_type": "execute_result"
    }
   ],
   "source": [
    "g.stop_as_tuple(g.rename_stop(g.conn_at_index(918837)))"
   ],
   "metadata": {
    "collapsed": false,
    "ExecuteTime": {
     "end_time": "2024-04-01T18:01:54.862327400Z",
     "start_time": "2024-04-01T18:01:54.828216800Z"
    }
   },
   "id": "4c94b7d1e409803f",
   "execution_count": 33
  },
  {
   "cell_type": "code",
   "outputs": [],
   "source": [
    "prev_conn = g.conn_at_index(prev_conn_idx)"
   ],
   "metadata": {
    "collapsed": false,
    "ExecuteTime": {
     "end_time": "2024-04-01T18:01:55.525982800Z",
     "start_time": "2024-04-01T18:01:55.517137500Z"
    }
   },
   "id": "bf3a9bf2f16dcab5",
   "execution_count": 34
  },
  {
   "cell_type": "markdown",
   "source": [
    "278512, 97887, 233196\n"
   ],
   "metadata": {
    "collapsed": false
   },
   "id": "8fb2ffff76daf3de"
  },
  {
   "cell_type": "code",
   "outputs": [
    {
     "data": {
      "text/plain": "       line departure_time arrival_time        start_stop  \\\n240344   13       08:36:00     08:38:00  most Grunwaldzki   \n97887     4       08:37:00     08:39:00  most Grunwaldzki   \n278512   16       08:36:00     08:38:00  most Grunwaldzki   \n\n                         end_stop  start_stop_lat  start_stop_lon  \\\n240344  Urząd Wojewódzki (Impart)       51.110212       17.055385   \n97887   Urząd Wojewódzki (Impart)       51.110212       17.055385   \n278512  Urząd Wojewódzki (Impart)       51.110212       17.055385   \n\n        end_stop_lat  end_stop_lon  departure_sec  arrival_sec  \n240344     51.108637     17.049553          30960        31080  \n97887      51.108637     17.049553          31020        31140  \n278512     51.108637     17.049553          30960        31080  ",
      "text/html": "<div>\n<style scoped>\n    .dataframe tbody tr th:only-of-type {\n        vertical-align: middle;\n    }\n\n    .dataframe tbody tr th {\n        vertical-align: top;\n    }\n\n    .dataframe thead th {\n        text-align: right;\n    }\n</style>\n<table border=\"1\" class=\"dataframe\">\n  <thead>\n    <tr style=\"text-align: right;\">\n      <th></th>\n      <th>line</th>\n      <th>departure_time</th>\n      <th>arrival_time</th>\n      <th>start_stop</th>\n      <th>end_stop</th>\n      <th>start_stop_lat</th>\n      <th>start_stop_lon</th>\n      <th>end_stop_lat</th>\n      <th>end_stop_lon</th>\n      <th>departure_sec</th>\n      <th>arrival_sec</th>\n    </tr>\n  </thead>\n  <tbody>\n    <tr>\n      <th>240344</th>\n      <td>13</td>\n      <td>08:36:00</td>\n      <td>08:38:00</td>\n      <td>most Grunwaldzki</td>\n      <td>Urząd Wojewódzki (Impart)</td>\n      <td>51.110212</td>\n      <td>17.055385</td>\n      <td>51.108637</td>\n      <td>17.049553</td>\n      <td>30960</td>\n      <td>31080</td>\n    </tr>\n    <tr>\n      <th>97887</th>\n      <td>4</td>\n      <td>08:37:00</td>\n      <td>08:39:00</td>\n      <td>most Grunwaldzki</td>\n      <td>Urząd Wojewódzki (Impart)</td>\n      <td>51.110212</td>\n      <td>17.055385</td>\n      <td>51.108637</td>\n      <td>17.049553</td>\n      <td>31020</td>\n      <td>31140</td>\n    </tr>\n    <tr>\n      <th>278512</th>\n      <td>16</td>\n      <td>08:36:00</td>\n      <td>08:38:00</td>\n      <td>most Grunwaldzki</td>\n      <td>Urząd Wojewódzki (Impart)</td>\n      <td>51.110212</td>\n      <td>17.055385</td>\n      <td>51.108637</td>\n      <td>17.049553</td>\n      <td>30960</td>\n      <td>31080</td>\n    </tr>\n  </tbody>\n</table>\n</div>"
     },
     "execution_count": 35,
     "metadata": {},
     "output_type": "execute_result"
    }
   ],
   "source": [
    "g.conn_graph.loc[[240344, 97887, 278512]]"
   ],
   "metadata": {
    "collapsed": false,
    "ExecuteTime": {
     "end_time": "2024-04-01T18:01:56.878847100Z",
     "start_time": "2024-04-01T18:01:56.855733100Z"
    }
   },
   "id": "ec5142d6d6e29ee0",
   "execution_count": 35
  },
  {
   "cell_type": "code",
   "outputs": [
    {
     "data": {
      "text/plain": "       line departure_time arrival_time        start_stop  \\\n277379   16       04:57:00     04:59:00  most Grunwaldzki   \n107188    4       05:01:00     05:03:00  most Grunwaldzki   \n271778   16       05:12:00     05:14:00  most Grunwaldzki   \n107549    4       05:16:00     05:18:00  most Grunwaldzki   \n100605    4       05:17:00     05:19:00  most Grunwaldzki   \n...     ...            ...          ...               ...   \n219138   12       23:19:00     23:20:00  most Grunwaldzki   \n320498   19       23:24:00     23:25:00  most Grunwaldzki   \n231995   13       23:27:00     23:28:00  most Grunwaldzki   \n273793   16       23:32:00     23:33:00  most Grunwaldzki   \n100284    4       23:37:00     23:38:00  most Grunwaldzki   \n\n                         end_stop  start_stop_lat  start_stop_lon  \\\n277379  Urząd Wojewódzki (Impart)       51.110212       17.055385   \n107188  Urząd Wojewódzki (Impart)       51.110212       17.055385   \n271778  Urząd Wojewódzki (Impart)       51.110212       17.055385   \n107549  Urząd Wojewódzki (Impart)       51.110212       17.055385   \n100605  Urząd Wojewódzki (Impart)       51.110212       17.055385   \n...                           ...             ...             ...   \n219138  Urząd Wojewódzki (Impart)       51.110212       17.055385   \n320498  Urząd Wojewódzki (Impart)       51.110212       17.055385   \n231995  Urząd Wojewódzki (Impart)       51.110212       17.055385   \n273793  Urząd Wojewódzki (Impart)       51.110212       17.055385   \n100284  Urząd Wojewódzki (Impart)       51.110212       17.055385   \n\n        end_stop_lat  end_stop_lon  departure_sec  arrival_sec  \n277379     51.108637     17.049553          17820        17940  \n107188     51.108637     17.049553          18060        18180  \n271778     51.108637     17.049553          18720        18840  \n107549     51.108637     17.049553          18960        19080  \n100605     51.108637     17.049553          19020        19140  \n...              ...           ...            ...          ...  \n219138     51.108637     17.049553          83940        84000  \n320498     51.108637     17.049553          84240        84300  \n231995     51.108637     17.049553          84420        84480  \n273793     51.108637     17.049553          84720        84780  \n100284     51.108637     17.049553          85020        85080  \n\n[490 rows x 11 columns]",
      "text/html": "<div>\n<style scoped>\n    .dataframe tbody tr th:only-of-type {\n        vertical-align: middle;\n    }\n\n    .dataframe tbody tr th {\n        vertical-align: top;\n    }\n\n    .dataframe thead th {\n        text-align: right;\n    }\n</style>\n<table border=\"1\" class=\"dataframe\">\n  <thead>\n    <tr style=\"text-align: right;\">\n      <th></th>\n      <th>line</th>\n      <th>departure_time</th>\n      <th>arrival_time</th>\n      <th>start_stop</th>\n      <th>end_stop</th>\n      <th>start_stop_lat</th>\n      <th>start_stop_lon</th>\n      <th>end_stop_lat</th>\n      <th>end_stop_lon</th>\n      <th>departure_sec</th>\n      <th>arrival_sec</th>\n    </tr>\n  </thead>\n  <tbody>\n    <tr>\n      <th>277379</th>\n      <td>16</td>\n      <td>04:57:00</td>\n      <td>04:59:00</td>\n      <td>most Grunwaldzki</td>\n      <td>Urząd Wojewódzki (Impart)</td>\n      <td>51.110212</td>\n      <td>17.055385</td>\n      <td>51.108637</td>\n      <td>17.049553</td>\n      <td>17820</td>\n      <td>17940</td>\n    </tr>\n    <tr>\n      <th>107188</th>\n      <td>4</td>\n      <td>05:01:00</td>\n      <td>05:03:00</td>\n      <td>most Grunwaldzki</td>\n      <td>Urząd Wojewódzki (Impart)</td>\n      <td>51.110212</td>\n      <td>17.055385</td>\n      <td>51.108637</td>\n      <td>17.049553</td>\n      <td>18060</td>\n      <td>18180</td>\n    </tr>\n    <tr>\n      <th>271778</th>\n      <td>16</td>\n      <td>05:12:00</td>\n      <td>05:14:00</td>\n      <td>most Grunwaldzki</td>\n      <td>Urząd Wojewódzki (Impart)</td>\n      <td>51.110212</td>\n      <td>17.055385</td>\n      <td>51.108637</td>\n      <td>17.049553</td>\n      <td>18720</td>\n      <td>18840</td>\n    </tr>\n    <tr>\n      <th>107549</th>\n      <td>4</td>\n      <td>05:16:00</td>\n      <td>05:18:00</td>\n      <td>most Grunwaldzki</td>\n      <td>Urząd Wojewódzki (Impart)</td>\n      <td>51.110212</td>\n      <td>17.055385</td>\n      <td>51.108637</td>\n      <td>17.049553</td>\n      <td>18960</td>\n      <td>19080</td>\n    </tr>\n    <tr>\n      <th>100605</th>\n      <td>4</td>\n      <td>05:17:00</td>\n      <td>05:19:00</td>\n      <td>most Grunwaldzki</td>\n      <td>Urząd Wojewódzki (Impart)</td>\n      <td>51.110212</td>\n      <td>17.055385</td>\n      <td>51.108637</td>\n      <td>17.049553</td>\n      <td>19020</td>\n      <td>19140</td>\n    </tr>\n    <tr>\n      <th>...</th>\n      <td>...</td>\n      <td>...</td>\n      <td>...</td>\n      <td>...</td>\n      <td>...</td>\n      <td>...</td>\n      <td>...</td>\n      <td>...</td>\n      <td>...</td>\n      <td>...</td>\n      <td>...</td>\n    </tr>\n    <tr>\n      <th>219138</th>\n      <td>12</td>\n      <td>23:19:00</td>\n      <td>23:20:00</td>\n      <td>most Grunwaldzki</td>\n      <td>Urząd Wojewódzki (Impart)</td>\n      <td>51.110212</td>\n      <td>17.055385</td>\n      <td>51.108637</td>\n      <td>17.049553</td>\n      <td>83940</td>\n      <td>84000</td>\n    </tr>\n    <tr>\n      <th>320498</th>\n      <td>19</td>\n      <td>23:24:00</td>\n      <td>23:25:00</td>\n      <td>most Grunwaldzki</td>\n      <td>Urząd Wojewódzki (Impart)</td>\n      <td>51.110212</td>\n      <td>17.055385</td>\n      <td>51.108637</td>\n      <td>17.049553</td>\n      <td>84240</td>\n      <td>84300</td>\n    </tr>\n    <tr>\n      <th>231995</th>\n      <td>13</td>\n      <td>23:27:00</td>\n      <td>23:28:00</td>\n      <td>most Grunwaldzki</td>\n      <td>Urząd Wojewódzki (Impart)</td>\n      <td>51.110212</td>\n      <td>17.055385</td>\n      <td>51.108637</td>\n      <td>17.049553</td>\n      <td>84420</td>\n      <td>84480</td>\n    </tr>\n    <tr>\n      <th>273793</th>\n      <td>16</td>\n      <td>23:32:00</td>\n      <td>23:33:00</td>\n      <td>most Grunwaldzki</td>\n      <td>Urząd Wojewódzki (Impart)</td>\n      <td>51.110212</td>\n      <td>17.055385</td>\n      <td>51.108637</td>\n      <td>17.049553</td>\n      <td>84720</td>\n      <td>84780</td>\n    </tr>\n    <tr>\n      <th>100284</th>\n      <td>4</td>\n      <td>23:37:00</td>\n      <td>23:38:00</td>\n      <td>most Grunwaldzki</td>\n      <td>Urząd Wojewódzki (Impart)</td>\n      <td>51.110212</td>\n      <td>17.055385</td>\n      <td>51.108637</td>\n      <td>17.049553</td>\n      <td>85020</td>\n      <td>85080</td>\n    </tr>\n  </tbody>\n</table>\n<p>490 rows × 11 columns</p>\n</div>"
     },
     "execution_count": 36,
     "metadata": {},
     "output_type": "execute_result"
    }
   ],
   "source": [
    "g.conn_graph.loc[(g.conn_graph['start_stop'] == start_stop) & (g.conn_graph['end_stop'] == goal_stop)].sort_values(by=['departure_sec'])"
   ],
   "metadata": {
    "collapsed": false,
    "ExecuteTime": {
     "end_time": "2024-04-01T18:01:57.806059600Z",
     "start_time": "2024-04-01T18:01:57.785608500Z"
    }
   },
   "id": "dd4651f71440b631",
   "execution_count": 36
  },
  {
   "cell_type": "code",
   "outputs": [
    {
     "name": "stdout",
     "output_type": "stream",
     "text": [
      "most Grunwaldzki PL. GRUNWALDZKI 16 1\n",
      "most Grunwaldzki Urząd Wojewódzki (Impart) 13 1\n",
      "most Grunwaldzki PL. GRUNWALDZKI 12 1\n",
      "most Grunwaldzki Urząd Wojewódzki (Impart) 16 0\n",
      "most Grunwaldzki PL. GRUNWALDZKI D 1\n",
      "most Grunwaldzki Urząd Wojewódzki (Impart) 4 1\n",
      "most Grunwaldzki Poczta Główna 145 1\n",
      "most Grunwaldzki PL. GRUNWALDZKI 13 1\n",
      "most Grunwaldzki Poczta Główna D 1\n",
      "most Grunwaldzki PL. GRUNWALDZKI 145 1\n",
      "most Grunwaldzki Poczta Główna 149 1\n",
      "most Grunwaldzki Urząd Wojewódzki (Impart) 12 1\n",
      "most Grunwaldzki PL. GRUNWALDZKI 4 1\n",
      "most Grunwaldzki Poczta Główna 146 1\n",
      "most Grunwaldzki PL. GRUNWALDZKI 146 1\n",
      "most Grunwaldzki PL. GRUNWALDZKI 149 1\n",
      "most Grunwaldzki Urząd Wojewódzki (Impart) 19 1\n",
      "most Grunwaldzki PL. GRUNWALDZKI 19 1\n",
      "most Grunwaldzki Poczta Główna 241 1\n",
      "most Grunwaldzki Urząd Wojewódzki (Muzeum Narodowe) 240 1\n",
      "most Grunwaldzki PL. GRUNWALDZKI 241 1\n"
     ]
    }
   ],
   "source": [
    "for next_conn in g.get_lines_from(prev_conn).itertuples():\n",
    "    # cost of commuting start --> current and current --> next\n",
    "    next_stop = (next_conn.end_stop, next_conn.end_stop_lat, next_conn.end_stop_lon)\n",
    "    print(next_conn.start_stop, next_conn.end_stop, next_conn.line, g.change_cost_between_conns(next_conn=next_conn, prev_conn=prev_conn))"
   ],
   "metadata": {
    "collapsed": false,
    "ExecuteTime": {
     "end_time": "2024-04-01T18:01:58.623022700Z",
     "start_time": "2024-04-01T18:01:58.573993200Z"
    }
   },
   "id": "c6ac6fc8fb374e5b",
   "execution_count": 37
  },
  {
   "cell_type": "code",
   "outputs": [
    {
     "name": "stdout",
     "output_type": "stream",
     "text": [
      "(0) PL. GRUNWALDZKI [08:00:00] --- D ---> Kochanowskiego [08:03:00] [22596]\n",
      "(1) Kochanowskiego [08:03:00] --- D ---> Śniadeckich [08:05:00] [22597]\n",
      "(2) Śniadeckich [08:05:00] --- D ---> Zacisze [08:06:00] [22598]\n",
      "(3) Zacisze [08:06:00] --- D ---> Kwidzyńska [08:08:00] [22599]\n",
      "(4) Kwidzyńska [08:08:00] --- 6 ---> Kętrzyńska [08:09:00] [135055]\n",
      "(5) Kętrzyńska [08:09:00] --- 6 ---> KROMERA [08:11:00] [135056]\n",
      "(6) KROMERA [08:13:00] --- 116 ---> Berenta [08:14:00] [556881]\n",
      "(7) Berenta [08:14:00] --- 116 ---> Kasprowicza [08:15:00] [556882]\n",
      "(8) Kasprowicza [08:15:00] --- 130 ---> Syrokomli [08:16:00] [711637]\n",
      "(9) Syrokomli [08:16:00] --- 130 ---> Pola [08:17:00] [711638]\n",
      "(10) Pola [08:17:00] --- 130 ---> Broniewskiego [08:18:00] [711639]\n",
      "(11) Broniewskiego [08:18:00] --- 118 ---> Bałtycka [08:20:00] [567781]\n",
      "(12) Bałtycka [08:20:00] --- 118 ---> Bezpieczna [08:21:00] [567782]\n",
      "(13) Bezpieczna [08:21:00] --- 602 ---> Paprotna [08:22:00] [933891]\n",
      "(14) Paprotna [08:25:00] --- 111 ---> Obornicka (Wołowska) [08:26:00] [512081]\n",
      "(15) Obornicka (Wołowska) [08:26:00] --- 111 ---> Bezpieczna [08:27:00] [512082]\n",
      "(16) Bezpieczna [08:27:00] --- K ---> Bałtycka [08:29:00] [32288]\n",
      "(17) Bałtycka [08:29:00] --- K ---> Broniewskiego [08:31:00] [32289]\n",
      "(18) Broniewskiego [08:32:00] --- 149 ---> Pola [08:33:00] [871098]\n",
      "(19) Pola [08:33:00] --- 149 ---> Syrokomli [08:34:00] [871099]\n",
      "(20) Syrokomli [08:34:00] --- 149 ---> Berenta [08:36:00] [871100]\n",
      "(21) Berenta [08:37:00] --- 118 ---> pl. Daniłowskiego [08:39:00] [569748]\n",
      "(22) pl. Daniłowskiego [08:40:00] --- 116 ---> Przybyszewskiego [08:41:00] [558574]\n",
      "(23) Przybyszewskiego [08:41:00] --- 116 ---> Czajkowskiego [08:42:00] [558575]\n",
      "(24) Czajkowskiego [08:42:00] --- 116 ---> Koszarowa [08:44:00] [558576]\n",
      "(25) Koszarowa [08:47:00] --- 116 ---> KOSZAROWA (Szpital) [08:48:00] [559320]\n",
      "(26) KOSZAROWA (Szpital) [08:48:00] --- 116 ---> pl. Daniłowskiego [08:51:00] [559321]\n",
      "(27) pl. Daniłowskiego [08:51:00] --- 130 ---> Berenta [08:52:00] [715929]\n",
      "(28) Berenta [08:52:00] --- 130 ---> KROMERA [08:57:00] [715930]\n",
      "(29) KROMERA [08:57:00] --- 23 ---> Mosty Warszawskie [08:59:00] [382992]\n",
      "(30) Mosty Warszawskie [09:00:00] --- 128 ---> Wyszyńskiego [09:02:00] [679764]\n",
      "(31) Wyszyńskiego [09:02:00] --- 128 ---> Ogród Botaniczny [09:05:00] [679765]\n",
      "(32) Ogród Botaniczny [09:09:00] --- N ---> Katedra [09:10:00] [47415]\n",
      "(33) Katedra [09:10:00] --- N ---> Urząd Wojewódzki (Muzeum Narodowe) [09:11:00] [47416]\n",
      "(34) Urząd Wojewódzki (Muzeum Narodowe) [09:11:00] --- N ---> Poczta Główna [09:12:00] [47417]\n",
      "(35) Poczta Główna [09:12:00] --- 149 ---> skwer Krasińskiego [09:15:00] [873089]\n",
      "(36) skwer Krasińskiego [09:15:00] --- 149 ---> Wzgórze Partyzantów [09:16:00] [873090]\n",
      "(37) Wzgórze Partyzantów [09:16:00] --- 149 ---> Renoma [09:18:00] [873091]\n",
      "(38) Renoma [09:19:00] --- 7 ---> Arkady (Capitol) [09:21:00] [139927]\n",
      "(39) Arkady (Capitol) [09:21:00] --- 7 ---> Zaolziańska [09:23:00] [139928]\n",
      "(40) Zaolziańska [09:23:00] --- 7 ---> Wielka [09:24:00] [139929]\n",
      "(41) Wielka [09:24:00] --- 7 ---> Rondo [09:25:00] [139930]\n",
      "(42) Rondo [09:25:00] --- 124 ---> Krucza [09:28:00] [622419]\n",
      "(43) Krucza [09:29:00] --- 144 ---> Żelazna [09:31:00] [817138]\n",
      "(44) Żelazna [09:31:00] --- 144 ---> Zaporoska [09:33:00] [817139]\n",
      "(45) Zaporoska [09:33:00] --- 144 ---> Zielińskiego [09:34:00] [817140]\n",
      "(46) Zielińskiego [09:34:00] --- 144 ---> Piłsudskiego [09:36:00] [817141]\n",
      "(47) Piłsudskiego [09:36:00] --- 144 ---> pl. Orląt Lwowskich [09:38:00] [817142]\n",
      "(48) pl. Orląt Lwowskich [09:39:00] --- 149 ---> Renoma [09:41:00] [870112]\n",
      "(49) Renoma [09:44:00] --- 7 ---> Opera [09:45:00] [147846]\n",
      "(50) Opera [09:45:00] --- 7 ---> ŚWIDNICKA (Dom Europy) [09:46:00] [147847]\n",
      "(51) ŚWIDNICKA (Dom Europy) [09:46:00] --- 7 ---> Oławska [09:48:00] [147848]\n",
      "(52) Oławska [09:48:00] --- 7 ---> Wita Stwosza [09:49:00] [147849]\n",
      "(53) Wita Stwosza [09:49:00] --- 7 ---> Ossolineum (Uniwersytecka) [09:50:00] [147850]\n",
      "(54) Ossolineum (Uniwersytecka) [09:50:00] --- 7 ---> Dubois [09:53:00] [147851]\n",
      "(55) Dubois [09:53:00] --- 7 ---> Paulińska [09:55:00] [147852]\n",
      "(56) Paulińska [09:55:00] --- 7 ---> DWORZEC NADODRZE [09:57:00] [147853]\n",
      "(57) DWORZEC NADODRZE [09:57:00] --- 7 ---> Trzebnicka [09:59:00] [147854]\n",
      "(58) Trzebnicka [09:59:00] --- 7 ---> Broniewskiego [10:03:00] [147855]\n",
      "(59) Broniewskiego [10:03:00] --- 7 ---> Kamieńskiego [10:05:00] [147856]\n",
      "(60) Kamieńskiego [10:05:00] --- 7 ---> Kępińska [10:06:00] [147857]\n",
      "(61) Kępińska [10:06:00] --- D ---> Kamieńskiego [10:07:00] [17261]\n",
      "(62) Kamieńskiego [10:07:00] --- D ---> Broniewskiego [10:09:00] [17262]\n",
      "(63) Broniewskiego [10:09:00] --- D ---> Pola [10:10:00] [17263]\n",
      "(64) Pola [10:10:00] --- D ---> Syrokomli [10:11:00] [17264]\n",
      "(65) Syrokomli [10:11:00] --- D ---> Berenta [10:13:00] [17265]\n",
      "(66) Berenta [10:13:00] --- D ---> KROMERA [10:15:00] [17266]\n",
      "(67) KROMERA [10:17:00] --- 118 ---> Kwidzyńska [10:21:00] [569783]\n",
      "(68) Kwidzyńska [10:21:00] --- 121 ---> Zacisze [10:22:00] [595467]\n",
      "(69) Zacisze [10:22:00] --- 121 ---> Śniadeckich [10:23:00] [595468]\n",
      "(70) Śniadeckich [10:23:00] --- 121 ---> Kochanowskiego [10:25:00] [595469]\n",
      "(71) Kochanowskiego [10:25:00] --- 121 ---> Bujwida [10:27:00] [595470]\n",
      "(72) Bujwida [10:27:00] --- 121 ---> PL. GRUNWALDZKI [10:29:00] [595471]\n"
     ]
    }
   ],
   "source": [
    "print_path(sol3)"
   ],
   "metadata": {
    "collapsed": false,
    "ExecuteTime": {
     "end_time": "2024-04-01T19:36:19.677075800Z",
     "start_time": "2024-04-01T19:36:19.664507600Z"
    }
   },
   "id": "ea5f3ea2560eef46",
   "execution_count": 10
  },
  {
   "cell_type": "code",
   "outputs": [],
   "source": [
    "a_star = get_a_star(OptimizationType.TIME)\n",
    "conn_path = get_connection_path(OptimizationType.TIME)\n",
    "\n",
    "def conn_e_i_e_j(connections, i, j):\n",
    "    goal_index, came_from, _ = a_star(start_stop=connections[i].start_stop, goal_stop=connections[j].end_stop, leave_hour=sec_to_time(connections[i - 1].arrival_sec), prev_conn_idx=connections[i - 1].name if i > 0 else None)\n",
    "    g.reset()\n",
    "    return conn_path(goal_index, came_from)\n",
    "\n",
    "def conn_e_j_e_i(i_conn, j_conn):\n",
    "    goal_index, came_from, _ = a_star(start_stop=j_conn.end_stop, goal_stop=i_conn.end_stop, leave_hour=sec_to_time(j_conn.arrival_sec), prev_conn_idx=j_conn.name)\n",
    "    g.reset()\n",
    "    return conn_path(goal_index, came_from)\n",
    "\n",
    "\n",
    "\n",
    "def swap_conns(connections, i, j, criterion: OptimizationType):\n",
    "    # start stop of i --- > end stop of j\n",
    "    # end stop of i ---> start stop of j + 1\n",
    "    # end stop of j ---> start stop of i + 1 \n",
    "    a_star = get_a_star(criterion)\n",
    "    conn_path = get_connection_path(criterion)\n",
    "    conn_s_i_e_j = a_star(start_stop=connections[i].start_stop, goal_stop=connections[j].end_stop, leave_hour=sec_to_time(connections[i].departure_sec), prev_conn_idx=connections[i - 1] if i > 0 else None)\n",
    "    "
   ],
   "metadata": {
    "collapsed": false,
    "ExecuteTime": {
     "end_time": "2024-04-01T19:36:21.419970500Z",
     "start_time": "2024-04-01T19:36:21.399973900Z"
    }
   },
   "id": "e4488883731690c",
   "execution_count": 11
  },
  {
   "cell_type": "code",
   "outputs": [],
   "source": [
    "sol_a = conn_e_i_e_j(sol3, 0, 30)"
   ],
   "metadata": {
    "collapsed": false,
    "ExecuteTime": {
     "end_time": "2024-04-01T20:19:59.875423400Z",
     "start_time": "2024-04-01T20:19:58.785378400Z"
    }
   },
   "id": "1948a832e73ce54",
   "execution_count": 46
  },
  {
   "cell_type": "code",
   "outputs": [
    {
     "name": "stdout",
     "output_type": "stream",
     "text": [
      "(0) PL. GRUNWALDZKI [10:30:00] --- 16 ---> Piastowska [10:32:00] [279406]\n",
      "(1) Piastowska [10:32:00] --- 16 ---> Prusa [10:34:00] [279407]\n",
      "(2) Prusa [10:34:00] --- 16 ---> Wyszyńskiego [10:35:00] [279408]\n",
      "(3) Wyszyńskiego [10:35:00] --- 16 ---> Nowowiejska [10:37:00] [279409]\n",
      "(4) Nowowiejska [10:38:00] --- 23 ---> Daszyńskiego [10:39:00] [383047]\n",
      "(5) Daszyńskiego [10:40:00] --- 111 ---> Słonimskiego [10:41:00] [514575]\n",
      "(6) Słonimskiego [10:41:00] --- 111 ---> Zakładowa [10:42:00] [514576]\n",
      "(7) Zakładowa [10:42:00] --- 111 ---> Broniewskiego [10:45:00] [514577]\n",
      "(8) Broniewskiego [10:45:00] --- 111 ---> Bałtycka [10:47:00] [514578]\n",
      "(9) Bałtycka [10:47:00] --- 111 ---> Bezpieczna [10:49:00] [514579]\n"
     ]
    }
   ],
   "source": [
    "print_path(sol_a)"
   ],
   "metadata": {
    "collapsed": false,
    "ExecuteTime": {
     "end_time": "2024-04-01T19:36:28.111434800Z",
     "start_time": "2024-04-01T19:36:28.095486900Z"
    }
   },
   "id": "6dfec62f886bfdde",
   "execution_count": 13
  },
  {
   "cell_type": "code",
   "outputs": [],
   "source": [
    "sol_b = conn_e_j_e_i(sol3[0], sol_a[-1])"
   ],
   "metadata": {
    "collapsed": false,
    "ExecuteTime": {
     "end_time": "2024-04-01T19:37:02.325976400Z",
     "start_time": "2024-04-01T19:36:57.020631300Z"
    }
   },
   "id": "4a7af5fbf4731f94",
   "execution_count": 14
  },
  {
   "cell_type": "code",
   "outputs": [
    {
     "name": "stdout",
     "output_type": "stream",
     "text": [
      "(0) Bezpieczna [10:51:00] --- 105 ---> Bałtycka (szkoła) [10:52:00] [453526]\n",
      "(1) Bałtycka (szkoła) [10:52:00] --- 105 ---> Bałtycka [10:53:00] [453527]\n",
      "(2) Bałtycka [10:53:00] --- 105 ---> Broniewskiego [10:55:00] [453528]\n",
      "(3) Broniewskiego [10:57:00] --- 111 ---> Zakładowa [10:59:00] [504670]\n",
      "(4) Zakładowa [10:59:00] --- 111 ---> Słonimskiego [11:00:00] [504671]\n",
      "(5) Słonimskiego [11:00:00] --- 111 ---> Daszyńskiego [11:02:00] [504672]\n",
      "(6) Daszyńskiego [11:02:00] --- 111 ---> Nowowiejska [11:04:00] [504673]\n",
      "(7) Nowowiejska [11:04:00] --- 16 ---> Wyszyńskiego [11:06:00] [273249]\n",
      "(8) Wyszyńskiego [11:06:00] --- 16 ---> Prusa [11:07:00] [273250]\n",
      "(9) Prusa [11:07:00] --- 16 ---> Piastowska [11:09:00] [273251]\n",
      "(10) Piastowska [11:11:00] --- 9 ---> Grunwaldzka [11:12:00] [173584]\n",
      "(11) Grunwaldzka [11:12:00] --- 9 ---> Kochanowskiego [11:14:00] [173585]\n"
     ]
    }
   ],
   "source": [
    "print_path(sol_b)"
   ],
   "metadata": {
    "collapsed": false,
    "ExecuteTime": {
     "end_time": "2024-04-01T19:37:05.411936900Z",
     "start_time": "2024-04-01T19:37:05.401895300Z"
    }
   },
   "id": "fd4ebecdcde2da2",
   "execution_count": 15
  },
  {
   "cell_type": "code",
   "outputs": [
    {
     "name": "stdout",
     "output_type": "stream",
     "text": [
      "(0) Kochanowskiego [11:15:00] --- 17 ---> Grunwaldzka [11:16:00] [286807]\n",
      "(1) Grunwaldzka [11:16:00] --- 17 ---> Piastowska [11:17:00] [286808]\n",
      "(2) Piastowska [11:17:00] --- 16 ---> Prusa [11:19:00] [278670]\n",
      "(3) Prusa [11:19:00] --- 16 ---> Wyszyńskiego [11:20:00] [278671]\n",
      "(4) Wyszyńskiego [11:20:00] --- 16 ---> Nowowiejska [11:22:00] [278672]\n",
      "(5) Nowowiejska [11:24:00] --- 6 ---> Daszyńskiego [11:25:00] [133852]\n",
      "(6) Daszyńskiego [11:25:00] --- 111 ---> Słonimskiego [11:26:00] [513702]\n",
      "(7) Słonimskiego [11:26:00] --- 111 ---> Zakładowa [11:27:00] [513703]\n",
      "(8) Zakładowa [11:27:00] --- 111 ---> Broniewskiego [11:30:00] [513704]\n",
      "(9) Broniewskiego [11:30:00] --- 111 ---> Bałtycka [11:32:00] [513705]\n"
     ]
    }
   ],
   "source": [
    "print_path(conn_e_j_e_i(sol3[16], sol_b[-1]))"
   ],
   "metadata": {
    "collapsed": false,
    "ExecuteTime": {
     "end_time": "2024-04-01T19:37:11.937688600Z",
     "start_time": "2024-04-01T19:37:08.049505400Z"
    }
   },
   "id": "66a6b790b7a4a855",
   "execution_count": 16
  },
  {
   "cell_type": "code",
   "outputs": [
    {
     "data": {
      "text/plain": "line                        111\ndeparture_time         11:30:00\narrival_time           11:32:00\nstart_stop        Broniewskiego\nend_stop               Bałtycka\nstart_stop_lat        51.135904\nstart_stop_lon        17.035327\nend_stop_lat          51.138282\nend_stop_lon          17.029374\ndeparture_sec             41400\narrival_sec               41520\nName: 513705, dtype: object"
     },
     "execution_count": 17,
     "metadata": {},
     "output_type": "execute_result"
    }
   ],
   "source": [
    "g.conn_at_index(513705)"
   ],
   "metadata": {
    "collapsed": false,
    "ExecuteTime": {
     "end_time": "2024-04-01T19:37:22.751700300Z",
     "start_time": "2024-04-01T19:37:22.739236500Z"
    }
   },
   "id": "ffaba15ce2ff9fe9",
   "execution_count": 17
  },
  {
   "cell_type": "code",
   "outputs": [
    {
     "data": {
      "text/plain": "line                          K\ndeparture_time         08:29:00\narrival_time           08:31:00\nstart_stop             Bałtycka\nend_stop          Broniewskiego\nstart_stop_lat        51.136632\nstart_stop_lon        17.030617\nend_stop_lat          51.136343\nend_stop_lon          17.036687\ndeparture_sec             30540\narrival_sec               30660\nName: 32289, dtype: object"
     },
     "execution_count": 18,
     "metadata": {},
     "output_type": "execute_result"
    }
   ],
   "source": [
    "g.conn_at_index(32289)"
   ],
   "metadata": {
    "collapsed": false,
    "ExecuteTime": {
     "end_time": "2024-04-01T19:37:25.474964100Z",
     "start_time": "2024-04-01T19:37:25.464349200Z"
    }
   },
   "id": "457d17e4a8bdfb43",
   "execution_count": 18
  },
  {
   "cell_type": "code",
   "outputs": [],
   "source": [
    "new_conn = g.get_earliest_from_to(g.conn_at_index(513705), g.conn_at_index(32289)).iloc[0]"
   ],
   "metadata": {
    "collapsed": false,
    "ExecuteTime": {
     "end_time": "2024-04-01T19:57:16.860376300Z",
     "start_time": "2024-04-01T19:57:16.791350Z"
    }
   },
   "id": "5dcfb14ba8a2d800",
   "execution_count": 21
  },
  {
   "cell_type": "code",
   "outputs": [
    {
     "data": {
      "text/plain": "line                        118\ndeparture_time         11:34:00\narrival_time           11:36:00\nstart_stop             Bałtycka\nend_stop          Broniewskiego\nstart_stop_lat        51.136632\nstart_stop_lon        17.030617\nend_stop_lat          51.135851\nend_stop_lon          17.037383\ndeparture_sec             41640\narrival_sec               41760\nName: 570614, dtype: object"
     },
     "execution_count": 23,
     "metadata": {},
     "output_type": "execute_result"
    }
   ],
   "source": [
    "new_conn"
   ],
   "metadata": {
    "collapsed": false,
    "ExecuteTime": {
     "end_time": "2024-04-01T19:58:06.926205Z",
     "start_time": "2024-04-01T19:58:06.921759100Z"
    }
   },
   "id": "3d5e6d7291791842",
   "execution_count": 23
  },
  {
   "cell_type": "code",
   "outputs": [
    {
     "data": {
      "text/plain": "       line departure_time arrival_time     start_stop end_stop  \\\n570615  118       11:36:00     11:37:00  Broniewskiego     Pola   \n\n        start_stop_lat  start_stop_lon  end_stop_lat  end_stop_lon  \\\n570615       51.135851       17.037383     51.136749     17.044698   \n\n        departure_sec  arrival_sec  \n570615          41760        41820  ",
      "text/html": "<div>\n<style scoped>\n    .dataframe tbody tr th:only-of-type {\n        vertical-align: middle;\n    }\n\n    .dataframe tbody tr th {\n        vertical-align: top;\n    }\n\n    .dataframe thead th {\n        text-align: right;\n    }\n</style>\n<table border=\"1\" class=\"dataframe\">\n  <thead>\n    <tr style=\"text-align: right;\">\n      <th></th>\n      <th>line</th>\n      <th>departure_time</th>\n      <th>arrival_time</th>\n      <th>start_stop</th>\n      <th>end_stop</th>\n      <th>start_stop_lat</th>\n      <th>start_stop_lon</th>\n      <th>end_stop_lat</th>\n      <th>end_stop_lon</th>\n      <th>departure_sec</th>\n      <th>arrival_sec</th>\n    </tr>\n  </thead>\n  <tbody>\n    <tr>\n      <th>570615</th>\n      <td>118</td>\n      <td>11:36:00</td>\n      <td>11:37:00</td>\n      <td>Broniewskiego</td>\n      <td>Pola</td>\n      <td>51.135851</td>\n      <td>17.037383</td>\n      <td>51.136749</td>\n      <td>17.044698</td>\n      <td>41760</td>\n      <td>41820</td>\n    </tr>\n  </tbody>\n</table>\n</div>"
     },
     "execution_count": 22,
     "metadata": {},
     "output_type": "execute_result"
    }
   ],
   "source": [
    "g.get_earliest_from_to(new_conn, g.conn_at_index(871098))"
   ],
   "metadata": {
    "collapsed": false,
    "ExecuteTime": {
     "end_time": "2024-04-01T19:58:03.162283700Z",
     "start_time": "2024-04-01T19:58:03.111594Z"
    }
   },
   "id": "21bd156f2047497e",
   "execution_count": 22
  },
  {
   "cell_type": "code",
   "outputs": [],
   "source": [
    "def swap_connections(connections, i, j):\n",
    "    solution = connections[:i]\n",
    "    sol_a = conn_e_i_e_j(sol3, i, j)\n",
    "    sol_b = conn_e_j_e_i(connections[i], sol_a[-1])\n",
    "    sol_c = conn_e_j_e_i(sol3[j + 1], sol_b[-1])\n",
    "    solution += sol_a + sol_b + sol_c\n",
    "    prev_conn = sol_c[-1]\n",
    "    for conn in connections[j:]:\n",
    "        new_conn = g.get_earliest_from_to(prev_conn, conn).iloc[0]\n",
    "        solution.append(new_conn)\n",
    "        prev_conn = new_conn\n",
    "    return solution"
   ],
   "metadata": {
    "collapsed": false,
    "ExecuteTime": {
     "end_time": "2024-04-01T20:21:01.476509700Z",
     "start_time": "2024-04-01T20:21:01.461510300Z"
    }
   },
   "id": "fc802be8bd2419ba",
   "execution_count": 54
  },
  {
   "cell_type": "code",
   "outputs": [],
   "source": [
    "swapped_sol3 = swap_connections(sol3, 10, 20)"
   ],
   "metadata": {
    "collapsed": false,
    "ExecuteTime": {
     "end_time": "2024-04-01T20:21:10.141679300Z",
     "start_time": "2024-04-01T20:21:04.829815Z"
    }
   },
   "id": "ac6abafa0160b09e",
   "execution_count": 55
  },
  {
   "cell_type": "code",
   "outputs": [
    {
     "data": {
      "text/plain": "['Paprotna',\n 'Czajkowskiego',\n 'Ogród Botaniczny',\n 'Krucza',\n 'Renoma',\n 'Kępińska']"
     },
     "execution_count": 56,
     "metadata": {},
     "output_type": "execute_result"
    }
   ],
   "source": [
    "vis_stops"
   ],
   "metadata": {
    "collapsed": false,
    "ExecuteTime": {
     "end_time": "2024-04-01T20:21:11.860162500Z",
     "start_time": "2024-04-01T20:21:11.847902200Z"
    }
   },
   "id": "eeaa95d4cc9f6c7e",
   "execution_count": 56
  },
  {
   "cell_type": "code",
   "outputs": [
    {
     "data": {
      "text/plain": "(5, {'Paprotna'})"
     },
     "execution_count": 57,
     "metadata": {},
     "output_type": "execute_result"
    }
   ],
   "source": [
    "get_matched_stops(swapped_sol3, vis_stops)"
   ],
   "metadata": {
    "collapsed": false,
    "ExecuteTime": {
     "end_time": "2024-04-01T20:21:12.760707900Z",
     "start_time": "2024-04-01T20:21:12.750619600Z"
    }
   },
   "id": "ee73bd849c11fc57",
   "execution_count": 57
  },
  {
   "cell_type": "code",
   "outputs": [
    {
     "data": {
      "text/plain": "(6, set())"
     },
     "execution_count": 58,
     "metadata": {},
     "output_type": "execute_result"
    }
   ],
   "source": [
    "get_matched_stops(sol3, vis_stops)"
   ],
   "metadata": {
    "collapsed": false,
    "ExecuteTime": {
     "end_time": "2024-04-01T20:21:13.720419600Z",
     "start_time": "2024-04-01T20:21:13.704541300Z"
    }
   },
   "id": "eb9e08fd929ce1f4",
   "execution_count": 58
  },
  {
   "cell_type": "code",
   "outputs": [
    {
     "name": "stdout",
     "output_type": "stream",
     "text": [
      "(0) PL. GRUNWALDZKI [08:00:00] --- D ---> Kochanowskiego [08:03:00] [22596]\n",
      "(1) Kochanowskiego [08:03:00] --- D ---> Śniadeckich [08:05:00] [22597]\n",
      "(2) Śniadeckich [08:05:00] --- D ---> Zacisze [08:06:00] [22598]\n",
      "(3) Zacisze [08:06:00] --- D ---> Kwidzyńska [08:08:00] [22599]\n",
      "(4) Kwidzyńska [08:08:00] --- 6 ---> Kętrzyńska [08:09:00] [135055]\n",
      "(5) Kętrzyńska [08:09:00] --- 6 ---> KROMERA [08:11:00] [135056]\n",
      "(6) KROMERA [08:13:00] --- 116 ---> Berenta [08:14:00] [556881]\n",
      "(7) Berenta [08:14:00] --- 116 ---> Kasprowicza [08:15:00] [556882]\n",
      "(8) Kasprowicza [08:15:00] --- 130 ---> Syrokomli [08:16:00] [711637]\n",
      "(9) Syrokomli [08:16:00] --- 130 ---> Pola [08:17:00] [711638]\n",
      "(10) Pola [08:17:00] --- 130 ---> Broniewskiego [08:18:00] [711639]\n",
      "(11) Broniewskiego [08:18:00] --- 118 ---> Bałtycka [08:20:00] [567781]\n",
      "(12) Bałtycka [08:20:00] --- 118 ---> Bezpieczna [08:21:00] [567782]\n",
      "(13) Bezpieczna [08:21:00] --- 602 ---> Paprotna [08:22:00] [933891]\n",
      "(14) Paprotna [08:25:00] --- 111 ---> Obornicka (Wołowska) [08:26:00] [512081]\n",
      "(15) Obornicka (Wołowska) [08:26:00] --- 111 ---> Bezpieczna [08:27:00] [512082]\n",
      "(16) Bezpieczna [08:27:00] --- K ---> Bałtycka [08:29:00] [32288]\n",
      "(17) Bałtycka [08:29:00] --- K ---> Broniewskiego [08:31:00] [32289]\n",
      "(18) Broniewskiego [08:32:00] --- 149 ---> Pola [08:33:00] [871098]\n",
      "(19) Pola [08:33:00] --- 149 ---> Syrokomli [08:34:00] [871099]\n",
      "(20) Syrokomli [08:34:00] --- 149 ---> Berenta [08:36:00] [871100]\n",
      "(21) Berenta [08:37:00] --- 118 ---> pl. Daniłowskiego [08:39:00] [569748]\n",
      "(22) pl. Daniłowskiego [08:40:00] --- 116 ---> Przybyszewskiego [08:41:00] [558574]\n",
      "(23) Przybyszewskiego [08:41:00] --- 116 ---> Czajkowskiego [08:42:00] [558575]\n",
      "(24) Czajkowskiego [08:42:00] --- 116 ---> Koszarowa [08:44:00] [558576]\n",
      "(25) Koszarowa [08:47:00] --- 116 ---> KOSZAROWA (Szpital) [08:48:00] [559320]\n",
      "(26) KOSZAROWA (Szpital) [08:48:00] --- 116 ---> pl. Daniłowskiego [08:51:00] [559321]\n",
      "(27) pl. Daniłowskiego [08:51:00] --- 130 ---> Berenta [08:52:00] [715929]\n",
      "(28) Berenta [08:52:00] --- 130 ---> KROMERA [08:57:00] [715930]\n",
      "(29) KROMERA [08:57:00] --- 23 ---> Mosty Warszawskie [08:59:00] [382992]\n",
      "(30) Mosty Warszawskie [09:00:00] --- 128 ---> Wyszyńskiego [09:02:00] [679764]\n",
      "(31) Wyszyńskiego [09:02:00] --- 128 ---> Ogród Botaniczny [09:05:00] [679765]\n",
      "(32) Ogród Botaniczny [09:09:00] --- N ---> Katedra [09:10:00] [47415]\n",
      "(33) Katedra [09:10:00] --- N ---> Urząd Wojewódzki (Muzeum Narodowe) [09:11:00] [47416]\n",
      "(34) Urząd Wojewódzki (Muzeum Narodowe) [09:11:00] --- N ---> Poczta Główna [09:12:00] [47417]\n",
      "(35) Poczta Główna [09:12:00] --- 149 ---> skwer Krasińskiego [09:15:00] [873089]\n",
      "(36) skwer Krasińskiego [09:15:00] --- 149 ---> Wzgórze Partyzantów [09:16:00] [873090]\n",
      "(37) Wzgórze Partyzantów [09:16:00] --- 149 ---> Renoma [09:18:00] [873091]\n",
      "(38) Renoma [09:19:00] --- 7 ---> Arkady (Capitol) [09:21:00] [139927]\n",
      "(39) Arkady (Capitol) [09:21:00] --- 7 ---> Zaolziańska [09:23:00] [139928]\n",
      "(40) Zaolziańska [09:23:00] --- 7 ---> Wielka [09:24:00] [139929]\n",
      "(41) Wielka [09:24:00] --- 7 ---> Rondo [09:25:00] [139930]\n",
      "(42) Rondo [09:25:00] --- 124 ---> Krucza [09:28:00] [622419]\n",
      "(43) Krucza [09:29:00] --- 144 ---> Żelazna [09:31:00] [817138]\n",
      "(44) Żelazna [09:31:00] --- 144 ---> Zaporoska [09:33:00] [817139]\n",
      "(45) Zaporoska [09:33:00] --- 144 ---> Zielińskiego [09:34:00] [817140]\n",
      "(46) Zielińskiego [09:34:00] --- 144 ---> Piłsudskiego [09:36:00] [817141]\n",
      "(47) Piłsudskiego [09:36:00] --- 144 ---> pl. Orląt Lwowskich [09:38:00] [817142]\n",
      "(48) pl. Orląt Lwowskich [09:39:00] --- 149 ---> Renoma [09:41:00] [870112]\n",
      "(49) Renoma [09:44:00] --- 7 ---> Opera [09:45:00] [147846]\n",
      "(50) Opera [09:45:00] --- 7 ---> ŚWIDNICKA (Dom Europy) [09:46:00] [147847]\n",
      "(51) ŚWIDNICKA (Dom Europy) [09:46:00] --- 7 ---> Oławska [09:48:00] [147848]\n",
      "(52) Oławska [09:48:00] --- 7 ---> Wita Stwosza [09:49:00] [147849]\n",
      "(53) Wita Stwosza [09:49:00] --- 7 ---> Ossolineum (Uniwersytecka) [09:50:00] [147850]\n",
      "(54) Ossolineum (Uniwersytecka) [09:50:00] --- 7 ---> Dubois [09:53:00] [147851]\n",
      "(55) Dubois [09:53:00] --- 7 ---> Paulińska [09:55:00] [147852]\n",
      "(56) Paulińska [09:55:00] --- 7 ---> DWORZEC NADODRZE [09:57:00] [147853]\n",
      "(57) DWORZEC NADODRZE [09:57:00] --- 7 ---> Trzebnicka [09:59:00] [147854]\n",
      "(58) Trzebnicka [09:59:00] --- 7 ---> Broniewskiego [10:03:00] [147855]\n",
      "(59) Broniewskiego [10:03:00] --- 7 ---> Kamieńskiego [10:05:00] [147856]\n",
      "(60) Kamieńskiego [10:05:00] --- 7 ---> Kępińska [10:06:00] [147857]\n",
      "(61) Kępińska [10:06:00] --- D ---> Kamieńskiego [10:07:00] [17261]\n",
      "(62) Kamieńskiego [10:07:00] --- D ---> Broniewskiego [10:09:00] [17262]\n",
      "(63) Broniewskiego [10:09:00] --- D ---> Pola [10:10:00] [17263]\n",
      "(64) Pola [10:10:00] --- D ---> Syrokomli [10:11:00] [17264]\n",
      "(65) Syrokomli [10:11:00] --- D ---> Berenta [10:13:00] [17265]\n",
      "(66) Berenta [10:13:00] --- D ---> KROMERA [10:15:00] [17266]\n",
      "(67) KROMERA [10:17:00] --- 118 ---> Kwidzyńska [10:21:00] [569783]\n",
      "(68) Kwidzyńska [10:21:00] --- 121 ---> Zacisze [10:22:00] [595467]\n",
      "(69) Zacisze [10:22:00] --- 121 ---> Śniadeckich [10:23:00] [595468]\n",
      "(70) Śniadeckich [10:23:00] --- 121 ---> Kochanowskiego [10:25:00] [595469]\n",
      "(71) Kochanowskiego [10:25:00] --- 121 ---> Bujwida [10:27:00] [595470]\n",
      "(72) Bujwida [10:27:00] --- 121 ---> PL. GRUNWALDZKI [10:29:00] [595471]\n"
     ]
    }
   ],
   "source": [
    "print_path(sol3)"
   ],
   "metadata": {
    "collapsed": false,
    "ExecuteTime": {
     "end_time": "2024-04-01T20:24:36.210029500Z",
     "start_time": "2024-04-01T20:24:36.195137100Z"
    }
   },
   "id": "c2acd93baab0a6ef",
   "execution_count": 60
  },
  {
   "cell_type": "code",
   "outputs": [
    {
     "name": "stdout",
     "output_type": "stream",
     "text": [
      "(0) PL. GRUNWALDZKI [08:00:00] --- D ---> Kochanowskiego [08:03:00] [22596]\n",
      "(1) Kochanowskiego [08:03:00] --- D ---> Śniadeckich [08:05:00] [22597]\n",
      "(2) Śniadeckich [08:05:00] --- D ---> Zacisze [08:06:00] [22598]\n",
      "(3) Zacisze [08:06:00] --- D ---> Kwidzyńska [08:08:00] [22599]\n",
      "(4) Kwidzyńska [08:08:00] --- 6 ---> Kętrzyńska [08:09:00] [135055]\n",
      "(5) Kętrzyńska [08:09:00] --- 6 ---> KROMERA [08:11:00] [135056]\n",
      "(6) KROMERA [08:13:00] --- 116 ---> Berenta [08:14:00] [556881]\n",
      "(7) Berenta [08:14:00] --- 116 ---> Kasprowicza [08:15:00] [556882]\n",
      "(8) Kasprowicza [08:15:00] --- 130 ---> Syrokomli [08:16:00] [711637]\n",
      "(9) Syrokomli [08:16:00] --- 130 ---> Pola [08:17:00] [711638]\n",
      "(10) Pola [08:17:00] --- 130 ---> Syrokomli [08:18:00] [715449]\n",
      "(11) Syrokomli [08:18:00] --- 130 ---> Kasprowicza [08:19:00] [715450]\n",
      "(12) Kasprowicza [08:19:00] --- 130 ---> pl. Daniłowskiego [08:21:00] [715451]\n",
      "(13) pl. Daniłowskiego [08:21:00] --- 130 ---> Berenta [08:22:00] [715452]\n",
      "(14) Berenta [08:23:00] --- 116 ---> Kasprowicza [08:24:00] [560152]\n",
      "(15) Kasprowicza [08:25:00] --- D ---> Syrokomli [08:26:00] [21822]\n",
      "(16) Syrokomli [08:26:00] --- D ---> Pola [08:27:00] [21823]\n",
      "(17) Pola [08:27:00] --- D ---> Broniewskiego [08:29:00] [21824]\n",
      "(18) Broniewskiego [08:29:00] --- 132 ---> Pola [08:30:00] [733796]\n",
      "(19) Pola [08:30:00] --- 132 ---> Syrokomli [08:31:00] [733797]\n",
      "(20) Syrokomli [08:31:00] --- 132 ---> Kasprowicza [08:32:00] [733798]\n",
      "(21) Kasprowicza [08:32:00] --- 132 ---> pl. Daniłowskiego [08:34:00] [733799]\n",
      "(22) pl. Daniłowskiego [08:34:00] --- 132 ---> Berenta [08:35:00] [733800]\n",
      "(23) Berenta [08:35:00] --- 132 ---> pl. Daniłowskiego [08:37:00] [729234]\n",
      "(24) pl. Daniłowskiego [08:37:00] --- A ---> Przybyszewskiego [08:38:00] [5954]\n",
      "(25) Przybyszewskiego [08:38:00] --- A ---> Czajkowskiego [08:39:00] [5955]\n",
      "(26) Czajkowskiego [08:42:00] --- 116 ---> Koszarowa [08:44:00] [558576]\n",
      "(27) Koszarowa [08:47:00] --- 116 ---> KOSZAROWA (Szpital) [08:48:00] [559320]\n",
      "(28) KOSZAROWA (Szpital) [08:48:00] --- 116 ---> pl. Daniłowskiego [08:51:00] [559321]\n",
      "(29) pl. Daniłowskiego [08:51:00] --- 130 ---> Berenta [08:52:00] [715929]\n",
      "(30) Berenta [08:52:00] --- 130 ---> KROMERA [08:57:00] [715930]\n",
      "(31) KROMERA [08:57:00] --- 23 ---> Mosty Warszawskie [08:59:00] [382992]\n",
      "(32) Mosty Warszawskie [09:00:00] --- 128 ---> Wyszyńskiego [09:02:00] [679764]\n",
      "(33) Wyszyńskiego [09:02:00] --- 128 ---> Ogród Botaniczny [09:05:00] [679765]\n",
      "(34) Ogród Botaniczny [09:09:00] --- N ---> Katedra [09:10:00] [47415]\n",
      "(35) Katedra [09:10:00] --- N ---> Urząd Wojewódzki (Muzeum Narodowe) [09:11:00] [47416]\n",
      "(36) Urząd Wojewódzki (Muzeum Narodowe) [09:11:00] --- N ---> Poczta Główna [09:12:00] [47417]\n",
      "(37) Poczta Główna [09:12:00] --- 149 ---> skwer Krasińskiego [09:15:00] [873089]\n",
      "(38) skwer Krasińskiego [09:15:00] --- 149 ---> Wzgórze Partyzantów [09:16:00] [873090]\n",
      "(39) Wzgórze Partyzantów [09:16:00] --- 149 ---> Renoma [09:18:00] [873091]\n",
      "(40) Renoma [09:19:00] --- 7 ---> Arkady (Capitol) [09:21:00] [139927]\n",
      "(41) Arkady (Capitol) [09:21:00] --- 7 ---> Zaolziańska [09:23:00] [139928]\n",
      "(42) Zaolziańska [09:23:00] --- 7 ---> Wielka [09:24:00] [139929]\n",
      "(43) Wielka [09:24:00] --- 7 ---> Rondo [09:25:00] [139930]\n",
      "(44) Rondo [09:25:00] --- 124 ---> Krucza [09:28:00] [622419]\n",
      "(45) Krucza [09:29:00] --- 144 ---> Żelazna [09:31:00] [817138]\n",
      "(46) Żelazna [09:31:00] --- 144 ---> Zaporoska [09:33:00] [817139]\n",
      "(47) Zaporoska [09:33:00] --- 144 ---> Zielińskiego [09:34:00] [817140]\n",
      "(48) Zielińskiego [09:34:00] --- 144 ---> Piłsudskiego [09:36:00] [817141]\n",
      "(49) Piłsudskiego [09:36:00] --- 144 ---> pl. Orląt Lwowskich [09:38:00] [817142]\n",
      "(50) pl. Orląt Lwowskich [09:39:00] --- 149 ---> Renoma [09:41:00] [870112]\n",
      "(51) Renoma [09:44:00] --- 7 ---> Opera [09:45:00] [147846]\n",
      "(52) Opera [09:45:00] --- 7 ---> ŚWIDNICKA (Dom Europy) [09:46:00] [147847]\n",
      "(53) ŚWIDNICKA (Dom Europy) [09:46:00] --- 7 ---> Oławska [09:48:00] [147848]\n",
      "(54) Oławska [09:48:00] --- 7 ---> Wita Stwosza [09:49:00] [147849]\n",
      "(55) Wita Stwosza [09:49:00] --- 7 ---> Ossolineum (Uniwersytecka) [09:50:00] [147850]\n",
      "(56) Ossolineum (Uniwersytecka) [09:50:00] --- 7 ---> Dubois [09:53:00] [147851]\n",
      "(57) Dubois [09:53:00] --- 7 ---> Paulińska [09:55:00] [147852]\n",
      "(58) Paulińska [09:55:00] --- 7 ---> DWORZEC NADODRZE [09:57:00] [147853]\n",
      "(59) DWORZEC NADODRZE [09:57:00] --- 7 ---> Trzebnicka [09:59:00] [147854]\n",
      "(60) Trzebnicka [09:59:00] --- 7 ---> Broniewskiego [10:03:00] [147855]\n",
      "(61) Broniewskiego [10:03:00] --- 7 ---> Kamieńskiego [10:05:00] [147856]\n",
      "(62) Kamieńskiego [10:05:00] --- 7 ---> Kępińska [10:06:00] [147857]\n",
      "(63) Kępińska [10:06:00] --- D ---> Kamieńskiego [10:07:00] [17261]\n",
      "(64) Kamieńskiego [10:07:00] --- D ---> Broniewskiego [10:09:00] [17262]\n",
      "(65) Broniewskiego [10:09:00] --- D ---> Pola [10:10:00] [17263]\n",
      "(66) Pola [10:10:00] --- D ---> Syrokomli [10:11:00] [17264]\n",
      "(67) Syrokomli [10:11:00] --- D ---> Berenta [10:13:00] [17265]\n",
      "(68) Berenta [10:13:00] --- D ---> KROMERA [10:15:00] [17266]\n",
      "(69) KROMERA [10:17:00] --- 118 ---> Kwidzyńska [10:21:00] [569783]\n",
      "(70) Kwidzyńska [10:21:00] --- 121 ---> Zacisze [10:22:00] [595467]\n",
      "(71) Zacisze [10:22:00] --- 121 ---> Śniadeckich [10:23:00] [595468]\n",
      "(72) Śniadeckich [10:23:00] --- 121 ---> Kochanowskiego [10:25:00] [595469]\n",
      "(73) Kochanowskiego [10:25:00] --- 121 ---> Bujwida [10:27:00] [595470]\n",
      "(74) Bujwida [10:27:00] --- 121 ---> PL. GRUNWALDZKI [10:29:00] [595471]\n"
     ]
    }
   ],
   "source": [
    "print_path(swapped_sol3)"
   ],
   "metadata": {
    "collapsed": false,
    "ExecuteTime": {
     "end_time": "2024-04-01T20:21:14.452894600Z",
     "start_time": "2024-04-01T20:21:14.446853Z"
    }
   },
   "id": "18df13e5abaf2b17",
   "execution_count": 59
  },
  {
   "cell_type": "code",
   "outputs": [
    {
     "data": {
      "text/plain": "19.966722129783694"
     },
     "execution_count": 31,
     "metadata": {},
     "output_type": "execute_result"
    }
   ],
   "source": [
    "judge_t_solution(sol3, vis_stops)"
   ],
   "metadata": {
    "collapsed": false,
    "ExecuteTime": {
     "end_time": "2024-04-01T20:08:35.194792900Z",
     "start_time": "2024-04-01T20:08:35.190232200Z"
    }
   },
   "id": "4e5f4f07520ef503",
   "execution_count": 31
  },
  {
   "cell_type": "code",
   "outputs": [
    {
     "data": {
      "text/plain": "12000.0"
     },
     "execution_count": 32,
     "metadata": {},
     "output_type": "execute_result"
    }
   ],
   "source": [
    "judge_t_solution(swapped_sol3, vis_stops)"
   ],
   "metadata": {
    "collapsed": false,
    "ExecuteTime": {
     "end_time": "2024-04-01T20:08:45.304309100Z",
     "start_time": "2024-04-01T20:08:45.283922900Z"
    }
   },
   "id": "c9baf26b93a24e36",
   "execution_count": 32
  },
  {
   "cell_type": "code",
   "outputs": [
    {
     "name": "stdout",
     "output_type": "stream",
     "text": [
      "(0) Czajkowskiego [08:42:00] --- 116 ---> Koszarowa [08:44:00] [558576]\n",
      "(1) Koszarowa [08:47:00] --- 116 ---> KOSZAROWA (Szpital) [08:48:00] [559320]\n",
      "(2) KOSZAROWA (Szpital) [08:48:00] --- 116 ---> pl. Daniłowskiego [08:51:00] [559321]\n",
      "(3) pl. Daniłowskiego [08:51:00] --- 116 ---> Kasprowicza [08:52:00] [559322]\n",
      "(4) Kasprowicza [08:54:00] --- 130 ---> Syrokomli [08:55:00] [712170]\n",
      "(5) Syrokomli [08:55:00] --- 130 ---> Pola [08:56:00] [712171]\n",
      "(6) Pola [08:56:00] --- 130 ---> Broniewskiego [08:57:00] [712172]\n",
      "(7) Broniewskiego [09:03:00] --- 129 ---> Bałtycka [09:05:00] [697789]\n",
      "(8) Bałtycka [09:05:00] --- 111 ---> Bezpieczna [09:07:00] [512560]\n",
      "(9) Bezpieczna [09:07:00] --- 111 ---> Paprotna [09:08:00] [512561]\n"
     ]
    }
   ],
   "source": [
    "print_path(conn_s_i_e_j(sol3, 24, 13))"
   ],
   "metadata": {
    "collapsed": false,
    "ExecuteTime": {
     "end_time": "2024-04-01T18:48:24.432832300Z",
     "start_time": "2024-04-01T18:48:20.521918200Z"
    }
   },
   "id": "7c03ead478b91ca2",
   "execution_count": 16
  },
  {
   "cell_type": "code",
   "outputs": [
    {
     "name": "stdout",
     "output_type": "stream",
     "text": [
      "(0) Paprotna [08:25:00] --- 111 ---> Obornicka (Wołowska) [08:26:00] [512081]\n",
      "(1) Obornicka (Wołowska) [08:26:00] --- 111 ---> Bezpieczna [08:27:00] [512082]\n",
      "(2) Bezpieczna [08:27:00] --- K ---> Bałtycka [08:29:00] [32288]\n",
      "(3) Bałtycka [08:29:00] --- K ---> Broniewskiego [08:31:00] [32289]\n",
      "(4) Broniewskiego [08:32:00] --- 149 ---> Pola [08:33:00] [871098]\n",
      "(5) Pola [08:33:00] --- 149 ---> Syrokomli [08:34:00] [871099]\n",
      "(6) Syrokomli [08:34:00] --- 149 ---> Berenta [08:36:00] [871100]\n",
      "(7) Berenta [08:36:00] --- 149 ---> KROMERA [08:39:00] [871101]\n",
      "(8) KROMERA [08:39:00] --- 128 ---> Mosty Warszawskie [08:41:00] [686148]\n",
      "(9) Mosty Warszawskie [08:41:00] --- 128 ---> Wyszyńskiego [08:43:00] [686149]\n",
      "(10) Wyszyńskiego [08:43:00] --- 128 ---> Ogród Botaniczny [08:46:00] [686150]\n"
     ]
    }
   ],
   "source": [
    "print_path(conn_s_i_e_j(sol3, 14, 31))"
   ],
   "metadata": {
    "collapsed": false,
    "ExecuteTime": {
     "end_time": "2024-04-01T18:47:24.161669300Z",
     "start_time": "2024-04-01T18:47:18.653789Z"
    }
   },
   "id": "75f22226739ffc87",
   "execution_count": 15
  },
  {
   "cell_type": "code",
   "outputs": [],
   "source": [
    "def is_neighbour(dep_time, new_solution):\n",
    "    return assert_connection_path(dep_time, new_solution)\n",
    "\n",
    "def naive_search(solution, leave_hour, start_stop, visiting_stops: List[str]):\n",
    "    prev_stop = start_stop\n",
    "    new_solution = []\n",
    "    for stop in visiting_stops:\n",
    "        _, sub_sol = a_star_time_opt(prev_stop, stop, leave_hour, WeightedAverageTimeHeuristic())\n",
    "        new_solution = new_solution + sub_sol\n",
    "        prev_stop = \n",
    "\n",
    "def replace_connection(solution, dep_time, stop_from, stop_to):\n",
    "    \n",
    "    is_neigh = False\n",
    "    while not is_neigh:\n",
    "        graph, travel_solution = a_star_time_opt(stop_from, stop_to, dep_time, WeightedAverageTimeHeuristic())"
   ],
   "metadata": {
    "collapsed": false,
    "ExecuteTime": {
     "start_time": "2024-03-24T09:02:50.583756200Z"
    }
   },
   "id": "61d81daa6b139f33"
  }
 ],
 "metadata": {
  "kernelspec": {
   "display_name": "Python 3",
   "language": "python",
   "name": "python3"
  },
  "language_info": {
   "codemirror_mode": {
    "name": "ipython",
    "version": 2
   },
   "file_extension": ".py",
   "mimetype": "text/x-python",
   "name": "python",
   "nbconvert_exporter": "python",
   "pygments_lexer": "ipython2",
   "version": "2.7.6"
  }
 },
 "nbformat": 4,
 "nbformat_minor": 5
}
