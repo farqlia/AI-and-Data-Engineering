{
 "cells": [
  {
   "cell_type": "markdown",
   "source": [
    "1. Wygenerowanie jednego rozwiązania ze ścieżką\n",
    "2. Próba znalezienia pośredniego połączenia między dwoma połączeniami w rozwiazaniu\n",
    "3. Jeśli to rozwiązanie polepsza wynik, to akceptujemy"
   ],
   "metadata": {
    "collapsed": false
   },
   "id": "45250d1c5e70a900"
  },
  {
   "cell_type": "code",
   "execution_count": 10,
   "id": "initial_id",
   "metadata": {
    "collapsed": true,
    "ExecuteTime": {
     "end_time": "2024-04-04T09:01:58.751578800Z",
     "start_time": "2024-04-04T09:01:58.678473300Z"
    }
   },
   "outputs": [],
   "source": [
    "import os\n",
    "\n",
    "from ai_data_eng.searching.graph import *\n",
    "from ai_data_eng.searching.utils import *\n",
    "from ai_data_eng.searching.searchning import * \n",
    "from ai_data_eng.searching.initialization import *\n",
    "from ai_data_eng.searching.a_star_time_opt import a_star_time_opt_light, find_path_a_star_t\n",
    "from ai_data_eng.searching.a_star_changes_opt import a_star_changes_opt_light, find_path_a_star_p, path_to_list_p\n",
    "from ai_data_eng.searching.heuristics import WeightedAverageTimeHeuristic, ChangeHeuristic\n",
    "from pathlib import Path\n",
    "from ai_data_eng.tabu_search.tabu_search import tabu_search\n",
    "from ai_data_eng.tabu_search.searching import naive_solution\n",
    "from ai_data_eng.tabu_search.evaluate import *\n",
    "\n",
    "DATA_DIR = Path('../data')"
   ]
  },
  {
   "cell_type": "code",
   "outputs": [
    {
     "name": "stderr",
     "output_type": "stream",
     "text": [
      "C:\\Users\\julia\\AppData\\Local\\Temp\\ipykernel_8728\\1491564076.py:1: DtypeWarning: Columns (2) have mixed types. Specify dtype option on import or set low_memory=False.\n",
      "  connection_graph = pd.read_csv(DATA_DIR / 'connection_graph.csv',\n"
     ]
    }
   ],
   "source": [
    "connection_graph = pd.read_csv(DATA_DIR / 'connection_graph.csv', \n",
    "                               usecols=['line', 'departure_time', 'arrival_time', 'start_stop',\n",
    "       'end_stop', 'start_stop_lat', 'start_stop_lon', 'end_stop_lat',\n",
    "       'end_stop_lon'])\n",
    "g = Graph(connection_graph, partial(add_const_change_time, change_time=0))"
   ],
   "metadata": {
    "collapsed": false,
    "ExecuteTime": {
     "end_time": "2024-04-04T09:00:27.595658700Z",
     "start_time": "2024-04-04T09:00:23.484305200Z"
    }
   },
   "id": "36897f01047fd6df",
   "execution_count": 6
  },
  {
   "cell_type": "code",
   "outputs": [],
   "source": [],
   "metadata": {
    "collapsed": false
   },
   "id": "66445fc3cb8f3829"
  },
  {
   "cell_type": "code",
   "outputs": [],
   "source": [
    "vis_stops = ['Paprotna', 'Czajkowskiego', 'Ogród Botaniczny', 'Krucza', 'Renoma', 'Kępińska']\n",
    "start_stop = 'GALERIA DOMINIKAŃSKA'\n",
    "leave_hour = '16:20:00'\n",
    "# new_sol = tabu_search(g, OptimizationType.TIME, start_stop, vis_stops, leave_hour)"
   ],
   "metadata": {
    "collapsed": false,
    "ExecuteTime": {
     "end_time": "2024-04-04T09:00:30.168874300Z",
     "start_time": "2024-04-04T09:00:30.028526300Z"
    }
   },
   "id": "bd0033dee90a09fd",
   "execution_count": 7
  },
  {
   "cell_type": "code",
   "outputs": [],
   "source": [
    "sol1 = naive_solution(g)(OptimizationType.TIME,start_stop,vis_stops,leave_hour)"
   ],
   "metadata": {
    "collapsed": false,
    "ExecuteTime": {
     "end_time": "2024-04-04T09:01:04.650637300Z",
     "start_time": "2024-04-04T09:00:31.561126600Z"
    }
   },
   "id": "76497604f81b478f",
   "execution_count": 8
  },
  {
   "cell_type": "code",
   "outputs": [
    {
     "name": "stdout",
     "output_type": "stream",
     "text": [
      "(0)  GALERIA DOMINIKAŃSKA [16:20:00] --- K ---> Świdnicka [16:22:00] [32105]\n",
      "(1)  Świdnicka [16:22:00] --- K ---> Rynek [16:24:00] [32106]\n",
      "(2)  Rynek [16:24:00] --- K ---> Mosty Pomorskie [16:26:00] [32107]\n",
      "(3)  Mosty Pomorskie [16:26:00] --- K ---> Pomorska [16:27:00] [32108]\n",
      "(4)  Pomorska [16:28:00] --- K ---> pl. Strzelecki [16:30:00] [32110]\n",
      "(5)  pl. Strzelecki [16:30:00] --- K ---> Kleczkowska [16:32:00] [32111]\n",
      "(6)  Kleczkowska [16:32:00] --- K ---> most Osobowicki [16:34:00] [32112]\n",
      "(7)  most Osobowicki [16:34:00] --- K ---> Łużycka [16:36:00] [32113]\n",
      "(8)  Łużycka [16:36:00] --- K ---> Różanka [16:38:00] [32114]\n",
      "(9)  Różanka [16:38:00] --- K ---> Bezpieczna [16:40:00] [32115]\n",
      "(10)  Bezpieczna [16:41:00] --- 111 ---> Paprotna [16:43:00] [512305]\n",
      "(11) ** Paprotna [16:51:00] --- 142 ---> Obornicka (Wołowska) [16:52:00] [780018]\n",
      "(12)  Obornicka (Wołowska) [16:52:00] --- 142 ---> Bezpieczna [16:53:00] [780019]\n",
      "(13)  Bezpieczna [16:53:00] --- 111 ---> Bałtycka (szkoła) [16:54:00] [504831]\n",
      "(14)  Bałtycka (szkoła) [16:54:00] --- 111 ---> Bałtycka [16:55:00] [504832]\n",
      "(15)  Bałtycka [16:55:00] --- 111 ---> Broniewskiego [16:57:00] [504833]\n",
      "(16)  Broniewskiego [17:02:00] --- 119 ---> Pola [17:03:00] [583096]\n",
      "(17)  Pola [17:03:00] --- 119 ---> Syrokomli [17:04:00] [583097]\n",
      "(18)  Syrokomli [17:04:00] --- 119 ---> Kasprowicza [17:05:00] [583098]\n",
      "(19)  Kasprowicza [17:05:00] --- 119 ---> pl. Daniłowskiego [17:06:00] [583099]\n",
      "(20)  pl. Daniłowskiego [17:06:00] --- 119 ---> Przybyszewskiego [17:07:00] [583100]\n",
      "(21)  Przybyszewskiego [17:07:00] --- 119 ---> Czajkowskiego [17:08:00] [583101]\n",
      "(22) ** Czajkowskiego [17:08:00] --- 119 ---> Koszarowa [17:10:00] [583102]\n",
      "(23)  Koszarowa [17:11:00] --- 119 ---> KOSZAROWA (Szpital) [17:12:00] [585670]\n",
      "(24)  KOSZAROWA (Szpital) [17:13:00] --- 119 ---> pl. Daniłowskiego [17:15:00] [575930]\n",
      "(25)  pl. Daniłowskiego [17:16:00] --- 105 ---> Berenta [17:17:00] [452931]\n",
      "(26)  Berenta [17:17:00] --- 105 ---> KROMERA [17:22:00] [452932]\n",
      "(27)  KROMERA [17:23:00] --- 6 ---> Mosty Warszawskie [17:25:00] [133727]\n",
      "(28)  Mosty Warszawskie [17:26:00] --- 128 ---> Wyszyńskiego [17:28:00] [687715]\n",
      "(29)  Wyszyńskiego [17:28:00] --- 128 ---> Ogród Botaniczny [17:31:00] [687716]\n",
      "(30) ** Ogród Botaniczny [17:31:00] --- 128 ---> Świętokrzyska [17:33:00] [687717]\n",
      "(31)  Świętokrzyska [17:33:00] --- 128 ---> pl. Bema [17:35:00] [687718]\n",
      "(32)  pl. Bema [17:35:00] --- 11 ---> Hala Targowa [17:37:00] [210705]\n",
      "(33)  Hala Targowa [17:37:00] --- 11 ---> pl. Nowy Targ [17:38:00] [210706]\n",
      "(34)  pl. Nowy Targ [17:38:00] --- 11 ---> GALERIA DOMINIKAŃSKA [17:40:00] [210707]\n",
      "(35)  GALERIA DOMINIKAŃSKA [17:40:00] --- 11 ---> Świdnicka [17:42:00] [210708]\n",
      "(36)  Świdnicka [17:42:00] --- 11 ---> Zamkowa [17:43:00] [210709]\n",
      "(37)  Zamkowa [17:43:00] --- 11 ---> Narodowe Forum Muzyki [17:45:00] [210710]\n",
      "(38)  Narodowe Forum Muzyki [17:45:00] --- 11 ---> pl. Legionów [17:47:00] [210711]\n",
      "(39)  pl. Legionów [17:47:00] --- 11 ---> Kolejowa [17:48:00] [210712]\n",
      "(40)  Kolejowa [17:48:00] --- 11 ---> Grabiszyńska [17:49:00] [210713]\n",
      "(41)  Grabiszyńska [17:53:00] --- 126 ---> Zaporoska [17:55:00] [643064]\n",
      "(42)  Zaporoska [17:55:00] --- 127 ---> Krucza [17:56:00] [660911]\n",
      "(43) ** Krucza [17:57:00] --- 144 ---> Żelazna [17:59:00] [825392]\n",
      "(44)  Żelazna [17:59:00] --- 144 ---> Zaporoska [18:01:00] [825393]\n",
      "(45)  Zaporoska [18:01:00] --- 144 ---> Zielińskiego [18:02:00] [825394]\n",
      "(46)  Zielińskiego [18:02:00] --- 144 ---> Piłsudskiego [18:04:00] [825395]\n",
      "(47)  Piłsudskiego [18:04:00] --- 144 ---> pl. Orląt Lwowskich [18:06:00] [825396]\n",
      "(48)  pl. Orląt Lwowskich [18:08:00] --- 148 ---> Renoma [18:10:00] [863383]\n",
      "(49) ** Renoma [18:12:00] --- 6 ---> Opera [18:13:00] [128111]\n",
      "(50)  Opera [18:13:00] --- 6 ---> ŚWIDNICKA (Dom Europy) [18:14:00] [128112]\n",
      "(51)  ŚWIDNICKA (Dom Europy) [18:14:00] --- 6 ---> Oławska [18:16:00] [128113]\n",
      "(52)  Oławska [18:16:00] --- 6 ---> Wita Stwosza [18:17:00] [128114]\n",
      "(53)  Wita Stwosza [18:17:00] --- 6 ---> Ossolineum (Uniwersytecka) [18:18:00] [128115]\n",
      "(54)  Ossolineum (Uniwersytecka) [18:18:00] --- 6 ---> Dubois [18:20:00] [128116]\n",
      "(55)  Dubois [18:22:00] --- 7 ---> Paulińska [18:24:00] [149708]\n",
      "(56)  Paulińska [18:24:00] --- 7 ---> DWORZEC NADODRZE [18:26:00] [149709]\n",
      "(57)  DWORZEC NADODRZE [18:26:00] --- 7 ---> Trzebnicka [18:28:00] [149710]\n",
      "(58)  Trzebnicka [18:28:00] --- 7 ---> Broniewskiego [18:31:00] [149711]\n",
      "(59)  Broniewskiego [18:31:00] --- 908 ---> Kamieńskiego [18:32:00] [955742]\n",
      "(60)  Kamieńskiego [18:32:00] --- 908 ---> Kępińska [18:34:00] [955743]\n",
      "(61) ** Kępińska [18:34:00] --- 15 ---> Kamieńskiego [18:35:00] [266370]\n",
      "(62)  Kamieńskiego [18:35:00] --- 15 ---> Broniewskiego [18:37:00] [266371]\n",
      "(63)  Broniewskiego [18:37:00] --- 15 ---> Trzebnicka [18:40:00] [266372]\n",
      "(64)  Trzebnicka [18:40:00] --- 15 ---> DWORZEC NADODRZE [18:42:00] [266373]\n",
      "(65)  DWORZEC NADODRZE [18:42:00] --- 15 ---> Paulińska [18:44:00] [266374]\n",
      "(66)  Paulińska [18:44:00] --- 15 ---> Dubois [18:46:00] [266375]\n",
      "(67)  Dubois [18:47:00] --- 6 ---> pl. Bema [18:50:00] [133569]\n",
      "(68)  pl. Bema [18:50:00] --- 17 ---> Hala Targowa [18:52:00] [293093]\n",
      "(69)  Hala Targowa [18:52:00] --- 17 ---> pl. Nowy Targ [18:53:00] [293094]\n",
      "(70)  pl. Nowy Targ [18:53:00] --- 17 ---> GALERIA DOMINIKAŃSKA [18:55:00] [293095]\n"
     ]
    }
   ],
   "source": [
    "print_path_mark_stops(sol1, vis_stops)"
   ],
   "metadata": {
    "collapsed": false,
    "ExecuteTime": {
     "end_time": "2024-04-04T09:01:42.462432400Z",
     "start_time": "2024-04-04T09:01:42.367136200Z"
    }
   },
   "id": "686243346515b5dc",
   "execution_count": 9
  },
  {
   "cell_type": "code",
   "outputs": [
    {
     "data": {
      "text/plain": "(6, set())"
     },
     "execution_count": 11,
     "metadata": {},
     "output_type": "execute_result"
    }
   ],
   "source": [
    "get_matched_stops(sol1, vis_stops)"
   ],
   "metadata": {
    "collapsed": false,
    "ExecuteTime": {
     "end_time": "2024-04-04T09:02:12.031214600Z",
     "start_time": "2024-04-04T09:02:11.949190200Z"
    }
   },
   "id": "b8902fb79aa41d02",
   "execution_count": 11
  },
  {
   "cell_type": "code",
   "outputs": [
    {
     "data": {
      "text/plain": "[10, 42, 48, 21, 60, 29]"
     },
     "execution_count": 12,
     "metadata": {},
     "output_type": "execute_result"
    }
   ],
   "source": [
    "get_matched_connections(sol1, vis_stops)"
   ],
   "metadata": {
    "collapsed": false,
    "ExecuteTime": {
     "end_time": "2024-04-04T09:03:41.375435600Z",
     "start_time": "2024-04-04T09:03:41.338015900Z"
    }
   },
   "id": "1087822b8909fae9",
   "execution_count": 12
  },
  {
   "cell_type": "code",
   "outputs": [],
   "source": [
    "from typing import Set\n",
    "from queue import PriorityQueue\n",
    "\n",
    "CRITERION = OptimizationType.TIME\n",
    "\n",
    "def get_matched_stops(solution, visiting_stops: List[str]):\n",
    "    visiting_stops = set(visiting_stops)\n",
    "    matched_stops = 0\n",
    "    for conn in solution:\n",
    "        if conn['start_stop'] in visiting_stops:\n",
    "            visiting_stops.remove(conn['start_stop'])\n",
    "            matched_stops += 1\n",
    "    return matched_stops, visiting_stops\n",
    "\n",
    "def judge_t_solution(solution, visiting_stops: List[str]):\n",
    "    conn_time = diff(solution[-1]['arrival_sec'], solution[0]['departure_sec'])\n",
    "    return conn_time / (get_matched_stops(solution, visiting_stops)[0] + 0.01)    \n",
    "\n",
    "def judge_p_solution(solution, visiting_stops: Set[str]):\n",
    "    matched_stops = 0 \n",
    "    line_changes = int(np.sum([1 for (c1, c2) in zip(solution[:-1], solution[1:]) if is_conn_change(c1, c2)]))\n",
    "    \n",
    "    for conn in solution:\n",
    "        if conn['start_stop'] in visiting_stops:\n",
    "            visiting_stops.remove(conn['start_stop'])\n",
    "            matched_stops += 1\n",
    "    return line_changes / (matched_stops + 0.01)  \n",
    "    \n",
    "def get_a_star(criterion: OptimizationType):\n",
    "    if criterion == OptimizationType.TIME:\n",
    "        return partial(find_path_a_star_t, graph=g, heuristic=WeightedAverageTimeHeuristic(),\n",
    "                       cost_func=g.time_cost_between_conns, neighbours_gen=g.get_earliest_from_with_and_without_change)\n",
    "    elif criterion == OptimizationType.CHANGES:\n",
    "        return partial(find_path_a_star_p, graph=g, heuristic=ChangeHeuristic(),\n",
    "                       cost_func=g.change_cost_between_conns, initialization_func=initialize_with_prev_conn, neighbours_gen=g.get_lines_from)\n",
    "\n",
    "\n",
    "def get_connection_path(criterion: OptimizationType):\n",
    "    if criterion ==  OptimizationType.TIME:\n",
    "        def recreate(goal_index, came_from):\n",
    "            return idxs_to_nodes(g, goal_index, came_from)\n",
    "        return recreate\n",
    "    elif criterion == OptimizationType.CHANGES:\n",
    "        def recreate(goal, came_from):\n",
    "            came_from_conn, stop_conn = came_from\n",
    "            conns = path_to_list_p(goal, came_from_conn, stop_conn)\n",
    "            connections = [g.conn_at_index(idx) for idx in conns]\n",
    "            return connections\n",
    "        return recreate\n",
    "\n",
    "\n",
    "def naive_solution(criterion: OptimizationType, start_stop: str, visiting_stops: List[str], leave_hour: str):\n",
    "    a_star = get_a_star(criterion)\n",
    "    conn_path = get_connection_path(criterion)\n",
    "    prev_stop = start_stop\n",
    "    solution = []\n",
    "    for stop in visiting_stops:\n",
    "        goal, came_from, costs = a_star(start_stop=prev_stop, goal_stop=stop, leave_hour=leave_hour)\n",
    "        subsol = conn_path(goal, came_from)\n",
    "        solution += subsol\n",
    "        prev_stop = stop\n",
    "        # add change time\n",
    "        leave_hour = sec_to_time(subsol[-1]['arrival_sec'])\n",
    "        g.reset()\n",
    "    goal, came_from, costs = a_star(start_stop=prev_stop, goal_stop=start_stop, leave_hour=leave_hour)\n",
    "    solution += conn_path(goal, came_from)\n",
    "    g.reset()\n",
    "    return solution"
   ],
   "metadata": {
    "collapsed": false,
    "ExecuteTime": {
     "end_time": "2024-04-03T19:22:45.345577200Z",
     "start_time": "2024-04-03T19:22:45.329163800Z"
    }
   },
   "id": "d7b66a231edec944",
   "execution_count": 7
  },
  {
   "cell_type": "code",
   "outputs": [],
   "source": [
    "sol1 = naive_solution(OptimizationType.TIME, 'PL. GRUNWALDZKI', ['most Grunwaldzki', 'Poczta Główna', 'Renoma'], '08:00:00')"
   ],
   "metadata": {
    "collapsed": false,
    "ExecuteTime": {
     "end_time": "2024-04-02T13:10:32.831775Z",
     "start_time": "2024-04-02T13:10:27.851588500Z"
    }
   },
   "id": "4080a968c9e3913b",
   "execution_count": 4
  },
  {
   "cell_type": "code",
   "outputs": [
    {
     "name": "stdout",
     "output_type": "stream",
     "text": [
      "(0) PL. GRUNWALDZKI [08:00:00] --- 146 ---> most Grunwaldzki [08:02:00] [849563]\n",
      "(1) most Grunwaldzki [08:02:00] --- 146 ---> Poczta Główna [08:04:00] [849564]\n",
      "(2) Poczta Główna [08:04:00] --- D ---> GALERIA DOMINIKAŃSKA [08:06:00] [14559]\n",
      "(3) GALERIA DOMINIKAŃSKA [08:06:00] --- D ---> Renoma [08:09:00] [14560]\n",
      "(4) Renoma [08:09:00] --- A ---> Arkady (Capitol) [08:11:00] [286]\n",
      "(5) Arkady (Capitol) [08:13:00] --- D ---> GALERIA DOMINIKAŃSKA [08:18:00] [23021]\n",
      "(6) GALERIA DOMINIKAŃSKA [08:18:00] --- D ---> Urząd Wojewódzki (Impart) [08:21:00] [23022]\n",
      "(7) Urząd Wojewódzki (Impart) [08:21:00] --- D ---> most Grunwaldzki [08:22:00] [23023]\n",
      "(8) most Grunwaldzki [08:22:00] --- D ---> PL. GRUNWALDZKI [08:24:00] [23024]\n"
     ]
    }
   ],
   "source": [
    "print_path(sol1)"
   ],
   "metadata": {
    "collapsed": false,
    "ExecuteTime": {
     "end_time": "2024-04-02T13:10:32.839655300Z",
     "start_time": "2024-04-02T13:10:32.834768600Z"
    }
   },
   "id": "a84552b65a51d3ad",
   "execution_count": 5
  },
  {
   "cell_type": "code",
   "outputs": [
    {
     "data": {
      "text/plain": "39.8671096345515"
     },
     "execution_count": 20,
     "metadata": {},
     "output_type": "execute_result"
    }
   ],
   "source": [
    "judge_t_solution(sol1, ['most Grunwaldzki', 'Poczta Główna', 'Renoma'])"
   ],
   "metadata": {
    "collapsed": false,
    "ExecuteTime": {
     "end_time": "2024-04-01T18:00:06.883517200Z",
     "start_time": "2024-04-01T18:00:06.874312200Z"
    }
   },
   "id": "d3d8496d5a2b6331",
   "execution_count": 20
  },
  {
   "cell_type": "code",
   "outputs": [],
   "source": [
    "vis_stops = ['Paprotna', 'Czajkowskiego', 'Ogród Botaniczny', 'Krucza', 'Renoma', 'Kępińska']\n",
    "start_stop = 'PL. GRUNWALDZKI'\n",
    "leave_hour = '08:00:00'"
   ],
   "metadata": {
    "collapsed": false,
    "ExecuteTime": {
     "end_time": "2024-04-02T13:17:58.991434600Z",
     "start_time": "2024-04-02T13:17:58.982872700Z"
    }
   },
   "id": "a64902807b78df72",
   "execution_count": 16
  },
  {
   "cell_type": "code",
   "outputs": [],
   "source": [
    "sol3 = naive_solution(OptimizationType.TIME, start_stop, vis_stops, leave_hour)"
   ],
   "metadata": {
    "collapsed": false,
    "ExecuteTime": {
     "end_time": "2024-04-02T13:11:39.251446300Z",
     "start_time": "2024-04-02T13:11:10.756377200Z"
    }
   },
   "id": "47d86eafb2596eeb",
   "execution_count": 9
  },
  {
   "cell_type": "code",
   "outputs": [
    {
     "ename": "TypeError",
     "evalue": "can only concatenate tuple (not \"float\") to tuple",
     "output_type": "error",
     "traceback": [
      "\u001B[1;31m---------------------------------------------------------------------------\u001B[0m",
      "\u001B[1;31mTypeError\u001B[0m                                 Traceback (most recent call last)",
      "Cell \u001B[1;32mIn[10], line 1\u001B[0m\n\u001B[1;32m----> 1\u001B[0m \u001B[43mjudge_t_solution\u001B[49m\u001B[43m(\u001B[49m\u001B[43msol3\u001B[49m\u001B[43m,\u001B[49m\u001B[43m \u001B[49m\u001B[43mvis_stops\u001B[49m\u001B[43m)\u001B[49m\n",
      "Cell \u001B[1;32mIn[3], line 17\u001B[0m, in \u001B[0;36mjudge_t_solution\u001B[1;34m(solution, visiting_stops)\u001B[0m\n\u001B[0;32m     15\u001B[0m \u001B[38;5;28;01mdef\u001B[39;00m \u001B[38;5;21mjudge_t_solution\u001B[39m(solution, visiting_stops: List[\u001B[38;5;28mstr\u001B[39m]):\n\u001B[0;32m     16\u001B[0m     conn_time \u001B[38;5;241m=\u001B[39m diff(solution[\u001B[38;5;241m-\u001B[39m\u001B[38;5;241m1\u001B[39m][\u001B[38;5;124m'\u001B[39m\u001B[38;5;124marrival_sec\u001B[39m\u001B[38;5;124m'\u001B[39m], solution[\u001B[38;5;241m-\u001B[39m\u001B[38;5;241m1\u001B[39m][\u001B[38;5;124m'\u001B[39m\u001B[38;5;124mdeparture_sec\u001B[39m\u001B[38;5;124m'\u001B[39m])\n\u001B[1;32m---> 17\u001B[0m     \u001B[38;5;28;01mreturn\u001B[39;00m conn_time \u001B[38;5;241m/\u001B[39m (\u001B[43mget_matched_stops\u001B[49m\u001B[43m(\u001B[49m\u001B[43msolution\u001B[49m\u001B[43m,\u001B[49m\u001B[43m \u001B[49m\u001B[43mvisiting_stops\u001B[49m\u001B[43m)\u001B[49m\u001B[43m \u001B[49m\u001B[38;5;241;43m+\u001B[39;49m\u001B[43m \u001B[49m\u001B[38;5;241;43m0.01\u001B[39;49m)\n",
      "\u001B[1;31mTypeError\u001B[0m: can only concatenate tuple (not \"float\") to tuple"
     ]
    }
   ],
   "source": [
    "judge_t_solution(sol3, vis_stops)"
   ],
   "metadata": {
    "collapsed": false,
    "ExecuteTime": {
     "end_time": "2024-04-02T13:11:39.560529200Z",
     "start_time": "2024-04-02T13:11:39.252446600Z"
    }
   },
   "id": "a9d0ebbeab18d590",
   "execution_count": 10
  },
  {
   "cell_type": "code",
   "outputs": [],
   "source": [
    "print_path(sol3)"
   ],
   "metadata": {
    "collapsed": false,
    "ExecuteTime": {
     "end_time": "2024-04-02T13:11:39.566213Z",
     "start_time": "2024-04-02T13:11:39.565131900Z"
    }
   },
   "id": "590a368c49f4cd7",
   "execution_count": null
  },
  {
   "cell_type": "code",
   "outputs": [
    {
     "data": {
      "text/plain": "line                                            253\ndeparture_time                             23:10:00\narrival_time                               23:11:00\nstart_stop                          PL. GRUNWALDZKI\nend_stop          Kliniki - Politechnika Wrocławska\nstart_stop_lat                            51.111981\nstart_stop_lon                            17.064034\nend_stop_lat                              51.109283\nend_stop_lon                              17.066162\ndeparture_sec                                 83400\narrival_sec                                   83460\nName: 918837, dtype: object"
     },
     "execution_count": 17,
     "metadata": {},
     "output_type": "execute_result"
    }
   ],
   "source": [
    "g.conn_at_index(918837)"
   ],
   "metadata": {
    "collapsed": false,
    "ExecuteTime": {
     "end_time": "2024-03-25T14:46:10.211773300Z",
     "start_time": "2024-03-25T14:46:10.205876200Z"
    }
   },
   "id": "259cbceb25e32373",
   "execution_count": 17
  },
  {
   "cell_type": "code",
   "outputs": [],
   "source": [
    "from ai_data_eng.searching.initialization import initialize_queue, initialize_with_prev_conn\n",
    "# print_info = a_star_print_info(sec_to_time)\n",
    "cost_so_far = {}\n",
    "# if commuting A -> B, then this will be came_from_conn[B] = A so we can recreate the path\n",
    "came_from_conn = {}\n",
    "stop_conn = {}\n",
    "\n",
    "prev_conn_idx = 278511\n",
    "\n",
    "start_stop = 'most Grunwaldzki'\n",
    "goal_stop = 'Urząd Wojewódzki (Impart)'\n",
    "dep_time = time_to_normalized_sec('08:36:00')\n",
    "frontier = initialize_with_prev_conn(prev_conn_idx, g, cost_so_far, came_from_conn, stop_conn, start_stop, dep_time)"
   ],
   "metadata": {
    "collapsed": false,
    "ExecuteTime": {
     "end_time": "2024-04-02T13:11:39.566213Z",
     "start_time": "2024-04-02T13:11:39.566213Z"
    }
   },
   "id": "54ed4c58b4f68de3",
   "execution_count": null
  },
  {
   "cell_type": "code",
   "outputs": [
    {
     "data": {
      "text/plain": "{'most Grunwaldzki': 0}"
     },
     "execution_count": 30,
     "metadata": {},
     "output_type": "execute_result"
    }
   ],
   "source": [
    "cost_so_far"
   ],
   "metadata": {
    "collapsed": false,
    "ExecuteTime": {
     "end_time": "2024-04-01T18:01:52.627350Z",
     "start_time": "2024-04-01T18:01:52.618155600Z"
    }
   },
   "id": "36e25340e64fe3e",
   "execution_count": 30
  },
  {
   "cell_type": "code",
   "outputs": [
    {
     "data": {
      "text/plain": "{-1: None, 278511: None}"
     },
     "execution_count": 31,
     "metadata": {},
     "output_type": "execute_result"
    }
   ],
   "source": [
    "came_from_conn"
   ],
   "metadata": {
    "collapsed": false,
    "ExecuteTime": {
     "end_time": "2024-04-01T18:01:53.405108900Z",
     "start_time": "2024-04-01T18:01:53.393596Z"
    }
   },
   "id": "42ede6c1eb6a3fb",
   "execution_count": 31
  },
  {
   "cell_type": "code",
   "outputs": [
    {
     "data": {
      "text/plain": "{'most Grunwaldzki': 278511}"
     },
     "execution_count": 32,
     "metadata": {},
     "output_type": "execute_result"
    }
   ],
   "source": [
    "stop_conn"
   ],
   "metadata": {
    "collapsed": false,
    "ExecuteTime": {
     "end_time": "2024-04-01T18:01:54.139837500Z",
     "start_time": "2024-04-01T18:01:54.132021200Z"
    }
   },
   "id": "3eb926e3be7943b0",
   "execution_count": 32
  },
  {
   "cell_type": "code",
   "outputs": [
    {
     "data": {
      "text/plain": "('Kliniki - Politechnika Wrocławska', 51.109283, 17.066162)"
     },
     "execution_count": 33,
     "metadata": {},
     "output_type": "execute_result"
    }
   ],
   "source": [
    "g.stop_as_tuple(g.rename_stop(g.conn_at_index(918837)))"
   ],
   "metadata": {
    "collapsed": false,
    "ExecuteTime": {
     "end_time": "2024-04-01T18:01:54.862327400Z",
     "start_time": "2024-04-01T18:01:54.828216800Z"
    }
   },
   "id": "4c94b7d1e409803f",
   "execution_count": 33
  },
  {
   "cell_type": "code",
   "outputs": [],
   "source": [
    "prev_conn = g.conn_at_index(prev_conn_idx)"
   ],
   "metadata": {
    "collapsed": false,
    "ExecuteTime": {
     "end_time": "2024-04-01T18:01:55.525982800Z",
     "start_time": "2024-04-01T18:01:55.517137500Z"
    }
   },
   "id": "bf3a9bf2f16dcab5",
   "execution_count": 34
  },
  {
   "cell_type": "markdown",
   "source": [
    "278512, 97887, 233196\n"
   ],
   "metadata": {
    "collapsed": false
   },
   "id": "8fb2ffff76daf3de"
  },
  {
   "cell_type": "code",
   "outputs": [
    {
     "data": {
      "text/plain": "       line departure_time arrival_time        start_stop  \\\n240344   13       08:36:00     08:38:00  most Grunwaldzki   \n97887     4       08:37:00     08:39:00  most Grunwaldzki   \n278512   16       08:36:00     08:38:00  most Grunwaldzki   \n\n                         end_stop  start_stop_lat  start_stop_lon  \\\n240344  Urząd Wojewódzki (Impart)       51.110212       17.055385   \n97887   Urząd Wojewódzki (Impart)       51.110212       17.055385   \n278512  Urząd Wojewódzki (Impart)       51.110212       17.055385   \n\n        end_stop_lat  end_stop_lon  departure_sec  arrival_sec  \n240344     51.108637     17.049553          30960        31080  \n97887      51.108637     17.049553          31020        31140  \n278512     51.108637     17.049553          30960        31080  ",
      "text/html": "<div>\n<style scoped>\n    .dataframe tbody tr th:only-of-type {\n        vertical-align: middle;\n    }\n\n    .dataframe tbody tr th {\n        vertical-align: top;\n    }\n\n    .dataframe thead th {\n        text-align: right;\n    }\n</style>\n<table border=\"1\" class=\"dataframe\">\n  <thead>\n    <tr style=\"text-align: right;\">\n      <th></th>\n      <th>line</th>\n      <th>departure_time</th>\n      <th>arrival_time</th>\n      <th>start_stop</th>\n      <th>end_stop</th>\n      <th>start_stop_lat</th>\n      <th>start_stop_lon</th>\n      <th>end_stop_lat</th>\n      <th>end_stop_lon</th>\n      <th>departure_sec</th>\n      <th>arrival_sec</th>\n    </tr>\n  </thead>\n  <tbody>\n    <tr>\n      <th>240344</th>\n      <td>13</td>\n      <td>08:36:00</td>\n      <td>08:38:00</td>\n      <td>most Grunwaldzki</td>\n      <td>Urząd Wojewódzki (Impart)</td>\n      <td>51.110212</td>\n      <td>17.055385</td>\n      <td>51.108637</td>\n      <td>17.049553</td>\n      <td>30960</td>\n      <td>31080</td>\n    </tr>\n    <tr>\n      <th>97887</th>\n      <td>4</td>\n      <td>08:37:00</td>\n      <td>08:39:00</td>\n      <td>most Grunwaldzki</td>\n      <td>Urząd Wojewódzki (Impart)</td>\n      <td>51.110212</td>\n      <td>17.055385</td>\n      <td>51.108637</td>\n      <td>17.049553</td>\n      <td>31020</td>\n      <td>31140</td>\n    </tr>\n    <tr>\n      <th>278512</th>\n      <td>16</td>\n      <td>08:36:00</td>\n      <td>08:38:00</td>\n      <td>most Grunwaldzki</td>\n      <td>Urząd Wojewódzki (Impart)</td>\n      <td>51.110212</td>\n      <td>17.055385</td>\n      <td>51.108637</td>\n      <td>17.049553</td>\n      <td>30960</td>\n      <td>31080</td>\n    </tr>\n  </tbody>\n</table>\n</div>"
     },
     "execution_count": 35,
     "metadata": {},
     "output_type": "execute_result"
    }
   ],
   "source": [
    "g.conn_graph.loc[[240344, 97887, 278512]]"
   ],
   "metadata": {
    "collapsed": false,
    "ExecuteTime": {
     "end_time": "2024-04-01T18:01:56.878847100Z",
     "start_time": "2024-04-01T18:01:56.855733100Z"
    }
   },
   "id": "ec5142d6d6e29ee0",
   "execution_count": 35
  },
  {
   "cell_type": "code",
   "outputs": [
    {
     "data": {
      "text/plain": "       line departure_time arrival_time        start_stop  \\\n277379   16       04:57:00     04:59:00  most Grunwaldzki   \n107188    4       05:01:00     05:03:00  most Grunwaldzki   \n271778   16       05:12:00     05:14:00  most Grunwaldzki   \n107549    4       05:16:00     05:18:00  most Grunwaldzki   \n100605    4       05:17:00     05:19:00  most Grunwaldzki   \n...     ...            ...          ...               ...   \n219138   12       23:19:00     23:20:00  most Grunwaldzki   \n320498   19       23:24:00     23:25:00  most Grunwaldzki   \n231995   13       23:27:00     23:28:00  most Grunwaldzki   \n273793   16       23:32:00     23:33:00  most Grunwaldzki   \n100284    4       23:37:00     23:38:00  most Grunwaldzki   \n\n                         end_stop  start_stop_lat  start_stop_lon  \\\n277379  Urząd Wojewódzki (Impart)       51.110212       17.055385   \n107188  Urząd Wojewódzki (Impart)       51.110212       17.055385   \n271778  Urząd Wojewódzki (Impart)       51.110212       17.055385   \n107549  Urząd Wojewódzki (Impart)       51.110212       17.055385   \n100605  Urząd Wojewódzki (Impart)       51.110212       17.055385   \n...                           ...             ...             ...   \n219138  Urząd Wojewódzki (Impart)       51.110212       17.055385   \n320498  Urząd Wojewódzki (Impart)       51.110212       17.055385   \n231995  Urząd Wojewódzki (Impart)       51.110212       17.055385   \n273793  Urząd Wojewódzki (Impart)       51.110212       17.055385   \n100284  Urząd Wojewódzki (Impart)       51.110212       17.055385   \n\n        end_stop_lat  end_stop_lon  departure_sec  arrival_sec  \n277379     51.108637     17.049553          17820        17940  \n107188     51.108637     17.049553          18060        18180  \n271778     51.108637     17.049553          18720        18840  \n107549     51.108637     17.049553          18960        19080  \n100605     51.108637     17.049553          19020        19140  \n...              ...           ...            ...          ...  \n219138     51.108637     17.049553          83940        84000  \n320498     51.108637     17.049553          84240        84300  \n231995     51.108637     17.049553          84420        84480  \n273793     51.108637     17.049553          84720        84780  \n100284     51.108637     17.049553          85020        85080  \n\n[490 rows x 11 columns]",
      "text/html": "<div>\n<style scoped>\n    .dataframe tbody tr th:only-of-type {\n        vertical-align: middle;\n    }\n\n    .dataframe tbody tr th {\n        vertical-align: top;\n    }\n\n    .dataframe thead th {\n        text-align: right;\n    }\n</style>\n<table border=\"1\" class=\"dataframe\">\n  <thead>\n    <tr style=\"text-align: right;\">\n      <th></th>\n      <th>line</th>\n      <th>departure_time</th>\n      <th>arrival_time</th>\n      <th>start_stop</th>\n      <th>end_stop</th>\n      <th>start_stop_lat</th>\n      <th>start_stop_lon</th>\n      <th>end_stop_lat</th>\n      <th>end_stop_lon</th>\n      <th>departure_sec</th>\n      <th>arrival_sec</th>\n    </tr>\n  </thead>\n  <tbody>\n    <tr>\n      <th>277379</th>\n      <td>16</td>\n      <td>04:57:00</td>\n      <td>04:59:00</td>\n      <td>most Grunwaldzki</td>\n      <td>Urząd Wojewódzki (Impart)</td>\n      <td>51.110212</td>\n      <td>17.055385</td>\n      <td>51.108637</td>\n      <td>17.049553</td>\n      <td>17820</td>\n      <td>17940</td>\n    </tr>\n    <tr>\n      <th>107188</th>\n      <td>4</td>\n      <td>05:01:00</td>\n      <td>05:03:00</td>\n      <td>most Grunwaldzki</td>\n      <td>Urząd Wojewódzki (Impart)</td>\n      <td>51.110212</td>\n      <td>17.055385</td>\n      <td>51.108637</td>\n      <td>17.049553</td>\n      <td>18060</td>\n      <td>18180</td>\n    </tr>\n    <tr>\n      <th>271778</th>\n      <td>16</td>\n      <td>05:12:00</td>\n      <td>05:14:00</td>\n      <td>most Grunwaldzki</td>\n      <td>Urząd Wojewódzki (Impart)</td>\n      <td>51.110212</td>\n      <td>17.055385</td>\n      <td>51.108637</td>\n      <td>17.049553</td>\n      <td>18720</td>\n      <td>18840</td>\n    </tr>\n    <tr>\n      <th>107549</th>\n      <td>4</td>\n      <td>05:16:00</td>\n      <td>05:18:00</td>\n      <td>most Grunwaldzki</td>\n      <td>Urząd Wojewódzki (Impart)</td>\n      <td>51.110212</td>\n      <td>17.055385</td>\n      <td>51.108637</td>\n      <td>17.049553</td>\n      <td>18960</td>\n      <td>19080</td>\n    </tr>\n    <tr>\n      <th>100605</th>\n      <td>4</td>\n      <td>05:17:00</td>\n      <td>05:19:00</td>\n      <td>most Grunwaldzki</td>\n      <td>Urząd Wojewódzki (Impart)</td>\n      <td>51.110212</td>\n      <td>17.055385</td>\n      <td>51.108637</td>\n      <td>17.049553</td>\n      <td>19020</td>\n      <td>19140</td>\n    </tr>\n    <tr>\n      <th>...</th>\n      <td>...</td>\n      <td>...</td>\n      <td>...</td>\n      <td>...</td>\n      <td>...</td>\n      <td>...</td>\n      <td>...</td>\n      <td>...</td>\n      <td>...</td>\n      <td>...</td>\n      <td>...</td>\n    </tr>\n    <tr>\n      <th>219138</th>\n      <td>12</td>\n      <td>23:19:00</td>\n      <td>23:20:00</td>\n      <td>most Grunwaldzki</td>\n      <td>Urząd Wojewódzki (Impart)</td>\n      <td>51.110212</td>\n      <td>17.055385</td>\n      <td>51.108637</td>\n      <td>17.049553</td>\n      <td>83940</td>\n      <td>84000</td>\n    </tr>\n    <tr>\n      <th>320498</th>\n      <td>19</td>\n      <td>23:24:00</td>\n      <td>23:25:00</td>\n      <td>most Grunwaldzki</td>\n      <td>Urząd Wojewódzki (Impart)</td>\n      <td>51.110212</td>\n      <td>17.055385</td>\n      <td>51.108637</td>\n      <td>17.049553</td>\n      <td>84240</td>\n      <td>84300</td>\n    </tr>\n    <tr>\n      <th>231995</th>\n      <td>13</td>\n      <td>23:27:00</td>\n      <td>23:28:00</td>\n      <td>most Grunwaldzki</td>\n      <td>Urząd Wojewódzki (Impart)</td>\n      <td>51.110212</td>\n      <td>17.055385</td>\n      <td>51.108637</td>\n      <td>17.049553</td>\n      <td>84420</td>\n      <td>84480</td>\n    </tr>\n    <tr>\n      <th>273793</th>\n      <td>16</td>\n      <td>23:32:00</td>\n      <td>23:33:00</td>\n      <td>most Grunwaldzki</td>\n      <td>Urząd Wojewódzki (Impart)</td>\n      <td>51.110212</td>\n      <td>17.055385</td>\n      <td>51.108637</td>\n      <td>17.049553</td>\n      <td>84720</td>\n      <td>84780</td>\n    </tr>\n    <tr>\n      <th>100284</th>\n      <td>4</td>\n      <td>23:37:00</td>\n      <td>23:38:00</td>\n      <td>most Grunwaldzki</td>\n      <td>Urząd Wojewódzki (Impart)</td>\n      <td>51.110212</td>\n      <td>17.055385</td>\n      <td>51.108637</td>\n      <td>17.049553</td>\n      <td>85020</td>\n      <td>85080</td>\n    </tr>\n  </tbody>\n</table>\n<p>490 rows × 11 columns</p>\n</div>"
     },
     "execution_count": 36,
     "metadata": {},
     "output_type": "execute_result"
    }
   ],
   "source": [
    "g.conn_graph.loc[(g.conn_graph['start_stop'] == start_stop) & (g.conn_graph['end_stop'] == goal_stop)].sort_values(by=['departure_sec'])"
   ],
   "metadata": {
    "collapsed": false,
    "ExecuteTime": {
     "end_time": "2024-04-01T18:01:57.806059600Z",
     "start_time": "2024-04-01T18:01:57.785608500Z"
    }
   },
   "id": "dd4651f71440b631",
   "execution_count": 36
  },
  {
   "cell_type": "code",
   "outputs": [
    {
     "name": "stdout",
     "output_type": "stream",
     "text": [
      "most Grunwaldzki PL. GRUNWALDZKI 16 1\n",
      "most Grunwaldzki Urząd Wojewódzki (Impart) 13 1\n",
      "most Grunwaldzki PL. GRUNWALDZKI 12 1\n",
      "most Grunwaldzki Urząd Wojewódzki (Impart) 16 0\n",
      "most Grunwaldzki PL. GRUNWALDZKI D 1\n",
      "most Grunwaldzki Urząd Wojewódzki (Impart) 4 1\n",
      "most Grunwaldzki Poczta Główna 145 1\n",
      "most Grunwaldzki PL. GRUNWALDZKI 13 1\n",
      "most Grunwaldzki Poczta Główna D 1\n",
      "most Grunwaldzki PL. GRUNWALDZKI 145 1\n",
      "most Grunwaldzki Poczta Główna 149 1\n",
      "most Grunwaldzki Urząd Wojewódzki (Impart) 12 1\n",
      "most Grunwaldzki PL. GRUNWALDZKI 4 1\n",
      "most Grunwaldzki Poczta Główna 146 1\n",
      "most Grunwaldzki PL. GRUNWALDZKI 146 1\n",
      "most Grunwaldzki PL. GRUNWALDZKI 149 1\n",
      "most Grunwaldzki Urząd Wojewódzki (Impart) 19 1\n",
      "most Grunwaldzki PL. GRUNWALDZKI 19 1\n",
      "most Grunwaldzki Poczta Główna 241 1\n",
      "most Grunwaldzki Urząd Wojewódzki (Muzeum Narodowe) 240 1\n",
      "most Grunwaldzki PL. GRUNWALDZKI 241 1\n"
     ]
    }
   ],
   "source": [
    "for next_conn in g.get_lines_from(prev_conn).itertuples():\n",
    "    # cost of commuting start --> current and current --> next\n",
    "    next_stop = (next_conn.end_stop, next_conn.end_stop_lat, next_conn.end_stop_lon)\n",
    "    print(next_conn.start_stop, next_conn.end_stop, next_conn.line, g.change_cost_between_conns(next_conn=next_conn, prev_conn=prev_conn))"
   ],
   "metadata": {
    "collapsed": false,
    "ExecuteTime": {
     "end_time": "2024-04-01T18:01:58.623022700Z",
     "start_time": "2024-04-01T18:01:58.573993200Z"
    }
   },
   "id": "c6ac6fc8fb374e5b",
   "execution_count": 37
  },
  {
   "cell_type": "code",
   "outputs": [
    {
     "name": "stdout",
     "output_type": "stream",
     "text": [
      "(0) PL. GRUNWALDZKI [08:00:00] --- D ---> Kochanowskiego [08:03:00] [22596]\n",
      "(1) Kochanowskiego [08:03:00] --- D ---> Śniadeckich [08:05:00] [22597]\n",
      "(2) Śniadeckich [08:05:00] --- D ---> Zacisze [08:06:00] [22598]\n",
      "(3) Zacisze [08:06:00] --- D ---> Kwidzyńska [08:08:00] [22599]\n",
      "(4) Kwidzyńska [08:08:00] --- 6 ---> Kętrzyńska [08:09:00] [135055]\n",
      "(5) Kętrzyńska [08:09:00] --- 6 ---> KROMERA [08:11:00] [135056]\n",
      "(6) KROMERA [08:13:00] --- 116 ---> Berenta [08:14:00] [556881]\n",
      "(7) Berenta [08:14:00] --- 116 ---> Kasprowicza [08:15:00] [556882]\n",
      "(8) Kasprowicza [08:15:00] --- 130 ---> Syrokomli [08:16:00] [711637]\n",
      "(9) Syrokomli [08:16:00] --- 130 ---> Pola [08:17:00] [711638]\n",
      "(10) Pola [08:17:00] --- 130 ---> Broniewskiego [08:18:00] [711639]\n",
      "(11) Broniewskiego [08:18:00] --- 118 ---> Bałtycka [08:20:00] [567781]\n",
      "(12) Bałtycka [08:20:00] --- 118 ---> Bezpieczna [08:21:00] [567782]\n",
      "(13) Bezpieczna [08:21:00] --- 602 ---> Paprotna [08:22:00] [933891]\n",
      "(14) Paprotna [08:25:00] --- 111 ---> Obornicka (Wołowska) [08:26:00] [512081]\n",
      "(15) Obornicka (Wołowska) [08:26:00] --- 111 ---> Bezpieczna [08:27:00] [512082]\n",
      "(16) Bezpieczna [08:27:00] --- K ---> Bałtycka [08:29:00] [32288]\n",
      "(17) Bałtycka [08:29:00] --- K ---> Broniewskiego [08:31:00] [32289]\n",
      "(18) Broniewskiego [08:32:00] --- 149 ---> Pola [08:33:00] [871098]\n",
      "(19) Pola [08:33:00] --- 149 ---> Syrokomli [08:34:00] [871099]\n",
      "(20) Syrokomli [08:34:00] --- 149 ---> Berenta [08:36:00] [871100]\n",
      "(21) Berenta [08:37:00] --- 118 ---> pl. Daniłowskiego [08:39:00] [569748]\n",
      "(22) pl. Daniłowskiego [08:40:00] --- 116 ---> Przybyszewskiego [08:41:00] [558574]\n",
      "(23) Przybyszewskiego [08:41:00] --- 116 ---> Czajkowskiego [08:42:00] [558575]\n",
      "(24) Czajkowskiego [08:42:00] --- 116 ---> Koszarowa [08:44:00] [558576]\n",
      "(25) Koszarowa [08:47:00] --- 116 ---> KOSZAROWA (Szpital) [08:48:00] [559320]\n",
      "(26) KOSZAROWA (Szpital) [08:48:00] --- 116 ---> pl. Daniłowskiego [08:51:00] [559321]\n",
      "(27) pl. Daniłowskiego [08:51:00] --- 130 ---> Berenta [08:52:00] [715929]\n",
      "(28) Berenta [08:52:00] --- 130 ---> KROMERA [08:57:00] [715930]\n",
      "(29) KROMERA [08:57:00] --- 23 ---> Mosty Warszawskie [08:59:00] [382992]\n",
      "(30) Mosty Warszawskie [09:00:00] --- 128 ---> Wyszyńskiego [09:02:00] [679764]\n",
      "(31) Wyszyńskiego [09:02:00] --- 128 ---> Ogród Botaniczny [09:05:00] [679765]\n",
      "(32) Ogród Botaniczny [09:09:00] --- N ---> Katedra [09:10:00] [47415]\n",
      "(33) Katedra [09:10:00] --- N ---> Urząd Wojewódzki (Muzeum Narodowe) [09:11:00] [47416]\n",
      "(34) Urząd Wojewódzki (Muzeum Narodowe) [09:11:00] --- N ---> Poczta Główna [09:12:00] [47417]\n",
      "(35) Poczta Główna [09:12:00] --- 149 ---> skwer Krasińskiego [09:15:00] [873089]\n",
      "(36) skwer Krasińskiego [09:15:00] --- 149 ---> Wzgórze Partyzantów [09:16:00] [873090]\n",
      "(37) Wzgórze Partyzantów [09:16:00] --- 149 ---> Renoma [09:18:00] [873091]\n",
      "(38) Renoma [09:19:00] --- 7 ---> Arkady (Capitol) [09:21:00] [139927]\n",
      "(39) Arkady (Capitol) [09:21:00] --- 7 ---> Zaolziańska [09:23:00] [139928]\n",
      "(40) Zaolziańska [09:23:00] --- 7 ---> Wielka [09:24:00] [139929]\n",
      "(41) Wielka [09:24:00] --- 7 ---> Rondo [09:25:00] [139930]\n",
      "(42) Rondo [09:25:00] --- 124 ---> Krucza [09:28:00] [622419]\n",
      "(43) Krucza [09:29:00] --- 144 ---> Żelazna [09:31:00] [817138]\n",
      "(44) Żelazna [09:31:00] --- 144 ---> Zaporoska [09:33:00] [817139]\n",
      "(45) Zaporoska [09:33:00] --- 144 ---> Zielińskiego [09:34:00] [817140]\n",
      "(46) Zielińskiego [09:34:00] --- 144 ---> Piłsudskiego [09:36:00] [817141]\n",
      "(47) Piłsudskiego [09:36:00] --- 144 ---> pl. Orląt Lwowskich [09:38:00] [817142]\n",
      "(48) pl. Orląt Lwowskich [09:39:00] --- 149 ---> Renoma [09:41:00] [870112]\n",
      "(49) Renoma [09:44:00] --- 7 ---> Opera [09:45:00] [147846]\n",
      "(50) Opera [09:45:00] --- 7 ---> ŚWIDNICKA (Dom Europy) [09:46:00] [147847]\n",
      "(51) ŚWIDNICKA (Dom Europy) [09:46:00] --- 7 ---> Oławska [09:48:00] [147848]\n",
      "(52) Oławska [09:48:00] --- 7 ---> Wita Stwosza [09:49:00] [147849]\n",
      "(53) Wita Stwosza [09:49:00] --- 7 ---> Ossolineum (Uniwersytecka) [09:50:00] [147850]\n",
      "(54) Ossolineum (Uniwersytecka) [09:50:00] --- 7 ---> Dubois [09:53:00] [147851]\n",
      "(55) Dubois [09:53:00] --- 7 ---> Paulińska [09:55:00] [147852]\n",
      "(56) Paulińska [09:55:00] --- 7 ---> DWORZEC NADODRZE [09:57:00] [147853]\n",
      "(57) DWORZEC NADODRZE [09:57:00] --- 7 ---> Trzebnicka [09:59:00] [147854]\n",
      "(58) Trzebnicka [09:59:00] --- 7 ---> Broniewskiego [10:03:00] [147855]\n",
      "(59) Broniewskiego [10:03:00] --- 7 ---> Kamieńskiego [10:05:00] [147856]\n",
      "(60) Kamieńskiego [10:05:00] --- 7 ---> Kępińska [10:06:00] [147857]\n",
      "(61) Kępińska [10:06:00] --- D ---> Kamieńskiego [10:07:00] [17261]\n",
      "(62) Kamieńskiego [10:07:00] --- D ---> Broniewskiego [10:09:00] [17262]\n",
      "(63) Broniewskiego [10:09:00] --- D ---> Pola [10:10:00] [17263]\n",
      "(64) Pola [10:10:00] --- D ---> Syrokomli [10:11:00] [17264]\n",
      "(65) Syrokomli [10:11:00] --- D ---> Berenta [10:13:00] [17265]\n",
      "(66) Berenta [10:13:00] --- D ---> KROMERA [10:15:00] [17266]\n",
      "(67) KROMERA [10:17:00] --- 118 ---> Kwidzyńska [10:21:00] [569783]\n",
      "(68) Kwidzyńska [10:21:00] --- 121 ---> Zacisze [10:22:00] [595467]\n",
      "(69) Zacisze [10:22:00] --- 121 ---> Śniadeckich [10:23:00] [595468]\n",
      "(70) Śniadeckich [10:23:00] --- 121 ---> Kochanowskiego [10:25:00] [595469]\n",
      "(71) Kochanowskiego [10:25:00] --- 121 ---> Bujwida [10:27:00] [595470]\n",
      "(72) Bujwida [10:27:00] --- 121 ---> PL. GRUNWALDZKI [10:29:00] [595471]\n"
     ]
    }
   ],
   "source": [
    "print_path(sol3)"
   ],
   "metadata": {
    "collapsed": false,
    "ExecuteTime": {
     "end_time": "2024-04-01T19:36:19.677075800Z",
     "start_time": "2024-04-01T19:36:19.664507600Z"
    }
   },
   "id": "ea5f3ea2560eef46",
   "execution_count": 10
  },
  {
   "cell_type": "code",
   "outputs": [],
   "source": [
    "a_star = get_a_star(OptimizationType.TIME)\n",
    "conn_path = get_connection_path(OptimizationType.TIME)\n",
    "\n",
    "def conn_e_i_e_j(connections, i, j):\n",
    "    goal_index, came_from, _ = a_star(start_stop=connections[i].start_stop, goal_stop=connections[j].end_stop, leave_hour=sec_to_time(connections[i - 1].arrival_sec), prev_conn_idx=connections[i - 1].name if i > 0 else None)\n",
    "    g.reset()\n",
    "    return conn_path(goal_index, came_from)\n",
    "\n",
    "def conn_e_j_e_i(i_conn, j_conn):\n",
    "    goal_index, came_from, _ = a_star(start_stop=j_conn.end_stop, goal_stop=i_conn.end_stop, leave_hour=sec_to_time(j_conn.arrival_sec), prev_conn_idx=j_conn.name)\n",
    "    g.reset()\n",
    "    return conn_path(goal_index, came_from)\n",
    "\n",
    "\n",
    "def conn_start_from_end_to(connections, i, j):\n",
    "    goal_index, came_from, _ = a_star(start_stop=connections[i].start_stop, goal_stop=connections[j].end_stop, leave_hour=connections[i].departure_time)\n",
    "    g.reset()\n",
    "    return conn_path(goal_index, came_from)\n",
    "\n",
    "def conn_end_from_end_to(from_conn, to_conn):\n",
    "    goal_index, came_from, _ = a_star(start_stop=from_conn.end_stop, goal_stop=to_conn.end_stop, leave_hour=from_conn.arrival_time,\n",
    "                                      prev_conn_idx=from_conn.name)\n",
    "    return conn_path(goal_index, came_from)\n",
    "\n",
    "def swap_conns(connections, i, j, criterion: OptimizationType):\n",
    "    # start stop of i --- > end stop of j\n",
    "    # end stop of i ---> start stop of j + 1\n",
    "    # end stop of j ---> start stop of i + 1 \n",
    "    a_star = get_a_star(criterion)\n",
    "    conn_path = get_connection_path(criterion)\n",
    "    conn_s_i_e_j = a_star(start_stop=connections[i].start_stop, goal_stop=connections[j].end_stop, leave_hour=sec_to_time(connections[i].departure_sec), prev_conn_idx=connections[i - 1] if i > 0 else None)\n",
    "    "
   ],
   "metadata": {
    "collapsed": false,
    "ExecuteTime": {
     "end_time": "2024-04-03T19:22:58.255226300Z",
     "start_time": "2024-04-03T19:22:58.192154800Z"
    }
   },
   "id": "e4488883731690c",
   "execution_count": 9
  },
  {
   "cell_type": "code",
   "outputs": [],
   "source": [
    "# 1 < k < i < j, for now\n",
    "def insert_conn_between(connections, m, k, i, j):\n",
    "    solution = connections[:m]\n",
    "    sol_a = conn_start_from_end_to(connections, m, i)\n",
    "    sol_b = conn_end_from_end_to(sol_a[-1], connections[k])\n",
    "    sol_c = conn_end_from_end_to(sol_b[-1], connections[j])\n",
    "    solution += sol_a + sol_b + sol_c\n",
    "    prev_conn = sol_c[-1]\n",
    "    for conn in connections[j + 1:]:\n",
    "        new_conn = g.get_earliest_from_to(prev_conn, conn).iloc[0]\n",
    "        solution.append(new_conn)\n",
    "        prev_conn = new_conn\n",
    "    return solution"
   ],
   "metadata": {
    "collapsed": false,
    "ExecuteTime": {
     "end_time": "2024-04-03T20:12:02.289153400Z",
     "start_time": "2024-04-03T20:12:02.249317700Z"
    }
   },
   "id": "cd01463a78e6d9be",
   "execution_count": 24
  },
  {
   "cell_type": "code",
   "outputs": [],
   "source": [
    "vis_stops = ['Paprotna', 'Ogród Botaniczny', 'Czajkowskiego', 'Krucza', 'Renoma', 'Kępińska', 'Trzebnicka']\n",
    "start_stop = 'PL. GRUNWALDZKI'\n",
    "leave_hour = '08:00:00'"
   ],
   "metadata": {
    "collapsed": false,
    "ExecuteTime": {
     "end_time": "2024-04-03T20:12:07.782160400Z",
     "start_time": "2024-04-03T20:12:07.763693200Z"
    }
   },
   "id": "199ce50332f837da",
   "execution_count": 25
  },
  {
   "cell_type": "code",
   "outputs": [],
   "source": [
    "conns1 = naive_solution(OptimizationType.TIME, start_stop, vis_stops, leave_hour)"
   ],
   "metadata": {
    "collapsed": false,
    "ExecuteTime": {
     "end_time": "2024-04-03T20:12:42.180772200Z",
     "start_time": "2024-04-03T20:12:13.232996900Z"
    }
   },
   "id": "cb204b95d19c478",
   "execution_count": 26
  },
  {
   "cell_type": "code",
   "outputs": [
    {
     "name": "stdout",
     "output_type": "stream",
     "text": [
      "(0)  PL. GRUNWALDZKI [08:00:00] --- D ---> Kochanowskiego [08:03:00] [22596]\n",
      "(1)  Kochanowskiego [08:03:00] --- D ---> Śniadeckich [08:05:00] [22597]\n",
      "(2)  Śniadeckich [08:05:00] --- D ---> Zacisze [08:06:00] [22598]\n",
      "(3)  Zacisze [08:06:00] --- D ---> Kwidzyńska [08:08:00] [22599]\n",
      "(4)  Kwidzyńska [08:08:00] --- 6 ---> Kętrzyńska [08:09:00] [135055]\n",
      "(5)  Kętrzyńska [08:09:00] --- 6 ---> KROMERA [08:11:00] [135056]\n",
      "(6)  KROMERA [08:13:00] --- 116 ---> Berenta [08:14:00] [556881]\n",
      "(7)  Berenta [08:14:00] --- 116 ---> Kasprowicza [08:15:00] [556882]\n",
      "(8)  Kasprowicza [08:15:00] --- 130 ---> Syrokomli [08:16:00] [711637]\n",
      "(9)  Syrokomli [08:16:00] --- 130 ---> Pola [08:17:00] [711638]\n",
      "(10)  Pola [08:17:00] --- 130 ---> Broniewskiego [08:18:00] [711639]\n",
      "(11)  Broniewskiego [08:18:00] --- 118 ---> Bałtycka [08:20:00] [567781]\n",
      "(12)  Bałtycka [08:20:00] --- 118 ---> Bezpieczna [08:21:00] [567782]\n",
      "(13)  Bezpieczna [08:21:00] --- 602 ---> Paprotna [08:22:00] [933891]\n",
      "(14) ** Paprotna [08:25:00] --- 111 ---> Obornicka (Wołowska) [08:26:00] [512081]\n",
      "(15)  Obornicka (Wołowska) [08:26:00] --- 111 ---> Bezpieczna [08:27:00] [512082]\n",
      "(16)  Bezpieczna [08:27:00] --- K ---> Bałtycka [08:29:00] [32288]\n",
      "(17)  Bałtycka [08:29:00] --- K ---> Broniewskiego [08:31:00] [32289]\n",
      "(18)  Broniewskiego [08:32:00] --- 149 ---> Pola [08:33:00] [871098]\n",
      "(19)  Pola [08:33:00] --- 149 ---> Syrokomli [08:34:00] [871099]\n",
      "(20)  Syrokomli [08:34:00] --- 149 ---> Berenta [08:36:00] [871100]\n",
      "(21)  Berenta [08:36:00] --- 149 ---> KROMERA [08:39:00] [871101]\n",
      "(22)  KROMERA [08:39:00] --- 128 ---> Mosty Warszawskie [08:41:00] [686148]\n",
      "(23)  Mosty Warszawskie [08:41:00] --- 128 ---> Wyszyńskiego [08:43:00] [686149]\n",
      "(24)  Wyszyńskiego [08:43:00] --- 128 ---> Ogród Botaniczny [08:46:00] [686150]\n",
      "(25) ** Ogród Botaniczny [08:46:00] --- A ---> Wyszyńskiego [08:48:00] [1687]\n",
      "(26)  Wyszyńskiego [08:48:00] --- A ---> Damrota [08:49:00] [1688]\n",
      "(27)  Damrota [08:49:00] --- A ---> KROMERA [08:52:00] [1689]\n",
      "(28)  KROMERA [08:52:00] --- A ---> Berenta [08:54:00] [1690]\n",
      "(29)  Berenta [08:54:00] --- A ---> pl. Daniłowskiego [08:56:00] [1691]\n",
      "(30)  pl. Daniłowskiego [08:56:00] --- A ---> Przybyszewskiego [08:57:00] [1692]\n",
      "(31)  Przybyszewskiego [08:57:00] --- A ---> Czajkowskiego [08:58:00] [1693]\n",
      "(32) ** Czajkowskiego [08:58:00] --- A ---> KOSZAROWA (Uniwersytet) [09:00:00] [1694]\n",
      "(33)  KOSZAROWA (Uniwersytet) [09:00:00] --- A ---> KOSZAROWA (Szpital) [09:01:00] [1695]\n",
      "(34)  KOSZAROWA (Szpital) [09:03:00] --- 116 ---> pl. Daniłowskiego [09:06:00] [560168]\n",
      "(35)  pl. Daniłowskiego [09:08:00] --- A ---> Berenta [09:09:00] [1697]\n",
      "(36)  Berenta [09:09:00] --- A ---> KROMERA [09:12:00] [1698]\n",
      "(37)  KROMERA [09:12:00] --- A ---> Mosty Warszawskie [09:14:00] [1699]\n",
      "(38)  Mosty Warszawskie [09:14:00] --- A ---> Wyszyńskiego [09:16:00] [1700]\n",
      "(39)  Wyszyńskiego [09:16:00] --- A ---> Ogród Botaniczny [09:18:00] [1701]\n",
      "(40)  Ogród Botaniczny [09:18:00] --- A ---> Katedra [09:20:00] [1702]\n",
      "(41)  Katedra [09:20:00] --- A ---> Urząd Wojewódzki (Muzeum Narodowe) [09:21:00] [1703]\n",
      "(42)  Urząd Wojewódzki (Muzeum Narodowe) [09:21:00] --- A ---> Poczta Główna [09:22:00] [1704]\n",
      "(43)  Poczta Główna [09:22:00] --- A ---> skwer Krasińskiego [09:24:00] [1705]\n",
      "(44)  skwer Krasińskiego [09:24:00] --- A ---> Wzgórze Partyzantów [09:25:00] [1706]\n",
      "(45)  Wzgórze Partyzantów [09:25:00] --- A ---> Renoma [09:27:00] [1707]\n",
      "(46) ** Renoma [09:27:00] --- A ---> Arkady (Capitol) [09:29:00] [1708]\n",
      "(47)  Arkady (Capitol) [09:29:00] --- A ---> Pl. Hirszfelda [09:33:00] [1709]\n",
      "(48)  Pl. Hirszfelda [09:33:00] --- A ---> Krucza [09:35:00] [1710]\n",
      "(49) ** Krucza [09:35:00] --- 144 ---> Gajowicka [09:37:00] [818127]\n",
      "(50)  Gajowicka [09:37:00] --- 144 ---> Hallera [09:40:00] [818128]\n",
      "(51)  Hallera [09:40:00] --- 17 ---> Sztabowa [09:41:00] [291290]\n",
      "(52)  Sztabowa [09:41:00] --- 17 ---> Rondo [09:42:00] [291291]\n",
      "(53)  Rondo [09:42:00] --- 17 ---> Wielka [09:44:00] [291292]\n",
      "(54)  Wielka [09:44:00] --- 17 ---> Zaolziańska [09:45:00] [291293]\n",
      "(55)  Zaolziańska [09:45:00] --- 17 ---> Arkady (Capitol) [09:48:00] [291294]\n",
      "(56)  Arkady (Capitol) [09:48:00] --- 17 ---> Renoma [09:50:00] [291295]\n",
      "(57)  Renoma [09:50:00] --- 17 ---> Opera [09:51:00] [291296]\n",
      "(58)  Opera [09:53:00] --- 6 ---> ŚWIDNICKA (Dom Europy) [09:54:00] [129485]\n",
      "(59)  ŚWIDNICKA (Dom Europy) [09:54:00] --- 6 ---> Oławska [09:56:00] [129486]\n",
      "(60)  Oławska [09:56:00] --- 6 ---> Wita Stwosza [09:57:00] [129487]\n",
      "(61)  Wita Stwosza [09:57:00] --- 6 ---> Ossolineum (Uniwersytecka) [09:58:00] [129488]\n",
      "(62)  Ossolineum (Uniwersytecka) [09:58:00] --- 6 ---> Dubois [10:00:00] [129489]\n",
      "(63)  Dubois [10:00:00] --- 144 ---> Paulińska [10:02:00] [823808]\n",
      "(64)  Paulińska [10:02:00] --- 144 ---> DWORZEC NADODRZE [10:04:00] [823809]\n",
      "(65)  DWORZEC NADODRZE [10:04:00] --- 144 ---> Trzebnicka [10:06:00] [823810]\n",
      "(66) ** Trzebnicka [10:06:00] --- 144 ---> Broniewskiego [10:09:00] [823811]\n",
      "(67)  Broniewskiego [10:09:00] --- 144 ---> Kamieńskiego [10:11:00] [823812]\n",
      "(68)  Kamieńskiego [10:13:00] --- 1 ---> Kępińska [10:14:00] [59187]\n",
      "(69) ** Kępińska [10:16:00] --- 7 ---> Kamieńskiego [10:17:00] [146475]\n",
      "(70)  Kamieńskiego [10:17:00] --- 7 ---> Broniewskiego [10:19:00] [146476]\n",
      "(71)  Broniewskiego [10:19:00] --- 7 ---> Trzebnicka [10:22:00] [146477]\n",
      "(72)  Trzebnicka [10:22:00] --- 7 ---> DWORZEC NADODRZE [10:24:00] [146478]\n",
      "(73)  DWORZEC NADODRZE [10:26:00] --- 16 ---> Słowiańska [10:28:00] [279769]\n",
      "(74)  Słowiańska [10:28:00] --- 16 ---> Nowowiejska [10:30:00] [279770]\n",
      "(75)  Nowowiejska [10:30:00] --- 16 ---> Wyszyńskiego [10:32:00] [279771]\n",
      "(76)  Wyszyńskiego [10:32:00] --- 16 ---> Prusa [10:33:00] [279772]\n",
      "(77)  Prusa [10:33:00] --- 16 ---> Piastowska [10:35:00] [279773]\n",
      "(78)  Piastowska [10:35:00] --- 16 ---> PL. GRUNWALDZKI [10:39:00] [279774]\n"
     ]
    }
   ],
   "source": [
    "print_path_mark_stops(conns1, vis_stops)"
   ],
   "metadata": {
    "collapsed": false,
    "ExecuteTime": {
     "end_time": "2024-04-03T20:12:42.186778800Z",
     "start_time": "2024-04-03T20:12:42.175772600Z"
    }
   },
   "id": "72fc418aab871e5b",
   "execution_count": 27
  },
  {
   "cell_type": "code",
   "outputs": [
    {
     "name": "stdout",
     "output_type": "stream",
     "text": [
      "(0)  PL. GRUNWALDZKI [08:00:00] --- D ---> Kochanowskiego [08:03:00] [22596]\n",
      "(1)  Kochanowskiego [08:03:00] --- D ---> Śniadeckich [08:05:00] [22597]\n",
      "(2)  Śniadeckich [08:05:00] --- D ---> Zacisze [08:06:00] [22598]\n",
      "(3)  Zacisze [08:06:00] --- D ---> Kwidzyńska [08:08:00] [22599]\n",
      "(4)  Kwidzyńska [08:08:00] --- 6 ---> Kętrzyńska [08:09:00] [135055]\n",
      "(5)  Kętrzyńska [08:09:00] --- 6 ---> KROMERA [08:11:00] [135056]\n",
      "(6)  KROMERA [08:11:00] --- 6 ---> Mosty Warszawskie [08:13:00] [135057]\n",
      "(7)  Mosty Warszawskie [08:16:00] --- N ---> Wyszyńskiego [08:18:00] [46735]\n",
      "(8)  Wyszyńskiego [08:18:00] --- A ---> Damrota [08:19:00] [1223]\n",
      "(9)  Damrota [08:19:00] --- A ---> KROMERA [08:22:00] [1224]\n",
      "(10)  KROMERA [08:22:00] --- A ---> Berenta [08:24:00] [1225]\n",
      "(11)  Berenta [08:24:00] --- D ---> Kasprowicza [08:25:00] [21821]\n",
      "(12)  Kasprowicza [08:25:00] --- D ---> Syrokomli [08:26:00] [21822]\n",
      "(13)  Syrokomli [08:26:00] --- D ---> Pola [08:27:00] [21823]\n",
      "(14)  Pola [08:27:00] --- D ---> Broniewskiego [08:29:00] [21824]\n",
      "(15)  Broniewskiego [08:29:00] --- 132 ---> Pola [08:30:00] [733796]\n",
      "(16)  Pola [08:30:00] --- 132 ---> Syrokomli [08:31:00] [733797]\n",
      "(17)  Syrokomli [08:31:00] --- 132 ---> Kasprowicza [08:32:00] [733798]\n",
      "(18)  Kasprowicza [08:32:00] --- 132 ---> pl. Daniłowskiego [08:34:00] [733799]\n",
      "(19)  pl. Daniłowskiego [08:37:00] --- A ---> Przybyszewskiego [08:38:00] [5954]\n",
      "(20)  Przybyszewskiego [08:38:00] --- A ---> Czajkowskiego [08:39:00] [5955]\n",
      "(21) ** Czajkowskiego [08:39:00] --- A ---> KOSZAROWA (Uniwersytet) [08:41:00] [5956]\n",
      "(22)  KOSZAROWA (Uniwersytet) [08:41:00] --- A ---> KOSZAROWA (Szpital) [08:42:00] [5957]\n",
      "(23)  KOSZAROWA (Szpital) [08:44:00] --- A ---> pl. Daniłowskiego [08:46:00] [1231]\n",
      "(24)  pl. Daniłowskiego [08:46:00] --- A ---> Berenta [08:47:00] [1232]\n",
      "(25)  Berenta [08:47:00] --- A ---> KROMERA [08:50:00] [1233]\n",
      "(26)  KROMERA [08:50:00] --- A ---> Mosty Warszawskie [08:52:00] [1234]\n",
      "(27)  Mosty Warszawskie [08:52:00] --- A ---> Wyszyńskiego [08:54:00] [1235]\n",
      "(28)  Wyszyńskiego [08:54:00] --- A ---> Ogród Botaniczny [08:56:00] [1236]\n",
      "(29) ** Ogród Botaniczny [08:56:00] --- A ---> Katedra [08:57:00] [1237]\n",
      "(30)  Katedra [08:57:00] --- A ---> Urząd Wojewódzki (Muzeum Narodowe) [08:58:00] [1238]\n",
      "(31)  Urząd Wojewódzki (Muzeum Narodowe) [08:58:00] --- A ---> Poczta Główna [08:59:00] [1239]\n",
      "(32)  Poczta Główna [08:59:00] --- A ---> skwer Krasińskiego [09:01:00] [1240]\n",
      "(33)  skwer Krasińskiego [09:01:00] --- A ---> Wzgórze Partyzantów [09:02:00] [1241]\n",
      "(34)  Wzgórze Partyzantów [09:02:00] --- A ---> Renoma [09:04:00] [1242]\n",
      "(35) ** Renoma [09:04:00] --- A ---> Arkady (Capitol) [09:06:00] [1243]\n",
      "(36)  Arkady (Capitol) [09:06:00] --- A ---> Pl. Hirszfelda [09:10:00] [1244]\n",
      "(37)  Pl. Hirszfelda [09:10:00] --- A ---> Krucza [09:12:00] [1245]\n",
      "(38) ** Krucza [09:12:00] --- 127 ---> Gajowicka [09:14:00] [666711]\n",
      "(39)  Gajowicka [09:14:00] --- 127 ---> Hallera [09:17:00] [666712]\n",
      "(40)  Hallera [09:17:00] --- 2 ---> Sztabowa [09:18:00] [71855]\n",
      "(41)  Sztabowa [09:18:00] --- 2 ---> Rondo [09:19:00] [71856]\n",
      "(42)  Rondo [09:19:00] --- 2 ---> Wielka [09:21:00] [71857]\n",
      "(43)  Wielka [09:21:00] --- 2 ---> Zaolziańska [09:22:00] [71858]\n",
      "(44)  Zaolziańska [09:22:00] --- 2 ---> Arkady (Capitol) [09:25:00] [71859]\n",
      "(45)  Arkady (Capitol) [09:26:00] --- 17 ---> Renoma [09:28:00] [283850]\n",
      "(46)  Renoma [09:28:00] --- 17 ---> Opera [09:29:00] [283851]\n",
      "(47)  Opera [09:30:00] --- 7 ---> ŚWIDNICKA (Dom Europy) [09:31:00] [146460]\n",
      "(48)  ŚWIDNICKA (Dom Europy) [09:31:00] --- 7 ---> Oławska [09:33:00] [146461]\n",
      "(49)  Oławska [09:33:00] --- 7 ---> Wita Stwosza [09:34:00] [146462]\n",
      "(50)  Wita Stwosza [09:34:00] --- 7 ---> Ossolineum (Uniwersytecka) [09:35:00] [146463]\n",
      "(51)  Ossolineum (Uniwersytecka) [09:35:00] --- 7 ---> Dubois [09:38:00] [146464]\n",
      "(52)  Dubois [09:38:00] --- 7 ---> Paulińska [09:40:00] [146465]\n",
      "(53)  Paulińska [09:40:00] --- 7 ---> DWORZEC NADODRZE [09:42:00] [146466]\n",
      "(54)  DWORZEC NADODRZE [09:42:00] --- 7 ---> Trzebnicka [09:44:00] [146467]\n",
      "(55) ** Trzebnicka [09:44:00] --- 7 ---> Broniewskiego [09:48:00] [146468]\n",
      "(56)  Broniewskiego [09:48:00] --- 7 ---> Kamieńskiego [09:50:00] [146469]\n",
      "(57)  Kamieńskiego [09:50:00] --- 7 ---> Kępińska [09:51:00] [146470]\n",
      "(58) ** Kępińska [09:55:00] --- 1 ---> Kamieńskiego [09:56:00] [61237]\n",
      "(59)  Kamieńskiego [09:56:00] --- 1 ---> Broniewskiego [09:58:00] [61238]\n",
      "(60)  Broniewskiego [09:58:00] --- 1 ---> Trzebnicka [10:01:00] [61239]\n",
      "(61)  Trzebnicka [10:01:00] --- 1 ---> DWORZEC NADODRZE [10:03:00] [61240]\n",
      "(62)  DWORZEC NADODRZE [10:04:00] --- 1 ---> Słowiańska [10:06:00] [61242]\n",
      "(63)  Słowiańska [10:06:00] --- 1 ---> Nowowiejska [10:08:00] [61243]\n",
      "(64)  Nowowiejska [10:08:00] --- 1 ---> Wyszyńskiego [10:10:00] [61244]\n",
      "(65)  Wyszyńskiego [10:10:00] --- 1 ---> Prusa [10:11:00] [61245]\n",
      "(66)  Prusa [10:11:00] --- 1 ---> Piastowska [10:13:00] [61246]\n",
      "(67)  Piastowska [10:13:00] --- 1 ---> PL. GRUNWALDZKI [10:16:00] [61247]\n"
     ]
    }
   ],
   "source": [
    "print_path_mark_stops(insert_conn_between(conns1, 3, 17, 23, 32), vis_stops)"
   ],
   "metadata": {
    "collapsed": false,
    "ExecuteTime": {
     "end_time": "2024-04-03T20:21:19.184308Z",
     "start_time": "2024-04-03T20:21:09.923052800Z"
    }
   },
   "id": "f91d363533e47558",
   "execution_count": 28
  },
  {
   "cell_type": "code",
   "outputs": [
    {
     "data": {
      "text/plain": "[22596,\n 22597,\n 22598,\n 22599,\n 135055,\n 135056,\n 556881,\n 556882,\n 711637,\n 711638,\n 711639,\n 567781,\n 567782,\n 933891,\n 512081,\n 512082,\n 32288,\n 32289,\n 871098,\n 871099,\n 871100,\n 871101,\n 686148,\n 686149,\n 686150,\n 1687,\n 1688,\n 1689,\n 1690,\n 1691,\n 1692,\n 1693,\n 1694,\n 1695,\n 560168,\n 1697,\n 1698,\n 1699,\n 1700,\n 1701,\n 1702,\n 1703,\n 1704,\n 1705,\n 1706,\n 1707,\n 1708,\n 1709,\n 1710,\n 818127,\n 818128,\n 291290,\n 291291,\n 291292,\n 291293,\n 291294,\n 291295,\n 291296,\n 129485,\n 129486,\n 129487,\n 129488,\n 129489,\n 823808,\n 823809,\n 823810,\n 823811,\n 823812,\n 59187,\n 146475,\n 146476,\n 146477,\n 146478,\n 279769,\n 279770,\n 279771,\n 279772,\n 279773,\n 279774]"
     },
     "execution_count": 17,
     "metadata": {},
     "output_type": "execute_result"
    }
   ],
   "source": [
    "connections_idx(conns1)"
   ],
   "metadata": {
    "collapsed": false,
    "ExecuteTime": {
     "end_time": "2024-04-03T19:26:09.418477400Z",
     "start_time": "2024-04-03T19:26:09.286383900Z"
    }
   },
   "id": "93f26b89a4f7fece",
   "execution_count": 17
  },
  {
   "cell_type": "code",
   "outputs": [],
   "source": [
    "save_to_path = DATA_DIR / 'save_to_file'\n",
    "with open(save_to_path, mode='w', encoding='utf-8') as f:\n",
    "    print_path_mark_stops(conns1, vis_stops, f)\n",
    "    print(judge_t_solution(conns1, vis_stops), file=f)\n",
    "    print(\"---------\", file=f)\n",
    "    for (k, i, j) in [(13, 23, 31), (23, 31, 37), (31, 37, 42), (37, 42, 60), (42, 60, 72)]:\n",
    "        swaped_sol = insert_conn_between(conns1, k, i, j)\n",
    "        print_path_mark_stops(swaped_sol, vis_stops, f)\n",
    "        assert_connection_path(time_to_normalized_sec(leave_hour), start_stop, start_stop, swaped_sol)\n",
    "        print(get_matched_stops(swaped_sol, vis_stops), file=f)\n",
    "        print(judge_t_solution(swaped_sol, vis_stops), file=f)\n",
    "        print(\"--------------\", file=f)"
   ],
   "metadata": {
    "collapsed": false,
    "ExecuteTime": {
     "end_time": "2024-04-02T15:12:22.760788700Z",
     "start_time": "2024-04-02T15:11:19.367823300Z"
    }
   },
   "id": "c9102acaaaaea2df",
   "execution_count": 62
  },
  {
   "cell_type": "code",
   "outputs": [],
   "source": [
    "def get_matched_connections(connections, visiting_stops):\n",
    "    visiting_stops = set(visiting_stops)\n",
    "    indexes = set()\n",
    "    for i, conn in enumerate(connections):\n",
    "        if conn['end_stop'] in visiting_stops:\n",
    "            indexes.add(i)\n",
    "    indexes = list(indexes)\n",
    "    sorted(indexes)\n",
    "    return indexes"
   ],
   "metadata": {
    "collapsed": false,
    "ExecuteTime": {
     "end_time": "2024-04-03T20:37:29.282471700Z",
     "start_time": "2024-04-03T20:37:29.258920900Z"
    }
   },
   "id": "be5c1f6e89e12549",
   "execution_count": 59
  },
  {
   "cell_type": "code",
   "outputs": [
    {
     "data": {
      "text/plain": "[65, 71, 45, 48, 56]"
     },
     "execution_count": 58,
     "metadata": {},
     "output_type": "execute_result"
    }
   ],
   "source": [
    "get_matched_connections(conns1, vis_stops)"
   ],
   "metadata": {
    "collapsed": false,
    "ExecuteTime": {
     "end_time": "2024-04-03T20:37:09.540924Z",
     "start_time": "2024-04-03T20:37:09.519509800Z"
    }
   },
   "id": "15945a44baef3eb8",
   "execution_count": 58
  },
  {
   "cell_type": "code",
   "outputs": [],
   "source": [
    "TABU_SEARCH = DATA_DIR / 'tabu-search'\n",
    "os.makedirs(TABU_SEARCH, exist_ok=True)"
   ],
   "metadata": {
    "collapsed": false,
    "ExecuteTime": {
     "end_time": "2024-04-03T19:23:13.464462400Z",
     "start_time": "2024-04-03T19:23:13.380921900Z"
    }
   },
   "id": "25a9587c2ded3ab4",
   "execution_count": 13
  },
  {
   "cell_type": "code",
   "outputs": [],
   "source": [
    "def tabu_search(criterion: OptimizationType, start_stop: str, visiting_stops: List[str], leave_hour: str, outer_loops = 5):\n",
    "    # This initial solution could be the best solution from the possible stops permutations?\n",
    "    solution = naive_solution(criterion, start_stop, visiting_stops, leave_hour)\n",
    "    assert_connection_path(time_to_normalized_sec(leave_hour), start_stop, start_stop, solution)\n",
    "    found_solutions = set()\n",
    "    prev_best_sol = None\n",
    "    with open(TABU_SEARCH / 'test', mode='w', encoding='utf-8') as f:\n",
    "        print_path_mark_stops(solution, visiting_stops, f)\n",
    "        print(get_matched_stops(solution, visiting_stops), file=f)\n",
    "        \n",
    "        for _ in range(outer_loops):\n",
    "            curr_min_cost = judge_t_solution(solution, visiting_stops)\n",
    "            curr_min = solution\n",
    "            indexes_of_matched = get_matched_connections(solution, visiting_stops)\n",
    "            print(f\"cost = {round(curr_min_cost, 2)}\", file=f)\n",
    "            for o in range(len(indexes_of_matched) - 1):\n",
    "                i, j = indexes_of_matched[o], indexes_of_matched[o + 1]\n",
    "                print(f\"--------- [{o}] i={i}, j={j} -----------\", file=f)\n",
    "                for k in range(i):\n",
    "                    print(f\"k = {k}\", file=f)\n",
    "                    for m in range(k):\n",
    "                        print(f\"m = {m}\", file=f)\n",
    "                        perturbated_solution = insert_conn_between(solution, m, k, i, j)\n",
    "                        assert_connection_path(time_to_normalized_sec(leave_hour), start_stop, start_stop, perturbated_solution)\n",
    "                        pert_cost = judge_t_solution(perturbated_solution, visiting_stops)\n",
    "                        matched_all_stops = get_matched_stops(perturbated_solution, visiting_stops)[0] == len(visiting_stops)\n",
    "                        sol_idx = connections_idx(perturbated_solution)\n",
    "                    \n",
    "                        not_yet_visited = sol_idx not in found_solutions\n",
    "                        if not_yet_visited:\n",
    "                            found_solutions.add(sol_idx)\n",
    "                            if matched_all_stops and pert_cost < curr_min_cost:\n",
    "                                print(f\"IMPROVEMENT\", file=f)\n",
    "                                print_path_mark_stops(perturbated_solution, visiting_stops, f)\n",
    "                                print(get_matched_stops(perturbated_solution, visiting_stops), file=f)\n",
    "                                print(f\"cost = {round(pert_cost, 2)}\", file=f)\n",
    "                                curr_min = perturbated_solution\n",
    "                                curr_min_cost = pert_cost\n",
    "                            elif matched_all_stops:\n",
    "                                print(f\"NOT IMPROVEMENT of {round(pert_cost, 2)}, but matched all\", file=f)\n",
    "                        else:\n",
    "                            print(f\"Already matched\")\n",
    "                prev_best_sol = solution       \n",
    "                print(f\"Current solution = {get_matched_connections(solution, visiting_stops)}\")\n",
    "                solution = curr_min\n",
    "                if solution == prev_best_sol:\n",
    "                    break\n",
    "                 \n",
    "    return curr_min"
   ],
   "metadata": {
    "collapsed": false,
    "ExecuteTime": {
     "end_time": "2024-04-03T20:40:08.858170700Z",
     "start_time": "2024-04-03T20:40:08.844129800Z"
    }
   },
   "id": "225da2e1110cacb6",
   "execution_count": 64
  },
  {
   "cell_type": "code",
   "outputs": [],
   "source": [
    "vis_stops = ['Krucza', 'Trzebnicka', 'Renoma', 'most Grunwaldzki']\n",
    "start_stop = 'PL. GRUNWALDZKI'\n",
    "leave_hour = '08:00:00'"
   ],
   "metadata": {
    "collapsed": false,
    "ExecuteTime": {
     "end_time": "2024-04-03T20:41:03.968339800Z",
     "start_time": "2024-04-03T20:41:03.945475200Z"
    }
   },
   "id": "9c1183d71f897042",
   "execution_count": 69
  },
  {
   "cell_type": "code",
   "outputs": [
    {
     "data": {
      "text/plain": "['Krucza', 'Renoma', 'most Grunwaldzki', 'Trzebnicka']"
     },
     "execution_count": 51,
     "metadata": {},
     "output_type": "execute_result"
    }
   ],
   "source": [
    "vis_stops"
   ],
   "metadata": {
    "collapsed": false,
    "ExecuteTime": {
     "end_time": "2024-04-03T20:34:53.063919700Z",
     "start_time": "2024-04-03T20:34:53.046248600Z"
    }
   },
   "id": "ffa5da7f95668a1d",
   "execution_count": 51
  },
  {
   "cell_type": "code",
   "outputs": [],
   "source": [
    "sol2 = naive_solution(OptimizationType.TIME, start_stop, vis_stops, leave_hour)"
   ],
   "metadata": {
    "collapsed": false,
    "ExecuteTime": {
     "end_time": "2024-04-03T20:41:16.918573100Z",
     "start_time": "2024-04-03T20:41:05.286825800Z"
    }
   },
   "id": "57f4d95be76cc8ba",
   "execution_count": 70
  },
  {
   "cell_type": "code",
   "outputs": [
    {
     "data": {
      "text/plain": "(4, set())"
     },
     "execution_count": 61,
     "metadata": {},
     "output_type": "execute_result"
    }
   ],
   "source": [
    "get_matched_stops(sol2, vis_stops)"
   ],
   "metadata": {
    "collapsed": false,
    "ExecuteTime": {
     "end_time": "2024-04-03T20:39:07.083200200Z",
     "start_time": "2024-04-03T20:39:07.054180100Z"
    }
   },
   "id": "5a1a91443c84f761",
   "execution_count": 61
  },
  {
   "cell_type": "code",
   "outputs": [
    {
     "data": {
      "text/plain": "[0, 3, 6, 18, 25, 30]"
     },
     "execution_count": 71,
     "metadata": {},
     "output_type": "execute_result"
    }
   ],
   "source": [
    "get_matched_connections(sol2, vis_stops)"
   ],
   "metadata": {
    "collapsed": false,
    "ExecuteTime": {
     "end_time": "2024-04-03T20:41:16.925009500Z",
     "start_time": "2024-04-03T20:41:16.920550Z"
    }
   },
   "id": "b5db323710cd1b80",
   "execution_count": 71
  },
  {
   "cell_type": "code",
   "outputs": [
    {
     "name": "stdout",
     "output_type": "stream",
     "text": [
      "Current solution = [0, 3, 6, 18, 25, 30]\n",
      "Current solution = [0, 3, 6, 18, 25, 30]\n",
      "Current solution = [0, 3, 6, 18, 25, 30]\n",
      "Current solution = [0, 3, 6, 18, 25, 30]\n",
      "Current solution = [0, 3, 6, 18, 25, 30]\n"
     ]
    }
   ],
   "source": [
    "new_sol = tabu_search(OptimizationType.TIME, start_stop, vis_stops, leave_hour)"
   ],
   "metadata": {
    "collapsed": false,
    "ExecuteTime": {
     "end_time": "2024-04-03T20:41:27.301332600Z",
     "start_time": "2024-04-03T20:41:16.927006400Z"
    }
   },
   "id": "bf299188d78fee9c",
   "execution_count": 72
  },
  {
   "cell_type": "code",
   "outputs": [
    {
     "name": "stdout",
     "output_type": "stream",
     "text": [
      "(0)  PL. GRUNWALDZKI [08:00:00] --- 146 ---> most Grunwaldzki [08:02:00] [849563]\n",
      "(1) ** most Grunwaldzki [08:02:00] --- 146 ---> Poczta Główna [08:04:00] [849564]\n",
      "(2)  Poczta Główna [08:04:00] --- D ---> GALERIA DOMINIKAŃSKA [08:06:00] [14559]\n",
      "(3)  GALERIA DOMINIKAŃSKA [08:06:00] --- D ---> Renoma [08:09:00] [14560]\n",
      "(4) ** Renoma [08:09:00] --- D ---> Arkady (Capitol) [08:11:00] [14561]\n",
      "(5)  Arkady (Capitol) [08:11:00] --- A ---> Pl. Hirszfelda [08:15:00] [287]\n",
      "(6)  Pl. Hirszfelda [08:15:00] --- A ---> Krucza [08:17:00] [288]\n",
      "(7) ** Krucza [08:17:00] --- 144 ---> Żelazna [08:18:00] [815299]\n",
      "(8)  Żelazna [08:18:00] --- 144 ---> Zaporoska [08:19:00] [815300]\n",
      "(9)  Zaporoska [08:19:00] --- 144 ---> Zielińskiego [08:20:00] [815301]\n",
      "(10)  Zielińskiego [08:20:00] --- 144 ---> Piłsudskiego [08:22:00] [815302]\n",
      "(11)  Piłsudskiego [08:22:00] --- 144 ---> pl. Orląt Lwowskich [08:24:00] [815303]\n",
      "(12)  pl. Orląt Lwowskich [08:24:00] --- 144 ---> PL. JANA PAWŁA II [08:27:00] [815304]\n",
      "(13)  PL. JANA PAWŁA II [08:27:00] --- 144 ---> Kępa Mieszczańska [08:29:00] [815305]\n",
      "(14)  Kępa Mieszczańska [08:29:00] --- 144 ---> Pomorska [08:31:00] [815306]\n",
      "(15)  Pomorska [08:31:00] --- 144 ---> Dubois [08:33:00] [815307]\n",
      "(16)  Dubois [08:33:00] --- 144 ---> Paulińska [08:35:00] [815308]\n",
      "(17)  Paulińska [08:35:00] --- 144 ---> DWORZEC NADODRZE [08:37:00] [815309]\n",
      "(18)  DWORZEC NADODRZE [08:37:00] --- 144 ---> Trzebnicka [08:39:00] [815310]\n",
      "(19) ** Trzebnicka [08:39:00] --- 908 ---> DWORZEC NADODRZE [08:41:00] [954608]\n",
      "(20)  DWORZEC NADODRZE [08:41:00] --- 14 ---> Paulińska [08:43:00] [247289]\n",
      "(21)  Paulińska [08:43:00] --- 14 ---> Dubois [08:45:00] [247290]\n",
      "(22)  Dubois [08:46:00] --- 6 ---> Uniwersytet Wrocławski [08:48:00] [132891]\n",
      "(23)  Uniwersytet Wrocławski [08:48:00] --- 6 ---> Rynek [08:51:00] [132892]\n",
      "(24)  Rynek [08:51:00] --- 6 ---> Narodowe Forum Muzyki [08:53:00] [132893]\n",
      "(25)  Narodowe Forum Muzyki [08:53:00] --- 6 ---> Renoma [08:56:00] [132894]\n",
      "(26)  Renoma [08:59:00] --- 148 ---> Dworzec Główny (Dworcowa) [09:02:00] [857521]\n",
      "(27)  Dworzec Główny (Dworcowa) [09:03:00] --- 145 ---> skwer Krasińskiego [09:05:00] [833311]\n",
      "(28)  skwer Krasińskiego [09:05:00] --- 145 ---> Krasińskiego [09:06:00] [833312]\n",
      "(29)  Krasińskiego [09:06:00] --- 145 ---> Urząd Wojewódzki (Impart) [09:09:00] [833313]\n",
      "(30)  Urząd Wojewódzki (Impart) [09:09:00] --- 145 ---> most Grunwaldzki [09:10:00] [833314]\n",
      "(31)  most Grunwaldzki [09:10:00] --- 145 ---> PL. GRUNWALDZKI [09:12:00] [833315]\n"
     ]
    }
   ],
   "source": [
    "print_path_mark_stops(new_sol, vis_stops)"
   ],
   "metadata": {
    "collapsed": false,
    "ExecuteTime": {
     "end_time": "2024-04-03T20:41:27.303498700Z",
     "start_time": "2024-04-03T20:41:27.254255300Z"
    }
   },
   "id": "4d6f2ce1105f4d02",
   "execution_count": 73
  },
  {
   "cell_type": "code",
   "outputs": [],
   "source": [
    "print_path_mark_stops(new_sol, )"
   ],
   "metadata": {
    "collapsed": false
   },
   "id": "58e6ccb8c41ec05f"
  },
  {
   "cell_type": "code",
   "outputs": [
    {
     "name": "stdout",
     "output_type": "stream",
     "text": [
      "(0)  PL. GRUNWALDZKI [08:00:00] --- 146 ---> most Grunwaldzki [08:02:00] [849563]\n",
      "(1) ** most Grunwaldzki [08:02:00] --- 146 ---> Poczta Główna [08:04:00] [849564]\n",
      "(2)  Poczta Główna [08:04:00] --- D ---> GALERIA DOMINIKAŃSKA [08:06:00] [14559]\n",
      "(3)  GALERIA DOMINIKAŃSKA [08:06:00] --- D ---> Renoma [08:09:00] [14560]\n",
      "(4) ** Renoma [08:09:00] --- D ---> Arkady (Capitol) [08:11:00] [14561]\n",
      "(5)  Arkady (Capitol) [08:11:00] --- A ---> Pl. Hirszfelda [08:15:00] [287]\n",
      "(6)  Pl. Hirszfelda [08:15:00] --- A ---> Krucza [08:17:00] [288]\n",
      "(7) ** Krucza [08:17:00] --- 144 ---> Żelazna [08:18:00] [815299]\n",
      "(8)  Żelazna [08:18:00] --- 144 ---> Zaporoska [08:19:00] [815300]\n",
      "(9)  Zaporoska [08:19:00] --- 144 ---> Zielińskiego [08:20:00] [815301]\n",
      "(10)  Zielińskiego [08:20:00] --- 144 ---> Piłsudskiego [08:22:00] [815302]\n",
      "(11)  Piłsudskiego [08:22:00] --- 144 ---> pl. Orląt Lwowskich [08:24:00] [815303]\n",
      "(12)  pl. Orląt Lwowskich [08:27:00] --- 148 ---> Renoma [08:29:00] [857002]\n",
      "(13)  Renoma [08:29:00] --- 6 ---> Opera [08:30:00] [134549]\n",
      "(14)  Opera [08:30:00] --- 6 ---> ŚWIDNICKA (Dom Europy) [08:31:00] [134550]\n",
      "(15)  ŚWIDNICKA (Dom Europy) [08:31:00] --- 6 ---> Oławska [08:33:00] [134551]\n",
      "(16)  Oławska [08:33:00] --- 6 ---> Wita Stwosza [08:34:00] [134552]\n",
      "(17)  Wita Stwosza [08:34:00] --- 6 ---> Ossolineum (Uniwersytecka) [08:35:00] [134553]\n",
      "(18)  Ossolineum (Uniwersytecka) [08:35:00] --- 6 ---> Dubois [08:38:00] [134554]\n",
      "(19)  Dubois [08:42:00] --- 14 ---> Paulińska [08:44:00] [253829]\n",
      "(20)  Paulińska [08:44:00] --- 14 ---> DWORZEC NADODRZE [08:46:00] [253830]\n",
      "(21)  DWORZEC NADODRZE [08:46:00] --- 1 ---> Trzebnicka [08:48:00] [58476]\n",
      "(22) ** Trzebnicka [08:49:00] --- 1 ---> DWORZEC NADODRZE [08:51:00] [60692]\n",
      "(23)  DWORZEC NADODRZE [08:52:00] --- 1 ---> Słowiańska [08:54:00] [60694]\n",
      "(24)  Słowiańska [08:54:00] --- 1 ---> Nowowiejska [08:56:00] [60695]\n",
      "(25)  Nowowiejska [08:56:00] --- 1 ---> Wyszyńskiego [08:58:00] [60696]\n",
      "(26)  Wyszyńskiego [08:58:00] --- 1 ---> Prusa [08:59:00] [60697]\n",
      "(27)  Prusa [08:59:00] --- 1 ---> Piastowska [09:01:00] [60698]\n",
      "(28)  Piastowska [09:01:00] --- 1 ---> PL. GRUNWALDZKI [09:04:00] [60699]\n",
      "(29)  PL. GRUNWALDZKI [09:04:00] --- 4 ---> most Grunwaldzki [09:05:00] [107943]\n",
      "(30)  most Grunwaldzki [09:05:00] --- 12 ---> PL. GRUNWALDZKI [09:07:00] [226189]\n"
     ]
    }
   ],
   "source": [
    "print_path_mark_stops(new_sol, vis_stops)"
   ],
   "metadata": {
    "collapsed": false,
    "ExecuteTime": {
     "end_time": "2024-04-02T20:30:53.473515600Z",
     "start_time": "2024-04-02T20:30:53.455774800Z"
    }
   },
   "id": "583d6c1df04e5429",
   "execution_count": 44
  },
  {
   "cell_type": "code",
   "outputs": [
    {
     "name": "stdout",
     "output_type": "stream",
     "text": [
      "(0)  PL. GRUNWALDZKI [08:00:00] --- D ---> Kochanowskiego [08:03:00] [22596]\n",
      "(1)  Kochanowskiego [08:03:00] --- D ---> Śniadeckich [08:05:00] [22597]\n",
      "(2)  Śniadeckich [08:05:00] --- D ---> Zacisze [08:06:00] [22598]\n",
      "(3)  Zacisze [08:06:00] --- D ---> Kwidzyńska [08:08:00] [22599]\n",
      "(4)  Kwidzyńska [08:08:00] --- 6 ---> Kętrzyńska [08:09:00] [135055]\n",
      "(5)  Kętrzyńska [08:09:00] --- 6 ---> KROMERA [08:11:00] [135056]\n",
      "(6)  KROMERA [08:13:00] --- 116 ---> Berenta [08:14:00] [556881]\n",
      "(7)  Berenta [08:14:00] --- 116 ---> Kasprowicza [08:15:00] [556882]\n",
      "(8)  Kasprowicza [08:15:00] --- 130 ---> Syrokomli [08:16:00] [711637]\n",
      "(9)  Syrokomli [08:16:00] --- 130 ---> Pola [08:17:00] [711638]\n",
      "(10)  Pola [08:17:00] --- 130 ---> Broniewskiego [08:18:00] [711639]\n",
      "(11)  Broniewskiego [08:18:00] --- 118 ---> Bałtycka [08:20:00] [567781]\n",
      "(12)  Bałtycka [08:20:00] --- 118 ---> Bezpieczna [08:21:00] [567782]\n",
      "(13)  Bezpieczna [08:21:00] --- 602 ---> Paprotna [08:22:00] [933891]\n",
      "(14) ** Paprotna [08:25:00] --- 111 ---> Obornicka (Wołowska) [08:26:00] [512081]\n",
      "(15)  Obornicka (Wołowska) [08:26:00] --- 111 ---> Bezpieczna [08:27:00] [512082]\n",
      "(16)  Bezpieczna [08:27:00] --- K ---> Bałtycka [08:29:00] [32288]\n",
      "(17)  Bałtycka [08:29:00] --- K ---> Broniewskiego [08:31:00] [32289]\n",
      "(18)  Broniewskiego [08:32:00] --- 149 ---> Pola [08:33:00] [871098]\n",
      "(19)  Pola [08:33:00] --- 149 ---> Syrokomli [08:34:00] [871099]\n",
      "(20)  Syrokomli [08:34:00] --- 149 ---> Berenta [08:36:00] [871100]\n",
      "(21)  Berenta [08:37:00] --- 118 ---> pl. Daniłowskiego [08:39:00] [569748]\n",
      "(22)  pl. Daniłowskiego [08:40:00] --- 116 ---> Przybyszewskiego [08:41:00] [558574]\n",
      "(23)  Przybyszewskiego [08:41:00] --- 116 ---> Czajkowskiego [08:42:00] [558575]\n",
      "(24) ** Czajkowskiego [08:42:00] --- 116 ---> Koszarowa [08:44:00] [558576]\n",
      "(25)  Koszarowa [08:47:00] --- 116 ---> KOSZAROWA (Szpital) [08:48:00] [559320]\n",
      "(26)  KOSZAROWA (Szpital) [08:48:00] --- 116 ---> pl. Daniłowskiego [08:51:00] [559321]\n",
      "(27)  pl. Daniłowskiego [08:51:00] --- 130 ---> Berenta [08:52:00] [715929]\n",
      "(28)  Berenta [08:52:00] --- 130 ---> KROMERA [08:57:00] [715930]\n",
      "(29)  KROMERA [08:57:00] --- 23 ---> Mosty Warszawskie [08:59:00] [382992]\n",
      "(30)  Mosty Warszawskie [09:00:00] --- 128 ---> Wyszyńskiego [09:02:00] [679764]\n",
      "(31)  Wyszyńskiego [09:02:00] --- 128 ---> Ogród Botaniczny [09:05:00] [679765]\n",
      "(32) ** Ogród Botaniczny [09:09:00] --- N ---> Katedra [09:10:00] [47415]\n",
      "(33)  Katedra [09:10:00] --- N ---> Urząd Wojewódzki (Muzeum Narodowe) [09:11:00] [47416]\n",
      "(34)  Urząd Wojewódzki (Muzeum Narodowe) [09:11:00] --- N ---> Poczta Główna [09:12:00] [47417]\n",
      "(35)  Poczta Główna [09:12:00] --- 149 ---> skwer Krasińskiego [09:15:00] [873089]\n",
      "(36)  skwer Krasińskiego [09:15:00] --- 149 ---> Wzgórze Partyzantów [09:16:00] [873090]\n",
      "(37)  Wzgórze Partyzantów [09:16:00] --- 149 ---> Renoma [09:18:00] [873091]\n",
      "(38) ** Renoma [09:19:00] --- 7 ---> Arkady (Capitol) [09:21:00] [139927]\n",
      "(39)  Arkady (Capitol) [09:21:00] --- 7 ---> Zaolziańska [09:23:00] [139928]\n",
      "(40)  Zaolziańska [09:23:00] --- 7 ---> Wielka [09:24:00] [139929]\n",
      "(41)  Wielka [09:24:00] --- 7 ---> Rondo [09:25:00] [139930]\n",
      "(42)  Rondo [09:25:00] --- 124 ---> Krucza [09:28:00] [622419]\n",
      "(43) ** Krucza [09:29:00] --- 144 ---> Żelazna [09:31:00] [817138]\n",
      "(44)  Żelazna [09:31:00] --- 144 ---> Zaporoska [09:33:00] [817139]\n",
      "(45)  Zaporoska [09:33:00] --- 144 ---> Zielińskiego [09:34:00] [817140]\n",
      "(46)  Zielińskiego [09:34:00] --- 144 ---> Piłsudskiego [09:36:00] [817141]\n",
      "(47)  Piłsudskiego [09:36:00] --- 144 ---> pl. Orląt Lwowskich [09:38:00] [817142]\n",
      "(48)  pl. Orląt Lwowskich [09:39:00] --- 149 ---> Renoma [09:41:00] [870112]\n",
      "(49)  Renoma [09:44:00] --- 7 ---> Opera [09:45:00] [147846]\n",
      "(50)  Opera [09:45:00] --- 7 ---> ŚWIDNICKA (Dom Europy) [09:46:00] [147847]\n",
      "(51)  ŚWIDNICKA (Dom Europy) [09:46:00] --- 7 ---> Oławska [09:48:00] [147848]\n",
      "(52)  Oławska [09:48:00] --- 7 ---> Wita Stwosza [09:49:00] [147849]\n",
      "(53)  Wita Stwosza [09:49:00] --- 7 ---> Ossolineum (Uniwersytecka) [09:50:00] [147850]\n",
      "(54)  Ossolineum (Uniwersytecka) [09:50:00] --- 7 ---> Dubois [09:53:00] [147851]\n",
      "(55)  Dubois [09:53:00] --- 7 ---> Paulińska [09:55:00] [147852]\n",
      "(56)  Paulińska [09:55:00] --- 7 ---> DWORZEC NADODRZE [09:57:00] [147853]\n",
      "(57)  DWORZEC NADODRZE [09:57:00] --- 7 ---> Trzebnicka [09:59:00] [147854]\n",
      "(58)  Trzebnicka [09:59:00] --- 7 ---> Broniewskiego [10:03:00] [147855]\n",
      "(59)  Broniewskiego [10:03:00] --- 7 ---> Kamieńskiego [10:05:00] [147856]\n",
      "(60)  Kamieńskiego [10:05:00] --- 7 ---> Kępińska [10:06:00] [147857]\n",
      "(61) ** Kępińska [10:06:00] --- D ---> Kamieńskiego [10:07:00] [17261]\n",
      "(62)  Kamieńskiego [10:07:00] --- D ---> Broniewskiego [10:09:00] [17262]\n",
      "(63)  Broniewskiego [10:09:00] --- D ---> Pola [10:10:00] [17263]\n",
      "(64)  Pola [10:10:00] --- D ---> Syrokomli [10:11:00] [17264]\n",
      "(65)  Syrokomli [10:11:00] --- D ---> Berenta [10:13:00] [17265]\n",
      "(66)  Berenta [10:13:00] --- D ---> KROMERA [10:15:00] [17266]\n",
      "(67)  KROMERA [10:17:00] --- 118 ---> Kwidzyńska [10:21:00] [569783]\n",
      "(68)  Kwidzyńska [10:21:00] --- 121 ---> Zacisze [10:22:00] [595467]\n",
      "(69)  Zacisze [10:22:00] --- 121 ---> Śniadeckich [10:23:00] [595468]\n",
      "(70)  Śniadeckich [10:23:00] --- 121 ---> Kochanowskiego [10:25:00] [595469]\n",
      "(71)  Kochanowskiego [10:25:00] --- 121 ---> Bujwida [10:27:00] [595470]\n",
      "(72)  Bujwida [10:27:00] --- 121 ---> PL. GRUNWALDZKI [10:29:00] [595471]\n"
     ]
    }
   ],
   "source": [
    "print_path_mark_stops(conns1, vis_stops)"
   ],
   "metadata": {
    "collapsed": false,
    "ExecuteTime": {
     "end_time": "2024-04-02T14:21:29.562956400Z",
     "start_time": "2024-04-02T14:21:29.548125500Z"
    }
   },
   "id": "65b904b7707bdc7c",
   "execution_count": 37
  },
  {
   "cell_type": "code",
   "outputs": [],
   "source": [
    "inserted_conns1 = insert_conn_between(conns1, 13, 23, 31)"
   ],
   "metadata": {
    "collapsed": false,
    "ExecuteTime": {
     "end_time": "2024-04-02T14:23:52.571844800Z",
     "start_time": "2024-04-02T14:23:43.685132500Z"
    }
   },
   "id": "fb81b32336359c45",
   "execution_count": 44
  },
  {
   "cell_type": "code",
   "outputs": [
    {
     "name": "stdout",
     "output_type": "stream",
     "text": [
      "(0)  PL. GRUNWALDZKI [08:00:00] --- D ---> Kochanowskiego [08:03:00] [22596]\n",
      "(1)  Kochanowskiego [08:03:00] --- D ---> Śniadeckich [08:05:00] [22597]\n",
      "(2)  Śniadeckich [08:05:00] --- D ---> Zacisze [08:06:00] [22598]\n",
      "(3)  Zacisze [08:06:00] --- D ---> Kwidzyńska [08:08:00] [22599]\n",
      "(4)  Kwidzyńska [08:08:00] --- 6 ---> Kętrzyńska [08:09:00] [135055]\n",
      "(5)  Kętrzyńska [08:09:00] --- 6 ---> KROMERA [08:11:00] [135056]\n",
      "(6)  KROMERA [08:13:00] --- 116 ---> Berenta [08:14:00] [556881]\n",
      "(7)  Berenta [08:14:00] --- 116 ---> Kasprowicza [08:15:00] [556882]\n",
      "(8)  Kasprowicza [08:15:00] --- 130 ---> Syrokomli [08:16:00] [711637]\n",
      "(9)  Syrokomli [08:16:00] --- 130 ---> Pola [08:17:00] [711638]\n",
      "(10)  Pola [08:17:00] --- 130 ---> Broniewskiego [08:18:00] [711639]\n",
      "(11)  Broniewskiego [08:18:00] --- 118 ---> Bałtycka [08:20:00] [567781]\n",
      "(12)  Bałtycka [08:20:00] --- 118 ---> Bezpieczna [08:21:00] [567782]\n",
      "(13)  Bezpieczna [08:24:00] --- 119 ---> Bałtycka (szkoła) [08:25:00] [575863]\n",
      "(14)  Bałtycka (szkoła) [08:25:00] --- 119 ---> Bałtycka [08:26:00] [575864]\n",
      "(15)  Bałtycka [08:26:00] --- 119 ---> Broniewskiego [08:28:00] [575865]\n",
      "(16)  Broniewskiego [08:28:00] --- 119 ---> Pola [08:29:00] [575866]\n",
      "(17)  Pola [08:29:00] --- 119 ---> Syrokomli [08:30:00] [575867]\n",
      "(18)  Syrokomli [08:30:00] --- 119 ---> Kasprowicza [08:31:00] [575868]\n",
      "(19)  Kasprowicza [08:31:00] --- 119 ---> pl. Daniłowskiego [08:32:00] [575869]\n",
      "(20)  pl. Daniłowskiego [08:32:00] --- 119 ---> Przybyszewskiego [08:33:00] [575870]\n",
      "(21)  Przybyszewskiego [08:33:00] --- 119 ---> Czajkowskiego [08:34:00] [575871]\n",
      "(22) ** Czajkowskiego [08:34:00] --- 119 ---> Koszarowa [08:35:00] [575872]\n",
      "(23)  Koszarowa [08:38:00] --- 119 ---> KOSZAROWA (Szpital) [08:39:00] [582828]\n",
      "(24)  KOSZAROWA (Szpital) [08:39:00] --- 119 ---> pl. Daniłowskiego [08:42:00] [582829]\n",
      "(25)  pl. Daniłowskiego [08:42:00] --- 119 ---> Kasprowicza [08:43:00] [582830]\n",
      "(26)  Kasprowicza [08:43:00] --- 119 ---> Syrokomli [08:44:00] [582831]\n",
      "(27)  Syrokomli [08:44:00] --- 119 ---> Pola [08:45:00] [582832]\n",
      "(28)  Pola [08:45:00] --- N ---> Broniewskiego [08:47:00] [50316]\n",
      "(29)  Broniewskiego [08:48:00] --- 119 ---> Bałtycka [08:50:00] [582834]\n",
      "(30)  Bałtycka [08:50:00] --- 119 ---> Bezpieczna [08:52:00] [582835]\n",
      "(31)  Bezpieczna [08:54:00] --- 142 ---> Paprotna [08:55:00] [779771]\n",
      "(32) ** Paprotna [08:55:00] --- 111 ---> Obornicka (Wołowska) [08:56:00] [505158]\n",
      "(33)  Obornicka (Wołowska) [08:56:00] --- 111 ---> Bezpieczna [08:57:00] [505159]\n",
      "(34)  Bezpieczna [08:57:00] --- 111 ---> Bałtycka (szkoła) [08:58:00] [505160]\n",
      "(35)  Bałtycka (szkoła) [08:58:00] --- 111 ---> Bałtycka [08:59:00] [505161]\n",
      "(36)  Bałtycka [08:59:00] --- 111 ---> Broniewskiego [09:01:00] [505162]\n",
      "(37)  Broniewskiego [09:01:00] --- 111 ---> Zakładowa [09:03:00] [505163]\n",
      "(38)  Zakładowa [09:03:00] --- 111 ---> Słonimskiego [09:04:00] [505164]\n",
      "(39)  Słonimskiego [09:04:00] --- 111 ---> Daszyńskiego [09:06:00] [505165]\n",
      "(40)  Daszyńskiego [09:06:00] --- 111 ---> Nowowiejska [09:08:00] [505166]\n",
      "(41)  Nowowiejska [09:08:00] --- 111 ---> Jedności Narodowej [09:09:00] [505167]\n",
      "(42)  Jedności Narodowej [09:09:00] --- 111 ---> Na Szańcach [09:10:00] [505168]\n",
      "(43)  Na Szańcach [09:10:00] --- 111 ---> pl. Bema [09:12:00] [505169]\n",
      "(44)  pl. Bema [09:12:00] --- 111 ---> Ogród Botaniczny [09:14:00] [505170]\n",
      "(45) ** Ogród Botaniczny [09:14:00] --- 111 ---> Katedra [09:16:00] [505171]\n",
      "(46)  Katedra [09:16:00] --- 924 ---> Urząd Wojewódzki (Muzeum Narodowe) [09:17:00] [977150]\n",
      "(47)  Urząd Wojewódzki (Muzeum Narodowe) [09:17:00] --- A ---> Poczta Główna [09:18:00] [6773]\n",
      "(48)  Poczta Główna [09:18:00] --- A ---> skwer Krasińskiego [09:21:00] [6774]\n",
      "(49)  skwer Krasińskiego [09:21:00] --- A ---> Wzgórze Partyzantów [09:22:00] [6775]\n",
      "(50)  Wzgórze Partyzantów [09:22:00] --- A ---> Renoma [09:24:00] [6776]\n",
      "(51) ** Renoma [09:24:00] --- A ---> Arkady (Capitol) [09:26:00] [6777]\n",
      "(52)  Arkady (Capitol) [09:26:00] --- 6 ---> Zaolziańska [09:28:00] [128642]\n",
      "(53)  Zaolziańska [09:28:00] --- 6 ---> Wielka [09:29:00] [128643]\n",
      "(54)  Wielka [09:29:00] --- 6 ---> Rondo [09:30:00] [128644]\n",
      "(55)  Rondo [09:40:00] --- 134 ---> Krucza [09:43:00] [753479]\n",
      "(56) ** Krucza [09:44:00] --- 144 ---> Żelazna [09:46:00] [815856]\n",
      "(57)  Żelazna [09:46:00] --- 144 ---> Zaporoska [09:48:00] [815857]\n",
      "(58)  Zaporoska [09:48:00] --- 144 ---> Zielińskiego [09:49:00] [815858]\n",
      "(59)  Zielińskiego [09:49:00] --- 144 ---> Piłsudskiego [09:51:00] [815859]\n",
      "(60)  Piłsudskiego [09:51:00] --- 144 ---> pl. Orląt Lwowskich [09:53:00] [815860]\n",
      "(61)  pl. Orląt Lwowskich [09:54:00] --- 148 ---> Renoma [09:56:00] [858069]\n",
      "(62)  Renoma [09:56:00] --- 17 ---> Opera [09:57:00] [291936]\n",
      "(63)  Opera [10:00:00] --- 7 ---> ŚWIDNICKA (Dom Europy) [10:01:00] [149128]\n",
      "(64)  ŚWIDNICKA (Dom Europy) [10:01:00] --- 7 ---> Oławska [10:03:00] [149129]\n",
      "(65)  Oławska [10:03:00] --- 7 ---> Wita Stwosza [10:04:00] [149130]\n",
      "(66)  Wita Stwosza [10:04:00] --- 7 ---> Ossolineum (Uniwersytecka) [10:05:00] [149131]\n",
      "(67)  Ossolineum (Uniwersytecka) [10:06:00] --- 7 ---> Dubois [10:08:00] [141450]\n",
      "(68)  Dubois [10:08:00] --- 7 ---> Paulińska [10:10:00] [141451]\n",
      "(69)  Paulińska [10:10:00] --- 7 ---> DWORZEC NADODRZE [10:12:00] [141452]\n",
      "(70)  DWORZEC NADODRZE [10:12:00] --- 7 ---> Trzebnicka [10:14:00] [141453]\n",
      "(71)  Trzebnicka [10:14:00] --- 7 ---> Broniewskiego [10:17:00] [141454]\n",
      "(72)  Broniewskiego [10:17:00] --- 7 ---> Kamieńskiego [10:19:00] [141455]\n",
      "(73)  Kamieńskiego [10:19:00] --- 7 ---> Kępińska [10:20:00] [141456]\n",
      "(74) ** Kępińska [10:21:00] --- 1 ---> Kamieńskiego [10:22:00] [54727]\n",
      "(75)  Kamieńskiego [10:22:00] --- 1 ---> Broniewskiego [10:24:00] [54728]\n",
      "(76)  Broniewskiego [10:25:00] --- 105 ---> Pola [10:26:00] [452406]\n",
      "(77)  Pola [10:26:00] --- 105 ---> Syrokomli [10:27:00] [452407]\n",
      "(78)  Syrokomli [12:28:00] --- 315 ---> Berenta [12:30:00] [928554]\n",
      "(79)  Berenta [12:30:00] --- 315 ---> KROMERA [12:32:00] [928555]\n",
      "(80)  KROMERA [12:37:00] --- 116 ---> Kwidzyńska [12:39:00] [556571]\n",
      "(81)  Kwidzyńska [12:39:00] --- 116 ---> Zacisze [12:40:00] [556572]\n",
      "(82)  Zacisze [12:40:00] --- 116 ---> Śniadeckich [12:41:00] [556573]\n",
      "(83)  Śniadeckich [12:41:00] --- 116 ---> Kochanowskiego [12:43:00] [556574]\n",
      "(84)  Kochanowskiego [12:44:00] --- 13 ---> Bujwida [12:46:00] [240967]\n",
      "(85)  Bujwida [12:46:00] --- 13 ---> PL. GRUNWALDZKI [12:48:00] [240968]\n"
     ]
    }
   ],
   "source": [
    "print_path_mark_stops(inserted_conns1, vis_stops)"
   ],
   "metadata": {
    "collapsed": false,
    "ExecuteTime": {
     "end_time": "2024-04-02T14:24:07.357449100Z",
     "start_time": "2024-04-02T14:24:07.336345200Z"
    }
   },
   "id": "f7416b5d67ec0aaa",
   "execution_count": 45
  },
  {
   "cell_type": "code",
   "outputs": [],
   "source": [
    "assert_connection_path(time_to_normalized_sec(leave_hour), start_stop, start_stop, inserted_conns1)"
   ],
   "metadata": {
    "collapsed": false,
    "ExecuteTime": {
     "end_time": "2024-04-02T14:24:38.257458100Z",
     "start_time": "2024-04-02T14:24:38.247704800Z"
    }
   },
   "id": "f84af298b930aae8",
   "execution_count": 46
  },
  {
   "cell_type": "code",
   "outputs": [],
   "source": [
    "sol_a = conn_e_i_e_j(sol3, 0, 30)"
   ],
   "metadata": {
    "collapsed": false,
    "ExecuteTime": {
     "end_time": "2024-04-01T20:19:59.875423400Z",
     "start_time": "2024-04-01T20:19:58.785378400Z"
    }
   },
   "id": "1948a832e73ce54",
   "execution_count": 46
  },
  {
   "cell_type": "code",
   "outputs": [
    {
     "name": "stdout",
     "output_type": "stream",
     "text": [
      "(0) PL. GRUNWALDZKI [10:30:00] --- 16 ---> Piastowska [10:32:00] [279406]\n",
      "(1) Piastowska [10:32:00] --- 16 ---> Prusa [10:34:00] [279407]\n",
      "(2) Prusa [10:34:00] --- 16 ---> Wyszyńskiego [10:35:00] [279408]\n",
      "(3) Wyszyńskiego [10:35:00] --- 16 ---> Nowowiejska [10:37:00] [279409]\n",
      "(4) Nowowiejska [10:38:00] --- 23 ---> Daszyńskiego [10:39:00] [383047]\n",
      "(5) Daszyńskiego [10:40:00] --- 111 ---> Słonimskiego [10:41:00] [514575]\n",
      "(6) Słonimskiego [10:41:00] --- 111 ---> Zakładowa [10:42:00] [514576]\n",
      "(7) Zakładowa [10:42:00] --- 111 ---> Broniewskiego [10:45:00] [514577]\n",
      "(8) Broniewskiego [10:45:00] --- 111 ---> Bałtycka [10:47:00] [514578]\n",
      "(9) Bałtycka [10:47:00] --- 111 ---> Bezpieczna [10:49:00] [514579]\n"
     ]
    }
   ],
   "source": [
    "print_path(sol_a)"
   ],
   "metadata": {
    "collapsed": false,
    "ExecuteTime": {
     "end_time": "2024-04-01T19:36:28.111434800Z",
     "start_time": "2024-04-01T19:36:28.095486900Z"
    }
   },
   "id": "6dfec62f886bfdde",
   "execution_count": 13
  },
  {
   "cell_type": "code",
   "outputs": [],
   "source": [
    "sol_b = conn_e_j_e_i(sol3[0], sol_a[-1])"
   ],
   "metadata": {
    "collapsed": false,
    "ExecuteTime": {
     "end_time": "2024-04-01T19:37:02.325976400Z",
     "start_time": "2024-04-01T19:36:57.020631300Z"
    }
   },
   "id": "4a7af5fbf4731f94",
   "execution_count": 14
  },
  {
   "cell_type": "code",
   "outputs": [
    {
     "name": "stdout",
     "output_type": "stream",
     "text": [
      "(0) Bezpieczna [10:51:00] --- 105 ---> Bałtycka (szkoła) [10:52:00] [453526]\n",
      "(1) Bałtycka (szkoła) [10:52:00] --- 105 ---> Bałtycka [10:53:00] [453527]\n",
      "(2) Bałtycka [10:53:00] --- 105 ---> Broniewskiego [10:55:00] [453528]\n",
      "(3) Broniewskiego [10:57:00] --- 111 ---> Zakładowa [10:59:00] [504670]\n",
      "(4) Zakładowa [10:59:00] --- 111 ---> Słonimskiego [11:00:00] [504671]\n",
      "(5) Słonimskiego [11:00:00] --- 111 ---> Daszyńskiego [11:02:00] [504672]\n",
      "(6) Daszyńskiego [11:02:00] --- 111 ---> Nowowiejska [11:04:00] [504673]\n",
      "(7) Nowowiejska [11:04:00] --- 16 ---> Wyszyńskiego [11:06:00] [273249]\n",
      "(8) Wyszyńskiego [11:06:00] --- 16 ---> Prusa [11:07:00] [273250]\n",
      "(9) Prusa [11:07:00] --- 16 ---> Piastowska [11:09:00] [273251]\n",
      "(10) Piastowska [11:11:00] --- 9 ---> Grunwaldzka [11:12:00] [173584]\n",
      "(11) Grunwaldzka [11:12:00] --- 9 ---> Kochanowskiego [11:14:00] [173585]\n"
     ]
    }
   ],
   "source": [
    "print_path(sol_b)"
   ],
   "metadata": {
    "collapsed": false,
    "ExecuteTime": {
     "end_time": "2024-04-01T19:37:05.411936900Z",
     "start_time": "2024-04-01T19:37:05.401895300Z"
    }
   },
   "id": "fd4ebecdcde2da2",
   "execution_count": 15
  },
  {
   "cell_type": "code",
   "outputs": [
    {
     "name": "stdout",
     "output_type": "stream",
     "text": [
      "(0) Kochanowskiego [11:15:00] --- 17 ---> Grunwaldzka [11:16:00] [286807]\n",
      "(1) Grunwaldzka [11:16:00] --- 17 ---> Piastowska [11:17:00] [286808]\n",
      "(2) Piastowska [11:17:00] --- 16 ---> Prusa [11:19:00] [278670]\n",
      "(3) Prusa [11:19:00] --- 16 ---> Wyszyńskiego [11:20:00] [278671]\n",
      "(4) Wyszyńskiego [11:20:00] --- 16 ---> Nowowiejska [11:22:00] [278672]\n",
      "(5) Nowowiejska [11:24:00] --- 6 ---> Daszyńskiego [11:25:00] [133852]\n",
      "(6) Daszyńskiego [11:25:00] --- 111 ---> Słonimskiego [11:26:00] [513702]\n",
      "(7) Słonimskiego [11:26:00] --- 111 ---> Zakładowa [11:27:00] [513703]\n",
      "(8) Zakładowa [11:27:00] --- 111 ---> Broniewskiego [11:30:00] [513704]\n",
      "(9) Broniewskiego [11:30:00] --- 111 ---> Bałtycka [11:32:00] [513705]\n"
     ]
    }
   ],
   "source": [
    "print_path(conn_e_j_e_i(sol3[16], sol_b[-1]))"
   ],
   "metadata": {
    "collapsed": false,
    "ExecuteTime": {
     "end_time": "2024-04-01T19:37:11.937688600Z",
     "start_time": "2024-04-01T19:37:08.049505400Z"
    }
   },
   "id": "66a6b790b7a4a855",
   "execution_count": 16
  },
  {
   "cell_type": "code",
   "outputs": [
    {
     "data": {
      "text/plain": "line                        111\ndeparture_time         11:30:00\narrival_time           11:32:00\nstart_stop        Broniewskiego\nend_stop               Bałtycka\nstart_stop_lat        51.135904\nstart_stop_lon        17.035327\nend_stop_lat          51.138282\nend_stop_lon          17.029374\ndeparture_sec             41400\narrival_sec               41520\nName: 513705, dtype: object"
     },
     "execution_count": 17,
     "metadata": {},
     "output_type": "execute_result"
    }
   ],
   "source": [
    "g.conn_at_index(513705)"
   ],
   "metadata": {
    "collapsed": false,
    "ExecuteTime": {
     "end_time": "2024-04-01T19:37:22.751700300Z",
     "start_time": "2024-04-01T19:37:22.739236500Z"
    }
   },
   "id": "ffaba15ce2ff9fe9",
   "execution_count": 17
  },
  {
   "cell_type": "code",
   "outputs": [
    {
     "data": {
      "text/plain": "line                          K\ndeparture_time         08:29:00\narrival_time           08:31:00\nstart_stop             Bałtycka\nend_stop          Broniewskiego\nstart_stop_lat        51.136632\nstart_stop_lon        17.030617\nend_stop_lat          51.136343\nend_stop_lon          17.036687\ndeparture_sec             30540\narrival_sec               30660\nName: 32289, dtype: object"
     },
     "execution_count": 18,
     "metadata": {},
     "output_type": "execute_result"
    }
   ],
   "source": [
    "g.conn_at_index(32289)"
   ],
   "metadata": {
    "collapsed": false,
    "ExecuteTime": {
     "end_time": "2024-04-01T19:37:25.474964100Z",
     "start_time": "2024-04-01T19:37:25.464349200Z"
    }
   },
   "id": "457d17e4a8bdfb43",
   "execution_count": 18
  },
  {
   "cell_type": "code",
   "outputs": [],
   "source": [
    "new_conn = g.get_earliest_from_to(g.conn_at_index(513705), g.conn_at_index(32289)).iloc[0]"
   ],
   "metadata": {
    "collapsed": false,
    "ExecuteTime": {
     "end_time": "2024-04-01T19:57:16.860376300Z",
     "start_time": "2024-04-01T19:57:16.791350Z"
    }
   },
   "id": "5dcfb14ba8a2d800",
   "execution_count": 21
  },
  {
   "cell_type": "code",
   "outputs": [
    {
     "data": {
      "text/plain": "line                        118\ndeparture_time         11:34:00\narrival_time           11:36:00\nstart_stop             Bałtycka\nend_stop          Broniewskiego\nstart_stop_lat        51.136632\nstart_stop_lon        17.030617\nend_stop_lat          51.135851\nend_stop_lon          17.037383\ndeparture_sec             41640\narrival_sec               41760\nName: 570614, dtype: object"
     },
     "execution_count": 23,
     "metadata": {},
     "output_type": "execute_result"
    }
   ],
   "source": [
    "new_conn"
   ],
   "metadata": {
    "collapsed": false,
    "ExecuteTime": {
     "end_time": "2024-04-01T19:58:06.926205Z",
     "start_time": "2024-04-01T19:58:06.921759100Z"
    }
   },
   "id": "3d5e6d7291791842",
   "execution_count": 23
  },
  {
   "cell_type": "code",
   "outputs": [
    {
     "data": {
      "text/plain": "       line departure_time arrival_time     start_stop end_stop  \\\n570615  118       11:36:00     11:37:00  Broniewskiego     Pola   \n\n        start_stop_lat  start_stop_lon  end_stop_lat  end_stop_lon  \\\n570615       51.135851       17.037383     51.136749     17.044698   \n\n        departure_sec  arrival_sec  \n570615          41760        41820  ",
      "text/html": "<div>\n<style scoped>\n    .dataframe tbody tr th:only-of-type {\n        vertical-align: middle;\n    }\n\n    .dataframe tbody tr th {\n        vertical-align: top;\n    }\n\n    .dataframe thead th {\n        text-align: right;\n    }\n</style>\n<table border=\"1\" class=\"dataframe\">\n  <thead>\n    <tr style=\"text-align: right;\">\n      <th></th>\n      <th>line</th>\n      <th>departure_time</th>\n      <th>arrival_time</th>\n      <th>start_stop</th>\n      <th>end_stop</th>\n      <th>start_stop_lat</th>\n      <th>start_stop_lon</th>\n      <th>end_stop_lat</th>\n      <th>end_stop_lon</th>\n      <th>departure_sec</th>\n      <th>arrival_sec</th>\n    </tr>\n  </thead>\n  <tbody>\n    <tr>\n      <th>570615</th>\n      <td>118</td>\n      <td>11:36:00</td>\n      <td>11:37:00</td>\n      <td>Broniewskiego</td>\n      <td>Pola</td>\n      <td>51.135851</td>\n      <td>17.037383</td>\n      <td>51.136749</td>\n      <td>17.044698</td>\n      <td>41760</td>\n      <td>41820</td>\n    </tr>\n  </tbody>\n</table>\n</div>"
     },
     "execution_count": 22,
     "metadata": {},
     "output_type": "execute_result"
    }
   ],
   "source": [
    "g.get_earliest_from_to(new_conn, g.conn_at_index(871098))"
   ],
   "metadata": {
    "collapsed": false,
    "ExecuteTime": {
     "end_time": "2024-04-01T19:58:03.162283700Z",
     "start_time": "2024-04-01T19:58:03.111594Z"
    }
   },
   "id": "21bd156f2047497e",
   "execution_count": 22
  },
  {
   "cell_type": "code",
   "outputs": [],
   "source": [
    "def swap_connections(connections, i, j):\n",
    "    solution = connections[:i]\n",
    "    sol_a = conn_e_i_e_j(sol3, i, j)\n",
    "    sol_b = conn_e_j_e_i(connections[i], sol_a[-1])\n",
    "    sol_c = conn_e_j_e_i(sol3[j + 1], sol_b[-1])\n",
    "    solution += sol_a + sol_b + sol_c\n",
    "    prev_conn = sol_c[-1]\n",
    "    for conn in connections[j:]:\n",
    "        new_conn = g.get_earliest_from_to(prev_conn, conn).iloc[0]\n",
    "        solution.append(new_conn)\n",
    "        prev_conn = new_conn\n",
    "    return solution"
   ],
   "metadata": {
    "collapsed": false,
    "ExecuteTime": {
     "end_time": "2024-04-02T14:00:45.167611500Z",
     "start_time": "2024-04-02T14:00:45.155368900Z"
    }
   },
   "id": "fc802be8bd2419ba",
   "execution_count": 6
  },
  {
   "cell_type": "code",
   "outputs": [],
   "source": [
    "vis_stops = ['Paprotna', 'Czajkowskiego', 'Ogród Botaniczny', 'Krucza', 'Renoma', 'Kępińska']\n",
    "start_stop = 'PL. GRUNWALDZKI'\n",
    "leave_hour = '08:00:00'"
   ],
   "metadata": {
    "collapsed": false,
    "ExecuteTime": {
     "end_time": "2024-04-02T15:07:08.511936Z",
     "start_time": "2024-04-02T15:07:08.502857300Z"
    }
   },
   "id": "f0f7076fb68555d5",
   "execution_count": 58
  },
  {
   "cell_type": "code",
   "outputs": [],
   "source": [
    "sol3 = naive_solution(OptimizationType.TIME, start_stop, vis_stops, leave_hour)"
   ],
   "metadata": {
    "collapsed": false,
    "ExecuteTime": {
     "end_time": "2024-04-02T15:07:40.355445600Z",
     "start_time": "2024-04-02T15:07:09.155905800Z"
    }
   },
   "id": "6f9b9ad9a83c19a9",
   "execution_count": 59
  },
  {
   "cell_type": "code",
   "outputs": [
    {
     "name": "stdout",
     "output_type": "stream",
     "text": [
      "(0)  PL. GRUNWALDZKI [08:00:00] --- D ---> Kochanowskiego [08:03:00] [22596]\n",
      "(1)  Kochanowskiego [08:03:00] --- D ---> Śniadeckich [08:05:00] [22597]\n",
      "(2)  Śniadeckich [08:05:00] --- D ---> Zacisze [08:06:00] [22598]\n",
      "(3)  Zacisze [08:06:00] --- D ---> Kwidzyńska [08:08:00] [22599]\n",
      "(4)  Kwidzyńska [08:08:00] --- 6 ---> Kętrzyńska [08:09:00] [135055]\n",
      "(5)  Kętrzyńska [08:09:00] --- 6 ---> KROMERA [08:11:00] [135056]\n",
      "(6)  KROMERA [08:13:00] --- 116 ---> Berenta [08:14:00] [556881]\n",
      "(7)  Berenta [08:14:00] --- 116 ---> Kasprowicza [08:15:00] [556882]\n",
      "(8)  Kasprowicza [08:15:00] --- 130 ---> Syrokomli [08:16:00] [711637]\n",
      "(9)  Syrokomli [08:16:00] --- 130 ---> Pola [08:17:00] [711638]\n",
      "(10)  Pola [08:17:00] --- 130 ---> Broniewskiego [08:18:00] [711639]\n",
      "(11)  Broniewskiego [08:18:00] --- 118 ---> Bałtycka [08:20:00] [567781]\n",
      "(12)  Bałtycka [08:20:00] --- 118 ---> Bezpieczna [08:21:00] [567782]\n",
      "(13)  Bezpieczna [08:21:00] --- 602 ---> Paprotna [08:22:00] [933891]\n",
      "(14) ** Paprotna [08:25:00] --- 111 ---> Obornicka (Wołowska) [08:26:00] [512081]\n",
      "(15)  Obornicka (Wołowska) [08:26:00] --- 111 ---> Bezpieczna [08:27:00] [512082]\n",
      "(16)  Bezpieczna [08:27:00] --- K ---> Bałtycka [08:29:00] [32288]\n",
      "(17)  Bałtycka [08:29:00] --- K ---> Broniewskiego [08:31:00] [32289]\n",
      "(18)  Broniewskiego [08:32:00] --- 149 ---> Pola [08:33:00] [871098]\n",
      "(19)  Pola [08:33:00] --- 149 ---> Syrokomli [08:34:00] [871099]\n",
      "(20)  Syrokomli [08:34:00] --- 149 ---> Berenta [08:36:00] [871100]\n",
      "(21)  Berenta [08:37:00] --- 118 ---> pl. Daniłowskiego [08:39:00] [569748]\n",
      "(22)  pl. Daniłowskiego [08:40:00] --- 116 ---> Przybyszewskiego [08:41:00] [558574]\n",
      "(23)  Przybyszewskiego [08:41:00] --- 116 ---> Czajkowskiego [08:42:00] [558575]\n",
      "(24) ** Czajkowskiego [08:42:00] --- 116 ---> Koszarowa [08:44:00] [558576]\n",
      "(25)  Koszarowa [08:47:00] --- 116 ---> KOSZAROWA (Szpital) [08:48:00] [559320]\n",
      "(26)  KOSZAROWA (Szpital) [08:48:00] --- 116 ---> pl. Daniłowskiego [08:51:00] [559321]\n",
      "(27)  pl. Daniłowskiego [08:51:00] --- 130 ---> Berenta [08:52:00] [715929]\n",
      "(28)  Berenta [08:52:00] --- 130 ---> KROMERA [08:57:00] [715930]\n",
      "(29)  KROMERA [08:57:00] --- 23 ---> Mosty Warszawskie [08:59:00] [382992]\n",
      "(30)  Mosty Warszawskie [09:00:00] --- 128 ---> Wyszyńskiego [09:02:00] [679764]\n",
      "(31)  Wyszyńskiego [09:02:00] --- 128 ---> Ogród Botaniczny [09:05:00] [679765]\n",
      "(32) ** Ogród Botaniczny [09:09:00] --- N ---> Katedra [09:10:00] [47415]\n",
      "(33)  Katedra [09:10:00] --- N ---> Urząd Wojewódzki (Muzeum Narodowe) [09:11:00] [47416]\n",
      "(34)  Urząd Wojewódzki (Muzeum Narodowe) [09:11:00] --- N ---> Poczta Główna [09:12:00] [47417]\n",
      "(35)  Poczta Główna [09:12:00] --- 149 ---> skwer Krasińskiego [09:15:00] [873089]\n",
      "(36)  skwer Krasińskiego [09:15:00] --- 149 ---> Wzgórze Partyzantów [09:16:00] [873090]\n",
      "(37)  Wzgórze Partyzantów [09:16:00] --- 149 ---> Renoma [09:18:00] [873091]\n",
      "(38) ** Renoma [09:19:00] --- 7 ---> Arkady (Capitol) [09:21:00] [139927]\n",
      "(39)  Arkady (Capitol) [09:21:00] --- 7 ---> Zaolziańska [09:23:00] [139928]\n",
      "(40)  Zaolziańska [09:23:00] --- 7 ---> Wielka [09:24:00] [139929]\n",
      "(41)  Wielka [09:24:00] --- 7 ---> Rondo [09:25:00] [139930]\n",
      "(42)  Rondo [09:25:00] --- 124 ---> Krucza [09:28:00] [622419]\n",
      "(43) ** Krucza [09:29:00] --- 144 ---> Żelazna [09:31:00] [817138]\n",
      "(44)  Żelazna [09:31:00] --- 144 ---> Zaporoska [09:33:00] [817139]\n",
      "(45)  Zaporoska [09:33:00] --- 144 ---> Zielińskiego [09:34:00] [817140]\n",
      "(46)  Zielińskiego [09:34:00] --- 144 ---> Piłsudskiego [09:36:00] [817141]\n",
      "(47)  Piłsudskiego [09:36:00] --- 144 ---> pl. Orląt Lwowskich [09:38:00] [817142]\n",
      "(48)  pl. Orląt Lwowskich [09:39:00] --- 149 ---> Renoma [09:41:00] [870112]\n",
      "(49)  Renoma [09:44:00] --- 7 ---> Opera [09:45:00] [147846]\n",
      "(50)  Opera [09:45:00] --- 7 ---> ŚWIDNICKA (Dom Europy) [09:46:00] [147847]\n",
      "(51)  ŚWIDNICKA (Dom Europy) [09:46:00] --- 7 ---> Oławska [09:48:00] [147848]\n",
      "(52)  Oławska [09:48:00] --- 7 ---> Wita Stwosza [09:49:00] [147849]\n",
      "(53)  Wita Stwosza [09:49:00] --- 7 ---> Ossolineum (Uniwersytecka) [09:50:00] [147850]\n",
      "(54)  Ossolineum (Uniwersytecka) [09:50:00] --- 7 ---> Dubois [09:53:00] [147851]\n",
      "(55)  Dubois [09:53:00] --- 7 ---> Paulińska [09:55:00] [147852]\n",
      "(56)  Paulińska [09:55:00] --- 7 ---> DWORZEC NADODRZE [09:57:00] [147853]\n",
      "(57)  DWORZEC NADODRZE [09:57:00] --- 7 ---> Trzebnicka [09:59:00] [147854]\n",
      "(58)  Trzebnicka [09:59:00] --- 7 ---> Broniewskiego [10:03:00] [147855]\n",
      "(59)  Broniewskiego [10:03:00] --- 7 ---> Kamieńskiego [10:05:00] [147856]\n",
      "(60)  Kamieńskiego [10:05:00] --- 7 ---> Kępińska [10:06:00] [147857]\n",
      "(61) ** Kępińska [10:06:00] --- D ---> Kamieńskiego [10:07:00] [17261]\n",
      "(62)  Kamieńskiego [10:07:00] --- D ---> Broniewskiego [10:09:00] [17262]\n",
      "(63)  Broniewskiego [10:09:00] --- D ---> Pola [10:10:00] [17263]\n",
      "(64)  Pola [10:10:00] --- D ---> Syrokomli [10:11:00] [17264]\n",
      "(65)  Syrokomli [10:11:00] --- D ---> Berenta [10:13:00] [17265]\n",
      "(66)  Berenta [10:13:00] --- D ---> KROMERA [10:15:00] [17266]\n",
      "(67)  KROMERA [10:17:00] --- 118 ---> Kwidzyńska [10:21:00] [569783]\n",
      "(68)  Kwidzyńska [10:21:00] --- 121 ---> Zacisze [10:22:00] [595467]\n",
      "(69)  Zacisze [10:22:00] --- 121 ---> Śniadeckich [10:23:00] [595468]\n",
      "(70)  Śniadeckich [10:23:00] --- 121 ---> Kochanowskiego [10:25:00] [595469]\n",
      "(71)  Kochanowskiego [10:25:00] --- 121 ---> Bujwida [10:27:00] [595470]\n",
      "(72)  Bujwida [10:27:00] --- 121 ---> PL. GRUNWALDZKI [10:29:00] [595471]\n"
     ]
    }
   ],
   "source": [
    "print_path_mark_stops(sol3, vis_stops)"
   ],
   "metadata": {
    "collapsed": false,
    "ExecuteTime": {
     "end_time": "2024-04-02T14:01:17.042208300Z",
     "start_time": "2024-04-02T14:01:17.033642500Z"
    }
   },
   "id": "517c7e26d95a7120",
   "execution_count": 9
  },
  {
   "cell_type": "code",
   "outputs": [],
   "source": [
    "swapped_sol3 = swap_connections(sol3, 13, 31)"
   ],
   "metadata": {
    "collapsed": false,
    "ExecuteTime": {
     "end_time": "2024-04-02T14:03:05.079501200Z",
     "start_time": "2024-04-02T14:02:45.687116500Z"
    }
   },
   "id": "ac6abafa0160b09e",
   "execution_count": 12
  },
  {
   "cell_type": "code",
   "outputs": [
    {
     "name": "stdout",
     "output_type": "stream",
     "text": [
      "(0)  PL. GRUNWALDZKI [08:00:00] --- D ---> Kochanowskiego [08:03:00] [22596]\n",
      "(1)  Kochanowskiego [08:03:00] --- D ---> Śniadeckich [08:05:00] [22597]\n",
      "(2)  Śniadeckich [08:05:00] --- D ---> Zacisze [08:06:00] [22598]\n",
      "(3)  Zacisze [08:06:00] --- D ---> Kwidzyńska [08:08:00] [22599]\n",
      "(4)  Kwidzyńska [08:08:00] --- 6 ---> Kętrzyńska [08:09:00] [135055]\n",
      "(5)  Kętrzyńska [08:09:00] --- 6 ---> KROMERA [08:11:00] [135056]\n",
      "(6)  KROMERA [08:13:00] --- 116 ---> Berenta [08:14:00] [556881]\n",
      "(7)  Berenta [08:14:00] --- 116 ---> Kasprowicza [08:15:00] [556882]\n",
      "(8)  Kasprowicza [08:15:00] --- 130 ---> Syrokomli [08:16:00] [711637]\n",
      "(9)  Syrokomli [08:16:00] --- 130 ---> Pola [08:17:00] [711638]\n",
      "(10)  Pola [08:17:00] --- 130 ---> Broniewskiego [08:18:00] [711639]\n",
      "(11)  Broniewskiego [08:18:00] --- 118 ---> Bałtycka [08:20:00] [567781]\n",
      "(12)  Bałtycka [08:20:00] --- 118 ---> Bezpieczna [08:21:00] [567782]\n",
      "(13)  Bezpieczna [08:24:00] --- 119 ---> Bałtycka (szkoła) [08:25:00] [575863]\n",
      "(14)  Bałtycka (szkoła) [08:25:00] --- 119 ---> Bałtycka [08:26:00] [575864]\n",
      "(15)  Bałtycka [08:26:00] --- 119 ---> Broniewskiego [08:28:00] [575865]\n",
      "(16)  Broniewskiego [08:28:00] --- 144 ---> Trzebnicka [08:30:00] [815823]\n",
      "(17)  Trzebnicka [08:30:00] --- 144 ---> DWORZEC NADODRZE [08:32:00] [815824]\n",
      "(18)  DWORZEC NADODRZE [08:33:00] --- 8 ---> Słowiańska [08:35:00] [156045]\n",
      "(19)  Słowiańska [08:35:00] --- 8 ---> Nowowiejska [08:36:00] [156046]\n",
      "(20)  Nowowiejska [08:36:00] --- 8 ---> Jedności Narodowej [08:37:00] [156047]\n",
      "(21)  Jedności Narodowej [08:37:00] --- 8 ---> Na Szańcach [08:38:00] [156048]\n",
      "(22)  Na Szańcach [08:38:00] --- 8 ---> pl. Bema [08:39:00] [156049]\n",
      "(23)  pl. Bema [08:41:00] --- 19 ---> Ogród Botaniczny [08:43:00] [324720]\n",
      "(24) ** Ogród Botaniczny [08:43:00] --- N ---> Wyszyńskiego [08:45:00] [42753]\n",
      "(25)  Wyszyńskiego [08:46:00] --- 16 ---> Nowowiejska [08:48:00] [277789]\n",
      "(26)  Nowowiejska [08:48:00] --- 16 ---> Słowiańska [08:50:00] [277790]\n",
      "(27)  Słowiańska [08:50:00] --- 16 ---> DWORZEC NADODRZE [08:52:00] [277791]\n",
      "(28)  DWORZEC NADODRZE [08:53:00] --- 714 ---> Kleczkowska [08:56:00] [940924]\n",
      "(29)  Kleczkowska [08:56:00] --- 714 ---> most Osobowicki [08:58:00] [940925]\n",
      "(30)  most Osobowicki [09:02:00] --- K ---> Łużycka [09:04:00] [34680]\n",
      "(31)  Łużycka [09:04:00] --- K ---> Różanka [09:05:00] [34681]\n",
      "(32)  Różanka [09:05:00] --- K ---> Bezpieczna [09:06:00] [34682]\n",
      "(33)  Bezpieczna [09:07:00] --- 111 ---> Paprotna [09:08:00] [512561]\n",
      "(34) ** Paprotna [09:09:00] --- 108 ---> Obornicka (Wołowska) [09:10:00] [491358]\n",
      "(35)  Obornicka (Wołowska) [09:10:00] --- 108 ---> Bezpieczna [09:11:00] [491359]\n",
      "(36)  Bezpieczna [09:11:00] --- 108 ---> Bałtycka (szkoła) [09:12:00] [491360]\n",
      "(37)  Bałtycka (szkoła) [09:12:00] --- 108 ---> Bałtycka [09:13:00] [491361]\n",
      "(38)  Bałtycka [09:13:00] --- 108 ---> Broniewskiego [09:15:00] [491362]\n",
      "(39)  Broniewskiego [09:15:00] --- 108 ---> Trzebnicka [09:18:00] [491363]\n",
      "(40)  Trzebnicka [09:18:00] --- 108 ---> DWORZEC NADODRZE [09:20:00] [491364]\n",
      "(41)  DWORZEC NADODRZE [09:22:00] --- 14 ---> Paulińska [09:24:00] [247828]\n",
      "(42)  Paulińska [09:24:00] --- 14 ---> Dubois [09:26:00] [247829]\n",
      "(43)  Dubois [09:27:00] --- 19 ---> pl. Bema [09:29:00] [325734]\n",
      "(44)  pl. Bema [09:29:00] --- 19 ---> Ogród Botaniczny [09:31:00] [325735]\n",
      "(45)  Ogród Botaniczny [09:32:00] --- 111 ---> Katedra [09:34:00] [510739]\n",
      "(46)  Katedra [09:36:00] --- A ---> Ogród Botaniczny [09:38:00] [8376]\n",
      "(47)  Ogród Botaniczny [09:38:00] --- N ---> Katedra [09:40:00] [40795]\n",
      "(48)  Katedra [09:40:00] --- N ---> Urząd Wojewódzki (Muzeum Narodowe) [09:41:00] [40796]\n",
      "(49)  Urząd Wojewódzki (Muzeum Narodowe) [09:41:00] --- N ---> Poczta Główna [09:42:00] [40797]\n",
      "(50)  Poczta Główna [09:48:00] --- 145 ---> skwer Krasińskiego [09:51:00] [839311]\n",
      "(51)  skwer Krasińskiego [09:55:00] --- A ---> Wzgórze Partyzantów [09:56:00] [2230]\n",
      "(52)  Wzgórze Partyzantów [09:56:00] --- A ---> Renoma [09:58:00] [2231]\n",
      "(53) ** Renoma [09:58:00] --- A ---> Arkady (Capitol) [10:00:00] [2232]\n",
      "(54)  Arkady (Capitol) [10:00:00] --- 20 ---> Zaolziańska [10:02:00] [341360]\n",
      "(55)  Zaolziańska [10:02:00] --- 20 ---> Wielka [10:03:00] [341361]\n",
      "(56)  Wielka [10:03:00] --- 20 ---> Rondo [10:04:00] [341362]\n",
      "(57)  Rondo [10:10:00] --- 134 ---> Krucza [10:13:00] [752510]\n",
      "(58) ** Krucza [10:14:00] --- 144 ---> Żelazna [10:16:00] [814894]\n",
      "(59)  Żelazna [10:16:00] --- 144 ---> Zaporoska [10:18:00] [814895]\n",
      "(60)  Zaporoska [10:18:00] --- 144 ---> Zielińskiego [10:19:00] [814896]\n",
      "(61)  Zielińskiego [10:19:00] --- 144 ---> Piłsudskiego [10:21:00] [814897]\n",
      "(62)  Piłsudskiego [10:21:00] --- 144 ---> pl. Orląt Lwowskich [10:23:00] [814898]\n",
      "(63)  pl. Orląt Lwowskich [10:24:00] --- 148 ---> Renoma [10:26:00] [857063]\n",
      "(64)  Renoma [10:28:00] --- 17 ---> Opera [10:29:00] [284631]\n",
      "(65)  Opera [10:30:00] --- 7 ---> ŚWIDNICKA (Dom Europy) [10:31:00] [149947]\n",
      "(66)  ŚWIDNICKA (Dom Europy) [10:31:00] --- 7 ---> Oławska [10:33:00] [149948]\n",
      "(67)  Oławska [10:33:00] --- 7 ---> Wita Stwosza [10:34:00] [149949]\n",
      "(68)  Wita Stwosza [10:34:00] --- 7 ---> Ossolineum (Uniwersytecka) [10:35:00] [149950]\n",
      "(69)  Ossolineum (Uniwersytecka) [10:35:00] --- 7 ---> Dubois [10:38:00] [149951]\n",
      "(70)  Dubois [10:38:00] --- 7 ---> Paulińska [10:40:00] [149952]\n",
      "(71)  Paulińska [10:40:00] --- 7 ---> DWORZEC NADODRZE [10:42:00] [149953]\n",
      "(72)  DWORZEC NADODRZE [10:42:00] --- 7 ---> Trzebnicka [10:44:00] [149954]\n",
      "(73)  Trzebnicka [10:44:00] --- 7 ---> Broniewskiego [10:48:00] [149955]\n",
      "(74)  Broniewskiego [10:48:00] --- 7 ---> Kamieńskiego [10:50:00] [149956]\n",
      "(75)  Kamieńskiego [10:50:00] --- 7 ---> Kępińska [10:51:00] [149957]\n",
      "(76) ** Kępińska [10:54:00] --- 908 ---> Kamieńskiego [10:56:00] [954930]\n",
      "(77)  Kamieńskiego [10:56:00] --- 908 ---> Broniewskiego [10:58:00] [954931]\n",
      "(78)  Broniewskiego [11:04:00] --- 132 ---> Pola [11:05:00] [727199]\n",
      "(79)  Pola [11:05:00] --- 132 ---> Syrokomli [11:06:00] [727200]\n",
      "(80)  Syrokomli [12:28:00] --- 315 ---> Berenta [12:30:00] [928554]\n",
      "(81)  Berenta [12:30:00] --- 315 ---> KROMERA [12:32:00] [928555]\n",
      "(82)  KROMERA [12:37:00] --- 116 ---> Kwidzyńska [12:39:00] [556571]\n",
      "(83)  Kwidzyńska [12:39:00] --- 116 ---> Zacisze [12:40:00] [556572]\n",
      "(84)  Zacisze [12:40:00] --- 116 ---> Śniadeckich [12:41:00] [556573]\n",
      "(85)  Śniadeckich [12:41:00] --- 116 ---> Kochanowskiego [12:43:00] [556574]\n",
      "(86)  Kochanowskiego [12:44:00] --- 13 ---> Bujwida [12:46:00] [240967]\n",
      "(87)  Bujwida [12:46:00] --- 13 ---> PL. GRUNWALDZKI [12:48:00] [240968]\n"
     ]
    }
   ],
   "source": [
    "print_path_mark_stops(swapped_sol3, vis_stops)"
   ],
   "metadata": {
    "collapsed": false,
    "ExecuteTime": {
     "end_time": "2024-04-02T14:03:55.288151900Z",
     "start_time": "2024-04-02T14:03:55.276128Z"
    }
   },
   "id": "675295cc2bf53f94",
   "execution_count": 13
  },
  {
   "cell_type": "code",
   "outputs": [],
   "source": [
    "assert_connection_path(time_to_normalized_sec(leave_hour), start_stop, start_stop, sol3)"
   ],
   "metadata": {
    "collapsed": false,
    "ExecuteTime": {
     "end_time": "2024-04-02T14:04:02.796190300Z",
     "start_time": "2024-04-02T14:04:02.784177400Z"
    }
   },
   "id": "c99a3ac5ba9b20a9",
   "execution_count": 14
  },
  {
   "cell_type": "code",
   "outputs": [],
   "source": [
    "assert_connection_path(time_to_normalized_sec(leave_hour), start_stop, start_stop, swapped_sol3)"
   ],
   "metadata": {
    "collapsed": false,
    "ExecuteTime": {
     "end_time": "2024-04-02T14:04:03.955138100Z",
     "start_time": "2024-04-02T14:04:03.927572500Z"
    }
   },
   "id": "e4f4e735a32059eb",
   "execution_count": 15
  },
  {
   "cell_type": "code",
   "outputs": [
    {
     "data": {
      "text/plain": "['Paprotna',\n 'Czajkowskiego',\n 'Ogród Botaniczny',\n 'Krucza',\n 'Renoma',\n 'Kępińska']"
     },
     "execution_count": 16,
     "metadata": {},
     "output_type": "execute_result"
    }
   ],
   "source": [
    "vis_stops"
   ],
   "metadata": {
    "collapsed": false,
    "ExecuteTime": {
     "end_time": "2024-04-02T14:04:04.467192600Z",
     "start_time": "2024-04-02T14:04:04.450992500Z"
    }
   },
   "id": "eeaa95d4cc9f6c7e",
   "execution_count": 16
  },
  {
   "cell_type": "code",
   "outputs": [
    {
     "data": {
      "text/plain": "(5, {'Czajkowskiego'})"
     },
     "execution_count": 17,
     "metadata": {},
     "output_type": "execute_result"
    }
   ],
   "source": [
    "get_matched_stops(swapped_sol3, vis_stops)"
   ],
   "metadata": {
    "collapsed": false,
    "ExecuteTime": {
     "end_time": "2024-04-02T14:04:05.213566500Z",
     "start_time": "2024-04-02T14:04:05.200877700Z"
    }
   },
   "id": "ee73bd849c11fc57",
   "execution_count": 17
  },
  {
   "cell_type": "code",
   "outputs": [
    {
     "data": {
      "text/plain": "(6, set())"
     },
     "execution_count": 18,
     "metadata": {},
     "output_type": "execute_result"
    }
   ],
   "source": [
    "get_matched_stops(sol3, vis_stops)"
   ],
   "metadata": {
    "collapsed": false,
    "ExecuteTime": {
     "end_time": "2024-04-02T14:04:05.959919400Z",
     "start_time": "2024-04-02T14:04:05.945025600Z"
    }
   },
   "id": "eb9e08fd929ce1f4",
   "execution_count": 18
  },
  {
   "cell_type": "code",
   "outputs": [
    {
     "name": "stdout",
     "output_type": "stream",
     "text": [
      "(0) PL. GRUNWALDZKI [08:00:00] --- D ---> Kochanowskiego [08:03:00] [22596]\n",
      "(1) Kochanowskiego [08:03:00] --- D ---> Śniadeckich [08:05:00] [22597]\n",
      "(2) Śniadeckich [08:05:00] --- D ---> Zacisze [08:06:00] [22598]\n",
      "(3) Zacisze [08:06:00] --- D ---> Kwidzyńska [08:08:00] [22599]\n",
      "(4) Kwidzyńska [08:08:00] --- 6 ---> Kętrzyńska [08:09:00] [135055]\n",
      "(5) Kętrzyńska [08:09:00] --- 6 ---> KROMERA [08:11:00] [135056]\n",
      "(6) KROMERA [08:13:00] --- 116 ---> Berenta [08:14:00] [556881]\n",
      "(7) Berenta [08:14:00] --- 116 ---> Kasprowicza [08:15:00] [556882]\n",
      "(8) Kasprowicza [08:15:00] --- 130 ---> Syrokomli [08:16:00] [711637]\n",
      "(9) Syrokomli [08:16:00] --- 130 ---> Pola [08:17:00] [711638]\n",
      "(10) Pola [08:17:00] --- 130 ---> Broniewskiego [08:18:00] [711639]\n",
      "(11) Broniewskiego [08:18:00] --- 118 ---> Bałtycka [08:20:00] [567781]\n",
      "(12) Bałtycka [08:20:00] --- 118 ---> Bezpieczna [08:21:00] [567782]\n",
      "(13) Bezpieczna [08:21:00] --- 602 ---> Paprotna [08:22:00] [933891]\n",
      "(14) Paprotna [08:25:00] --- 111 ---> Obornicka (Wołowska) [08:26:00] [512081]\n",
      "(15) Obornicka (Wołowska) [08:26:00] --- 111 ---> Bezpieczna [08:27:00] [512082]\n",
      "(16) Bezpieczna [08:27:00] --- K ---> Bałtycka [08:29:00] [32288]\n",
      "(17) Bałtycka [08:29:00] --- K ---> Broniewskiego [08:31:00] [32289]\n",
      "(18) Broniewskiego [08:32:00] --- 149 ---> Pola [08:33:00] [871098]\n",
      "(19) Pola [08:33:00] --- 149 ---> Syrokomli [08:34:00] [871099]\n",
      "(20) Syrokomli [08:34:00] --- 149 ---> Berenta [08:36:00] [871100]\n",
      "(21) Berenta [08:37:00] --- 118 ---> pl. Daniłowskiego [08:39:00] [569748]\n",
      "(22) pl. Daniłowskiego [08:40:00] --- 116 ---> Przybyszewskiego [08:41:00] [558574]\n",
      "(23) Przybyszewskiego [08:41:00] --- 116 ---> Czajkowskiego [08:42:00] [558575]\n",
      "(24) Czajkowskiego [08:42:00] --- 116 ---> Koszarowa [08:44:00] [558576]\n",
      "(25) Koszarowa [08:47:00] --- 116 ---> KOSZAROWA (Szpital) [08:48:00] [559320]\n",
      "(26) KOSZAROWA (Szpital) [08:48:00] --- 116 ---> pl. Daniłowskiego [08:51:00] [559321]\n",
      "(27) pl. Daniłowskiego [08:51:00] --- 130 ---> Berenta [08:52:00] [715929]\n",
      "(28) Berenta [08:52:00] --- 130 ---> KROMERA [08:57:00] [715930]\n",
      "(29) KROMERA [08:57:00] --- 23 ---> Mosty Warszawskie [08:59:00] [382992]\n",
      "(30) Mosty Warszawskie [09:00:00] --- 128 ---> Wyszyńskiego [09:02:00] [679764]\n",
      "(31) Wyszyńskiego [09:02:00] --- 128 ---> Ogród Botaniczny [09:05:00] [679765]\n",
      "(32) Ogród Botaniczny [09:09:00] --- N ---> Katedra [09:10:00] [47415]\n",
      "(33) Katedra [09:10:00] --- N ---> Urząd Wojewódzki (Muzeum Narodowe) [09:11:00] [47416]\n",
      "(34) Urząd Wojewódzki (Muzeum Narodowe) [09:11:00] --- N ---> Poczta Główna [09:12:00] [47417]\n",
      "(35) Poczta Główna [09:12:00] --- 149 ---> skwer Krasińskiego [09:15:00] [873089]\n",
      "(36) skwer Krasińskiego [09:15:00] --- 149 ---> Wzgórze Partyzantów [09:16:00] [873090]\n",
      "(37) Wzgórze Partyzantów [09:16:00] --- 149 ---> Renoma [09:18:00] [873091]\n",
      "(38) Renoma [09:19:00] --- 7 ---> Arkady (Capitol) [09:21:00] [139927]\n",
      "(39) Arkady (Capitol) [09:21:00] --- 7 ---> Zaolziańska [09:23:00] [139928]\n",
      "(40) Zaolziańska [09:23:00] --- 7 ---> Wielka [09:24:00] [139929]\n",
      "(41) Wielka [09:24:00] --- 7 ---> Rondo [09:25:00] [139930]\n",
      "(42) Rondo [09:25:00] --- 124 ---> Krucza [09:28:00] [622419]\n",
      "(43) Krucza [09:29:00] --- 144 ---> Żelazna [09:31:00] [817138]\n",
      "(44) Żelazna [09:31:00] --- 144 ---> Zaporoska [09:33:00] [817139]\n",
      "(45) Zaporoska [09:33:00] --- 144 ---> Zielińskiego [09:34:00] [817140]\n",
      "(46) Zielińskiego [09:34:00] --- 144 ---> Piłsudskiego [09:36:00] [817141]\n",
      "(47) Piłsudskiego [09:36:00] --- 144 ---> pl. Orląt Lwowskich [09:38:00] [817142]\n",
      "(48) pl. Orląt Lwowskich [09:39:00] --- 149 ---> Renoma [09:41:00] [870112]\n",
      "(49) Renoma [09:44:00] --- 7 ---> Opera [09:45:00] [147846]\n",
      "(50) Opera [09:45:00] --- 7 ---> ŚWIDNICKA (Dom Europy) [09:46:00] [147847]\n",
      "(51) ŚWIDNICKA (Dom Europy) [09:46:00] --- 7 ---> Oławska [09:48:00] [147848]\n",
      "(52) Oławska [09:48:00] --- 7 ---> Wita Stwosza [09:49:00] [147849]\n",
      "(53) Wita Stwosza [09:49:00] --- 7 ---> Ossolineum (Uniwersytecka) [09:50:00] [147850]\n",
      "(54) Ossolineum (Uniwersytecka) [09:50:00] --- 7 ---> Dubois [09:53:00] [147851]\n",
      "(55) Dubois [09:53:00] --- 7 ---> Paulińska [09:55:00] [147852]\n",
      "(56) Paulińska [09:55:00] --- 7 ---> DWORZEC NADODRZE [09:57:00] [147853]\n",
      "(57) DWORZEC NADODRZE [09:57:00] --- 7 ---> Trzebnicka [09:59:00] [147854]\n",
      "(58) Trzebnicka [09:59:00] --- 7 ---> Broniewskiego [10:03:00] [147855]\n",
      "(59) Broniewskiego [10:03:00] --- 7 ---> Kamieńskiego [10:05:00] [147856]\n",
      "(60) Kamieńskiego [10:05:00] --- 7 ---> Kępińska [10:06:00] [147857]\n",
      "(61) Kępińska [10:06:00] --- D ---> Kamieńskiego [10:07:00] [17261]\n",
      "(62) Kamieńskiego [10:07:00] --- D ---> Broniewskiego [10:09:00] [17262]\n",
      "(63) Broniewskiego [10:09:00] --- D ---> Pola [10:10:00] [17263]\n",
      "(64) Pola [10:10:00] --- D ---> Syrokomli [10:11:00] [17264]\n",
      "(65) Syrokomli [10:11:00] --- D ---> Berenta [10:13:00] [17265]\n",
      "(66) Berenta [10:13:00] --- D ---> KROMERA [10:15:00] [17266]\n",
      "(67) KROMERA [10:17:00] --- 118 ---> Kwidzyńska [10:21:00] [569783]\n",
      "(68) Kwidzyńska [10:21:00] --- 121 ---> Zacisze [10:22:00] [595467]\n",
      "(69) Zacisze [10:22:00] --- 121 ---> Śniadeckich [10:23:00] [595468]\n",
      "(70) Śniadeckich [10:23:00] --- 121 ---> Kochanowskiego [10:25:00] [595469]\n",
      "(71) Kochanowskiego [10:25:00] --- 121 ---> Bujwida [10:27:00] [595470]\n",
      "(72) Bujwida [10:27:00] --- 121 ---> PL. GRUNWALDZKI [10:29:00] [595471]\n"
     ]
    }
   ],
   "source": [
    "print_path(sol3)"
   ],
   "metadata": {
    "collapsed": false,
    "ExecuteTime": {
     "end_time": "2024-04-01T20:24:36.210029500Z",
     "start_time": "2024-04-01T20:24:36.195137100Z"
    }
   },
   "id": "c2acd93baab0a6ef",
   "execution_count": 60
  },
  {
   "cell_type": "code",
   "outputs": [
    {
     "name": "stdout",
     "output_type": "stream",
     "text": [
      "(0) PL. GRUNWALDZKI [08:00:00] --- D ---> Kochanowskiego [08:03:00] [22596]\n",
      "(1) Kochanowskiego [08:03:00] --- D ---> Śniadeckich [08:05:00] [22597]\n",
      "(2) Śniadeckich [08:05:00] --- D ---> Zacisze [08:06:00] [22598]\n",
      "(3) Zacisze [08:06:00] --- D ---> Kwidzyńska [08:08:00] [22599]\n",
      "(4) Kwidzyńska [08:08:00] --- 6 ---> Kętrzyńska [08:09:00] [135055]\n",
      "(5) Kętrzyńska [08:09:00] --- 6 ---> KROMERA [08:11:00] [135056]\n",
      "(6) KROMERA [08:13:00] --- 116 ---> Berenta [08:14:00] [556881]\n",
      "(7) Berenta [08:14:00] --- 116 ---> Kasprowicza [08:15:00] [556882]\n",
      "(8) Kasprowicza [08:15:00] --- 130 ---> Syrokomli [08:16:00] [711637]\n",
      "(9) Syrokomli [08:16:00] --- 130 ---> Pola [08:17:00] [711638]\n",
      "(10) Pola [08:17:00] --- 130 ---> Syrokomli [08:18:00] [715449]\n",
      "(11) Syrokomli [08:18:00] --- 130 ---> Kasprowicza [08:19:00] [715450]\n",
      "(12) Kasprowicza [08:19:00] --- 130 ---> pl. Daniłowskiego [08:21:00] [715451]\n",
      "(13) pl. Daniłowskiego [08:21:00] --- 130 ---> Berenta [08:22:00] [715452]\n",
      "(14) Berenta [08:23:00] --- 116 ---> Kasprowicza [08:24:00] [560152]\n",
      "(15) Kasprowicza [08:25:00] --- D ---> Syrokomli [08:26:00] [21822]\n",
      "(16) Syrokomli [08:26:00] --- D ---> Pola [08:27:00] [21823]\n",
      "(17) Pola [08:27:00] --- D ---> Broniewskiego [08:29:00] [21824]\n",
      "(18) Broniewskiego [08:29:00] --- 132 ---> Pola [08:30:00] [733796]\n",
      "(19) Pola [08:30:00] --- 132 ---> Syrokomli [08:31:00] [733797]\n",
      "(20) Syrokomli [08:31:00] --- 132 ---> Kasprowicza [08:32:00] [733798]\n",
      "(21) Kasprowicza [08:32:00] --- 132 ---> pl. Daniłowskiego [08:34:00] [733799]\n",
      "(22) pl. Daniłowskiego [08:34:00] --- 132 ---> Berenta [08:35:00] [733800]\n",
      "(23) Berenta [08:35:00] --- 132 ---> pl. Daniłowskiego [08:37:00] [729234]\n",
      "(24) pl. Daniłowskiego [08:37:00] --- A ---> Przybyszewskiego [08:38:00] [5954]\n",
      "(25) Przybyszewskiego [08:38:00] --- A ---> Czajkowskiego [08:39:00] [5955]\n",
      "(26) Czajkowskiego [08:42:00] --- 116 ---> Koszarowa [08:44:00] [558576]\n",
      "(27) Koszarowa [08:47:00] --- 116 ---> KOSZAROWA (Szpital) [08:48:00] [559320]\n",
      "(28) KOSZAROWA (Szpital) [08:48:00] --- 116 ---> pl. Daniłowskiego [08:51:00] [559321]\n",
      "(29) pl. Daniłowskiego [08:51:00] --- 130 ---> Berenta [08:52:00] [715929]\n",
      "(30) Berenta [08:52:00] --- 130 ---> KROMERA [08:57:00] [715930]\n",
      "(31) KROMERA [08:57:00] --- 23 ---> Mosty Warszawskie [08:59:00] [382992]\n",
      "(32) Mosty Warszawskie [09:00:00] --- 128 ---> Wyszyńskiego [09:02:00] [679764]\n",
      "(33) Wyszyńskiego [09:02:00] --- 128 ---> Ogród Botaniczny [09:05:00] [679765]\n",
      "(34) Ogród Botaniczny [09:09:00] --- N ---> Katedra [09:10:00] [47415]\n",
      "(35) Katedra [09:10:00] --- N ---> Urząd Wojewódzki (Muzeum Narodowe) [09:11:00] [47416]\n",
      "(36) Urząd Wojewódzki (Muzeum Narodowe) [09:11:00] --- N ---> Poczta Główna [09:12:00] [47417]\n",
      "(37) Poczta Główna [09:12:00] --- 149 ---> skwer Krasińskiego [09:15:00] [873089]\n",
      "(38) skwer Krasińskiego [09:15:00] --- 149 ---> Wzgórze Partyzantów [09:16:00] [873090]\n",
      "(39) Wzgórze Partyzantów [09:16:00] --- 149 ---> Renoma [09:18:00] [873091]\n",
      "(40) Renoma [09:19:00] --- 7 ---> Arkady (Capitol) [09:21:00] [139927]\n",
      "(41) Arkady (Capitol) [09:21:00] --- 7 ---> Zaolziańska [09:23:00] [139928]\n",
      "(42) Zaolziańska [09:23:00] --- 7 ---> Wielka [09:24:00] [139929]\n",
      "(43) Wielka [09:24:00] --- 7 ---> Rondo [09:25:00] [139930]\n",
      "(44) Rondo [09:25:00] --- 124 ---> Krucza [09:28:00] [622419]\n",
      "(45) Krucza [09:29:00] --- 144 ---> Żelazna [09:31:00] [817138]\n",
      "(46) Żelazna [09:31:00] --- 144 ---> Zaporoska [09:33:00] [817139]\n",
      "(47) Zaporoska [09:33:00] --- 144 ---> Zielińskiego [09:34:00] [817140]\n",
      "(48) Zielińskiego [09:34:00] --- 144 ---> Piłsudskiego [09:36:00] [817141]\n",
      "(49) Piłsudskiego [09:36:00] --- 144 ---> pl. Orląt Lwowskich [09:38:00] [817142]\n",
      "(50) pl. Orląt Lwowskich [09:39:00] --- 149 ---> Renoma [09:41:00] [870112]\n",
      "(51) Renoma [09:44:00] --- 7 ---> Opera [09:45:00] [147846]\n",
      "(52) Opera [09:45:00] --- 7 ---> ŚWIDNICKA (Dom Europy) [09:46:00] [147847]\n",
      "(53) ŚWIDNICKA (Dom Europy) [09:46:00] --- 7 ---> Oławska [09:48:00] [147848]\n",
      "(54) Oławska [09:48:00] --- 7 ---> Wita Stwosza [09:49:00] [147849]\n",
      "(55) Wita Stwosza [09:49:00] --- 7 ---> Ossolineum (Uniwersytecka) [09:50:00] [147850]\n",
      "(56) Ossolineum (Uniwersytecka) [09:50:00] --- 7 ---> Dubois [09:53:00] [147851]\n",
      "(57) Dubois [09:53:00] --- 7 ---> Paulińska [09:55:00] [147852]\n",
      "(58) Paulińska [09:55:00] --- 7 ---> DWORZEC NADODRZE [09:57:00] [147853]\n",
      "(59) DWORZEC NADODRZE [09:57:00] --- 7 ---> Trzebnicka [09:59:00] [147854]\n",
      "(60) Trzebnicka [09:59:00] --- 7 ---> Broniewskiego [10:03:00] [147855]\n",
      "(61) Broniewskiego [10:03:00] --- 7 ---> Kamieńskiego [10:05:00] [147856]\n",
      "(62) Kamieńskiego [10:05:00] --- 7 ---> Kępińska [10:06:00] [147857]\n",
      "(63) Kępińska [10:06:00] --- D ---> Kamieńskiego [10:07:00] [17261]\n",
      "(64) Kamieńskiego [10:07:00] --- D ---> Broniewskiego [10:09:00] [17262]\n",
      "(65) Broniewskiego [10:09:00] --- D ---> Pola [10:10:00] [17263]\n",
      "(66) Pola [10:10:00] --- D ---> Syrokomli [10:11:00] [17264]\n",
      "(67) Syrokomli [10:11:00] --- D ---> Berenta [10:13:00] [17265]\n",
      "(68) Berenta [10:13:00] --- D ---> KROMERA [10:15:00] [17266]\n",
      "(69) KROMERA [10:17:00] --- 118 ---> Kwidzyńska [10:21:00] [569783]\n",
      "(70) Kwidzyńska [10:21:00] --- 121 ---> Zacisze [10:22:00] [595467]\n",
      "(71) Zacisze [10:22:00] --- 121 ---> Śniadeckich [10:23:00] [595468]\n",
      "(72) Śniadeckich [10:23:00] --- 121 ---> Kochanowskiego [10:25:00] [595469]\n",
      "(73) Kochanowskiego [10:25:00] --- 121 ---> Bujwida [10:27:00] [595470]\n",
      "(74) Bujwida [10:27:00] --- 121 ---> PL. GRUNWALDZKI [10:29:00] [595471]\n"
     ]
    }
   ],
   "source": [
    "print_path(swapped_sol3)"
   ],
   "metadata": {
    "collapsed": false,
    "ExecuteTime": {
     "end_time": "2024-04-01T20:21:14.452894600Z",
     "start_time": "2024-04-01T20:21:14.446853Z"
    }
   },
   "id": "18df13e5abaf2b17",
   "execution_count": 59
  },
  {
   "cell_type": "code",
   "outputs": [
    {
     "data": {
      "text/plain": "19.966722129783694"
     },
     "execution_count": 31,
     "metadata": {},
     "output_type": "execute_result"
    }
   ],
   "source": [
    "judge_t_solution(sol3, vis_stops)"
   ],
   "metadata": {
    "collapsed": false,
    "ExecuteTime": {
     "end_time": "2024-04-01T20:08:35.194792900Z",
     "start_time": "2024-04-01T20:08:35.190232200Z"
    }
   },
   "id": "4e5f4f07520ef503",
   "execution_count": 31
  },
  {
   "cell_type": "code",
   "outputs": [
    {
     "data": {
      "text/plain": "12000.0"
     },
     "execution_count": 32,
     "metadata": {},
     "output_type": "execute_result"
    }
   ],
   "source": [
    "judge_t_solution(swapped_sol3, vis_stops)"
   ],
   "metadata": {
    "collapsed": false,
    "ExecuteTime": {
     "end_time": "2024-04-01T20:08:45.304309100Z",
     "start_time": "2024-04-01T20:08:45.283922900Z"
    }
   },
   "id": "c9baf26b93a24e36",
   "execution_count": 32
  },
  {
   "cell_type": "code",
   "outputs": [
    {
     "name": "stdout",
     "output_type": "stream",
     "text": [
      "(0) Czajkowskiego [08:42:00] --- 116 ---> Koszarowa [08:44:00] [558576]\n",
      "(1) Koszarowa [08:47:00] --- 116 ---> KOSZAROWA (Szpital) [08:48:00] [559320]\n",
      "(2) KOSZAROWA (Szpital) [08:48:00] --- 116 ---> pl. Daniłowskiego [08:51:00] [559321]\n",
      "(3) pl. Daniłowskiego [08:51:00] --- 116 ---> Kasprowicza [08:52:00] [559322]\n",
      "(4) Kasprowicza [08:54:00] --- 130 ---> Syrokomli [08:55:00] [712170]\n",
      "(5) Syrokomli [08:55:00] --- 130 ---> Pola [08:56:00] [712171]\n",
      "(6) Pola [08:56:00] --- 130 ---> Broniewskiego [08:57:00] [712172]\n",
      "(7) Broniewskiego [09:03:00] --- 129 ---> Bałtycka [09:05:00] [697789]\n",
      "(8) Bałtycka [09:05:00] --- 111 ---> Bezpieczna [09:07:00] [512560]\n",
      "(9) Bezpieczna [09:07:00] --- 111 ---> Paprotna [09:08:00] [512561]\n"
     ]
    }
   ],
   "source": [
    "print_path(conn_s_i_e_j(sol3, 24, 13))"
   ],
   "metadata": {
    "collapsed": false,
    "ExecuteTime": {
     "end_time": "2024-04-01T18:48:24.432832300Z",
     "start_time": "2024-04-01T18:48:20.521918200Z"
    }
   },
   "id": "7c03ead478b91ca2",
   "execution_count": 16
  },
  {
   "cell_type": "code",
   "outputs": [
    {
     "name": "stdout",
     "output_type": "stream",
     "text": [
      "(0) Paprotna [08:25:00] --- 111 ---> Obornicka (Wołowska) [08:26:00] [512081]\n",
      "(1) Obornicka (Wołowska) [08:26:00] --- 111 ---> Bezpieczna [08:27:00] [512082]\n",
      "(2) Bezpieczna [08:27:00] --- K ---> Bałtycka [08:29:00] [32288]\n",
      "(3) Bałtycka [08:29:00] --- K ---> Broniewskiego [08:31:00] [32289]\n",
      "(4) Broniewskiego [08:32:00] --- 149 ---> Pola [08:33:00] [871098]\n",
      "(5) Pola [08:33:00] --- 149 ---> Syrokomli [08:34:00] [871099]\n",
      "(6) Syrokomli [08:34:00] --- 149 ---> Berenta [08:36:00] [871100]\n",
      "(7) Berenta [08:36:00] --- 149 ---> KROMERA [08:39:00] [871101]\n",
      "(8) KROMERA [08:39:00] --- 128 ---> Mosty Warszawskie [08:41:00] [686148]\n",
      "(9) Mosty Warszawskie [08:41:00] --- 128 ---> Wyszyńskiego [08:43:00] [686149]\n",
      "(10) Wyszyńskiego [08:43:00] --- 128 ---> Ogród Botaniczny [08:46:00] [686150]\n"
     ]
    }
   ],
   "source": [
    "print_path(conn_s_i_e_j(sol3, 14, 31))"
   ],
   "metadata": {
    "collapsed": false,
    "ExecuteTime": {
     "end_time": "2024-04-01T18:47:24.161669300Z",
     "start_time": "2024-04-01T18:47:18.653789Z"
    }
   },
   "id": "75f22226739ffc87",
   "execution_count": 15
  },
  {
   "cell_type": "code",
   "outputs": [],
   "source": [
    "def is_neighbour(dep_time, new_solution):\n",
    "    return assert_connection_path(dep_time, new_solution)\n",
    "\n",
    "def naive_search(solution, leave_hour, start_stop, visiting_stops: List[str]):\n",
    "    prev_stop = start_stop\n",
    "    new_solution = []\n",
    "    for stop in visiting_stops:\n",
    "        _, sub_sol = a_star_time_opt(prev_stop, stop, leave_hour, WeightedAverageTimeHeuristic())\n",
    "        new_solution = new_solution + sub_sol\n",
    "        prev_stop = \n",
    "\n",
    "def replace_connection(solution, dep_time, stop_from, stop_to):\n",
    "    \n",
    "    is_neigh = False\n",
    "    while not is_neigh:\n",
    "        graph, travel_solution = a_star_time_opt(stop_from, stop_to, dep_time, WeightedAverageTimeHeuristic())"
   ],
   "metadata": {
    "collapsed": false,
    "ExecuteTime": {
     "start_time": "2024-03-24T09:02:50.583756200Z"
    }
   },
   "id": "61d81daa6b139f33"
  }
 ],
 "metadata": {
  "kernelspec": {
   "display_name": "Python 3",
   "language": "python",
   "name": "python3"
  },
  "language_info": {
   "codemirror_mode": {
    "name": "ipython",
    "version": 2
   },
   "file_extension": ".py",
   "mimetype": "text/x-python",
   "name": "python",
   "nbconvert_exporter": "python",
   "pygments_lexer": "ipython2",
   "version": "2.7.6"
  }
 },
 "nbformat": 4,
 "nbformat_minor": 5
}
