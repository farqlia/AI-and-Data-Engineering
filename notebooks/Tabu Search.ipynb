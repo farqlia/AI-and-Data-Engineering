{
 "cells": [
  {
   "cell_type": "code",
   "execution_count": 1,
   "id": "initial_id",
   "metadata": {
    "collapsed": true,
    "ExecuteTime": {
     "end_time": "2024-03-23T20:22:59.086642600Z",
     "start_time": "2024-03-23T20:22:57.267155300Z"
    }
   },
   "outputs": [],
   "source": [
    "from ai_data_eng.searching.graph import *\n",
    "from ai_data_eng.searching.utils import *\n",
    "from ai_data_eng.searching.searchning import * \n",
    "from ai_data_eng.searching.a_star_time_opt import * \n",
    "from ai_data_eng.searching.heuristics import WeightedAverageTimeHeuristic\n",
    "from pathlib import Path\n",
    "\n",
    "DATA_DIR = Path('../data')"
   ]
  },
  {
   "cell_type": "code",
   "outputs": [
    {
     "name": "stderr",
     "output_type": "stream",
     "text": [
      "C:\\Users\\julia\\AppData\\Local\\Temp\\ipykernel_18168\\1218945369.py:1: DtypeWarning: Columns (2) have mixed types. Specify dtype option on import or set low_memory=False.\n",
      "  connection_graph = pd.read_csv(DATA_DIR / 'connection_graph.csv',\n"
     ]
    }
   ],
   "source": [
    "connection_graph = pd.read_csv(DATA_DIR / 'connection_graph.csv', \n",
    "                               usecols=['line', 'departure_time', 'arrival_time', 'start_stop',\n",
    "       'end_stop', 'start_stop_lat', 'start_stop_lon', 'end_stop_lat',\n",
    "       'end_stop_lon'])\n",
    "g = Graph(connection_graph, add_constant_change_time)"
   ],
   "metadata": {
    "collapsed": false,
    "ExecuteTime": {
     "end_time": "2024-03-23T20:23:07.409014100Z",
     "start_time": "2024-03-23T20:23:03.533246Z"
    }
   },
   "id": "36897f01047fd6df",
   "execution_count": 2
  },
  {
   "cell_type": "code",
   "outputs": [],
   "source": [
    "from typing import Set\n",
    "from queue import PriorityQueue\n",
    "\n",
    "\n",
    "def judge_t_solution(solution, visiting_stops: Set[str]):\n",
    "    matched_stops = 0 \n",
    "    conn_time = diff(solution[-1]['arrival_sec'], solution[-1]['departure_sec'])\n",
    "    line_changes = np.sum([1 for (c1, c2) in zip(solution[1:], solution[:-1]) if c1['line'] != c2['line']])\n",
    "    \n",
    "    for conn in solution:\n",
    "        if conn['start_stop'] in visiting_stops:\n",
    "            visiting_stops.remove(conn['start_stop'])\n",
    "            matched_stops += 1\n",
    "    return conn_time / (matched_stops + 0.01)    \n",
    "    \n",
    "def naive_solution(start_stop: str, visiting_stops: List[str], leave_hour: str):\n",
    "    prev_stop = start_stop\n",
    "    solution = []\n",
    "    for stop in visiting_stops:\n",
    "        _, sub_sol = a_star_time_opt(prev_stop, stop, leave_hour, WeightedAverageTimeHeuristic())\n",
    "        solution += sub_sol\n",
    "        prev_stop = stop \n",
    "        # add change time \n",
    "        leave_hour = sec_to_time(sub_sol[-1]['arrival_sec'])\n",
    "    solution += a_star_time_opt(prev_stop, start_stop, leave_hour, WeightedAverageTimeHeuristic())[1]\n",
    "    return solution\n",
    "\n",
    "\n",
    "def tabu_search(start_stop: str, visiting_stops: List[str], leave_hour: str, criterion: OptimizationType):\n",
    "    \n",
    "    dep_time = time_to_normalized_sec(leave_hour)\n",
    "    prev_stop = start_stop\n",
    "    solution = []\n",
    "    for stop in visiting_stops:\n",
    "        _, sub_sol = a_star_time_opt(prev_stop, stop, leave_hour, WeightedAverageTimeHeuristic())\n",
    "        solution += sub_sol\n",
    "        prev_stop = stop \n",
    "        # add change time \n",
    "        leave_hour = sec_to_time(sub_sol[-1]['arrival_sec'])\n",
    "    solution += a_star_time_opt(prev_stop, start_stop, leave_hour, WeightedAverageTimeHeuristic())[1]\n",
    "        \n",
    "    graph, travel_solution = a_star_time_opt(start_stop, visiting_stops[-1], leave_hour, WeightedAverageTimeHeuristic())\n",
    "    _, return_solution = a_star_time_opt(visiting_stops[-1], start_stop, sec_to_time(travel_solution[-1]['arrival_sec']), WeightedAverageTimeHeuristic())\n",
    "    \n",
    "    solution = travel_solution + return_solution\n",
    "    print_path(solution)\n",
    "    cost = judge_t_solution(solution, set(visiting_stops))\n",
    "    print(cost)"
   ],
   "metadata": {
    "collapsed": false,
    "ExecuteTime": {
     "end_time": "2024-03-23T21:23:38.712303Z",
     "start_time": "2024-03-23T21:23:38.697607700Z"
    }
   },
   "id": "d7b66a231edec944",
   "execution_count": 10
  },
  {
   "cell_type": "code",
   "outputs": [
    {
     "name": "stderr",
     "output_type": "stream",
     "text": [
      "C:\\Users\\julia\\VSCode\\AI-and-Data-Engineering\\ai_data_eng\\searching\\searchning.py:93: DtypeWarning: Columns (2) have mixed types. Specify dtype option on import or set low_memory=False.\n",
      "  connection_graph = pd.read_csv(DATA_DIR / 'connection_graph.csv',\n",
      "C:\\Users\\julia\\VSCode\\AI-and-Data-Engineering\\ai_data_eng\\searching\\searchning.py:93: DtypeWarning: Columns (2) have mixed types. Specify dtype option on import or set low_memory=False.\n",
      "  connection_graph = pd.read_csv(DATA_DIR / 'connection_graph.csv',\n",
      "C:\\Users\\julia\\VSCode\\AI-and-Data-Engineering\\ai_data_eng\\searching\\searchning.py:93: DtypeWarning: Columns (2) have mixed types. Specify dtype option on import or set low_memory=False.\n",
      "  connection_graph = pd.read_csv(DATA_DIR / 'connection_graph.csv',\n",
      "C:\\Users\\julia\\VSCode\\AI-and-Data-Engineering\\ai_data_eng\\searching\\searchning.py:93: DtypeWarning: Columns (2) have mixed types. Specify dtype option on import or set low_memory=False.\n",
      "  connection_graph = pd.read_csv(DATA_DIR / 'connection_graph.csv',\n"
     ]
    },
    {
     "name": "stdout",
     "output_type": "stream",
     "text": [
      "PL. GRUNWALDZKI [08:00:00] --- 146 ---> most Grunwaldzki [08:02:00]\n",
      "most Grunwaldzki [08:02:00] --- D ---> Poczta Główna [08:04:00]\n",
      "Poczta Główna [08:04:00] --- D ---> GALERIA DOMINIKAŃSKA [08:06:00]\n",
      "GALERIA DOMINIKAŃSKA [08:06:00] --- D ---> Renoma [08:09:00]\n",
      "Renoma [08:09:00] --- A ---> Arkady (Capitol) [08:11:00]\n",
      "Arkady (Capitol) [08:13:00] --- D ---> GALERIA DOMINIKAŃSKA [08:18:00]\n",
      "GALERIA DOMINIKAŃSKA [08:18:00] --- D ---> Urząd Wojewódzki (Impart) [08:21:00]\n",
      "Urząd Wojewódzki (Impart) [08:21:00] --- D ---> most Grunwaldzki [08:22:00]\n",
      "most Grunwaldzki [08:22:00] --- D ---> PL. GRUNWALDZKI [08:24:00]\n"
     ]
    }
   ],
   "source": [
    "print_path(naive_solution('PL. GRUNWALDZKI', ['most Grunwaldzki', 'Poczta Główna', 'Renoma'], '08:00:00'))"
   ],
   "metadata": {
    "collapsed": false,
    "ExecuteTime": {
     "end_time": "2024-03-23T21:24:51.169771400Z",
     "start_time": "2024-03-23T21:24:32.740060900Z"
    }
   },
   "id": "4080a968c9e3913b",
   "execution_count": 12
  },
  {
   "cell_type": "code",
   "outputs": [
    {
     "name": "stderr",
     "output_type": "stream",
     "text": [
      "C:\\Users\\julia\\VSCode\\AI-and-Data-Engineering\\ai_data_eng\\searching\\searchning.py:93: DtypeWarning: Columns (2) have mixed types. Specify dtype option on import or set low_memory=False.\n",
      "  connection_graph = pd.read_csv(DATA_DIR / 'connection_graph.csv',\n",
      "C:\\Users\\julia\\VSCode\\AI-and-Data-Engineering\\ai_data_eng\\searching\\searchning.py:93: DtypeWarning: Columns (2) have mixed types. Specify dtype option on import or set low_memory=False.\n",
      "  connection_graph = pd.read_csv(DATA_DIR / 'connection_graph.csv',\n",
      "C:\\Users\\julia\\VSCode\\AI-and-Data-Engineering\\ai_data_eng\\searching\\searchning.py:93: DtypeWarning: Columns (2) have mixed types. Specify dtype option on import or set low_memory=False.\n",
      "  connection_graph = pd.read_csv(DATA_DIR / 'connection_graph.csv',\n",
      "C:\\Users\\julia\\VSCode\\AI-and-Data-Engineering\\ai_data_eng\\searching\\searchning.py:93: DtypeWarning: Columns (2) have mixed types. Specify dtype option on import or set low_memory=False.\n",
      "  connection_graph = pd.read_csv(DATA_DIR / 'connection_graph.csv',\n",
      "C:\\Users\\julia\\VSCode\\AI-and-Data-Engineering\\ai_data_eng\\searching\\searchning.py:93: DtypeWarning: Columns (2) have mixed types. Specify dtype option on import or set low_memory=False.\n",
      "  connection_graph = pd.read_csv(DATA_DIR / 'connection_graph.csv',\n",
      "C:\\Users\\julia\\VSCode\\AI-and-Data-Engineering\\ai_data_eng\\searching\\searchning.py:93: DtypeWarning: Columns (2) have mixed types. Specify dtype option on import or set low_memory=False.\n",
      "  connection_graph = pd.read_csv(DATA_DIR / 'connection_graph.csv',\n",
      "C:\\Users\\julia\\VSCode\\AI-and-Data-Engineering\\ai_data_eng\\searching\\searchning.py:93: DtypeWarning: Columns (2) have mixed types. Specify dtype option on import or set low_memory=False.\n",
      "  connection_graph = pd.read_csv(DATA_DIR / 'connection_graph.csv',\n"
     ]
    },
    {
     "name": "stdout",
     "output_type": "stream",
     "text": [
      "Tramwajowa [08:00:00] --- 145 ---> Hala Stulecia [08:02:00]\n",
      "Hala Stulecia [08:02:00] --- 145 ---> Kliniki - Politechnika Wrocławska [08:04:00]\n",
      "Kliniki - Politechnika Wrocławska [08:04:00] --- 145 ---> PL. GRUNWALDZKI [08:06:00]\n",
      "PL. GRUNWALDZKI [08:06:00] --- 145 ---> most Grunwaldzki [08:07:00]\n",
      "most Grunwaldzki [08:07:00] --- 145 ---> Poczta Główna [08:09:00]\n",
      "Poczta Główna [08:09:00] --- 145 ---> skwer Krasińskiego [08:11:00]\n",
      "skwer Krasińskiego [08:11:00] --- 145 ---> DWORZEC GŁÓWNY [08:13:00]\n",
      "DWORZEC GŁÓWNY [08:14:00] --- 18 ---> DWORZEC AUTOBUSOWY [08:16:00]\n",
      "DWORZEC AUTOBUSOWY [08:20:00] --- 125 ---> EPI [08:23:00]\n",
      "EPI [08:24:00] --- 125 ---> DWORZEC AUTOBUSOWY [08:26:00]\n",
      "DWORZEC AUTOBUSOWY [08:30:00] --- 15 ---> Sanocka [08:32:00]\n",
      "Sanocka [08:32:00] --- 15 ---> Uniwersytet Ekonomiczny [08:34:00]\n",
      "Uniwersytet Ekonomiczny [08:34:00] --- 15 ---> Wiśniowa [08:36:00]\n",
      "Wiśniowa [08:36:00] --- 15 ---> Jaworowa [08:37:00]\n",
      "Jaworowa [08:37:00] --- 15 ---> Weigla (Szpital) [08:38:00]\n",
      "Weigla (Szpital) [08:38:00] --- 15 ---> Pułtuska [08:39:00]\n",
      "Pułtuska [08:39:00] --- 15 ---> PARK POŁUDNIOWY [08:40:00]\n",
      "PARK POŁUDNIOWY [08:42:00] --- 913 ---> KRZYKI [08:45:00]\n",
      "KRZYKI [08:50:00] --- A ---> Sowia [08:51:00]\n",
      "Sowia [08:51:00] --- 126 ---> Chłodna [08:52:00]\n",
      "Chłodna [08:52:00] --- 126 ---> Wawrzyniaka [08:53:00]\n",
      "Wawrzyniaka [08:53:00] --- 126 ---> Modlińska [08:54:00]\n",
      "Modlińska [08:54:00] --- 126 ---> Gajowicka (szkoła) [08:56:00]\n",
      "Gajowicka (szkoła) [08:56:00] --- 126 ---> Gajowicka [08:59:00]\n",
      "Gajowicka [09:00:00] --- 126 ---> Hallera [09:02:00]\n",
      "Hallera [09:03:00] --- 7 ---> Sztabowa [09:04:00]\n",
      "Sztabowa [09:04:00] --- 7 ---> Rondo [09:05:00]\n",
      "Rondo [09:05:00] --- 7 ---> Wielka [09:07:00]\n",
      "Wielka [09:07:00] --- 7 ---> Zaolziańska [09:08:00]\n",
      "Zaolziańska [09:08:00] --- 7 ---> Arkady (Capitol) [09:11:00]\n",
      "Arkady (Capitol) [09:11:00] --- 7 ---> Renoma [09:13:00]\n",
      "Renoma [09:14:00] --- 149 ---> Dworzec Główny (Dworcowa) [09:18:00]\n",
      "Dworzec Główny (Dworcowa) [09:18:00] --- 149 ---> skwer Krasińskiego [09:20:00]\n",
      "skwer Krasińskiego [09:21:00] --- A ---> Wzgórze Partyzantów [09:22:00]\n",
      "Wzgórze Partyzantów [09:24:00] --- 114 ---> GALERIA DOMINIKAŃSKA [09:27:00]\n",
      "GALERIA DOMINIKAŃSKA [09:28:00] --- K ---> Świdnicka [09:30:00]\n",
      "Świdnicka [09:30:00] --- K ---> Rynek [09:32:00]\n",
      "Rynek [09:32:00] --- 12 ---> Zamkowa [09:33:00]\n",
      "Zamkowa [09:33:00] --- 12 ---> Świdnicka [09:35:00]\n",
      "Świdnicka [09:35:00] --- 12 ---> GALERIA DOMINIKAŃSKA [09:37:00]\n",
      "GALERIA DOMINIKAŃSKA [09:37:00] --- 12 ---> Urząd Wojewódzki (Impart) [09:40:00]\n",
      "Urząd Wojewódzki (Impart) [09:41:00] --- 145 ---> most Grunwaldzki [09:42:00]\n",
      "most Grunwaldzki [09:42:00] --- 145 ---> PL. GRUNWALDZKI [09:44:00]\n",
      "PL. GRUNWALDZKI [09:44:00] --- 145 ---> Kliniki - Politechnika Wrocławska [09:46:00]\n",
      "Kliniki - Politechnika Wrocławska [09:46:00] --- 145 ---> Hala Stulecia [09:48:00]\n",
      "Hala Stulecia [09:48:00] --- 145 ---> Tramwajowa [09:50:00]\n"
     ]
    }
   ],
   "source": [
    "print_path(naive_solution('Tramwajowa', ['most Grunwaldzki', 'Poczta Główna', 'EPI', 'Sowia', 'Dworzec Główny (Dworcowa)', 'Rynek'], '08:00:00'))"
   ],
   "metadata": {
    "collapsed": false,
    "ExecuteTime": {
     "end_time": "2024-03-23T21:26:00.134282400Z",
     "start_time": "2024-03-23T21:25:08.280916600Z"
    }
   },
   "id": "2597a70370dc3485",
   "execution_count": 13
  },
  {
   "cell_type": "code",
   "outputs": [],
   "source": [
    "def is_neighbour(dep_time, new_solution):\n",
    "    return assert_connection_path(dep_time, new_solution)\n",
    "\n",
    "def naive_search(solution, leave_hour, start_stop, visiting_stops: List[str]):\n",
    "    prev_stop = start_stop\n",
    "    new_solution = []\n",
    "    for stop in visiting_stops:\n",
    "        _, sub_sol = a_star_time_opt(prev_stop, stop, leave_hour, WeightedAverageTimeHeuristic())\n",
    "        new_solution = new_solution + sub_sol\n",
    "        prev_stop = \n",
    "\n",
    "def replace_connection(solution, dep_time, stop_from, stop_to):\n",
    "    \n",
    "    is_neigh = False\n",
    "    while not is_neigh:\n",
    "        graph, travel_solution = a_star_time_opt(stop_from, stop_to, dep_time, WeightedAverageTimeHeuristic())"
   ],
   "metadata": {
    "collapsed": false
   },
   "id": "61d81daa6b139f33"
  }
 ],
 "metadata": {
  "kernelspec": {
   "display_name": "Python 3",
   "language": "python",
   "name": "python3"
  },
  "language_info": {
   "codemirror_mode": {
    "name": "ipython",
    "version": 2
   },
   "file_extension": ".py",
   "mimetype": "text/x-python",
   "name": "python",
   "nbconvert_exporter": "python",
   "pygments_lexer": "ipython2",
   "version": "2.7.6"
  }
 },
 "nbformat": 4,
 "nbformat_minor": 5
}
