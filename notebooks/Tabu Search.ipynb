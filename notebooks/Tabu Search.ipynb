{
 "cells": [
  {
   "cell_type": "code",
   "execution_count": 1,
   "id": "initial_id",
   "metadata": {
    "collapsed": true,
    "ExecuteTime": {
     "end_time": "2024-03-24T09:02:45.576095900Z",
     "start_time": "2024-03-24T09:02:44.585150600Z"
    }
   },
   "outputs": [],
   "source": [
    "from ai_data_eng.searching.graph import *\n",
    "from ai_data_eng.searching.utils import *\n",
    "from ai_data_eng.searching.searchning import * \n",
    "from ai_data_eng.searching.a_star_time_opt import * \n",
    "from ai_data_eng.searching.heuristics import WeightedAverageTimeHeuristic\n",
    "from pathlib import Path\n",
    "\n",
    "DATA_DIR = Path('../data')"
   ]
  },
  {
   "cell_type": "code",
   "outputs": [
    {
     "name": "stderr",
     "output_type": "stream",
     "text": [
      "C:\\Users\\julia\\AppData\\Local\\Temp\\ipykernel_29216\\1218945369.py:1: DtypeWarning: Columns (2) have mixed types. Specify dtype option on import or set low_memory=False.\n",
      "  connection_graph = pd.read_csv(DATA_DIR / 'connection_graph.csv',\n"
     ]
    }
   ],
   "source": [
    "connection_graph = pd.read_csv(DATA_DIR / 'connection_graph.csv', \n",
    "                               usecols=['line', 'departure_time', 'arrival_time', 'start_stop',\n",
    "       'end_stop', 'start_stop_lat', 'start_stop_lon', 'end_stop_lat',\n",
    "       'end_stop_lon'])\n",
    "g = Graph(connection_graph, add_constant_change_time)"
   ],
   "metadata": {
    "collapsed": false,
    "ExecuteTime": {
     "end_time": "2024-03-24T09:02:50.144798700Z",
     "start_time": "2024-03-24T09:02:45.577098500Z"
    }
   },
   "id": "36897f01047fd6df",
   "execution_count": 2
  },
  {
   "cell_type": "code",
   "outputs": [],
   "source": [
    "from typing import Set\n",
    "from queue import PriorityQueue\n",
    "\n",
    "\n",
    "def judge_t_solution(solution, visiting_stops: Set[str]):\n",
    "    matched_stops = 0 \n",
    "    conn_time = diff(solution[-1]['arrival_sec'], solution[-1]['departure_sec'])\n",
    "    line_changes = np.sum([1 for (c1, c2) in zip(solution[1:], solution[:-1]) if c1['line'] != c2['line']])\n",
    "    \n",
    "    for conn in solution:\n",
    "        if conn['start_stop'] in visiting_stops:\n",
    "            visiting_stops.remove(conn['start_stop'])\n",
    "            matched_stops += 1\n",
    "    return conn_time / (matched_stops + 0.01)    \n",
    "    \n",
    "def naive_solution(start_stop: str, visiting_stops: List[str], leave_hour: str):\n",
    "    prev_stop = start_stop\n",
    "    solution = []\n",
    "    for stop in visiting_stops:\n",
    "        _, sub_sol = a_star_time_opt(prev_stop, stop, leave_hour, WeightedAverageTimeHeuristic())\n",
    "        solution += sub_sol\n",
    "        prev_stop = stop \n",
    "        # add change time \n",
    "        leave_hour = sec_to_time(sub_sol[-1]['arrival_sec'])\n",
    "    solution += a_star_time_opt(prev_stop, start_stop, leave_hour, WeightedAverageTimeHeuristic())[1]\n",
    "    return solution\n",
    "\n",
    "\n",
    "def tabu_search(start_stop: str, visiting_stops: List[str], leave_hour: str, criterion: OptimizationType):\n",
    "    \n",
    "    dep_time = time_to_normalized_sec(leave_hour)\n",
    "    prev_stop = start_stop\n",
    "    solution = []\n",
    "    for stop in visiting_stops:\n",
    "        _, sub_sol = a_star_time_opt(prev_stop, stop, leave_hour, WeightedAverageTimeHeuristic())\n",
    "        solution += sub_sol\n",
    "        prev_stop = stop \n",
    "        # add change time \n",
    "        leave_hour = sec_to_time(sub_sol[-1]['arrival_sec'])\n",
    "    solution += a_star_time_opt(prev_stop, start_stop, leave_hour, WeightedAverageTimeHeuristic())[1]\n",
    "        \n",
    "    graph, travel_solution = a_star_time_opt(start_stop, visiting_stops[-1], leave_hour, WeightedAverageTimeHeuristic())\n",
    "    _, return_solution = a_star_time_opt(visiting_stops[-1], start_stop, sec_to_time(travel_solution[-1]['arrival_sec']), WeightedAverageTimeHeuristic())\n",
    "    \n",
    "    solution = travel_solution + return_solution\n",
    "    print_path(solution)\n",
    "    cost = judge_t_solution(solution, set(visiting_stops))\n",
    "    print(cost)"
   ],
   "metadata": {
    "collapsed": false,
    "ExecuteTime": {
     "end_time": "2024-03-24T09:02:50.166003200Z",
     "start_time": "2024-03-24T09:02:50.154893200Z"
    }
   },
   "id": "d7b66a231edec944",
   "execution_count": 3
  },
  {
   "cell_type": "code",
   "outputs": [
    {
     "ename": "TypeError",
     "evalue": "a_star_time_opt() missing 1 required positional argument: 'change_time'",
     "output_type": "error",
     "traceback": [
      "\u001B[1;31m---------------------------------------------------------------------------\u001B[0m",
      "\u001B[1;31mTypeError\u001B[0m                                 Traceback (most recent call last)",
      "Cell \u001B[1;32mIn[4], line 1\u001B[0m\n\u001B[1;32m----> 1\u001B[0m print_path(\u001B[43mnaive_solution\u001B[49m\u001B[43m(\u001B[49m\u001B[38;5;124;43m'\u001B[39;49m\u001B[38;5;124;43mPL. GRUNWALDZKI\u001B[39;49m\u001B[38;5;124;43m'\u001B[39;49m\u001B[43m,\u001B[49m\u001B[43m \u001B[49m\u001B[43m[\u001B[49m\u001B[38;5;124;43m'\u001B[39;49m\u001B[38;5;124;43mmost Grunwaldzki\u001B[39;49m\u001B[38;5;124;43m'\u001B[39;49m\u001B[43m,\u001B[49m\u001B[43m \u001B[49m\u001B[38;5;124;43m'\u001B[39;49m\u001B[38;5;124;43mPoczta Główna\u001B[39;49m\u001B[38;5;124;43m'\u001B[39;49m\u001B[43m,\u001B[49m\u001B[43m \u001B[49m\u001B[38;5;124;43m'\u001B[39;49m\u001B[38;5;124;43mRenoma\u001B[39;49m\u001B[38;5;124;43m'\u001B[39;49m\u001B[43m]\u001B[49m\u001B[43m,\u001B[49m\u001B[43m \u001B[49m\u001B[38;5;124;43m'\u001B[39;49m\u001B[38;5;124;43m08:00:00\u001B[39;49m\u001B[38;5;124;43m'\u001B[39;49m\u001B[43m)\u001B[49m)\n",
      "Cell \u001B[1;32mIn[3], line 20\u001B[0m, in \u001B[0;36mnaive_solution\u001B[1;34m(start_stop, visiting_stops, leave_hour)\u001B[0m\n\u001B[0;32m     18\u001B[0m solution \u001B[38;5;241m=\u001B[39m []\n\u001B[0;32m     19\u001B[0m \u001B[38;5;28;01mfor\u001B[39;00m stop \u001B[38;5;129;01min\u001B[39;00m visiting_stops:\n\u001B[1;32m---> 20\u001B[0m     _, sub_sol \u001B[38;5;241m=\u001B[39m \u001B[43ma_star_time_opt\u001B[49m\u001B[43m(\u001B[49m\u001B[43mprev_stop\u001B[49m\u001B[43m,\u001B[49m\u001B[43m \u001B[49m\u001B[43mstop\u001B[49m\u001B[43m,\u001B[49m\u001B[43m \u001B[49m\u001B[43mleave_hour\u001B[49m\u001B[43m,\u001B[49m\u001B[43m \u001B[49m\u001B[43mWeightedAverageTimeHeuristic\u001B[49m\u001B[43m(\u001B[49m\u001B[43m)\u001B[49m\u001B[43m)\u001B[49m\n\u001B[0;32m     21\u001B[0m     solution \u001B[38;5;241m+\u001B[39m\u001B[38;5;241m=\u001B[39m sub_sol\n\u001B[0;32m     22\u001B[0m     prev_stop \u001B[38;5;241m=\u001B[39m stop \n",
      "\u001B[1;31mTypeError\u001B[0m: a_star_time_opt() missing 1 required positional argument: 'change_time'"
     ]
    }
   ],
   "source": [
    "print_path(naive_solution('PL. GRUNWALDZKI', ['most Grunwaldzki', 'Poczta Główna', 'Renoma'], '08:00:00'))"
   ],
   "metadata": {
    "collapsed": false,
    "ExecuteTime": {
     "end_time": "2024-03-24T09:02:50.580807500Z",
     "start_time": "2024-03-24T09:02:50.164028800Z"
    }
   },
   "id": "4080a968c9e3913b",
   "execution_count": 4
  },
  {
   "cell_type": "code",
   "outputs": [],
   "source": [
    "print_path(naive_solution('Tramwajowa', ['most Grunwaldzki', 'Poczta Główna', 'EPI', 'Sowia', 'Dworzec Główny (Dworcowa)', 'Rynek'], '08:00:00'))"
   ],
   "metadata": {
    "collapsed": false,
    "ExecuteTime": {
     "start_time": "2024-03-24T09:02:50.578930600Z"
    }
   },
   "id": "2597a70370dc3485",
   "execution_count": null
  },
  {
   "cell_type": "code",
   "outputs": [],
   "source": [
    "def is_neighbour(dep_time, new_solution):\n",
    "    return assert_connection_path(dep_time, new_solution)\n",
    "\n",
    "def naive_search(solution, leave_hour, start_stop, visiting_stops: List[str]):\n",
    "    prev_stop = start_stop\n",
    "    new_solution = []\n",
    "    for stop in visiting_stops:\n",
    "        _, sub_sol = a_star_time_opt(prev_stop, stop, leave_hour, WeightedAverageTimeHeuristic())\n",
    "        new_solution = new_solution + sub_sol\n",
    "        prev_stop = \n",
    "\n",
    "def replace_connection(solution, dep_time, stop_from, stop_to):\n",
    "    \n",
    "    is_neigh = False\n",
    "    while not is_neigh:\n",
    "        graph, travel_solution = a_star_time_opt(stop_from, stop_to, dep_time, WeightedAverageTimeHeuristic())"
   ],
   "metadata": {
    "collapsed": false,
    "ExecuteTime": {
     "start_time": "2024-03-24T09:02:50.583756200Z"
    }
   },
   "id": "61d81daa6b139f33"
  }
 ],
 "metadata": {
  "kernelspec": {
   "display_name": "Python 3",
   "language": "python",
   "name": "python3"
  },
  "language_info": {
   "codemirror_mode": {
    "name": "ipython",
    "version": 2
   },
   "file_extension": ".py",
   "mimetype": "text/x-python",
   "name": "python",
   "nbconvert_exporter": "python",
   "pygments_lexer": "ipython2",
   "version": "2.7.6"
  }
 },
 "nbformat": 4,
 "nbformat_minor": 5
}
