{
 "cells": [
  {
   "cell_type": "markdown",
   "source": [
    "1. Wygenerowanie jednego rozwiązania ze ścieżką\n",
    "2. Próba znalezienia pośredniego połączenia między dwoma połączeniami w rozwiazaniu\n",
    "3. Jeśli to rozwiązanie polepsza wynik, to akceptujemy"
   ],
   "metadata": {
    "collapsed": false
   },
   "id": "45250d1c5e70a900"
  },
  {
   "cell_type": "code",
   "execution_count": 2,
   "id": "initial_id",
   "metadata": {
    "collapsed": true,
    "ExecuteTime": {
     "end_time": "2024-03-31T18:53:18.170365500Z",
     "start_time": "2024-03-31T18:53:18.163348600Z"
    }
   },
   "outputs": [],
   "source": [
    "from ai_data_eng.searching.graph import *\n",
    "from ai_data_eng.searching.utils import *\n",
    "from ai_data_eng.searching.searchning import * \n",
    "from ai_data_eng.searching.a_star_time_opt import a_star_time_opt_light\n",
    "from ai_data_eng.searching.a_star_changes_opt import a_star_changes_opt_light\n",
    "from ai_data_eng.searching.heuristics import WeightedAverageTimeHeuristic, ChangeHeuristic\n",
    "from pathlib import Path\n",
    "\n",
    "DATA_DIR = Path('../data')"
   ]
  },
  {
   "cell_type": "code",
   "outputs": [
    {
     "name": "stderr",
     "output_type": "stream",
     "text": [
      "C:\\Users\\julia\\AppData\\Local\\Temp\\ipykernel_15156\\1218945369.py:1: DtypeWarning: Columns (2) have mixed types. Specify dtype option on import or set low_memory=False.\n",
      "  connection_graph = pd.read_csv(DATA_DIR / 'connection_graph.csv',\n"
     ]
    }
   ],
   "source": [
    "connection_graph = pd.read_csv(DATA_DIR / 'connection_graph.csv', \n",
    "                               usecols=['line', 'departure_time', 'arrival_time', 'start_stop',\n",
    "       'end_stop', 'start_stop_lat', 'start_stop_lon', 'end_stop_lat',\n",
    "       'end_stop_lon'])\n",
    "g = Graph(connection_graph, add_constant_change_time)"
   ],
   "metadata": {
    "collapsed": false,
    "ExecuteTime": {
     "end_time": "2024-03-25T14:26:50.132369400Z",
     "start_time": "2024-03-25T14:26:46.527627200Z"
    }
   },
   "id": "36897f01047fd6df",
   "execution_count": 2
  },
  {
   "cell_type": "code",
   "outputs": [],
   "source": [
    "from typing import Set\n",
    "from queue import PriorityQueue\n",
    "\n",
    "CRITERION = OptimizationType.TIME\n",
    "\n",
    "def judge_t_solution(solution, visiting_stops: Set[str]):\n",
    "    matched_stops = 0 \n",
    "    conn_time = diff(solution[-1]['arrival_sec'], solution[-1]['departure_sec'])\n",
    "    \n",
    "    for conn in solution:\n",
    "        if conn['start_stop'] in visiting_stops:\n",
    "            visiting_stops.remove(conn['start_stop'])\n",
    "            matched_stops += 1\n",
    "    return conn_time / (matched_stops + 0.01)    \n",
    "\n",
    "def judge_p_solution(solution, visiting_stops: Set[str]):\n",
    "    matched_stops = 0 \n",
    "    line_changes = int(np.sum([1 for (c1, c2) in zip(solution[:-1], solution[1:]) if is_conn_change(c1, c2)]))\n",
    "    \n",
    "    for conn in solution:\n",
    "        if conn['start_stop'] in visiting_stops:\n",
    "            visiting_stops.remove(conn['start_stop'])\n",
    "            matched_stops += 1\n",
    "    return line_changes / (matched_stops + 0.01)  \n",
    "    \n",
    "def naive_solution(criterion: OptimizationType, start_stop: str, visiting_stops: List[str], leave_hour: str):\n",
    "    a_star = get_a_star(criterion)\n",
    "    prev_stop = start_stop\n",
    "    solution = []\n",
    "    for stop in visiting_stops:\n",
    "        _, sub_sol = a_star(start_stop=prev_stop, goal_stop=stop, leave_hour=leave_hour)\n",
    "        solution += sub_sol\n",
    "        prev_stop = stop \n",
    "        # add change time \n",
    "        leave_hour = sec_to_time(sub_sol[-1]['arrival_sec'])\n",
    "    solution += a_star(start_stop=prev_stop, goal_stop=start_stop, leave_hour=leave_hour)[1]\n",
    "    return solution\n",
    "\n",
    "def get_a_star(criterion: OptimizationType):\n",
    "    if criterion == OptimizationType.TIME:\n",
    "        return partial(a_star_time_opt_light, heuristic=WeightedAverageTimeHeuristic(), change_time=0)\n",
    "    elif criterion == OptimizationType.CHANGES:\n",
    "        return partial(a_star_changes_opt_light, heuristic=ChangeHeuristic(), change_time=0)\n"
   ],
   "metadata": {
    "collapsed": false,
    "ExecuteTime": {
     "end_time": "2024-03-25T14:26:50.143797900Z",
     "start_time": "2024-03-25T14:26:50.139496300Z"
    }
   },
   "id": "d7b66a231edec944",
   "execution_count": 3
  },
  {
   "cell_type": "code",
   "outputs": [
    {
     "name": "stderr",
     "output_type": "stream",
     "text": [
      "C:\\Users\\julia\\VSCode\\AI-and-Data-Engineering\\ai_data_eng\\searching\\searchning.py:105: DtypeWarning: Columns (2) have mixed types. Specify dtype option on import or set low_memory=False.\n",
      "  connection_graph = pd.read_csv(DATA_DIR / 'connection_graph.csv',\n",
      "C:\\Users\\julia\\VSCode\\AI-and-Data-Engineering\\ai_data_eng\\searching\\searchning.py:105: DtypeWarning: Columns (2) have mixed types. Specify dtype option on import or set low_memory=False.\n",
      "  connection_graph = pd.read_csv(DATA_DIR / 'connection_graph.csv',\n",
      "C:\\Users\\julia\\VSCode\\AI-and-Data-Engineering\\ai_data_eng\\searching\\searchning.py:105: DtypeWarning: Columns (2) have mixed types. Specify dtype option on import or set low_memory=False.\n",
      "  connection_graph = pd.read_csv(DATA_DIR / 'connection_graph.csv',\n",
      "C:\\Users\\julia\\VSCode\\AI-and-Data-Engineering\\ai_data_eng\\searching\\searchning.py:105: DtypeWarning: Columns (2) have mixed types. Specify dtype option on import or set low_memory=False.\n",
      "  connection_graph = pd.read_csv(DATA_DIR / 'connection_graph.csv',\n"
     ]
    }
   ],
   "source": [
    "sol1 = naive_solution(OptimizationType.TIME, 'PL. GRUNWALDZKI', ['most Grunwaldzki', 'Poczta Główna', 'Renoma'], '08:00:00')"
   ],
   "metadata": {
    "collapsed": false,
    "ExecuteTime": {
     "end_time": "2024-03-25T14:27:15.037686500Z",
     "start_time": "2024-03-25T14:26:58.149877700Z"
    }
   },
   "id": "4080a968c9e3913b",
   "execution_count": 4
  },
  {
   "cell_type": "code",
   "outputs": [
    {
     "name": "stdout",
     "output_type": "stream",
     "text": [
      "PL. GRUNWALDZKI [08:00:00] --- 146 ---> most Grunwaldzki [08:02:00]\n",
      "most Grunwaldzki [08:02:00] --- D ---> Poczta Główna [08:04:00]\n",
      "Poczta Główna [08:04:00] --- D ---> GALERIA DOMINIKAŃSKA [08:06:00]\n",
      "GALERIA DOMINIKAŃSKA [08:06:00] --- D ---> Renoma [08:09:00]\n",
      "Renoma [08:09:00] --- A ---> Arkady (Capitol) [08:11:00]\n",
      "Arkady (Capitol) [08:13:00] --- D ---> GALERIA DOMINIKAŃSKA [08:18:00]\n",
      "GALERIA DOMINIKAŃSKA [08:18:00] --- 13 ---> Urząd Wojewódzki (Impart) [08:21:00]\n",
      "Urząd Wojewódzki (Impart) [08:21:00] --- 149 ---> most Grunwaldzki [08:22:00]\n",
      "most Grunwaldzki [08:22:00] --- D ---> PL. GRUNWALDZKI [08:24:00]\n"
     ]
    }
   ],
   "source": [
    "print_path(sol1)"
   ],
   "metadata": {
    "collapsed": false,
    "ExecuteTime": {
     "end_time": "2024-03-25T14:29:31.219109Z",
     "start_time": "2024-03-25T14:29:31.210792100Z"
    }
   },
   "id": "a84552b65a51d3ad",
   "execution_count": 5
  },
  {
   "cell_type": "code",
   "outputs": [
    {
     "data": {
      "text/plain": "39.8671096345515"
     },
     "execution_count": 6,
     "metadata": {},
     "output_type": "execute_result"
    }
   ],
   "source": [
    "judge_t_solution(sol1, ['most Grunwaldzki', 'Poczta Główna', 'Renoma'])"
   ],
   "metadata": {
    "collapsed": false,
    "ExecuteTime": {
     "end_time": "2024-03-25T14:29:34.162610400Z",
     "start_time": "2024-03-25T14:29:34.149718Z"
    }
   },
   "id": "d3d8496d5a2b6331",
   "execution_count": 6
  },
  {
   "cell_type": "code",
   "outputs": [
    {
     "name": "stderr",
     "output_type": "stream",
     "text": [
      "C:\\Users\\julia\\VSCode\\AI-and-Data-Engineering\\ai_data_eng\\searching\\searchning.py:105: DtypeWarning: Columns (2) have mixed types. Specify dtype option on import or set low_memory=False.\n",
      "  connection_graph = pd.read_csv(DATA_DIR / 'connection_graph.csv',\n",
      "C:\\Users\\julia\\VSCode\\AI-and-Data-Engineering\\ai_data_eng\\searching\\searchning.py:105: DtypeWarning: Columns (2) have mixed types. Specify dtype option on import or set low_memory=False.\n",
      "  connection_graph = pd.read_csv(DATA_DIR / 'connection_graph.csv',\n",
      "C:\\Users\\julia\\VSCode\\AI-and-Data-Engineering\\ai_data_eng\\searching\\searchning.py:105: DtypeWarning: Columns (2) have mixed types. Specify dtype option on import or set low_memory=False.\n",
      "  connection_graph = pd.read_csv(DATA_DIR / 'connection_graph.csv',\n",
      "C:\\Users\\julia\\VSCode\\AI-and-Data-Engineering\\ai_data_eng\\searching\\searchning.py:105: DtypeWarning: Columns (2) have mixed types. Specify dtype option on import or set low_memory=False.\n",
      "  connection_graph = pd.read_csv(DATA_DIR / 'connection_graph.csv',\n"
     ]
    }
   ],
   "source": [
    "sol2 = naive_solution(OptimizationType.CHANGES, 'PL. GRUNWALDZKI', ['most Grunwaldzki', 'Poczta Główna', 'Renoma'], '08:00:00')"
   ],
   "metadata": {
    "collapsed": false,
    "ExecuteTime": {
     "end_time": "2024-03-25T14:32:27.686383200Z",
     "start_time": "2024-03-25T14:31:59.313061800Z"
    }
   },
   "id": "8e4ff088f03c50b5",
   "execution_count": 9
  },
  {
   "cell_type": "code",
   "outputs": [
    {
     "name": "stdout",
     "output_type": "stream",
     "text": [
      "PL. GRUNWALDZKI [08:00:00] --- 146 ---> most Grunwaldzki [08:02:00]\n",
      "most Grunwaldzki [08:02:00] --- D ---> Poczta Główna [08:04:00]\n",
      "Poczta Główna [08:04:00] --- D ---> GALERIA DOMINIKAŃSKA [08:06:00]\n",
      "GALERIA DOMINIKAŃSKA [08:06:00] --- D ---> Renoma [08:09:00]\n",
      "Renoma [08:10:00] --- 149 ---> Dworzec Główny (Dworcowa) [08:15:00]\n",
      "Dworzec Główny (Dworcowa) [08:15:00] --- 149 ---> skwer Krasińskiego [08:17:00]\n",
      "skwer Krasińskiego [08:17:00] --- 149 ---> Krasińskiego [08:18:00]\n",
      "Krasińskiego [08:18:00] --- 149 ---> Urząd Wojewódzki (Impart) [08:21:00]\n",
      "Urząd Wojewódzki (Impart) [08:21:00] --- 149 ---> most Grunwaldzki [08:22:00]\n",
      "most Grunwaldzki [08:22:00] --- 149 ---> PL. GRUNWALDZKI [08:24:00]\n"
     ]
    }
   ],
   "source": [
    "print_path(sol2)"
   ],
   "metadata": {
    "collapsed": false,
    "ExecuteTime": {
     "end_time": "2024-03-25T14:32:27.701072Z",
     "start_time": "2024-03-25T14:32:27.684057700Z"
    }
   },
   "id": "ce1fb9952c5675e3",
   "execution_count": 10
  },
  {
   "cell_type": "code",
   "outputs": [],
   "source": [
    "vis_stops = ['Paprotna', 'Czajkowskiego', 'Ogród Botaniczny', 'Krucza', 'Renoma', 'Kępińska']\n",
    "start_stop = 'PL. GRUNWALDZKI'\n",
    "leave_hour = '08:00:00'"
   ],
   "metadata": {
    "collapsed": false,
    "ExecuteTime": {
     "end_time": "2024-03-25T14:33:44.191854600Z",
     "start_time": "2024-03-25T14:33:44.187063100Z"
    }
   },
   "id": "a64902807b78df72",
   "execution_count": 12
  },
  {
   "cell_type": "code",
   "outputs": [
    {
     "name": "stderr",
     "output_type": "stream",
     "text": [
      "C:\\Users\\julia\\VSCode\\AI-and-Data-Engineering\\ai_data_eng\\searching\\searchning.py:105: DtypeWarning: Columns (2) have mixed types. Specify dtype option on import or set low_memory=False.\n",
      "  connection_graph = pd.read_csv(DATA_DIR / 'connection_graph.csv',\n",
      "C:\\Users\\julia\\VSCode\\AI-and-Data-Engineering\\ai_data_eng\\searching\\searchning.py:105: DtypeWarning: Columns (2) have mixed types. Specify dtype option on import or set low_memory=False.\n",
      "  connection_graph = pd.read_csv(DATA_DIR / 'connection_graph.csv',\n",
      "C:\\Users\\julia\\VSCode\\AI-and-Data-Engineering\\ai_data_eng\\searching\\searchning.py:105: DtypeWarning: Columns (2) have mixed types. Specify dtype option on import or set low_memory=False.\n",
      "  connection_graph = pd.read_csv(DATA_DIR / 'connection_graph.csv',\n",
      "C:\\Users\\julia\\VSCode\\AI-and-Data-Engineering\\ai_data_eng\\searching\\searchning.py:105: DtypeWarning: Columns (2) have mixed types. Specify dtype option on import or set low_memory=False.\n",
      "  connection_graph = pd.read_csv(DATA_DIR / 'connection_graph.csv',\n",
      "C:\\Users\\julia\\VSCode\\AI-and-Data-Engineering\\ai_data_eng\\searching\\searchning.py:105: DtypeWarning: Columns (2) have mixed types. Specify dtype option on import or set low_memory=False.\n",
      "  connection_graph = pd.read_csv(DATA_DIR / 'connection_graph.csv',\n",
      "C:\\Users\\julia\\VSCode\\AI-and-Data-Engineering\\ai_data_eng\\searching\\searchning.py:105: DtypeWarning: Columns (2) have mixed types. Specify dtype option on import or set low_memory=False.\n",
      "  connection_graph = pd.read_csv(DATA_DIR / 'connection_graph.csv',\n",
      "C:\\Users\\julia\\VSCode\\AI-and-Data-Engineering\\ai_data_eng\\searching\\searchning.py:105: DtypeWarning: Columns (2) have mixed types. Specify dtype option on import or set low_memory=False.\n",
      "  connection_graph = pd.read_csv(DATA_DIR / 'connection_graph.csv',\n"
     ]
    }
   ],
   "source": [
    "sol3 = naive_solution(OptimizationType.TIME, start_stop, vis_stops, leave_hour)"
   ],
   "metadata": {
    "collapsed": false,
    "ExecuteTime": {
     "end_time": "2024-03-25T14:34:36.979396800Z",
     "start_time": "2024-03-25T14:33:54.000116700Z"
    }
   },
   "id": "47d86eafb2596eeb",
   "execution_count": 13
  },
  {
   "cell_type": "code",
   "outputs": [
    {
     "data": {
      "text/plain": "29.950083194675543"
     },
     "execution_count": 14,
     "metadata": {},
     "output_type": "execute_result"
    }
   ],
   "source": [
    "judge_t_solution(sol3, vis_stops)"
   ],
   "metadata": {
    "collapsed": false,
    "ExecuteTime": {
     "end_time": "2024-03-25T14:35:02.075715Z",
     "start_time": "2024-03-25T14:35:02.069973900Z"
    }
   },
   "id": "a9d0ebbeab18d590",
   "execution_count": 14
  },
  {
   "cell_type": "code",
   "outputs": [
    {
     "name": "stdout",
     "output_type": "stream",
     "text": [
      "PL. GRUNWALDZKI [08:00:00] --- 19 ---> Piastowska [08:02:00]\n",
      "Piastowska [08:02:00] --- 19 ---> Górnickiego [08:04:00]\n",
      "Górnickiego [08:04:00] --- 19 ---> Ogród Botaniczny [08:06:00]\n",
      "Ogród Botaniczny [08:06:00] --- 128 ---> Wyszyńskiego [08:08:00]\n",
      "Wyszyńskiego [08:08:00] --- 128 ---> Damrota [08:09:00]\n",
      "Damrota [08:09:00] --- 128 ---> KROMERA [08:12:00]\n",
      "KROMERA [08:13:00] --- 116 ---> Berenta [08:14:00]\n",
      "Berenta [08:14:00] --- 116 ---> Kasprowicza [08:15:00]\n",
      "Kasprowicza [08:15:00] --- 130 ---> Syrokomli [08:16:00]\n",
      "Syrokomli [08:16:00] --- 130 ---> Pola [08:17:00]\n",
      "Pola [08:17:00] --- 130 ---> Broniewskiego [08:18:00]\n",
      "Broniewskiego [08:18:00] --- 118 ---> Bałtycka [08:20:00]\n",
      "Bałtycka [08:20:00] --- 118 ---> Bezpieczna [08:21:00]\n",
      "Bezpieczna [08:21:00] --- 602 ---> Paprotna [08:22:00]\n",
      "Paprotna [08:25:00] --- 111 ---> Obornicka (Wołowska) [08:26:00]\n",
      "Obornicka (Wołowska) [08:26:00] --- 111 ---> Bezpieczna [08:27:00]\n",
      "Bezpieczna [08:27:00] --- K ---> Bałtycka [08:29:00]\n",
      "Bałtycka [08:29:00] --- K ---> Broniewskiego [08:31:00]\n",
      "Broniewskiego [08:32:00] --- 149 ---> Pola [08:33:00]\n",
      "Pola [08:33:00] --- 149 ---> Syrokomli [08:34:00]\n",
      "Syrokomli [08:36:00] --- 118 ---> Kasprowicza [08:37:00]\n",
      "Kasprowicza [08:37:00] --- 118 ---> pl. Daniłowskiego [08:39:00]\n",
      "pl. Daniłowskiego [08:40:00] --- 116 ---> Przybyszewskiego [08:41:00]\n",
      "Przybyszewskiego [08:41:00] --- 116 ---> Czajkowskiego [08:42:00]\n",
      "Czajkowskiego [08:42:00] --- 116 ---> Koszarowa [08:44:00]\n",
      "Koszarowa [08:47:00] --- 116 ---> KOSZAROWA (Szpital) [08:48:00]\n",
      "KOSZAROWA (Szpital) [08:48:00] --- 116 ---> pl. Daniłowskiego [08:51:00]\n",
      "pl. Daniłowskiego [08:51:00] --- 130 ---> Berenta [08:52:00]\n",
      "Berenta [08:52:00] --- 130 ---> KROMERA [08:57:00]\n",
      "KROMERA [08:57:00] --- 23 ---> Mosty Warszawskie [08:59:00]\n",
      "Mosty Warszawskie [09:00:00] --- 128 ---> Wyszyńskiego [09:02:00]\n",
      "Wyszyńskiego [09:02:00] --- 128 ---> Ogród Botaniczny [09:05:00]\n",
      "Ogród Botaniczny [09:09:00] --- N ---> Katedra [09:10:00]\n",
      "Katedra [09:10:00] --- N ---> Urząd Wojewódzki (Muzeum Narodowe) [09:11:00]\n",
      "Urząd Wojewódzki (Muzeum Narodowe) [09:11:00] --- N ---> Poczta Główna [09:12:00]\n",
      "Poczta Główna [09:12:00] --- 149 ---> skwer Krasińskiego [09:15:00]\n",
      "skwer Krasińskiego [09:15:00] --- 149 ---> Wzgórze Partyzantów [09:16:00]\n",
      "Wzgórze Partyzantów [09:16:00] --- 149 ---> Renoma [09:18:00]\n",
      "Renoma [09:19:00] --- 7 ---> Arkady (Capitol) [09:21:00]\n",
      "Arkady (Capitol) [09:21:00] --- 7 ---> Zaolziańska [09:23:00]\n",
      "Zaolziańska [09:23:00] --- 7 ---> Wielka [09:24:00]\n",
      "Wielka [09:24:00] --- 7 ---> Rondo [09:25:00]\n",
      "Rondo [09:25:00] --- 124 ---> Krucza [09:28:00]\n",
      "Krucza [09:28:00] --- 124 ---> Grochowa [09:29:00]\n",
      "Grochowa [09:29:00] --- 124 ---> Stalowa [09:31:00]\n",
      "Stalowa [09:31:00] --- 126 ---> Pereca [09:32:00]\n",
      "Pereca [09:32:00] --- 4 ---> Grabiszyńska [09:33:00]\n",
      "Grabiszyńska [09:33:00] --- 4 ---> Kolejowa [09:34:00]\n",
      "Kolejowa [09:34:00] --- 4 ---> pl. Legionów [09:36:00]\n",
      "pl. Legionów [09:36:00] --- 4 ---> Arkady (Capitol) [09:38:00]\n",
      "Arkady (Capitol) [09:38:00] --- 7 ---> Renoma [09:40:00]\n",
      "Renoma [09:40:00] --- 7 ---> Opera [09:41:00]\n",
      "Opera [09:41:00] --- 7 ---> ŚWIDNICKA (Dom Europy) [09:42:00]\n",
      "ŚWIDNICKA (Dom Europy) [09:42:00] --- 7 ---> Oławska [09:44:00]\n",
      "Oławska [09:44:00] --- 7 ---> Wita Stwosza [09:45:00]\n",
      "Wita Stwosza [09:45:00] --- 7 ---> Ossolineum (Uniwersytecka) [09:46:00]\n",
      "Ossolineum (Uniwersytecka) [09:46:00] --- 7 ---> Dubois [09:48:00]\n",
      "Dubois [09:48:00] --- 7 ---> Paulińska [09:50:00]\n",
      "Paulińska [09:50:00] --- 7 ---> DWORZEC NADODRZE [09:52:00]\n",
      "DWORZEC NADODRZE [09:52:00] --- 132 ---> Trzebnicka [09:54:00]\n",
      "Trzebnicka [09:54:00] --- 132 ---> Broniewskiego [09:57:00]\n",
      "Broniewskiego [09:57:00] --- 7 ---> Kamieńskiego [09:59:00]\n",
      "Kamieńskiego [09:59:00] --- 7 ---> Kępińska [10:00:00]\n",
      "Kępińska [10:00:00] --- 129 ---> Kamieńskiego [10:01:00]\n",
      "Kamieńskiego [10:01:00] --- 129 ---> Broniewskiego [10:03:00]\n",
      "Broniewskiego [10:04:00] --- 132 ---> Pola [10:05:00]\n",
      "Pola [10:05:00] --- 132 ---> Syrokomli [10:06:00]\n",
      "Syrokomli [10:06:00] --- 132 ---> Kasprowicza [10:07:00]\n",
      "Kasprowicza [10:07:00] --- 116 ---> Berenta [10:09:00]\n",
      "Berenta [10:09:00] --- 116 ---> KROMERA [10:12:00]\n",
      "KROMERA [10:12:00] --- A ---> Mosty Warszawskie [10:14:00]\n",
      "Mosty Warszawskie [10:14:00] --- A ---> Wyszyńskiego [10:16:00]\n",
      "Wyszyńskiego [10:16:00] --- 1 ---> Prusa [10:17:00]\n",
      "Prusa [10:17:00] --- 1 ---> Piastowska [10:19:00]\n",
      "Piastowska [10:19:00] --- 1 ---> PL. GRUNWALDZKI [10:22:00]\n"
     ]
    }
   ],
   "source": [
    "print_path(sol3)"
   ],
   "metadata": {
    "collapsed": false,
    "ExecuteTime": {
     "end_time": "2024-03-25T14:35:13.423729600Z",
     "start_time": "2024-03-25T14:35:13.417471800Z"
    }
   },
   "id": "590a368c49f4cd7",
   "execution_count": 15
  },
  {
   "cell_type": "code",
   "outputs": [
    {
     "data": {
      "text/plain": "line                                            253\ndeparture_time                             23:10:00\narrival_time                               23:11:00\nstart_stop                          PL. GRUNWALDZKI\nend_stop          Kliniki - Politechnika Wrocławska\nstart_stop_lat                            51.111981\nstart_stop_lon                            17.064034\nend_stop_lat                              51.109283\nend_stop_lon                              17.066162\ndeparture_sec                                 83400\narrival_sec                                   83460\nName: 918837, dtype: object"
     },
     "execution_count": 17,
     "metadata": {},
     "output_type": "execute_result"
    }
   ],
   "source": [
    "g.conn_at_index(918837)"
   ],
   "metadata": {
    "collapsed": false,
    "ExecuteTime": {
     "end_time": "2024-03-25T14:46:10.211773300Z",
     "start_time": "2024-03-25T14:46:10.205876200Z"
    }
   },
   "id": "259cbceb25e32373",
   "execution_count": 17
  },
  {
   "cell_type": "code",
   "outputs": [],
   "source": [
    "from ai_data_eng.searching.initialization import initialize_queue\n",
    "\n",
    "dep_time = time_to_normalized_sec(leave_hour)\n",
    "\n",
    "# print_info = a_star_print_info(sec_to_time)\n",
    "cost_so_far = {}\n",
    "# if commuting A -> B, then this will be came_from_conn[B] = A so we can recreate the path\n",
    "came_from_conn = {}\n",
    "stop_conn = {}\n",
    "\n",
    "prev_conn_idx = 278511\n",
    "prev_stop = g.stop_as_tuple(g.rename_stop(g.conn_at_index(prev_conn_idx)))\n",
    "\n",
    "start_stop = 'most Grunwaldzki'\n",
    "goal_stop = 'Urząd Wojewódzki (Impart)'\n",
    "dep_time = time_to_normalized_sec('08:36:00')\n",
    "closest_set = {start_stop}\n",
    "cost_func = get_cost_func(g, OptimizationType.CHANGES)\n",
    "\n",
    "frontier = initialize_queue(g, cost_func, cost_so_far, came_from_conn, stop_conn, start_stop, dep_time)\n",
    "prev_conn = g.conn_at_index(prev_conn_idx)\n",
    "prev_stop = g.stop_as_tuple(g.rename_stop(prev_conn))\n",
    "for i in came_from_conn:\n",
    "    g.conn_graph.loc[i, 'line'] = 'MISSING'\n",
    "k = stop_conn[prev_stop]\n",
    "g.conn_graph.drop(k, inplace=True)\n",
    "stop_conn[prev_stop] = prev_conn_idx\n",
    "came_from_conn[prev_conn_idx] = None"
   ],
   "metadata": {
    "collapsed": false,
    "ExecuteTime": {
     "end_time": "2024-03-25T15:23:36.645972900Z",
     "start_time": "2024-03-25T15:23:36.408588600Z"
    }
   },
   "id": "54ed4c58b4f68de3",
   "execution_count": 99
  },
  {
   "cell_type": "code",
   "outputs": [
    {
     "data": {
      "text/plain": "{('most Grunwaldzki', 51.11013606, 17.05509252): 0,\n ('most Grunwaldzki', 51.11013327, 17.0555734): 0,\n ('most Grunwaldzki', 51.11021216, 17.05538488): 0,\n ('most Grunwaldzki', 51.11013812, 17.05549333): 0}"
     },
     "execution_count": 100,
     "metadata": {},
     "output_type": "execute_result"
    }
   ],
   "source": [
    "cost_so_far"
   ],
   "metadata": {
    "collapsed": false,
    "ExecuteTime": {
     "end_time": "2024-03-25T15:23:37.222741300Z",
     "start_time": "2024-03-25T15:23:37.206640900Z"
    }
   },
   "id": "36e25340e64fe3e",
   "execution_count": 100
  },
  {
   "cell_type": "code",
   "outputs": [
    {
     "data": {
      "text/plain": "{-1: None, -2: None, -3: None, -4: None, 278511: None}"
     },
     "execution_count": 101,
     "metadata": {},
     "output_type": "execute_result"
    }
   ],
   "source": [
    "came_from_conn"
   ],
   "metadata": {
    "collapsed": false,
    "ExecuteTime": {
     "end_time": "2024-03-25T15:23:38.061270600Z",
     "start_time": "2024-03-25T15:23:38.050071100Z"
    }
   },
   "id": "42ede6c1eb6a3fb",
   "execution_count": 101
  },
  {
   "cell_type": "code",
   "outputs": [
    {
     "data": {
      "text/plain": "{('most Grunwaldzki', 51.11013606, 17.05509252): -1,\n ('most Grunwaldzki', 51.11013327, 17.0555734): -2,\n ('most Grunwaldzki', 51.11021216, 17.05538488): 278511,\n ('most Grunwaldzki', 51.11013812, 17.05549333): -4}"
     },
     "execution_count": 106,
     "metadata": {},
     "output_type": "execute_result"
    }
   ],
   "source": [
    "stop_conn"
   ],
   "metadata": {
    "collapsed": false,
    "ExecuteTime": {
     "end_time": "2024-03-25T15:26:21.769812800Z",
     "start_time": "2024-03-25T15:26:21.761004700Z"
    }
   },
   "id": "3eb926e3be7943b0",
   "execution_count": 106
  },
  {
   "cell_type": "code",
   "outputs": [
    {
     "data": {
      "text/plain": "line                       MISSING\ndeparture_time                 NaN\narrival_time                   NaN\nstart_stop        most Grunwaldzki\nend_stop          most Grunwaldzki\nstart_stop_lat           51.110133\nstart_stop_lon           17.055573\nend_stop_lat             51.110133\nend_stop_lon             17.055573\ndeparture_sec                30960\narrival_sec                  30960\nName: -2, dtype: object"
     },
     "execution_count": 107,
     "metadata": {},
     "output_type": "execute_result"
    }
   ],
   "source": [
    "g.conn_graph.loc[-2]"
   ],
   "metadata": {
    "collapsed": false,
    "ExecuteTime": {
     "end_time": "2024-03-25T15:26:24.159304100Z",
     "start_time": "2024-03-25T15:26:24.141390900Z"
    }
   },
   "id": "4fdc89176bfbccc3",
   "execution_count": 107
  },
  {
   "cell_type": "code",
   "outputs": [
    {
     "data": {
      "text/plain": "('Kliniki - Politechnika Wrocławska', 51.109283, 17.066162)"
     },
     "execution_count": 108,
     "metadata": {},
     "output_type": "execute_result"
    }
   ],
   "source": [
    "g.stop_as_tuple(g.rename_stop(g.conn_at_index(918837)))"
   ],
   "metadata": {
    "collapsed": false,
    "ExecuteTime": {
     "end_time": "2024-03-25T15:26:27.324794700Z",
     "start_time": "2024-03-25T15:26:27.311625Z"
    }
   },
   "id": "4c94b7d1e409803f",
   "execution_count": 108
  },
  {
   "cell_type": "code",
   "outputs": [
    {
     "data": {
      "text/plain": "line                            16\ndeparture_time            08:35:00\narrival_time              08:36:00\nstart_stop         PL. GRUNWALDZKI\nend_stop          most Grunwaldzki\nstart_stop_lat           51.111444\nstart_stop_lon            17.05996\nend_stop_lat             51.110212\nend_stop_lon             17.055385\ndeparture_sec                30900\narrival_sec                  30960\nName: 278511, dtype: object"
     },
     "execution_count": 109,
     "metadata": {},
     "output_type": "execute_result"
    }
   ],
   "source": [
    "prev_conn"
   ],
   "metadata": {
    "collapsed": false,
    "ExecuteTime": {
     "end_time": "2024-03-25T15:26:28.216355500Z",
     "start_time": "2024-03-25T15:26:28.203659700Z"
    }
   },
   "id": "bf3a9bf2f16dcab5",
   "execution_count": 109
  },
  {
   "cell_type": "markdown",
   "source": [
    "278512, 97887, 233196\n"
   ],
   "metadata": {
    "collapsed": false
   },
   "id": "8fb2ffff76daf3de"
  },
  {
   "cell_type": "code",
   "outputs": [],
   "source": [
    "g.conn_graph.loc[[240344, 97887, 278512]]"
   ],
   "metadata": {
    "collapsed": false,
    "is_executing": true
   },
   "id": "ec5142d6d6e29ee0",
   "execution_count": null
  },
  {
   "cell_type": "code",
   "outputs": [
    {
     "data": {
      "text/plain": "       line departure_time arrival_time        start_stop  \\\n277379   16       04:57:00     04:59:00  most Grunwaldzki   \n107188    4       05:01:00     05:03:00  most Grunwaldzki   \n271778   16       05:12:00     05:14:00  most Grunwaldzki   \n107549    4       05:16:00     05:18:00  most Grunwaldzki   \n100605    4       05:17:00     05:19:00  most Grunwaldzki   \n...     ...            ...          ...               ...   \n219138   12       23:19:00     23:20:00  most Grunwaldzki   \n320498   19       23:24:00     23:25:00  most Grunwaldzki   \n231995   13       23:27:00     23:28:00  most Grunwaldzki   \n273793   16       23:32:00     23:33:00  most Grunwaldzki   \n100284    4       23:37:00     23:38:00  most Grunwaldzki   \n\n                         end_stop  start_stop_lat  start_stop_lon  \\\n277379  Urząd Wojewódzki (Impart)       51.110212       17.055385   \n107188  Urząd Wojewódzki (Impart)       51.110212       17.055385   \n271778  Urząd Wojewódzki (Impart)       51.110212       17.055385   \n107549  Urząd Wojewódzki (Impart)       51.110212       17.055385   \n100605  Urząd Wojewódzki (Impart)       51.110212       17.055385   \n...                           ...             ...             ...   \n219138  Urząd Wojewódzki (Impart)       51.110212       17.055385   \n320498  Urząd Wojewódzki (Impart)       51.110212       17.055385   \n231995  Urząd Wojewódzki (Impart)       51.110212       17.055385   \n273793  Urząd Wojewódzki (Impart)       51.110212       17.055385   \n100284  Urząd Wojewódzki (Impart)       51.110212       17.055385   \n\n        end_stop_lat  end_stop_lon  departure_sec  arrival_sec  \n277379     51.108637     17.049553          17820        17940  \n107188     51.108637     17.049553          18060        18180  \n271778     51.108637     17.049553          18720        18840  \n107549     51.108637     17.049553          18960        19080  \n100605     51.108637     17.049553          19020        19140  \n...              ...           ...            ...          ...  \n219138     51.108637     17.049553          83940        84000  \n320498     51.108637     17.049553          84240        84300  \n231995     51.108637     17.049553          84420        84480  \n273793     51.108637     17.049553          84720        84780  \n100284     51.108637     17.049553          85020        85080  \n\n[490 rows x 11 columns]",
      "text/html": "<div>\n<style scoped>\n    .dataframe tbody tr th:only-of-type {\n        vertical-align: middle;\n    }\n\n    .dataframe tbody tr th {\n        vertical-align: top;\n    }\n\n    .dataframe thead th {\n        text-align: right;\n    }\n</style>\n<table border=\"1\" class=\"dataframe\">\n  <thead>\n    <tr style=\"text-align: right;\">\n      <th></th>\n      <th>line</th>\n      <th>departure_time</th>\n      <th>arrival_time</th>\n      <th>start_stop</th>\n      <th>end_stop</th>\n      <th>start_stop_lat</th>\n      <th>start_stop_lon</th>\n      <th>end_stop_lat</th>\n      <th>end_stop_lon</th>\n      <th>departure_sec</th>\n      <th>arrival_sec</th>\n    </tr>\n  </thead>\n  <tbody>\n    <tr>\n      <th>277379</th>\n      <td>16</td>\n      <td>04:57:00</td>\n      <td>04:59:00</td>\n      <td>most Grunwaldzki</td>\n      <td>Urząd Wojewódzki (Impart)</td>\n      <td>51.110212</td>\n      <td>17.055385</td>\n      <td>51.108637</td>\n      <td>17.049553</td>\n      <td>17820</td>\n      <td>17940</td>\n    </tr>\n    <tr>\n      <th>107188</th>\n      <td>4</td>\n      <td>05:01:00</td>\n      <td>05:03:00</td>\n      <td>most Grunwaldzki</td>\n      <td>Urząd Wojewódzki (Impart)</td>\n      <td>51.110212</td>\n      <td>17.055385</td>\n      <td>51.108637</td>\n      <td>17.049553</td>\n      <td>18060</td>\n      <td>18180</td>\n    </tr>\n    <tr>\n      <th>271778</th>\n      <td>16</td>\n      <td>05:12:00</td>\n      <td>05:14:00</td>\n      <td>most Grunwaldzki</td>\n      <td>Urząd Wojewódzki (Impart)</td>\n      <td>51.110212</td>\n      <td>17.055385</td>\n      <td>51.108637</td>\n      <td>17.049553</td>\n      <td>18720</td>\n      <td>18840</td>\n    </tr>\n    <tr>\n      <th>107549</th>\n      <td>4</td>\n      <td>05:16:00</td>\n      <td>05:18:00</td>\n      <td>most Grunwaldzki</td>\n      <td>Urząd Wojewódzki (Impart)</td>\n      <td>51.110212</td>\n      <td>17.055385</td>\n      <td>51.108637</td>\n      <td>17.049553</td>\n      <td>18960</td>\n      <td>19080</td>\n    </tr>\n    <tr>\n      <th>100605</th>\n      <td>4</td>\n      <td>05:17:00</td>\n      <td>05:19:00</td>\n      <td>most Grunwaldzki</td>\n      <td>Urząd Wojewódzki (Impart)</td>\n      <td>51.110212</td>\n      <td>17.055385</td>\n      <td>51.108637</td>\n      <td>17.049553</td>\n      <td>19020</td>\n      <td>19140</td>\n    </tr>\n    <tr>\n      <th>...</th>\n      <td>...</td>\n      <td>...</td>\n      <td>...</td>\n      <td>...</td>\n      <td>...</td>\n      <td>...</td>\n      <td>...</td>\n      <td>...</td>\n      <td>...</td>\n      <td>...</td>\n      <td>...</td>\n    </tr>\n    <tr>\n      <th>219138</th>\n      <td>12</td>\n      <td>23:19:00</td>\n      <td>23:20:00</td>\n      <td>most Grunwaldzki</td>\n      <td>Urząd Wojewódzki (Impart)</td>\n      <td>51.110212</td>\n      <td>17.055385</td>\n      <td>51.108637</td>\n      <td>17.049553</td>\n      <td>83940</td>\n      <td>84000</td>\n    </tr>\n    <tr>\n      <th>320498</th>\n      <td>19</td>\n      <td>23:24:00</td>\n      <td>23:25:00</td>\n      <td>most Grunwaldzki</td>\n      <td>Urząd Wojewódzki (Impart)</td>\n      <td>51.110212</td>\n      <td>17.055385</td>\n      <td>51.108637</td>\n      <td>17.049553</td>\n      <td>84240</td>\n      <td>84300</td>\n    </tr>\n    <tr>\n      <th>231995</th>\n      <td>13</td>\n      <td>23:27:00</td>\n      <td>23:28:00</td>\n      <td>most Grunwaldzki</td>\n      <td>Urząd Wojewódzki (Impart)</td>\n      <td>51.110212</td>\n      <td>17.055385</td>\n      <td>51.108637</td>\n      <td>17.049553</td>\n      <td>84420</td>\n      <td>84480</td>\n    </tr>\n    <tr>\n      <th>273793</th>\n      <td>16</td>\n      <td>23:32:00</td>\n      <td>23:33:00</td>\n      <td>most Grunwaldzki</td>\n      <td>Urząd Wojewódzki (Impart)</td>\n      <td>51.110212</td>\n      <td>17.055385</td>\n      <td>51.108637</td>\n      <td>17.049553</td>\n      <td>84720</td>\n      <td>84780</td>\n    </tr>\n    <tr>\n      <th>100284</th>\n      <td>4</td>\n      <td>23:37:00</td>\n      <td>23:38:00</td>\n      <td>most Grunwaldzki</td>\n      <td>Urząd Wojewódzki (Impart)</td>\n      <td>51.110212</td>\n      <td>17.055385</td>\n      <td>51.108637</td>\n      <td>17.049553</td>\n      <td>85020</td>\n      <td>85080</td>\n    </tr>\n  </tbody>\n</table>\n<p>490 rows × 11 columns</p>\n</div>"
     },
     "execution_count": 80,
     "metadata": {},
     "output_type": "execute_result"
    }
   ],
   "source": [
    "g.conn_graph.loc[(g.conn_graph['start_stop'] == start_stop) & (g.conn_graph['end_stop'] == goal_stop)].sort_values(by=['departure_sec'])"
   ],
   "metadata": {
    "collapsed": false,
    "ExecuteTime": {
     "end_time": "2024-03-25T15:04:01.835030400Z",
     "start_time": "2024-03-25T15:04:01.786605100Z"
    }
   },
   "id": "dd4651f71440b631",
   "execution_count": 80
  },
  {
   "cell_type": "code",
   "outputs": [
    {
     "name": "stdout",
     "output_type": "stream",
     "text": [
      "most Grunwaldzki PL. GRUNWALDZKI 16 1\n",
      "most Grunwaldzki Urząd Wojewódzki (Impart) 13 1\n",
      "most Grunwaldzki PL. GRUNWALDZKI 12 1\n",
      "most Grunwaldzki Urząd Wojewódzki (Impart) 16 0\n",
      "most Grunwaldzki PL. GRUNWALDZKI D 1\n",
      "most Grunwaldzki Urząd Wojewódzki (Impart) 4 1\n",
      "most Grunwaldzki Poczta Główna 145 1\n",
      "most Grunwaldzki PL. GRUNWALDZKI 13 1\n",
      "most Grunwaldzki Poczta Główna D 1\n",
      "most Grunwaldzki PL. GRUNWALDZKI 145 1\n",
      "most Grunwaldzki Poczta Główna 149 1\n",
      "most Grunwaldzki Urząd Wojewódzki (Impart) 12 1\n",
      "most Grunwaldzki PL. GRUNWALDZKI 4 1\n",
      "most Grunwaldzki Poczta Główna 146 1\n",
      "most Grunwaldzki PL. GRUNWALDZKI 146 1\n",
      "most Grunwaldzki PL. GRUNWALDZKI 149 1\n",
      "most Grunwaldzki Urząd Wojewódzki (Impart) 19 1\n",
      "most Grunwaldzki PL. GRUNWALDZKI 19 1\n",
      "most Grunwaldzki Poczta Główna 241 1\n",
      "most Grunwaldzki Urząd Wojewódzki (Muzeum Narodowe) 240 1\n",
      "most Grunwaldzki PL. GRUNWALDZKI 241 1\n"
     ]
    }
   ],
   "source": [
    "for next_conn in g.get_lines_from(prev_conn['arrival_sec'], prev_stop, '', closest_set).itertuples():\n",
    "    # cost of commuting start --> current and current --> next\n",
    "    next_stop = (next_conn.end_stop, next_conn.end_stop_lat, next_conn.end_stop_lon)\n",
    "    print(next_conn.start_stop, next_conn.end_stop, next_conn.line, cost_func(next_conn=next_conn, prev_conn=prev_conn))"
   ],
   "metadata": {
    "collapsed": false,
    "ExecuteTime": {
     "end_time": "2024-03-25T15:25:06.546408800Z",
     "start_time": "2024-03-25T15:25:06.473156200Z"
    }
   },
   "id": "c6ac6fc8fb374e5b",
   "execution_count": 105
  },
  {
   "cell_type": "code",
   "outputs": [
    {
     "data": {
      "text/plain": "{'Kliniki - Politechnika Wrocławska'}"
     },
     "execution_count": 65,
     "metadata": {},
     "output_type": "execute_result"
    }
   ],
   "source": [
    "closest_set"
   ],
   "metadata": {
    "collapsed": false,
    "ExecuteTime": {
     "end_time": "2024-03-25T14:58:24.943147700Z",
     "start_time": "2024-03-25T14:58:24.926403600Z"
    }
   },
   "id": "4027ed5220c0b1af",
   "execution_count": 65
  },
  {
   "cell_type": "code",
   "outputs": [
    {
     "data": {
      "text/plain": "Empty DataFrame\nColumns: [line, departure_time, arrival_time, start_stop, end_stop, start_stop_lat, start_stop_lon, end_stop_lat, end_stop_lon, departure_sec, arrival_sec]\nIndex: []",
      "text/html": "<div>\n<style scoped>\n    .dataframe tbody tr th:only-of-type {\n        vertical-align: middle;\n    }\n\n    .dataframe tbody tr th {\n        vertical-align: top;\n    }\n\n    .dataframe thead th {\n        text-align: right;\n    }\n</style>\n<table border=\"1\" class=\"dataframe\">\n  <thead>\n    <tr style=\"text-align: right;\">\n      <th></th>\n      <th>line</th>\n      <th>departure_time</th>\n      <th>arrival_time</th>\n      <th>start_stop</th>\n      <th>end_stop</th>\n      <th>start_stop_lat</th>\n      <th>start_stop_lon</th>\n      <th>end_stop_lat</th>\n      <th>end_stop_lon</th>\n      <th>departure_sec</th>\n      <th>arrival_sec</th>\n    </tr>\n  </thead>\n  <tbody>\n  </tbody>\n</table>\n</div>"
     },
     "execution_count": 67,
     "metadata": {},
     "output_type": "execute_result"
    }
   ],
   "source": [
    "g.get_lines_from(prev_conn['arrival_sec'], (prev_conn['end_stop']), prev_conn['line'], closest_set)"
   ],
   "metadata": {
    "collapsed": false,
    "ExecuteTime": {
     "end_time": "2024-03-25T14:58:47.296034700Z",
     "start_time": "2024-03-25T14:58:47.280490500Z"
    }
   },
   "id": "6abec0b788487ec6",
   "execution_count": 67
  },
  {
   "cell_type": "code",
   "outputs": [],
   "source": [
    "def is_neighbour(dep_time, new_solution):\n",
    "    return assert_connection_path(dep_time, new_solution)\n",
    "\n",
    "def naive_search(solution, leave_hour, start_stop, visiting_stops: List[str]):\n",
    "    prev_stop = start_stop\n",
    "    new_solution = []\n",
    "    for stop in visiting_stops:\n",
    "        _, sub_sol = a_star_time_opt(prev_stop, stop, leave_hour, WeightedAverageTimeHeuristic())\n",
    "        new_solution = new_solution + sub_sol\n",
    "        prev_stop = \n",
    "\n",
    "def replace_connection(solution, dep_time, stop_from, stop_to):\n",
    "    \n",
    "    is_neigh = False\n",
    "    while not is_neigh:\n",
    "        graph, travel_solution = a_star_time_opt(stop_from, stop_to, dep_time, WeightedAverageTimeHeuristic())"
   ],
   "metadata": {
    "collapsed": false,
    "ExecuteTime": {
     "start_time": "2024-03-24T09:02:50.583756200Z"
    }
   },
   "id": "61d81daa6b139f33"
  }
 ],
 "metadata": {
  "kernelspec": {
   "display_name": "Python 3",
   "language": "python",
   "name": "python3"
  },
  "language_info": {
   "codemirror_mode": {
    "name": "ipython",
    "version": 2
   },
   "file_extension": ".py",
   "mimetype": "text/x-python",
   "name": "python",
   "nbconvert_exporter": "python",
   "pygments_lexer": "ipython2",
   "version": "2.7.6"
  }
 },
 "nbformat": 4,
 "nbformat_minor": 5
}
