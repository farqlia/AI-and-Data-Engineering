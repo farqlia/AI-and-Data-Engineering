{
 "cells": [
  {
   "cell_type": "markdown",
   "metadata": {},
   "source": [
    "Pytania:\n",
    "- Czy i jak oszacowywac czas przesiadki? w ktorym z algorytmow?\n",
    "- Czy zakres wartosci heurystyki wplywa na wybierane sciezki? Jak to przeskalowac do wspolnej skali \n",
    "\n",
    "musza byc w takiej samej jednostce\n",
    "np. srednia predkosc jakos \n",
    "\n",
    "- Jak wybierac koncowe i poczatkowe przystanki bo jak jest wiele mozliwych na poczatku i na koncu to komplikuje algorytm\n",
    "\n",
    "jak uwzglednic przesiadke z innych \n",
    "\n",
    "roboczo dojscie piechota - np. dojscie minute, nie trzeba obliczac jak dlugo dystans \n",
    "\n",
    "heurystyka nie musi miec sensu, modyfikacja ktora musi usprawnic ale nie musi\n",
    "\n",
    "raczej bedzie gorszy, nie bedzie raczej lepsze, \n",
    "\n"
   ]
  },
  {
   "cell_type": "markdown",
   "metadata": {},
   "source": []
  },
  {
   "cell_type": "code",
   "execution_count": 1,
   "metadata": {},
   "outputs": [],
   "source": [
    "import pandas as pd \n",
    "pd.options.mode.chained_assignment = None\n",
    "from pathlib import Path \n",
    "import numpy as np\n",
    "from typing import Union \n",
    "from datetime import datetime, timedelta\n",
    "from queue import PriorityQueue\n",
    "import re\n",
    "import geopy.distance\n",
    "from timeit import default_timer as timer\n",
    "\n",
    "DATA_DIR = Path('../data')"
   ]
  },
  {
   "cell_type": "code",
   "execution_count": 2,
   "metadata": {},
   "outputs": [
    {
     "name": "stderr",
     "output_type": "stream",
     "text": [
      "C:\\Users\\julia\\AppData\\Local\\Temp\\ipykernel_9516\\2815982893.py:1: DtypeWarning: Columns (2) have mixed types. Specify dtype option on import or set low_memory=False.\n",
      "  connection_graph = pd.read_csv(DATA_DIR / 'connection_graph.csv',\n"
     ]
    }
   ],
   "source": [
    "connection_graph = pd.read_csv(DATA_DIR / 'connection_graph.csv', \n",
    "                               usecols=['line', 'departure_time', 'arrival_time', 'start_stop',\n",
    "       'end_stop', 'start_stop_lat', 'start_stop_lon', 'end_stop_lat',\n",
    "       'end_stop_lon'])"
   ]
  },
  {
   "cell_type": "code",
   "execution_count": 3,
   "metadata": {},
   "outputs": [
    {
     "data": {
      "text/plain": [
       "line               object\n",
       "departure_time     object\n",
       "arrival_time       object\n",
       "start_stop         object\n",
       "end_stop           object\n",
       "start_stop_lat    float64\n",
       "start_stop_lon    float64\n",
       "end_stop_lat      float64\n",
       "end_stop_lon      float64\n",
       "dtype: object"
      ]
     },
     "execution_count": 3,
     "metadata": {},
     "output_type": "execute_result"
    }
   ],
   "source": [
    "connection_graph.dtypes"
   ]
  },
  {
   "cell_type": "code",
   "execution_count": 4,
   "metadata": {},
   "outputs": [
    {
     "data": {
      "text/plain": [
       "Index(['line', 'departure_time', 'arrival_time', 'start_stop', 'end_stop',\n",
       "       'start_stop_lat', 'start_stop_lon', 'end_stop_lat', 'end_stop_lon'],\n",
       "      dtype='object')"
      ]
     },
     "execution_count": 4,
     "metadata": {},
     "output_type": "execute_result"
    }
   ],
   "source": [
    "connection_graph.columns"
   ]
  },
  {
   "cell_type": "code",
   "execution_count": 5,
   "metadata": {},
   "outputs": [
    {
     "data": {
      "text/html": [
       "<div>\n",
       "<style scoped>\n",
       "    .dataframe tbody tr th:only-of-type {\n",
       "        vertical-align: middle;\n",
       "    }\n",
       "\n",
       "    .dataframe tbody tr th {\n",
       "        vertical-align: top;\n",
       "    }\n",
       "\n",
       "    .dataframe thead th {\n",
       "        text-align: right;\n",
       "    }\n",
       "</style>\n",
       "<table border=\"1\" class=\"dataframe\">\n",
       "  <thead>\n",
       "    <tr style=\"text-align: right;\">\n",
       "      <th></th>\n",
       "      <th>line</th>\n",
       "      <th>departure_time</th>\n",
       "      <th>arrival_time</th>\n",
       "      <th>start_stop</th>\n",
       "      <th>end_stop</th>\n",
       "      <th>start_stop_lat</th>\n",
       "      <th>start_stop_lon</th>\n",
       "      <th>end_stop_lat</th>\n",
       "      <th>end_stop_lon</th>\n",
       "    </tr>\n",
       "  </thead>\n",
       "  <tbody>\n",
       "    <tr>\n",
       "      <th>0</th>\n",
       "      <td>A</td>\n",
       "      <td>20:52:00</td>\n",
       "      <td>20:53:00</td>\n",
       "      <td>Zajezdnia Obornicka</td>\n",
       "      <td>Paprotna</td>\n",
       "      <td>51.148737</td>\n",
       "      <td>17.021069</td>\n",
       "      <td>51.147752</td>\n",
       "      <td>17.020539</td>\n",
       "    </tr>\n",
       "    <tr>\n",
       "      <th>1</th>\n",
       "      <td>A</td>\n",
       "      <td>20:53:00</td>\n",
       "      <td>20:54:00</td>\n",
       "      <td>Paprotna</td>\n",
       "      <td>Obornicka (Wołowska)</td>\n",
       "      <td>51.147752</td>\n",
       "      <td>17.020539</td>\n",
       "      <td>51.144385</td>\n",
       "      <td>17.023735</td>\n",
       "    </tr>\n",
       "    <tr>\n",
       "      <th>2</th>\n",
       "      <td>A</td>\n",
       "      <td>20:54:00</td>\n",
       "      <td>20:55:00</td>\n",
       "      <td>Obornicka (Wołowska)</td>\n",
       "      <td>Bezpieczna</td>\n",
       "      <td>51.144385</td>\n",
       "      <td>17.023735</td>\n",
       "      <td>51.141360</td>\n",
       "      <td>17.026376</td>\n",
       "    </tr>\n",
       "    <tr>\n",
       "      <th>3</th>\n",
       "      <td>A</td>\n",
       "      <td>20:55:00</td>\n",
       "      <td>20:57:00</td>\n",
       "      <td>Bezpieczna</td>\n",
       "      <td>Bałtycka</td>\n",
       "      <td>51.141360</td>\n",
       "      <td>17.026376</td>\n",
       "      <td>51.136632</td>\n",
       "      <td>17.030617</td>\n",
       "    </tr>\n",
       "    <tr>\n",
       "      <th>4</th>\n",
       "      <td>A</td>\n",
       "      <td>20:57:00</td>\n",
       "      <td>20:59:00</td>\n",
       "      <td>Bałtycka</td>\n",
       "      <td>Broniewskiego</td>\n",
       "      <td>51.136632</td>\n",
       "      <td>17.030617</td>\n",
       "      <td>51.135851</td>\n",
       "      <td>17.037383</td>\n",
       "    </tr>\n",
       "  </tbody>\n",
       "</table>\n",
       "</div>"
      ],
      "text/plain": [
       "  line departure_time arrival_time            start_stop  \\\n",
       "0    A       20:52:00     20:53:00   Zajezdnia Obornicka   \n",
       "1    A       20:53:00     20:54:00              Paprotna   \n",
       "2    A       20:54:00     20:55:00  Obornicka (Wołowska)   \n",
       "3    A       20:55:00     20:57:00            Bezpieczna   \n",
       "4    A       20:57:00     20:59:00              Bałtycka   \n",
       "\n",
       "               end_stop  start_stop_lat  start_stop_lon  end_stop_lat  \\\n",
       "0              Paprotna       51.148737       17.021069     51.147752   \n",
       "1  Obornicka (Wołowska)       51.147752       17.020539     51.144385   \n",
       "2            Bezpieczna       51.144385       17.023735     51.141360   \n",
       "3              Bałtycka       51.141360       17.026376     51.136632   \n",
       "4         Broniewskiego       51.136632       17.030617     51.135851   \n",
       "\n",
       "   end_stop_lon  \n",
       "0     17.020539  \n",
       "1     17.023735  \n",
       "2     17.026376  \n",
       "3     17.030617  \n",
       "4     17.037383  "
      ]
     },
     "execution_count": 5,
     "metadata": {},
     "output_type": "execute_result"
    }
   ],
   "source": [
    "connection_graph.head()"
   ]
  },
  {
   "cell_type": "code",
   "execution_count": 6,
   "metadata": {},
   "outputs": [
    {
     "data": {
      "text/plain": [
       "996520"
      ]
     },
     "execution_count": 6,
     "metadata": {},
     "output_type": "execute_result"
    }
   ],
   "source": [
    "len(connection_graph)"
   ]
  },
  {
   "cell_type": "code",
   "execution_count": 7,
   "metadata": {},
   "outputs": [],
   "source": [
    "connection_graph = connection_graph.drop_duplicates()"
   ]
  },
  {
   "cell_type": "code",
   "execution_count": 8,
   "metadata": {},
   "outputs": [
    {
     "data": {
      "text/plain": [
       "456019"
      ]
     },
     "execution_count": 8,
     "metadata": {},
     "output_type": "execute_result"
    }
   ],
   "source": [
    "len(connection_graph)"
   ]
  },
  {
   "cell_type": "markdown",
   "metadata": {},
   "source": [
    "Obserwacja: niektóre linie są wyrażone jako int, a niektóre jako str - najlepiej to sprowadzić to wspólnego formatu str"
   ]
  },
  {
   "cell_type": "code",
   "execution_count": 9,
   "metadata": {},
   "outputs": [
    {
     "data": {
      "text/plain": [
       "array(['A', 'D', 'K', 'N', '1', '2', 2, 3, 4, 5, 6, 7, 8, 9, 10, 11, 12,\n",
       "       13, 14, 15, 16, 17, 18, 19, 20, 21, 22, 23, 100, 101, 102, 103,\n",
       "       104, 105, 106, 107, 108, 110, 111, 112, 113, 114, 115, 116, 117,\n",
       "       118, 119, 120, 121, 122, 123, 124, 125, 126, 127, 128, 129, 130,\n",
       "       131, 132, 133, 134, 136, 137, 138, 142, 143, 144, 145, 146, 147,\n",
       "       148, 149, 150, 151, 152, 206, 240, 241, 242, 243, 244, 245, 246,\n",
       "       247, 248, 249, 250, 251, 253, 255, 257, 259, 310, 315, 319, 345,\n",
       "       602, 607, 612, 714, 903, 904, 907, 908, 909, 911, 913, 914, 917,\n",
       "       920, 921, 923, 924, 927, 930, 931, 933, 934, 936, 937, 938, 941,\n",
       "       947, 948, 958, 967], dtype=object)"
      ]
     },
     "execution_count": 9,
     "metadata": {},
     "output_type": "execute_result"
    }
   ],
   "source": [
    "connection_graph['line'].unique()"
   ]
  },
  {
   "cell_type": "code",
   "execution_count": 10,
   "metadata": {},
   "outputs": [],
   "source": [
    "connection_graph['line'] = connection_graph['line'].astype(str)"
   ]
  },
  {
   "cell_type": "markdown",
   "metadata": {},
   "source": [
    "Założenie: czas przejazdu między przystankami dla tej samej linii może być różny między różnymi godzinami "
   ]
  },
  {
   "cell_type": "code",
   "execution_count": 11,
   "metadata": {},
   "outputs": [],
   "source": [
    "krzyki_sowia_conn = connection_graph[(connection_graph['start_stop'] == 'KRZYKI') & (connection_graph['end_stop'] == 'Sowia')]"
   ]
  },
  {
   "cell_type": "code",
   "execution_count": 12,
   "metadata": {},
   "outputs": [
    {
     "data": {
      "text/plain": [
       "array(['A', '126', '248', '251'], dtype=object)"
      ]
     },
     "execution_count": 12,
     "metadata": {},
     "output_type": "execute_result"
    }
   ],
   "source": [
    "krzyki_sowia_conn['line'].unique()"
   ]
  },
  {
   "cell_type": "code",
   "execution_count": 13,
   "metadata": {},
   "outputs": [
    {
     "data": {
      "text/html": [
       "<div>\n",
       "<style scoped>\n",
       "    .dataframe tbody tr th:only-of-type {\n",
       "        vertical-align: middle;\n",
       "    }\n",
       "\n",
       "    .dataframe tbody tr th {\n",
       "        vertical-align: top;\n",
       "    }\n",
       "\n",
       "    .dataframe thead th {\n",
       "        text-align: right;\n",
       "    }\n",
       "</style>\n",
       "<table border=\"1\" class=\"dataframe\">\n",
       "  <thead>\n",
       "    <tr style=\"text-align: right;\">\n",
       "      <th></th>\n",
       "      <th>line</th>\n",
       "      <th>departure_time</th>\n",
       "      <th>arrival_time</th>\n",
       "      <th>start_stop</th>\n",
       "      <th>end_stop</th>\n",
       "      <th>start_stop_lat</th>\n",
       "      <th>start_stop_lon</th>\n",
       "      <th>end_stop_lat</th>\n",
       "      <th>end_stop_lon</th>\n",
       "    </tr>\n",
       "  </thead>\n",
       "  <tbody>\n",
       "    <tr>\n",
       "      <th>14127</th>\n",
       "      <td>D</td>\n",
       "      <td>08:43:00</td>\n",
       "      <td>08:44:00</td>\n",
       "      <td>Pomorska</td>\n",
       "      <td>Pomorska</td>\n",
       "      <td>51.117895</td>\n",
       "      <td>17.030893</td>\n",
       "      <td>51.117267</td>\n",
       "      <td>17.032001</td>\n",
       "    </tr>\n",
       "    <tr>\n",
       "      <th>15247</th>\n",
       "      <td>D</td>\n",
       "      <td>09:25:00</td>\n",
       "      <td>09:26:00</td>\n",
       "      <td>Pomorska</td>\n",
       "      <td>Pomorska</td>\n",
       "      <td>51.117895</td>\n",
       "      <td>17.030893</td>\n",
       "      <td>51.117267</td>\n",
       "      <td>17.032001</td>\n",
       "    </tr>\n",
       "    <tr>\n",
       "      <th>15934</th>\n",
       "      <td>D</td>\n",
       "      <td>20:49:00</td>\n",
       "      <td>20:50:00</td>\n",
       "      <td>Pomorska</td>\n",
       "      <td>Pomorska</td>\n",
       "      <td>51.117339</td>\n",
       "      <td>17.031928</td>\n",
       "      <td>51.118012</td>\n",
       "      <td>17.030745</td>\n",
       "    </tr>\n",
       "    <tr>\n",
       "      <th>16934</th>\n",
       "      <td>D</td>\n",
       "      <td>20:12:00</td>\n",
       "      <td>20:13:00</td>\n",
       "      <td>Pomorska</td>\n",
       "      <td>Pomorska</td>\n",
       "      <td>51.117339</td>\n",
       "      <td>17.031928</td>\n",
       "      <td>51.118012</td>\n",
       "      <td>17.030745</td>\n",
       "    </tr>\n",
       "    <tr>\n",
       "      <th>21374</th>\n",
       "      <td>D</td>\n",
       "      <td>05:46:00</td>\n",
       "      <td>05:47:00</td>\n",
       "      <td>Pomorska</td>\n",
       "      <td>Pomorska</td>\n",
       "      <td>51.117895</td>\n",
       "      <td>17.030893</td>\n",
       "      <td>51.117267</td>\n",
       "      <td>17.032001</td>\n",
       "    </tr>\n",
       "    <tr>\n",
       "      <th>...</th>\n",
       "      <td>...</td>\n",
       "      <td>...</td>\n",
       "      <td>...</td>\n",
       "      <td>...</td>\n",
       "      <td>...</td>\n",
       "      <td>...</td>\n",
       "      <td>...</td>\n",
       "      <td>...</td>\n",
       "      <td>...</td>\n",
       "    </tr>\n",
       "    <tr>\n",
       "      <th>995006</th>\n",
       "      <td>947</td>\n",
       "      <td>16:25:00</td>\n",
       "      <td>16:26:00</td>\n",
       "      <td>OPORÓW</td>\n",
       "      <td>OPORÓW</td>\n",
       "      <td>51.084150</td>\n",
       "      <td>16.971898</td>\n",
       "      <td>51.083929</td>\n",
       "      <td>16.970916</td>\n",
       "    </tr>\n",
       "    <tr>\n",
       "      <th>995033</th>\n",
       "      <td>947</td>\n",
       "      <td>18:25:00</td>\n",
       "      <td>18:26:00</td>\n",
       "      <td>OPORÓW</td>\n",
       "      <td>OPORÓW</td>\n",
       "      <td>51.084150</td>\n",
       "      <td>16.971898</td>\n",
       "      <td>51.083929</td>\n",
       "      <td>16.970916</td>\n",
       "    </tr>\n",
       "    <tr>\n",
       "      <th>995051</th>\n",
       "      <td>947</td>\n",
       "      <td>20:25:00</td>\n",
       "      <td>20:26:00</td>\n",
       "      <td>OPORÓW</td>\n",
       "      <td>OPORÓW</td>\n",
       "      <td>51.084150</td>\n",
       "      <td>16.971898</td>\n",
       "      <td>51.083929</td>\n",
       "      <td>16.970916</td>\n",
       "    </tr>\n",
       "    <tr>\n",
       "      <th>995078</th>\n",
       "      <td>947</td>\n",
       "      <td>05:05:00</td>\n",
       "      <td>05:06:00</td>\n",
       "      <td>OPORÓW</td>\n",
       "      <td>OPORÓW</td>\n",
       "      <td>51.084150</td>\n",
       "      <td>16.971898</td>\n",
       "      <td>51.083929</td>\n",
       "      <td>16.970916</td>\n",
       "    </tr>\n",
       "    <tr>\n",
       "      <th>995105</th>\n",
       "      <td>947</td>\n",
       "      <td>15:25:00</td>\n",
       "      <td>15:26:00</td>\n",
       "      <td>OPORÓW</td>\n",
       "      <td>OPORÓW</td>\n",
       "      <td>51.084150</td>\n",
       "      <td>16.971898</td>\n",
       "      <td>51.083929</td>\n",
       "      <td>16.970916</td>\n",
       "    </tr>\n",
       "  </tbody>\n",
       "</table>\n",
       "<p>6214 rows × 9 columns</p>\n",
       "</div>"
      ],
      "text/plain": [
       "       line departure_time arrival_time start_stop  end_stop  start_stop_lat  \\\n",
       "14127     D       08:43:00     08:44:00   Pomorska  Pomorska       51.117895   \n",
       "15247     D       09:25:00     09:26:00   Pomorska  Pomorska       51.117895   \n",
       "15934     D       20:49:00     20:50:00   Pomorska  Pomorska       51.117339   \n",
       "16934     D       20:12:00     20:13:00   Pomorska  Pomorska       51.117339   \n",
       "21374     D       05:46:00     05:47:00   Pomorska  Pomorska       51.117895   \n",
       "...     ...            ...          ...        ...       ...             ...   \n",
       "995006  947       16:25:00     16:26:00     OPORÓW    OPORÓW       51.084150   \n",
       "995033  947       18:25:00     18:26:00     OPORÓW    OPORÓW       51.084150   \n",
       "995051  947       20:25:00     20:26:00     OPORÓW    OPORÓW       51.084150   \n",
       "995078  947       05:05:00     05:06:00     OPORÓW    OPORÓW       51.084150   \n",
       "995105  947       15:25:00     15:26:00     OPORÓW    OPORÓW       51.084150   \n",
       "\n",
       "        start_stop_lon  end_stop_lat  end_stop_lon  \n",
       "14127        17.030893     51.117267     17.032001  \n",
       "15247        17.030893     51.117267     17.032001  \n",
       "15934        17.031928     51.118012     17.030745  \n",
       "16934        17.031928     51.118012     17.030745  \n",
       "21374        17.030893     51.117267     17.032001  \n",
       "...                ...           ...           ...  \n",
       "995006       16.971898     51.083929     16.970916  \n",
       "995033       16.971898     51.083929     16.970916  \n",
       "995051       16.971898     51.083929     16.970916  \n",
       "995078       16.971898     51.083929     16.970916  \n",
       "995105       16.971898     51.083929     16.970916  \n",
       "\n",
       "[6214 rows x 9 columns]"
      ]
     },
     "execution_count": 13,
     "metadata": {},
     "output_type": "execute_result"
    }
   ],
   "source": [
    "duplicated_stops = connection_graph[connection_graph['start_stop'] == connection_graph['end_stop']]\n",
    "duplicated_stops"
   ]
  },
  {
   "cell_type": "code",
   "execution_count": 14,
   "metadata": {},
   "outputs": [
    {
     "data": {
      "text/html": [
       "<div>\n",
       "<style scoped>\n",
       "    .dataframe tbody tr th:only-of-type {\n",
       "        vertical-align: middle;\n",
       "    }\n",
       "\n",
       "    .dataframe tbody tr th {\n",
       "        vertical-align: top;\n",
       "    }\n",
       "\n",
       "    .dataframe thead th {\n",
       "        text-align: right;\n",
       "    }\n",
       "</style>\n",
       "<table border=\"1\" class=\"dataframe\">\n",
       "  <thead>\n",
       "    <tr style=\"text-align: right;\">\n",
       "      <th></th>\n",
       "      <th>start_stop</th>\n",
       "      <th>start_stop_lat</th>\n",
       "      <th>start_stop_lon</th>\n",
       "    </tr>\n",
       "  </thead>\n",
       "  <tbody>\n",
       "    <tr>\n",
       "      <th>14127</th>\n",
       "      <td>Pomorska</td>\n",
       "      <td>51.117895</td>\n",
       "      <td>17.030893</td>\n",
       "    </tr>\n",
       "    <tr>\n",
       "      <th>15934</th>\n",
       "      <td>Pomorska</td>\n",
       "      <td>51.117339</td>\n",
       "      <td>17.031928</td>\n",
       "    </tr>\n",
       "    <tr>\n",
       "      <th>300021</th>\n",
       "      <td>Pomorska</td>\n",
       "      <td>51.117267</td>\n",
       "      <td>17.031899</td>\n",
       "    </tr>\n",
       "    <tr>\n",
       "      <th>300086</th>\n",
       "      <td>Pomorska</td>\n",
       "      <td>51.117892</td>\n",
       "      <td>17.031002</td>\n",
       "    </tr>\n",
       "  </tbody>\n",
       "</table>\n",
       "</div>"
      ],
      "text/plain": [
       "       start_stop  start_stop_lat  start_stop_lon\n",
       "14127    Pomorska       51.117895       17.030893\n",
       "15934    Pomorska       51.117339       17.031928\n",
       "300021   Pomorska       51.117267       17.031899\n",
       "300086   Pomorska       51.117892       17.031002"
      ]
     },
     "execution_count": 14,
     "metadata": {},
     "output_type": "execute_result"
    }
   ],
   "source": [
    "duplicated_stops[duplicated_stops['start_stop'] == 'Pomorska'].loc[:, ['start_stop', 'start_stop_lat', 'start_stop_lon']].drop_duplicates()"
   ]
  },
  {
   "cell_type": "markdown",
   "metadata": {},
   "source": [
    "POKAZAC ZE DLA TAKIEGO PRZYPADKU BEDZIE DZIALALO\n",
    "\n",
    "W przypadku implementacji Dijkstry to, że istnieją połączenia między tym samym przystankiem nie będzie miało znaczenia, tj. nie będziemy takich połączeń rozważać"
   ]
  },
  {
   "cell_type": "code",
   "execution_count": 15,
   "metadata": {},
   "outputs": [
    {
     "data": {
      "text/html": [
       "<div>\n",
       "<style scoped>\n",
       "    .dataframe tbody tr th:only-of-type {\n",
       "        vertical-align: middle;\n",
       "    }\n",
       "\n",
       "    .dataframe tbody tr th {\n",
       "        vertical-align: top;\n",
       "    }\n",
       "\n",
       "    .dataframe thead th {\n",
       "        text-align: right;\n",
       "    }\n",
       "</style>\n",
       "<table border=\"1\" class=\"dataframe\">\n",
       "  <thead>\n",
       "    <tr style=\"text-align: right;\">\n",
       "      <th></th>\n",
       "      <th>line</th>\n",
       "      <th>departure_time</th>\n",
       "      <th>arrival_time</th>\n",
       "      <th>start_stop</th>\n",
       "      <th>end_stop</th>\n",
       "      <th>start_stop_lat</th>\n",
       "      <th>start_stop_lon</th>\n",
       "      <th>end_stop_lat</th>\n",
       "      <th>end_stop_lon</th>\n",
       "    </tr>\n",
       "  </thead>\n",
       "  <tbody>\n",
       "    <tr>\n",
       "      <th>14122</th>\n",
       "      <td>D</td>\n",
       "      <td>08:34:00</td>\n",
       "      <td>08:35:00</td>\n",
       "      <td>Obornicka (Wołowska)</td>\n",
       "      <td>Bezpieczna</td>\n",
       "      <td>51.144385</td>\n",
       "      <td>17.023735</td>\n",
       "      <td>51.141360</td>\n",
       "      <td>17.026376</td>\n",
       "    </tr>\n",
       "    <tr>\n",
       "      <th>14123</th>\n",
       "      <td>D</td>\n",
       "      <td>08:35:00</td>\n",
       "      <td>08:36:00</td>\n",
       "      <td>Bezpieczna</td>\n",
       "      <td>Bałtycka</td>\n",
       "      <td>51.141360</td>\n",
       "      <td>17.026376</td>\n",
       "      <td>51.137180</td>\n",
       "      <td>17.029450</td>\n",
       "    </tr>\n",
       "    <tr>\n",
       "      <th>14124</th>\n",
       "      <td>D</td>\n",
       "      <td>08:36:00</td>\n",
       "      <td>08:39:00</td>\n",
       "      <td>Bałtycka</td>\n",
       "      <td>Kleczkowska</td>\n",
       "      <td>51.137180</td>\n",
       "      <td>17.029450</td>\n",
       "      <td>51.126714</td>\n",
       "      <td>17.027626</td>\n",
       "    </tr>\n",
       "    <tr>\n",
       "      <th>14125</th>\n",
       "      <td>D</td>\n",
       "      <td>08:39:00</td>\n",
       "      <td>08:40:00</td>\n",
       "      <td>Kleczkowska</td>\n",
       "      <td>pl. Strzelecki</td>\n",
       "      <td>51.126714</td>\n",
       "      <td>17.027626</td>\n",
       "      <td>51.122708</td>\n",
       "      <td>17.026304</td>\n",
       "    </tr>\n",
       "    <tr>\n",
       "      <th>14126</th>\n",
       "      <td>D</td>\n",
       "      <td>08:40:00</td>\n",
       "      <td>08:43:00</td>\n",
       "      <td>pl. Strzelecki</td>\n",
       "      <td>Pomorska</td>\n",
       "      <td>51.122708</td>\n",
       "      <td>17.026304</td>\n",
       "      <td>51.117895</td>\n",
       "      <td>17.030893</td>\n",
       "    </tr>\n",
       "    <tr>\n",
       "      <th>14127</th>\n",
       "      <td>D</td>\n",
       "      <td>08:43:00</td>\n",
       "      <td>08:44:00</td>\n",
       "      <td>Pomorska</td>\n",
       "      <td>Pomorska</td>\n",
       "      <td>51.117895</td>\n",
       "      <td>17.030893</td>\n",
       "      <td>51.117267</td>\n",
       "      <td>17.032001</td>\n",
       "    </tr>\n",
       "    <tr>\n",
       "      <th>14128</th>\n",
       "      <td>D</td>\n",
       "      <td>08:44:00</td>\n",
       "      <td>08:45:00</td>\n",
       "      <td>Pomorska</td>\n",
       "      <td>Mosty Pomorskie</td>\n",
       "      <td>51.117267</td>\n",
       "      <td>17.032001</td>\n",
       "      <td>51.114754</td>\n",
       "      <td>17.030627</td>\n",
       "    </tr>\n",
       "    <tr>\n",
       "      <th>14129</th>\n",
       "      <td>D</td>\n",
       "      <td>08:45:00</td>\n",
       "      <td>08:47:00</td>\n",
       "      <td>Mosty Pomorskie</td>\n",
       "      <td>Rynek</td>\n",
       "      <td>51.114754</td>\n",
       "      <td>17.030627</td>\n",
       "      <td>51.111912</td>\n",
       "      <td>17.027184</td>\n",
       "    </tr>\n",
       "    <tr>\n",
       "      <th>14130</th>\n",
       "      <td>D</td>\n",
       "      <td>08:47:00</td>\n",
       "      <td>08:49:00</td>\n",
       "      <td>Rynek</td>\n",
       "      <td>Narodowe Forum Muzyki</td>\n",
       "      <td>51.111912</td>\n",
       "      <td>17.027184</td>\n",
       "      <td>51.107899</td>\n",
       "      <td>17.026294</td>\n",
       "    </tr>\n",
       "    <tr>\n",
       "      <th>14131</th>\n",
       "      <td>D</td>\n",
       "      <td>08:49:00</td>\n",
       "      <td>08:51:00</td>\n",
       "      <td>Narodowe Forum Muzyki</td>\n",
       "      <td>Renoma</td>\n",
       "      <td>51.107899</td>\n",
       "      <td>17.026294</td>\n",
       "      <td>51.104286</td>\n",
       "      <td>17.030093</td>\n",
       "    </tr>\n",
       "    <tr>\n",
       "      <th>14132</th>\n",
       "      <td>D</td>\n",
       "      <td>08:51:00</td>\n",
       "      <td>08:53:00</td>\n",
       "      <td>Renoma</td>\n",
       "      <td>Arkady (Capitol)</td>\n",
       "      <td>51.104286</td>\n",
       "      <td>17.030093</td>\n",
       "      <td>51.102090</td>\n",
       "      <td>17.029468</td>\n",
       "    </tr>\n",
       "  </tbody>\n",
       "</table>\n",
       "</div>"
      ],
      "text/plain": [
       "      line departure_time arrival_time             start_stop  \\\n",
       "14122    D       08:34:00     08:35:00   Obornicka (Wołowska)   \n",
       "14123    D       08:35:00     08:36:00             Bezpieczna   \n",
       "14124    D       08:36:00     08:39:00               Bałtycka   \n",
       "14125    D       08:39:00     08:40:00            Kleczkowska   \n",
       "14126    D       08:40:00     08:43:00         pl. Strzelecki   \n",
       "14127    D       08:43:00     08:44:00               Pomorska   \n",
       "14128    D       08:44:00     08:45:00               Pomorska   \n",
       "14129    D       08:45:00     08:47:00        Mosty Pomorskie   \n",
       "14130    D       08:47:00     08:49:00                  Rynek   \n",
       "14131    D       08:49:00     08:51:00  Narodowe Forum Muzyki   \n",
       "14132    D       08:51:00     08:53:00                 Renoma   \n",
       "\n",
       "                    end_stop  start_stop_lat  start_stop_lon  end_stop_lat  \\\n",
       "14122             Bezpieczna       51.144385       17.023735     51.141360   \n",
       "14123               Bałtycka       51.141360       17.026376     51.137180   \n",
       "14124            Kleczkowska       51.137180       17.029450     51.126714   \n",
       "14125         pl. Strzelecki       51.126714       17.027626     51.122708   \n",
       "14126               Pomorska       51.122708       17.026304     51.117895   \n",
       "14127               Pomorska       51.117895       17.030893     51.117267   \n",
       "14128        Mosty Pomorskie       51.117267       17.032001     51.114754   \n",
       "14129                  Rynek       51.114754       17.030627     51.111912   \n",
       "14130  Narodowe Forum Muzyki       51.111912       17.027184     51.107899   \n",
       "14131                 Renoma       51.107899       17.026294     51.104286   \n",
       "14132       Arkady (Capitol)       51.104286       17.030093     51.102090   \n",
       "\n",
       "       end_stop_lon  \n",
       "14122     17.026376  \n",
       "14123     17.029450  \n",
       "14124     17.027626  \n",
       "14125     17.026304  \n",
       "14126     17.030893  \n",
       "14127     17.032001  \n",
       "14128     17.030627  \n",
       "14129     17.027184  \n",
       "14130     17.026294  \n",
       "14131     17.030093  \n",
       "14132     17.029468  "
      ]
     },
     "execution_count": 15,
     "metadata": {},
     "output_type": "execute_result"
    }
   ],
   "source": [
    "connection_graph.loc[duplicated_stops.iloc[0].name - 5:duplicated_stops.iloc[0].name + 5]"
   ]
  },
  {
   "cell_type": "markdown",
   "metadata": {},
   "source": [
    "Heurystyka będzie brała pod uwagę odległość w metrach między przystankami. \n",
    "\n",
    "Czy trzeba koniecznie tą odległość manhattan / euklidesową?"
   ]
  },
  {
   "cell_type": "code",
   "execution_count": 16,
   "metadata": {},
   "outputs": [
    {
     "data": {
      "text/plain": [
       "73.09182397423561"
      ]
     },
     "execution_count": 16,
     "metadata": {},
     "output_type": "execute_result"
    }
   ],
   "source": [
    "stop1 = connection_graph.loc[995006]\n",
    "geopy.distance.geodesic((stop1['start_stop_lat'], stop1['start_stop_lon']), \n",
    "                        (stop1['end_stop_lat'], stop1['end_stop_lon'])).m"
   ]
  },
  {
   "cell_type": "code",
   "execution_count": 17,
   "metadata": {},
   "outputs": [],
   "source": [
    "stop1 = connection_graph.loc[14127]"
   ]
  },
  {
   "cell_type": "code",
   "execution_count": 18,
   "metadata": {},
   "outputs": [],
   "source": [
    "def get_stop_coords(stop: str):\n",
    "    return connection_graph[connection_graph['end_stop'] == stop].loc[:, ['end_stop', 'end_stop_lat', 'end_stop_lon']].drop_duplicates()\n",
    "\n",
    "def compute_stop_coords(stop: str):\n",
    "    stops = get_stop_coords(stop)\n",
    "    return stops[['end_stop_lat', 'end_stop_lon']].mean()"
   ]
  },
  {
   "cell_type": "code",
   "execution_count": 19,
   "metadata": {},
   "outputs": [
    {
     "data": {
      "text/html": [
       "<div>\n",
       "<style scoped>\n",
       "    .dataframe tbody tr th:only-of-type {\n",
       "        vertical-align: middle;\n",
       "    }\n",
       "\n",
       "    .dataframe tbody tr th {\n",
       "        vertical-align: top;\n",
       "    }\n",
       "\n",
       "    .dataframe thead th {\n",
       "        text-align: right;\n",
       "    }\n",
       "</style>\n",
       "<table border=\"1\" class=\"dataframe\">\n",
       "  <thead>\n",
       "    <tr style=\"text-align: right;\">\n",
       "      <th></th>\n",
       "      <th>end_stop</th>\n",
       "      <th>end_stop_lat</th>\n",
       "      <th>end_stop_lon</th>\n",
       "    </tr>\n",
       "  </thead>\n",
       "  <tbody>\n",
       "    <tr>\n",
       "      <th>14126</th>\n",
       "      <td>Pomorska</td>\n",
       "      <td>51.117895</td>\n",
       "      <td>17.030893</td>\n",
       "    </tr>\n",
       "    <tr>\n",
       "      <th>14127</th>\n",
       "      <td>Pomorska</td>\n",
       "      <td>51.117267</td>\n",
       "      <td>17.032001</td>\n",
       "    </tr>\n",
       "    <tr>\n",
       "      <th>15933</th>\n",
       "      <td>Pomorska</td>\n",
       "      <td>51.117339</td>\n",
       "      <td>17.031928</td>\n",
       "    </tr>\n",
       "    <tr>\n",
       "      <th>15934</th>\n",
       "      <td>Pomorska</td>\n",
       "      <td>51.118012</td>\n",
       "      <td>17.030745</td>\n",
       "    </tr>\n",
       "    <tr>\n",
       "      <th>105438</th>\n",
       "      <td>Pomorska</td>\n",
       "      <td>51.117892</td>\n",
       "      <td>17.031002</td>\n",
       "    </tr>\n",
       "    <tr>\n",
       "      <th>239675</th>\n",
       "      <td>Pomorska</td>\n",
       "      <td>51.118058</td>\n",
       "      <td>17.030560</td>\n",
       "    </tr>\n",
       "    <tr>\n",
       "      <th>300020</th>\n",
       "      <td>Pomorska</td>\n",
       "      <td>51.117267</td>\n",
       "      <td>17.031899</td>\n",
       "    </tr>\n",
       "    <tr>\n",
       "      <th>300086</th>\n",
       "      <td>Pomorska</td>\n",
       "      <td>51.117234</td>\n",
       "      <td>17.031756</td>\n",
       "    </tr>\n",
       "  </tbody>\n",
       "</table>\n",
       "</div>"
      ],
      "text/plain": [
       "        end_stop  end_stop_lat  end_stop_lon\n",
       "14126   Pomorska     51.117895     17.030893\n",
       "14127   Pomorska     51.117267     17.032001\n",
       "15933   Pomorska     51.117339     17.031928\n",
       "15934   Pomorska     51.118012     17.030745\n",
       "105438  Pomorska     51.117892     17.031002\n",
       "239675  Pomorska     51.118058     17.030560\n",
       "300020  Pomorska     51.117267     17.031899\n",
       "300086  Pomorska     51.117234     17.031756"
      ]
     },
     "execution_count": 19,
     "metadata": {},
     "output_type": "execute_result"
    }
   ],
   "source": [
    "get_stop_coords('Pomorska')"
   ]
  },
  {
   "cell_type": "code",
   "execution_count": 20,
   "metadata": {},
   "outputs": [],
   "source": [
    "goal_stop_coords = compute_stop_coords('Pomorska')"
   ]
  },
  {
   "cell_type": "markdown",
   "metadata": {},
   "source": [
    "A geodesic is the shortest path between two points on a curved surface, analogous to a straight line on a plane surface"
   ]
  },
  {
   "cell_type": "code",
   "execution_count": 21,
   "metadata": {},
   "outputs": [
    {
     "data": {
      "text/plain": [
       "2663.87"
      ]
     },
     "execution_count": 21,
     "metadata": {},
     "output_type": "execute_result"
    }
   ],
   "source": [
    "def heuristic(curr_conn, goal_stop_coords):\n",
    "    return round(geopy.distance.geodesic((curr_conn['end_stop_lat'], curr_conn['end_stop_lon']), \n",
    "                                   (goal_stop_coords['end_stop_lat'], goal_stop_coords['end_stop_lon'])).m, 2) \n",
    "\n",
    "heuristic(connection_graph.loc[14122], goal_stop_coords)"
   ]
  },
  {
   "cell_type": "markdown",
   "metadata": {},
   "source": [
    "Problem dotyczący dat:\n",
    "- format nie jest jednolity, tj. istnieją godziny 25\n",
    "- porównywanie godzin nie daje żądanych wyników, tj. chcielibyśmy, by godzina 00:00 była po 23:59"
   ]
  },
  {
   "cell_type": "code",
   "execution_count": 22,
   "metadata": {},
   "outputs": [
    {
     "data": {
      "text/plain": [
       "False"
      ]
     },
     "execution_count": 22,
     "metadata": {},
     "output_type": "execute_result"
    }
   ],
   "source": [
    "(datetime.strptime('00:00:00', '%H:%M:%S') > datetime.strptime('23:59:00', '%H:%M:%S'))"
   ]
  },
  {
   "cell_type": "code",
   "execution_count": 23,
   "metadata": {},
   "outputs": [],
   "source": [
    "def separate_time(time):\n",
    "    return [int(tp) for tp in time.split(':')]"
   ]
  },
  {
   "cell_type": "code",
   "execution_count": 24,
   "metadata": {},
   "outputs": [
    {
     "data": {
      "text/plain": [
       "[20, 0, 0]"
      ]
     },
     "execution_count": 24,
     "metadata": {},
     "output_type": "execute_result"
    }
   ],
   "source": [
    "separate_time('20:00:00')"
   ]
  },
  {
   "cell_type": "code",
   "execution_count": 25,
   "metadata": {},
   "outputs": [
    {
     "data": {
      "text/html": [
       "<div>\n",
       "<style scoped>\n",
       "    .dataframe tbody tr th:only-of-type {\n",
       "        vertical-align: middle;\n",
       "    }\n",
       "\n",
       "    .dataframe tbody tr th {\n",
       "        vertical-align: top;\n",
       "    }\n",
       "\n",
       "    .dataframe thead th {\n",
       "        text-align: right;\n",
       "    }\n",
       "</style>\n",
       "<table border=\"1\" class=\"dataframe\">\n",
       "  <thead>\n",
       "    <tr style=\"text-align: right;\">\n",
       "      <th></th>\n",
       "      <th>line</th>\n",
       "      <th>departure_time</th>\n",
       "      <th>arrival_time</th>\n",
       "      <th>start_stop</th>\n",
       "      <th>end_stop</th>\n",
       "      <th>start_stop_lat</th>\n",
       "      <th>start_stop_lon</th>\n",
       "      <th>end_stop_lat</th>\n",
       "      <th>end_stop_lon</th>\n",
       "    </tr>\n",
       "  </thead>\n",
       "  <tbody>\n",
       "    <tr>\n",
       "      <th>30969</th>\n",
       "      <td>K</td>\n",
       "      <td>24:01:00</td>\n",
       "      <td>24:03:00</td>\n",
       "      <td>Broniewskiego</td>\n",
       "      <td>Bałtycka</td>\n",
       "      <td>51.135904</td>\n",
       "      <td>17.035327</td>\n",
       "      <td>51.138282</td>\n",
       "      <td>17.029374</td>\n",
       "    </tr>\n",
       "    <tr>\n",
       "      <th>30970</th>\n",
       "      <td>K</td>\n",
       "      <td>24:03:00</td>\n",
       "      <td>24:04:00</td>\n",
       "      <td>Bałtycka</td>\n",
       "      <td>Bezpieczna</td>\n",
       "      <td>51.138282</td>\n",
       "      <td>17.029374</td>\n",
       "      <td>51.142459</td>\n",
       "      <td>17.025678</td>\n",
       "    </tr>\n",
       "    <tr>\n",
       "      <th>30971</th>\n",
       "      <td>K</td>\n",
       "      <td>24:04:00</td>\n",
       "      <td>24:05:00</td>\n",
       "      <td>Bezpieczna</td>\n",
       "      <td>Paprotna</td>\n",
       "      <td>51.142459</td>\n",
       "      <td>17.025678</td>\n",
       "      <td>51.148181</td>\n",
       "      <td>17.020627</td>\n",
       "    </tr>\n",
       "    <tr>\n",
       "      <th>30972</th>\n",
       "      <td>K</td>\n",
       "      <td>24:05:00</td>\n",
       "      <td>24:06:00</td>\n",
       "      <td>Paprotna</td>\n",
       "      <td>Zajezdnia Obornicka</td>\n",
       "      <td>51.148181</td>\n",
       "      <td>17.020627</td>\n",
       "      <td>51.148737</td>\n",
       "      <td>17.021069</td>\n",
       "    </tr>\n",
       "    <tr>\n",
       "      <th>31418</th>\n",
       "      <td>K</td>\n",
       "      <td>24:00:00</td>\n",
       "      <td>24:03:00</td>\n",
       "      <td>DWORZEC GŁÓWNY</td>\n",
       "      <td>GALERIA DOMINIKAŃSKA</td>\n",
       "      <td>51.099602</td>\n",
       "      <td>17.035400</td>\n",
       "      <td>51.108019</td>\n",
       "      <td>17.037383</td>\n",
       "    </tr>\n",
       "  </tbody>\n",
       "</table>\n",
       "</div>"
      ],
      "text/plain": [
       "      line departure_time arrival_time      start_stop              end_stop  \\\n",
       "30969    K       24:01:00     24:03:00   Broniewskiego              Bałtycka   \n",
       "30970    K       24:03:00     24:04:00        Bałtycka            Bezpieczna   \n",
       "30971    K       24:04:00     24:05:00      Bezpieczna              Paprotna   \n",
       "30972    K       24:05:00     24:06:00        Paprotna   Zajezdnia Obornicka   \n",
       "31418    K       24:00:00     24:03:00  DWORZEC GŁÓWNY  GALERIA DOMINIKAŃSKA   \n",
       "\n",
       "       start_stop_lat  start_stop_lon  end_stop_lat  end_stop_lon  \n",
       "30969       51.135904       17.035327     51.138282     17.029374  \n",
       "30970       51.138282       17.029374     51.142459     17.025678  \n",
       "30971       51.142459       17.025678     51.148181     17.020627  \n",
       "30972       51.148181       17.020627     51.148737     17.021069  \n",
       "31418       51.099602       17.035400     51.108019     17.037383  "
      ]
     },
     "execution_count": 25,
     "metadata": {},
     "output_type": "execute_result"
    }
   ],
   "source": [
    "connection_graph[connection_graph['departure_time'].apply(lambda x: separate_time(x)[0]) >= 24].head()"
   ]
  },
  {
   "cell_type": "code",
   "execution_count": 26,
   "metadata": {},
   "outputs": [
    {
     "data": {
      "text/plain": [
       "line                      K\n",
       "departure_time     30:03:00\n",
       "arrival_time       30:05:00\n",
       "start_stop          Żmudzka\n",
       "end_stop            Żmudzka\n",
       "start_stop_lat    51.196642\n",
       "start_stop_lon    17.165968\n",
       "end_stop_lat         51.197\n",
       "end_stop_lon      17.165968\n",
       "dtype: object"
      ]
     },
     "execution_count": 26,
     "metadata": {},
     "output_type": "execute_result"
    }
   ],
   "source": [
    "connection_graph[connection_graph['departure_time'].apply(lambda x: separate_time(x)[0]) >= 24].max()"
   ]
  },
  {
   "cell_type": "code",
   "execution_count": 27,
   "metadata": {},
   "outputs": [
    {
     "data": {
      "text/plain": [
       "line                      1\n",
       "departure_time     03:34:00\n",
       "arrival_time       03:36:00\n",
       "start_stop           8 Maja\n",
       "end_stop             8 Maja\n",
       "start_stop_lat    50.980426\n",
       "start_stop_lon    16.704534\n",
       "end_stop_lat      50.984631\n",
       "end_stop_lon      16.696798\n",
       "dtype: object"
      ]
     },
     "execution_count": 27,
     "metadata": {},
     "output_type": "execute_result"
    }
   ],
   "source": [
    "connection_graph[connection_graph['departure_time'].apply(lambda x: separate_time(x)[0]) <= 4].min()"
   ]
  },
  {
   "cell_type": "markdown",
   "metadata": {},
   "source": [
    "1. Czas zostanie znormalizowany tak, by wszystkie godziny były w przedziale [0:00; 23:59]"
   ]
  },
  {
   "cell_type": "code",
   "execution_count": 28,
   "metadata": {},
   "outputs": [],
   "source": [
    "def to_seconds(time: str) -> int:\n",
    "    h, m, s = separate_time(time)\n",
    "    return int(h * 3600 + m * 60 + s)\n",
    "\n",
    "def time_to_normalized_sec(time: str) -> int:\n",
    "    return to_seconds(time) % (3600 * 24)"
   ]
  },
  {
   "cell_type": "code",
   "execution_count": 29,
   "metadata": {},
   "outputs": [],
   "source": [
    "connection_graph['departure_sec'] = connection_graph['departure_time'].apply(time_to_normalized_sec)\n",
    "connection_graph['arrival_sec'] = connection_graph['arrival_time'].apply(time_to_normalized_sec)"
   ]
  },
  {
   "cell_type": "code",
   "execution_count": 30,
   "metadata": {},
   "outputs": [
    {
     "data": {
      "text/plain": [
       "0         75180\n",
       "1         75240\n",
       "2         75300\n",
       "3         75420\n",
       "4         75540\n",
       "          ...  \n",
       "996209    67140\n",
       "996210    67260\n",
       "996211    67320\n",
       "996212    67380\n",
       "996213    67500\n",
       "Name: arrival_sec, Length: 456019, dtype: int64"
      ]
     },
     "execution_count": 30,
     "metadata": {},
     "output_type": "execute_result"
    }
   ],
   "source": [
    "connection_graph['arrival_sec']"
   ]
  },
  {
   "cell_type": "code",
   "execution_count": 31,
   "metadata": {},
   "outputs": [
    {
     "name": "stdout",
     "output_type": "stream",
     "text": [
      "True\n",
      "True\n"
     ]
    }
   ],
   "source": [
    "print(connection_graph['departure_sec'].max() <= (24 * 3600))\n",
    "print(connection_graph['arrival_sec'].max() <= (24 * 3600))"
   ]
  },
  {
   "cell_type": "markdown",
   "metadata": {},
   "source": [
    "2. Stworzymy funkcję, która będzie respektować porządek godzinowy, nie liczbowy"
   ]
  },
  {
   "cell_type": "code",
   "execution_count": 32,
   "metadata": {},
   "outputs": [],
   "source": [
    "def diff(ts: Union[pd.Series, int], td: int) -> int:\n",
    "    '''Function that returns difference between ts and td times expressed as seconds \n",
    "        - note that this will never be a negative value'''\n",
    "    d = ts - td \n",
    "    if isinstance(ts, pd.Series):\n",
    "        d[d < 0] += 24 * 3600\n",
    "    elif d < 0:\n",
    "        d += 24 * 3600\n",
    "    return d "
   ]
  },
  {
   "cell_type": "code",
   "execution_count": 33,
   "metadata": {},
   "outputs": [
    {
     "name": "stdout",
     "output_type": "stream",
     "text": [
      "01:00 - 22:00 =  3:00:00\n",
      "01:00 - 12:00 =  13:00:00\n",
      "23:00 - 22:00 =  1:00:00\n",
      "00:01 - 22:00 =  2:01:00\n",
      "23:00 - 12:00 =  11:00:00\n",
      "12:00 - 22:00 =  14:00:00\n"
     ]
    }
   ],
   "source": [
    "t_01_00 = 1 * 3600\n",
    "t_22_00 = 22 * 3600\n",
    "t_23_00 = 23 * 3600\n",
    "t_00_01 = 0 + 60\n",
    "t_21_00 = 21 * 3600\n",
    "t_12_00 = 12 * 3600\n",
    "\n",
    "print('01:00 - 22:00 = ', timedelta(seconds=diff(t_01_00, t_22_00)))\n",
    "print('01:00 - 12:00 = ', timedelta(seconds=diff(t_01_00, t_12_00)))\n",
    "print('23:00 - 22:00 = ', timedelta(seconds=diff(t_23_00, t_22_00)))\n",
    "print('00:01 - 22:00 = ', timedelta(seconds=diff(t_00_01, t_22_00)))\n",
    "print('23:00 - 12:00 = ', timedelta(seconds=diff(t_23_00, t_12_00)))\n",
    "print('12:00 - 22:00 = ', timedelta(seconds=diff(t_12_00, t_22_00)))\n"
   ]
  },
  {
   "cell_type": "code",
   "execution_count": 34,
   "metadata": {},
   "outputs": [
    {
     "name": "stdout",
     "output_type": "stream",
     "text": [
      "19:59:00 - 20:00:00 =  23:59:00\n",
      "20:01:00 - 20:00:00 =  0:01:00\n",
      "20:02:00 - 20:00:00 =  0:02:00\n",
      "20:03:00 - 20:00:00 =  0:03:00\n"
     ]
    }
   ],
   "source": [
    "t_20_00 = to_seconds('20:00:00')\n",
    "t_20_01 = to_seconds('20:01:00')\n",
    "t_20_02 = to_seconds('20:02:00')\n",
    "t_19_59 = to_seconds('19:59:00')\n",
    "t_20_03 = to_seconds('20:03:00')\n",
    "\n",
    "print('19:59:00 - 20:00:00 = ', timedelta(seconds=diff(t_19_59, t_20_00)))\n",
    "print('20:01:00 - 20:00:00 = ', timedelta(seconds=diff(t_20_01, t_20_00)))\n",
    "print('20:02:00 - 20:00:00 = ', timedelta(seconds=diff(t_20_02, t_20_00)))\n",
    "print('20:03:00 - 20:00:00 = ', timedelta(seconds=diff(t_20_03, t_20_00)))"
   ]
  },
  {
   "cell_type": "code",
   "execution_count": 35,
   "metadata": {},
   "outputs": [
    {
     "data": {
      "text/html": [
       "<div>\n",
       "<style scoped>\n",
       "    .dataframe tbody tr th:only-of-type {\n",
       "        vertical-align: middle;\n",
       "    }\n",
       "\n",
       "    .dataframe tbody tr th {\n",
       "        vertical-align: top;\n",
       "    }\n",
       "\n",
       "    .dataframe thead th {\n",
       "        text-align: right;\n",
       "    }\n",
       "</style>\n",
       "<table border=\"1\" class=\"dataframe\">\n",
       "  <thead>\n",
       "    <tr style=\"text-align: right;\">\n",
       "      <th></th>\n",
       "      <th>line</th>\n",
       "      <th>departure_time</th>\n",
       "      <th>arrival_time</th>\n",
       "      <th>start_stop</th>\n",
       "      <th>end_stop</th>\n",
       "      <th>start_stop_lat</th>\n",
       "      <th>start_stop_lon</th>\n",
       "      <th>end_stop_lat</th>\n",
       "      <th>end_stop_lon</th>\n",
       "      <th>departure_sec</th>\n",
       "      <th>arrival_sec</th>\n",
       "    </tr>\n",
       "  </thead>\n",
       "  <tbody>\n",
       "    <tr>\n",
       "      <th>44</th>\n",
       "      <td>A</td>\n",
       "      <td>22:19:00</td>\n",
       "      <td>22:20:00</td>\n",
       "      <td>KRZYKI</td>\n",
       "      <td>Sowia</td>\n",
       "      <td>51.074884</td>\n",
       "      <td>17.006569</td>\n",
       "      <td>51.073793</td>\n",
       "      <td>17.001845</td>\n",
       "      <td>80340</td>\n",
       "      <td>80400</td>\n",
       "    </tr>\n",
       "    <tr>\n",
       "      <th>169</th>\n",
       "      <td>A</td>\n",
       "      <td>22:00:00</td>\n",
       "      <td>22:01:00</td>\n",
       "      <td>KRZYKI</td>\n",
       "      <td>Sowia</td>\n",
       "      <td>51.074884</td>\n",
       "      <td>17.006569</td>\n",
       "      <td>51.073793</td>\n",
       "      <td>17.001845</td>\n",
       "      <td>79200</td>\n",
       "      <td>79260</td>\n",
       "    </tr>\n",
       "    <tr>\n",
       "      <th>241</th>\n",
       "      <td>A</td>\n",
       "      <td>06:38:00</td>\n",
       "      <td>06:39:00</td>\n",
       "      <td>KRZYKI</td>\n",
       "      <td>Sowia</td>\n",
       "      <td>51.074884</td>\n",
       "      <td>17.006569</td>\n",
       "      <td>51.073793</td>\n",
       "      <td>17.001845</td>\n",
       "      <td>23880</td>\n",
       "      <td>23940</td>\n",
       "    </tr>\n",
       "    <tr>\n",
       "      <th>305</th>\n",
       "      <td>A</td>\n",
       "      <td>09:08:00</td>\n",
       "      <td>09:09:00</td>\n",
       "      <td>KRZYKI</td>\n",
       "      <td>Sowia</td>\n",
       "      <td>51.074884</td>\n",
       "      <td>17.006569</td>\n",
       "      <td>51.073793</td>\n",
       "      <td>17.001845</td>\n",
       "      <td>32880</td>\n",
       "      <td>32940</td>\n",
       "    </tr>\n",
       "    <tr>\n",
       "      <th>369</th>\n",
       "      <td>A</td>\n",
       "      <td>11:25:00</td>\n",
       "      <td>11:26:00</td>\n",
       "      <td>KRZYKI</td>\n",
       "      <td>Sowia</td>\n",
       "      <td>51.074884</td>\n",
       "      <td>17.006569</td>\n",
       "      <td>51.073793</td>\n",
       "      <td>17.001845</td>\n",
       "      <td>41100</td>\n",
       "      <td>41160</td>\n",
       "    </tr>\n",
       "  </tbody>\n",
       "</table>\n",
       "</div>"
      ],
      "text/plain": [
       "    line departure_time arrival_time start_stop end_stop  start_stop_lat  \\\n",
       "44     A       22:19:00     22:20:00     KRZYKI    Sowia       51.074884   \n",
       "169    A       22:00:00     22:01:00     KRZYKI    Sowia       51.074884   \n",
       "241    A       06:38:00     06:39:00     KRZYKI    Sowia       51.074884   \n",
       "305    A       09:08:00     09:09:00     KRZYKI    Sowia       51.074884   \n",
       "369    A       11:25:00     11:26:00     KRZYKI    Sowia       51.074884   \n",
       "\n",
       "     start_stop_lon  end_stop_lat  end_stop_lon  departure_sec  arrival_sec  \n",
       "44        17.006569     51.073793     17.001845          80340        80400  \n",
       "169       17.006569     51.073793     17.001845          79200        79260  \n",
       "241       17.006569     51.073793     17.001845          23880        23940  \n",
       "305       17.006569     51.073793     17.001845          32880        32940  \n",
       "369       17.006569     51.073793     17.001845          41100        41160  "
      ]
     },
     "execution_count": 35,
     "metadata": {},
     "output_type": "execute_result"
    }
   ],
   "source": [
    "krzyki_sowia_conn = connection_graph[(connection_graph['start_stop'] == 'KRZYKI') & (connection_graph['end_stop'] == 'Sowia')]\n",
    "krzyki_sowia_conn.head()"
   ]
  },
  {
   "cell_type": "markdown",
   "metadata": {},
   "source": [
    "Przykład: dostajemy prawidłowe, logiczne sortowanie wg. godzin odjazdu"
   ]
  },
  {
   "cell_type": "code",
   "execution_count": 36,
   "metadata": {},
   "outputs": [],
   "source": [
    "sorted_by_dep = krzyki_sowia_conn.sort_values(by='departure_sec')"
   ]
  },
  {
   "cell_type": "code",
   "execution_count": 37,
   "metadata": {},
   "outputs": [
    {
     "data": {
      "text/html": [
       "<div>\n",
       "<style scoped>\n",
       "    .dataframe tbody tr th:only-of-type {\n",
       "        vertical-align: middle;\n",
       "    }\n",
       "\n",
       "    .dataframe tbody tr th {\n",
       "        vertical-align: top;\n",
       "    }\n",
       "\n",
       "    .dataframe thead th {\n",
       "        text-align: right;\n",
       "    }\n",
       "</style>\n",
       "<table border=\"1\" class=\"dataframe\">\n",
       "  <thead>\n",
       "    <tr style=\"text-align: right;\">\n",
       "      <th></th>\n",
       "      <th>line</th>\n",
       "      <th>departure_time</th>\n",
       "      <th>arrival_time</th>\n",
       "      <th>start_stop</th>\n",
       "      <th>end_stop</th>\n",
       "      <th>start_stop_lat</th>\n",
       "      <th>start_stop_lon</th>\n",
       "      <th>end_stop_lat</th>\n",
       "      <th>end_stop_lon</th>\n",
       "      <th>departure_sec</th>\n",
       "      <th>arrival_sec</th>\n",
       "    </tr>\n",
       "  </thead>\n",
       "  <tbody>\n",
       "    <tr>\n",
       "      <th>911433</th>\n",
       "      <td>248</td>\n",
       "      <td>24:13:00</td>\n",
       "      <td>24:14:00</td>\n",
       "      <td>KRZYKI</td>\n",
       "      <td>Sowia</td>\n",
       "      <td>51.075272</td>\n",
       "      <td>17.006664</td>\n",
       "      <td>51.073793</td>\n",
       "      <td>17.001845</td>\n",
       "      <td>780</td>\n",
       "      <td>840</td>\n",
       "    </tr>\n",
       "    <tr>\n",
       "      <th>916404</th>\n",
       "      <td>251</td>\n",
       "      <td>24:23:00</td>\n",
       "      <td>24:24:00</td>\n",
       "      <td>KRZYKI</td>\n",
       "      <td>Sowia</td>\n",
       "      <td>51.074884</td>\n",
       "      <td>17.006569</td>\n",
       "      <td>51.073793</td>\n",
       "      <td>17.001845</td>\n",
       "      <td>1380</td>\n",
       "      <td>1440</td>\n",
       "    </tr>\n",
       "    <tr>\n",
       "      <th>911275</th>\n",
       "      <td>248</td>\n",
       "      <td>25:13:00</td>\n",
       "      <td>25:14:00</td>\n",
       "      <td>KRZYKI</td>\n",
       "      <td>Sowia</td>\n",
       "      <td>51.075272</td>\n",
       "      <td>17.006664</td>\n",
       "      <td>51.073793</td>\n",
       "      <td>17.001845</td>\n",
       "      <td>4380</td>\n",
       "      <td>4440</td>\n",
       "    </tr>\n",
       "    <tr>\n",
       "      <th>916115</th>\n",
       "      <td>251</td>\n",
       "      <td>25:23:00</td>\n",
       "      <td>25:24:00</td>\n",
       "      <td>KRZYKI</td>\n",
       "      <td>Sowia</td>\n",
       "      <td>51.074884</td>\n",
       "      <td>17.006569</td>\n",
       "      <td>51.073793</td>\n",
       "      <td>17.001845</td>\n",
       "      <td>4980</td>\n",
       "      <td>5040</td>\n",
       "    </tr>\n",
       "    <tr>\n",
       "      <th>911504</th>\n",
       "      <td>248</td>\n",
       "      <td>26:13:00</td>\n",
       "      <td>26:14:00</td>\n",
       "      <td>KRZYKI</td>\n",
       "      <td>Sowia</td>\n",
       "      <td>51.075272</td>\n",
       "      <td>17.006664</td>\n",
       "      <td>51.073793</td>\n",
       "      <td>17.001845</td>\n",
       "      <td>7980</td>\n",
       "      <td>8040</td>\n",
       "    </tr>\n",
       "    <tr>\n",
       "      <th>...</th>\n",
       "      <td>...</td>\n",
       "      <td>...</td>\n",
       "      <td>...</td>\n",
       "      <td>...</td>\n",
       "      <td>...</td>\n",
       "      <td>...</td>\n",
       "      <td>...</td>\n",
       "      <td>...</td>\n",
       "      <td>...</td>\n",
       "      <td>...</td>\n",
       "      <td>...</td>\n",
       "    </tr>\n",
       "    <tr>\n",
       "      <th>641864</th>\n",
       "      <td>126</td>\n",
       "      <td>22:18:00</td>\n",
       "      <td>22:19:00</td>\n",
       "      <td>KRZYKI</td>\n",
       "      <td>Sowia</td>\n",
       "      <td>51.075272</td>\n",
       "      <td>17.006664</td>\n",
       "      <td>51.073793</td>\n",
       "      <td>17.001845</td>\n",
       "      <td>80280</td>\n",
       "      <td>80340</td>\n",
       "    </tr>\n",
       "    <tr>\n",
       "      <th>44</th>\n",
       "      <td>A</td>\n",
       "      <td>22:19:00</td>\n",
       "      <td>22:20:00</td>\n",
       "      <td>KRZYKI</td>\n",
       "      <td>Sowia</td>\n",
       "      <td>51.074884</td>\n",
       "      <td>17.006569</td>\n",
       "      <td>51.073793</td>\n",
       "      <td>17.001845</td>\n",
       "      <td>80340</td>\n",
       "      <td>80400</td>\n",
       "    </tr>\n",
       "    <tr>\n",
       "      <th>2047</th>\n",
       "      <td>A</td>\n",
       "      <td>22:34:00</td>\n",
       "      <td>22:35:00</td>\n",
       "      <td>KRZYKI</td>\n",
       "      <td>Sowia</td>\n",
       "      <td>51.074884</td>\n",
       "      <td>17.006569</td>\n",
       "      <td>51.073793</td>\n",
       "      <td>17.001845</td>\n",
       "      <td>81240</td>\n",
       "      <td>81300</td>\n",
       "    </tr>\n",
       "    <tr>\n",
       "      <th>644431</th>\n",
       "      <td>126</td>\n",
       "      <td>22:46:00</td>\n",
       "      <td>22:47:00</td>\n",
       "      <td>KRZYKI</td>\n",
       "      <td>Sowia</td>\n",
       "      <td>51.075272</td>\n",
       "      <td>17.006664</td>\n",
       "      <td>51.073793</td>\n",
       "      <td>17.001845</td>\n",
       "      <td>81960</td>\n",
       "      <td>82020</td>\n",
       "    </tr>\n",
       "    <tr>\n",
       "      <th>916604</th>\n",
       "      <td>251</td>\n",
       "      <td>23:23:00</td>\n",
       "      <td>23:24:00</td>\n",
       "      <td>KRZYKI</td>\n",
       "      <td>Sowia</td>\n",
       "      <td>51.074884</td>\n",
       "      <td>17.006569</td>\n",
       "      <td>51.073793</td>\n",
       "      <td>17.001845</td>\n",
       "      <td>84180</td>\n",
       "      <td>84240</td>\n",
       "    </tr>\n",
       "  </tbody>\n",
       "</table>\n",
       "<p>192 rows × 11 columns</p>\n",
       "</div>"
      ],
      "text/plain": [
       "       line departure_time arrival_time start_stop end_stop  start_stop_lat  \\\n",
       "911433  248       24:13:00     24:14:00     KRZYKI    Sowia       51.075272   \n",
       "916404  251       24:23:00     24:24:00     KRZYKI    Sowia       51.074884   \n",
       "911275  248       25:13:00     25:14:00     KRZYKI    Sowia       51.075272   \n",
       "916115  251       25:23:00     25:24:00     KRZYKI    Sowia       51.074884   \n",
       "911504  248       26:13:00     26:14:00     KRZYKI    Sowia       51.075272   \n",
       "...     ...            ...          ...        ...      ...             ...   \n",
       "641864  126       22:18:00     22:19:00     KRZYKI    Sowia       51.075272   \n",
       "44        A       22:19:00     22:20:00     KRZYKI    Sowia       51.074884   \n",
       "2047      A       22:34:00     22:35:00     KRZYKI    Sowia       51.074884   \n",
       "644431  126       22:46:00     22:47:00     KRZYKI    Sowia       51.075272   \n",
       "916604  251       23:23:00     23:24:00     KRZYKI    Sowia       51.074884   \n",
       "\n",
       "        start_stop_lon  end_stop_lat  end_stop_lon  departure_sec  arrival_sec  \n",
       "911433       17.006664     51.073793     17.001845            780          840  \n",
       "916404       17.006569     51.073793     17.001845           1380         1440  \n",
       "911275       17.006664     51.073793     17.001845           4380         4440  \n",
       "916115       17.006569     51.073793     17.001845           4980         5040  \n",
       "911504       17.006664     51.073793     17.001845           7980         8040  \n",
       "...                ...           ...           ...            ...          ...  \n",
       "641864       17.006664     51.073793     17.001845          80280        80340  \n",
       "44           17.006569     51.073793     17.001845          80340        80400  \n",
       "2047         17.006569     51.073793     17.001845          81240        81300  \n",
       "644431       17.006664     51.073793     17.001845          81960        82020  \n",
       "916604       17.006569     51.073793     17.001845          84180        84240  \n",
       "\n",
       "[192 rows x 11 columns]"
      ]
     },
     "execution_count": 37,
     "metadata": {},
     "output_type": "execute_result"
    }
   ],
   "source": [
    "sorted_by_dep"
   ]
  },
  {
   "cell_type": "markdown",
   "metadata": {},
   "source": [
    "Warto zauważyć, co może jest oczywsite, że do danego przystanku możemy się dostać wieloma liniami. Będzie to miało znaczenie takie, że mając do wyboru wiele linii do następnego przystanku możemy wybrać tą, którą najszybciej się dostaniemy (tj. arrival_time będzie najmniejszy), ponieważ zawsze możemy się przesiąść - więc nawet jeśli wybierzemy linię, która nie prowadzi nas do celu bezpośrednio, to możemy się na dowolnym przystanku przesiąść w prawidłową linię. "
   ]
  },
  {
   "cell_type": "code",
   "execution_count": 38,
   "metadata": {},
   "outputs": [
    {
     "data": {
      "text/html": [
       "<div>\n",
       "<style scoped>\n",
       "    .dataframe tbody tr th:only-of-type {\n",
       "        vertical-align: middle;\n",
       "    }\n",
       "\n",
       "    .dataframe tbody tr th {\n",
       "        vertical-align: top;\n",
       "    }\n",
       "\n",
       "    .dataframe thead th {\n",
       "        text-align: right;\n",
       "    }\n",
       "</style>\n",
       "<table border=\"1\" class=\"dataframe\">\n",
       "  <thead>\n",
       "    <tr style=\"text-align: right;\">\n",
       "      <th></th>\n",
       "      <th>line</th>\n",
       "      <th>end_stop</th>\n",
       "    </tr>\n",
       "  </thead>\n",
       "  <tbody>\n",
       "    <tr>\n",
       "      <th>44</th>\n",
       "      <td>A</td>\n",
       "      <td>Sowia</td>\n",
       "    </tr>\n",
       "    <tr>\n",
       "      <th>14074</th>\n",
       "      <td>D</td>\n",
       "      <td>Zimowa</td>\n",
       "    </tr>\n",
       "    <tr>\n",
       "      <th>14153</th>\n",
       "      <td>D</td>\n",
       "      <td>Orla</td>\n",
       "    </tr>\n",
       "    <tr>\n",
       "      <th>64771</th>\n",
       "      <td>2</td>\n",
       "      <td>Orla</td>\n",
       "    </tr>\n",
       "    <tr>\n",
       "      <th>127704</th>\n",
       "      <td>6</td>\n",
       "      <td>Orla</td>\n",
       "    </tr>\n",
       "    <tr>\n",
       "      <th>139301</th>\n",
       "      <td>7</td>\n",
       "      <td>Radio i Telewizja</td>\n",
       "    </tr>\n",
       "    <tr>\n",
       "      <th>139311</th>\n",
       "      <td>7</td>\n",
       "      <td>Zajezdnia BOREK</td>\n",
       "    </tr>\n",
       "    <tr>\n",
       "      <th>139375</th>\n",
       "      <td>7</td>\n",
       "      <td>Orla</td>\n",
       "    </tr>\n",
       "    <tr>\n",
       "      <th>246676</th>\n",
       "      <td>14</td>\n",
       "      <td>Orla</td>\n",
       "    </tr>\n",
       "    <tr>\n",
       "      <th>283710</th>\n",
       "      <td>17</td>\n",
       "      <td>Radio i Telewizja</td>\n",
       "    </tr>\n",
       "    <tr>\n",
       "      <th>283720</th>\n",
       "      <td>17</td>\n",
       "      <td>Orla</td>\n",
       "    </tr>\n",
       "    <tr>\n",
       "      <th>284086</th>\n",
       "      <td>17</td>\n",
       "      <td>Zajezdnia BOREK</td>\n",
       "    </tr>\n",
       "    <tr>\n",
       "      <th>470958</th>\n",
       "      <td>107</td>\n",
       "      <td>Przyjaźni</td>\n",
       "    </tr>\n",
       "    <tr>\n",
       "      <th>522093</th>\n",
       "      <td>112</td>\n",
       "      <td>PARK POŁUDNIOWY</td>\n",
       "    </tr>\n",
       "    <tr>\n",
       "      <th>525546</th>\n",
       "      <td>113</td>\n",
       "      <td>Przyjaźni</td>\n",
       "    </tr>\n",
       "    <tr>\n",
       "      <th>641562</th>\n",
       "      <td>126</td>\n",
       "      <td>PARK POŁUDNIOWY</td>\n",
       "    </tr>\n",
       "    <tr>\n",
       "      <th>641568</th>\n",
       "      <td>126</td>\n",
       "      <td>Sowia</td>\n",
       "    </tr>\n",
       "    <tr>\n",
       "      <th>643227</th>\n",
       "      <td>126</td>\n",
       "      <td>Orla</td>\n",
       "    </tr>\n",
       "    <tr>\n",
       "      <th>644250</th>\n",
       "      <td>126</td>\n",
       "      <td>KRZYKI</td>\n",
       "    </tr>\n",
       "    <tr>\n",
       "      <th>656462</th>\n",
       "      <td>127</td>\n",
       "      <td>PARK POŁUDNIOWY</td>\n",
       "    </tr>\n",
       "    <tr>\n",
       "      <th>755137</th>\n",
       "      <td>134</td>\n",
       "      <td>KRZYKI</td>\n",
       "    </tr>\n",
       "    <tr>\n",
       "      <th>755138</th>\n",
       "      <td>134</td>\n",
       "      <td>Orla</td>\n",
       "    </tr>\n",
       "    <tr>\n",
       "      <th>772349</th>\n",
       "      <td>136</td>\n",
       "      <td>Orla</td>\n",
       "    </tr>\n",
       "    <tr>\n",
       "      <th>814746</th>\n",
       "      <td>144</td>\n",
       "      <td>PARK POŁUDNIOWY</td>\n",
       "    </tr>\n",
       "    <tr>\n",
       "      <th>909399</th>\n",
       "      <td>247</td>\n",
       "      <td>Orla</td>\n",
       "    </tr>\n",
       "    <tr>\n",
       "      <th>909465</th>\n",
       "      <td>247</td>\n",
       "      <td>Radio i Telewizja</td>\n",
       "    </tr>\n",
       "    <tr>\n",
       "      <th>909800</th>\n",
       "      <td>247</td>\n",
       "      <td>KRZYKI</td>\n",
       "    </tr>\n",
       "    <tr>\n",
       "      <th>911275</th>\n",
       "      <td>248</td>\n",
       "      <td>Sowia</td>\n",
       "    </tr>\n",
       "    <tr>\n",
       "      <th>911286</th>\n",
       "      <td>248</td>\n",
       "      <td>Orla</td>\n",
       "    </tr>\n",
       "    <tr>\n",
       "      <th>912668</th>\n",
       "      <td>249</td>\n",
       "      <td>PARK POŁUDNIOWY</td>\n",
       "    </tr>\n",
       "    <tr>\n",
       "      <th>913765</th>\n",
       "      <td>249</td>\n",
       "      <td>Orla</td>\n",
       "    </tr>\n",
       "    <tr>\n",
       "      <th>916018</th>\n",
       "      <td>251</td>\n",
       "      <td>Sowia</td>\n",
       "    </tr>\n",
       "    <tr>\n",
       "      <th>933439</th>\n",
       "      <td>602</td>\n",
       "      <td>Partynice (tor wyścigów konnych)</td>\n",
       "    </tr>\n",
       "    <tr>\n",
       "      <th>933452</th>\n",
       "      <td>602</td>\n",
       "      <td>Hallera</td>\n",
       "    </tr>\n",
       "    <tr>\n",
       "      <th>935024</th>\n",
       "      <td>612</td>\n",
       "      <td>PARK POŁUDNIOWY</td>\n",
       "    </tr>\n",
       "    <tr>\n",
       "      <th>965901</th>\n",
       "      <td>913</td>\n",
       "      <td>PARK POŁUDNIOWY</td>\n",
       "    </tr>\n",
       "    <tr>\n",
       "      <th>987736</th>\n",
       "      <td>933</td>\n",
       "      <td>Zimowa</td>\n",
       "    </tr>\n",
       "  </tbody>\n",
       "</table>\n",
       "</div>"
      ],
      "text/plain": [
       "       line                          end_stop\n",
       "44        A                             Sowia\n",
       "14074     D                            Zimowa\n",
       "14153     D                              Orla\n",
       "64771     2                              Orla\n",
       "127704    6                              Orla\n",
       "139301    7                 Radio i Telewizja\n",
       "139311    7                   Zajezdnia BOREK\n",
       "139375    7                              Orla\n",
       "246676   14                              Orla\n",
       "283710   17                 Radio i Telewizja\n",
       "283720   17                              Orla\n",
       "284086   17                   Zajezdnia BOREK\n",
       "470958  107                         Przyjaźni\n",
       "522093  112                   PARK POŁUDNIOWY\n",
       "525546  113                         Przyjaźni\n",
       "641562  126                   PARK POŁUDNIOWY\n",
       "641568  126                             Sowia\n",
       "643227  126                              Orla\n",
       "644250  126                            KRZYKI\n",
       "656462  127                   PARK POŁUDNIOWY\n",
       "755137  134                            KRZYKI\n",
       "755138  134                              Orla\n",
       "772349  136                              Orla\n",
       "814746  144                   PARK POŁUDNIOWY\n",
       "909399  247                              Orla\n",
       "909465  247                 Radio i Telewizja\n",
       "909800  247                            KRZYKI\n",
       "911275  248                             Sowia\n",
       "911286  248                              Orla\n",
       "912668  249                   PARK POŁUDNIOWY\n",
       "913765  249                              Orla\n",
       "916018  251                             Sowia\n",
       "933439  602  Partynice (tor wyścigów konnych)\n",
       "933452  602                           Hallera\n",
       "935024  612                   PARK POŁUDNIOWY\n",
       "965901  913                   PARK POŁUDNIOWY\n",
       "987736  933                            Zimowa"
      ]
     },
     "execution_count": 38,
     "metadata": {},
     "output_type": "execute_result"
    }
   ],
   "source": [
    "connection_graph[connection_graph['start_stop'] == 'KRZYKI'][['line', 'end_stop']].drop_duplicates()"
   ]
  },
  {
   "cell_type": "code",
   "execution_count": 39,
   "metadata": {},
   "outputs": [],
   "source": [
    "end_stops = connection_graph[(connection_graph['start_stop'] == 'KRZYKI')]['end_stop'].unique()"
   ]
  },
  {
   "cell_type": "code",
   "execution_count": 40,
   "metadata": {},
   "outputs": [],
   "source": [
    "from_sliczna_143 = connection_graph[(connection_graph['start_stop'] == 'Śliczna') & (connection_graph['end_stop'] == 'Uniwersytet Ekonomiczny') & (connection_graph['line'] == '143')]"
   ]
  },
  {
   "cell_type": "code",
   "execution_count": 41,
   "metadata": {},
   "outputs": [
    {
     "data": {
      "text/html": [
       "<div>\n",
       "<style scoped>\n",
       "    .dataframe tbody tr th:only-of-type {\n",
       "        vertical-align: middle;\n",
       "    }\n",
       "\n",
       "    .dataframe tbody tr th {\n",
       "        vertical-align: top;\n",
       "    }\n",
       "\n",
       "    .dataframe thead th {\n",
       "        text-align: right;\n",
       "    }\n",
       "</style>\n",
       "<table border=\"1\" class=\"dataframe\">\n",
       "  <thead>\n",
       "    <tr style=\"text-align: right;\">\n",
       "      <th></th>\n",
       "      <th>line</th>\n",
       "      <th>departure_time</th>\n",
       "      <th>arrival_time</th>\n",
       "      <th>start_stop</th>\n",
       "      <th>end_stop</th>\n",
       "      <th>start_stop_lat</th>\n",
       "      <th>start_stop_lon</th>\n",
       "      <th>end_stop_lat</th>\n",
       "      <th>end_stop_lon</th>\n",
       "      <th>departure_sec</th>\n",
       "      <th>arrival_sec</th>\n",
       "    </tr>\n",
       "  </thead>\n",
       "  <tbody>\n",
       "    <tr>\n",
       "      <th>802911</th>\n",
       "      <td>143</td>\n",
       "      <td>05:12:00</td>\n",
       "      <td>05:15:00</td>\n",
       "      <td>Śliczna</td>\n",
       "      <td>Uniwersytet Ekonomiczny</td>\n",
       "      <td>51.085705</td>\n",
       "      <td>17.035382</td>\n",
       "      <td>51.089768</td>\n",
       "      <td>17.026732</td>\n",
       "      <td>18720</td>\n",
       "      <td>18900</td>\n",
       "    </tr>\n",
       "    <tr>\n",
       "      <th>795984</th>\n",
       "      <td>143</td>\n",
       "      <td>05:13:00</td>\n",
       "      <td>05:16:00</td>\n",
       "      <td>Śliczna</td>\n",
       "      <td>Uniwersytet Ekonomiczny</td>\n",
       "      <td>51.085705</td>\n",
       "      <td>17.035382</td>\n",
       "      <td>51.089768</td>\n",
       "      <td>17.026732</td>\n",
       "      <td>18780</td>\n",
       "      <td>18960</td>\n",
       "    </tr>\n",
       "    <tr>\n",
       "      <th>805822</th>\n",
       "      <td>143</td>\n",
       "      <td>05:34:00</td>\n",
       "      <td>05:37:00</td>\n",
       "      <td>Śliczna</td>\n",
       "      <td>Uniwersytet Ekonomiczny</td>\n",
       "      <td>51.085705</td>\n",
       "      <td>17.035382</td>\n",
       "      <td>51.089768</td>\n",
       "      <td>17.026732</td>\n",
       "      <td>20040</td>\n",
       "      <td>20220</td>\n",
       "    </tr>\n",
       "    <tr>\n",
       "      <th>797068</th>\n",
       "      <td>143</td>\n",
       "      <td>05:43:00</td>\n",
       "      <td>05:46:00</td>\n",
       "      <td>Śliczna</td>\n",
       "      <td>Uniwersytet Ekonomiczny</td>\n",
       "      <td>51.085705</td>\n",
       "      <td>17.035382</td>\n",
       "      <td>51.089768</td>\n",
       "      <td>17.026732</td>\n",
       "      <td>20580</td>\n",
       "      <td>20760</td>\n",
       "    </tr>\n",
       "    <tr>\n",
       "      <th>802361</th>\n",
       "      <td>143</td>\n",
       "      <td>05:52:00</td>\n",
       "      <td>05:55:00</td>\n",
       "      <td>Śliczna</td>\n",
       "      <td>Uniwersytet Ekonomiczny</td>\n",
       "      <td>51.085705</td>\n",
       "      <td>17.035382</td>\n",
       "      <td>51.089768</td>\n",
       "      <td>17.026732</td>\n",
       "      <td>21120</td>\n",
       "      <td>21300</td>\n",
       "    </tr>\n",
       "    <tr>\n",
       "      <th>...</th>\n",
       "      <td>...</td>\n",
       "      <td>...</td>\n",
       "      <td>...</td>\n",
       "      <td>...</td>\n",
       "      <td>...</td>\n",
       "      <td>...</td>\n",
       "      <td>...</td>\n",
       "      <td>...</td>\n",
       "      <td>...</td>\n",
       "      <td>...</td>\n",
       "      <td>...</td>\n",
       "    </tr>\n",
       "    <tr>\n",
       "      <th>795308</th>\n",
       "      <td>143</td>\n",
       "      <td>21:05:00</td>\n",
       "      <td>21:08:00</td>\n",
       "      <td>Śliczna</td>\n",
       "      <td>Uniwersytet Ekonomiczny</td>\n",
       "      <td>51.085705</td>\n",
       "      <td>17.035382</td>\n",
       "      <td>51.089768</td>\n",
       "      <td>17.026732</td>\n",
       "      <td>75900</td>\n",
       "      <td>76080</td>\n",
       "    </tr>\n",
       "    <tr>\n",
       "      <th>795907</th>\n",
       "      <td>143</td>\n",
       "      <td>21:35:00</td>\n",
       "      <td>21:38:00</td>\n",
       "      <td>Śliczna</td>\n",
       "      <td>Uniwersytet Ekonomiczny</td>\n",
       "      <td>51.085705</td>\n",
       "      <td>17.035382</td>\n",
       "      <td>51.089768</td>\n",
       "      <td>17.026732</td>\n",
       "      <td>77700</td>\n",
       "      <td>77880</td>\n",
       "    </tr>\n",
       "    <tr>\n",
       "      <th>796912</th>\n",
       "      <td>143</td>\n",
       "      <td>22:05:00</td>\n",
       "      <td>22:08:00</td>\n",
       "      <td>Śliczna</td>\n",
       "      <td>Uniwersytet Ekonomiczny</td>\n",
       "      <td>51.085705</td>\n",
       "      <td>17.035382</td>\n",
       "      <td>51.089768</td>\n",
       "      <td>17.026732</td>\n",
       "      <td>79500</td>\n",
       "      <td>79680</td>\n",
       "    </tr>\n",
       "    <tr>\n",
       "      <th>798266</th>\n",
       "      <td>143</td>\n",
       "      <td>22:35:00</td>\n",
       "      <td>22:38:00</td>\n",
       "      <td>Śliczna</td>\n",
       "      <td>Uniwersytet Ekonomiczny</td>\n",
       "      <td>51.085705</td>\n",
       "      <td>17.035382</td>\n",
       "      <td>51.089768</td>\n",
       "      <td>17.026732</td>\n",
       "      <td>81300</td>\n",
       "      <td>81480</td>\n",
       "    </tr>\n",
       "    <tr>\n",
       "      <th>798154</th>\n",
       "      <td>143</td>\n",
       "      <td>23:09:00</td>\n",
       "      <td>23:12:00</td>\n",
       "      <td>Śliczna</td>\n",
       "      <td>Uniwersytet Ekonomiczny</td>\n",
       "      <td>51.085705</td>\n",
       "      <td>17.035382</td>\n",
       "      <td>51.089768</td>\n",
       "      <td>17.026732</td>\n",
       "      <td>83340</td>\n",
       "      <td>83520</td>\n",
       "    </tr>\n",
       "  </tbody>\n",
       "</table>\n",
       "<p>83 rows × 11 columns</p>\n",
       "</div>"
      ],
      "text/plain": [
       "       line departure_time arrival_time start_stop                 end_stop  \\\n",
       "802911  143       05:12:00     05:15:00    Śliczna  Uniwersytet Ekonomiczny   \n",
       "795984  143       05:13:00     05:16:00    Śliczna  Uniwersytet Ekonomiczny   \n",
       "805822  143       05:34:00     05:37:00    Śliczna  Uniwersytet Ekonomiczny   \n",
       "797068  143       05:43:00     05:46:00    Śliczna  Uniwersytet Ekonomiczny   \n",
       "802361  143       05:52:00     05:55:00    Śliczna  Uniwersytet Ekonomiczny   \n",
       "...     ...            ...          ...        ...                      ...   \n",
       "795308  143       21:05:00     21:08:00    Śliczna  Uniwersytet Ekonomiczny   \n",
       "795907  143       21:35:00     21:38:00    Śliczna  Uniwersytet Ekonomiczny   \n",
       "796912  143       22:05:00     22:08:00    Śliczna  Uniwersytet Ekonomiczny   \n",
       "798266  143       22:35:00     22:38:00    Śliczna  Uniwersytet Ekonomiczny   \n",
       "798154  143       23:09:00     23:12:00    Śliczna  Uniwersytet Ekonomiczny   \n",
       "\n",
       "        start_stop_lat  start_stop_lon  end_stop_lat  end_stop_lon  \\\n",
       "802911       51.085705       17.035382     51.089768     17.026732   \n",
       "795984       51.085705       17.035382     51.089768     17.026732   \n",
       "805822       51.085705       17.035382     51.089768     17.026732   \n",
       "797068       51.085705       17.035382     51.089768     17.026732   \n",
       "802361       51.085705       17.035382     51.089768     17.026732   \n",
       "...                ...             ...           ...           ...   \n",
       "795308       51.085705       17.035382     51.089768     17.026732   \n",
       "795907       51.085705       17.035382     51.089768     17.026732   \n",
       "796912       51.085705       17.035382     51.089768     17.026732   \n",
       "798266       51.085705       17.035382     51.089768     17.026732   \n",
       "798154       51.085705       17.035382     51.089768     17.026732   \n",
       "\n",
       "        departure_sec  arrival_sec  \n",
       "802911          18720        18900  \n",
       "795984          18780        18960  \n",
       "805822          20040        20220  \n",
       "797068          20580        20760  \n",
       "802361          21120        21300  \n",
       "...               ...          ...  \n",
       "795308          75900        76080  \n",
       "795907          77700        77880  \n",
       "796912          79500        79680  \n",
       "798266          81300        81480  \n",
       "798154          83340        83520  \n",
       "\n",
       "[83 rows x 11 columns]"
      ]
     },
     "execution_count": 41,
     "metadata": {},
     "output_type": "execute_result"
    }
   ],
   "source": [
    "from_sliczna_143.sort_values(by='departure_sec')"
   ]
  },
  {
   "cell_type": "code",
   "execution_count": 42,
   "metadata": {},
   "outputs": [
    {
     "data": {
      "text/plain": [
       "numpy.ndarray"
      ]
     },
     "execution_count": 42,
     "metadata": {},
     "output_type": "execute_result"
    }
   ],
   "source": [
    "type(end_stops)"
   ]
  },
  {
   "cell_type": "code",
   "execution_count": 43,
   "metadata": {},
   "outputs": [
    {
     "data": {
      "text/html": [
       "<div>\n",
       "<style scoped>\n",
       "    .dataframe tbody tr th:only-of-type {\n",
       "        vertical-align: middle;\n",
       "    }\n",
       "\n",
       "    .dataframe tbody tr th {\n",
       "        vertical-align: top;\n",
       "    }\n",
       "\n",
       "    .dataframe thead th {\n",
       "        text-align: right;\n",
       "    }\n",
       "</style>\n",
       "<table border=\"1\" class=\"dataframe\">\n",
       "  <thead>\n",
       "    <tr style=\"text-align: right;\">\n",
       "      <th></th>\n",
       "      <th>line</th>\n",
       "      <th>departure_time</th>\n",
       "      <th>arrival_time</th>\n",
       "      <th>start_stop</th>\n",
       "      <th>end_stop</th>\n",
       "      <th>start_stop_lat</th>\n",
       "      <th>start_stop_lon</th>\n",
       "      <th>end_stop_lat</th>\n",
       "      <th>end_stop_lon</th>\n",
       "      <th>departure_sec</th>\n",
       "      <th>arrival_sec</th>\n",
       "    </tr>\n",
       "  </thead>\n",
       "  <tbody>\n",
       "    <tr>\n",
       "      <th>0</th>\n",
       "      <td>A</td>\n",
       "      <td>20:52:00</td>\n",
       "      <td>20:53:00</td>\n",
       "      <td>Zajezdnia Obornicka</td>\n",
       "      <td>Paprotna</td>\n",
       "      <td>51.148737</td>\n",
       "      <td>17.021069</td>\n",
       "      <td>51.147752</td>\n",
       "      <td>17.020539</td>\n",
       "      <td>75120</td>\n",
       "      <td>75180</td>\n",
       "    </tr>\n",
       "    <tr>\n",
       "      <th>1</th>\n",
       "      <td>A</td>\n",
       "      <td>20:53:00</td>\n",
       "      <td>20:54:00</td>\n",
       "      <td>Paprotna</td>\n",
       "      <td>Obornicka (Wołowska)</td>\n",
       "      <td>51.147752</td>\n",
       "      <td>17.020539</td>\n",
       "      <td>51.144385</td>\n",
       "      <td>17.023735</td>\n",
       "      <td>75180</td>\n",
       "      <td>75240</td>\n",
       "    </tr>\n",
       "    <tr>\n",
       "      <th>2</th>\n",
       "      <td>A</td>\n",
       "      <td>20:54:00</td>\n",
       "      <td>20:55:00</td>\n",
       "      <td>Obornicka (Wołowska)</td>\n",
       "      <td>Bezpieczna</td>\n",
       "      <td>51.144385</td>\n",
       "      <td>17.023735</td>\n",
       "      <td>51.141360</td>\n",
       "      <td>17.026376</td>\n",
       "      <td>75240</td>\n",
       "      <td>75300</td>\n",
       "    </tr>\n",
       "    <tr>\n",
       "      <th>3</th>\n",
       "      <td>A</td>\n",
       "      <td>20:55:00</td>\n",
       "      <td>20:57:00</td>\n",
       "      <td>Bezpieczna</td>\n",
       "      <td>Bałtycka</td>\n",
       "      <td>51.141360</td>\n",
       "      <td>17.026376</td>\n",
       "      <td>51.136632</td>\n",
       "      <td>17.030617</td>\n",
       "      <td>75300</td>\n",
       "      <td>75420</td>\n",
       "    </tr>\n",
       "    <tr>\n",
       "      <th>4</th>\n",
       "      <td>A</td>\n",
       "      <td>20:57:00</td>\n",
       "      <td>20:59:00</td>\n",
       "      <td>Bałtycka</td>\n",
       "      <td>Broniewskiego</td>\n",
       "      <td>51.136632</td>\n",
       "      <td>17.030617</td>\n",
       "      <td>51.135851</td>\n",
       "      <td>17.037383</td>\n",
       "      <td>75420</td>\n",
       "      <td>75540</td>\n",
       "    </tr>\n",
       "    <tr>\n",
       "      <th>...</th>\n",
       "      <td>...</td>\n",
       "      <td>...</td>\n",
       "      <td>...</td>\n",
       "      <td>...</td>\n",
       "      <td>...</td>\n",
       "      <td>...</td>\n",
       "      <td>...</td>\n",
       "      <td>...</td>\n",
       "      <td>...</td>\n",
       "      <td>...</td>\n",
       "      <td>...</td>\n",
       "    </tr>\n",
       "    <tr>\n",
       "      <th>996209</th>\n",
       "      <td>967</td>\n",
       "      <td>18:38:00</td>\n",
       "      <td>18:39:00</td>\n",
       "      <td>Smolec - Lipowa/pętla</td>\n",
       "      <td>Smolec - Dębowa (sklep)</td>\n",
       "      <td>51.075005</td>\n",
       "      <td>16.884421</td>\n",
       "      <td>51.076932</td>\n",
       "      <td>16.881543</td>\n",
       "      <td>67080</td>\n",
       "      <td>67140</td>\n",
       "    </tr>\n",
       "    <tr>\n",
       "      <th>996210</th>\n",
       "      <td>967</td>\n",
       "      <td>18:39:00</td>\n",
       "      <td>18:41:00</td>\n",
       "      <td>Smolec - Dębowa (sklep)</td>\n",
       "      <td>Krzeptów - skrzy.</td>\n",
       "      <td>51.076932</td>\n",
       "      <td>16.881543</td>\n",
       "      <td>51.088752</td>\n",
       "      <td>16.875808</td>\n",
       "      <td>67140</td>\n",
       "      <td>67260</td>\n",
       "    </tr>\n",
       "    <tr>\n",
       "      <th>996211</th>\n",
       "      <td>967</td>\n",
       "      <td>18:41:00</td>\n",
       "      <td>18:42:00</td>\n",
       "      <td>Krzeptów - skrzy.</td>\n",
       "      <td>Krzeptów - Boisko</td>\n",
       "      <td>51.088752</td>\n",
       "      <td>16.875808</td>\n",
       "      <td>51.090678</td>\n",
       "      <td>16.885584</td>\n",
       "      <td>67260</td>\n",
       "      <td>67320</td>\n",
       "    </tr>\n",
       "    <tr>\n",
       "      <th>996212</th>\n",
       "      <td>967</td>\n",
       "      <td>18:42:00</td>\n",
       "      <td>18:43:00</td>\n",
       "      <td>Krzeptów - Boisko</td>\n",
       "      <td>Krzeptów - Dolina Krzeptowa</td>\n",
       "      <td>51.090678</td>\n",
       "      <td>16.885584</td>\n",
       "      <td>51.092268</td>\n",
       "      <td>16.892523</td>\n",
       "      <td>67320</td>\n",
       "      <td>67380</td>\n",
       "    </tr>\n",
       "    <tr>\n",
       "      <th>996213</th>\n",
       "      <td>967</td>\n",
       "      <td>18:43:00</td>\n",
       "      <td>18:45:00</td>\n",
       "      <td>Krzeptów - Dolina Krzeptowa</td>\n",
       "      <td>Smolec - Wiśniowa</td>\n",
       "      <td>51.092268</td>\n",
       "      <td>16.892523</td>\n",
       "      <td>51.087869</td>\n",
       "      <td>16.909206</td>\n",
       "      <td>67380</td>\n",
       "      <td>67500</td>\n",
       "    </tr>\n",
       "  </tbody>\n",
       "</table>\n",
       "<p>456019 rows × 11 columns</p>\n",
       "</div>"
      ],
      "text/plain": [
       "       line departure_time arrival_time                   start_stop  \\\n",
       "0         A       20:52:00     20:53:00          Zajezdnia Obornicka   \n",
       "1         A       20:53:00     20:54:00                     Paprotna   \n",
       "2         A       20:54:00     20:55:00         Obornicka (Wołowska)   \n",
       "3         A       20:55:00     20:57:00                   Bezpieczna   \n",
       "4         A       20:57:00     20:59:00                     Bałtycka   \n",
       "...     ...            ...          ...                          ...   \n",
       "996209  967       18:38:00     18:39:00        Smolec - Lipowa/pętla   \n",
       "996210  967       18:39:00     18:41:00      Smolec - Dębowa (sklep)   \n",
       "996211  967       18:41:00     18:42:00            Krzeptów - skrzy.   \n",
       "996212  967       18:42:00     18:43:00            Krzeptów - Boisko   \n",
       "996213  967       18:43:00     18:45:00  Krzeptów - Dolina Krzeptowa   \n",
       "\n",
       "                           end_stop  start_stop_lat  start_stop_lon  \\\n",
       "0                          Paprotna       51.148737       17.021069   \n",
       "1              Obornicka (Wołowska)       51.147752       17.020539   \n",
       "2                        Bezpieczna       51.144385       17.023735   \n",
       "3                          Bałtycka       51.141360       17.026376   \n",
       "4                     Broniewskiego       51.136632       17.030617   \n",
       "...                             ...             ...             ...   \n",
       "996209      Smolec - Dębowa (sklep)       51.075005       16.884421   \n",
       "996210            Krzeptów - skrzy.       51.076932       16.881543   \n",
       "996211            Krzeptów - Boisko       51.088752       16.875808   \n",
       "996212  Krzeptów - Dolina Krzeptowa       51.090678       16.885584   \n",
       "996213            Smolec - Wiśniowa       51.092268       16.892523   \n",
       "\n",
       "        end_stop_lat  end_stop_lon  departure_sec  arrival_sec  \n",
       "0          51.147752     17.020539          75120        75180  \n",
       "1          51.144385     17.023735          75180        75240  \n",
       "2          51.141360     17.026376          75240        75300  \n",
       "3          51.136632     17.030617          75300        75420  \n",
       "4          51.135851     17.037383          75420        75540  \n",
       "...              ...           ...            ...          ...  \n",
       "996209     51.076932     16.881543          67080        67140  \n",
       "996210     51.088752     16.875808          67140        67260  \n",
       "996211     51.090678     16.885584          67260        67320  \n",
       "996212     51.092268     16.892523          67320        67380  \n",
       "996213     51.087869     16.909206          67380        67500  \n",
       "\n",
       "[456019 rows x 11 columns]"
      ]
     },
     "execution_count": 43,
     "metadata": {},
     "output_type": "execute_result"
    }
   ],
   "source": [
    "connection_graph"
   ]
  },
  {
   "cell_type": "code",
   "execution_count": 352,
   "metadata": {},
   "outputs": [],
   "source": [
    "class Graph:\n",
    "\n",
    "    def __init__(self, conn_graph, add_change_time):\n",
    "        self.conn_graph = conn_graph\n",
    "        self.change_time_compute = add_change_time\n",
    "        self.stops = None\n",
    "        self.transform()\n",
    "\n",
    "    def transform(self):\n",
    "        '''Applies time transformation functions to departure and arrival times - the results are available in new columns'''\n",
    "        self.conn_graph = self.conn_graph.drop_duplicates()\n",
    "        self.conn_graph.loc[:, 'line'] = self.conn_graph.loc[:, 'line'].astype(str)\n",
    "        self.conn_graph.loc[:, 'departure_sec'] = self.conn_graph['departure_time'].apply(time_to_normalized_sec)\n",
    "        self.conn_graph.loc[:, 'arrival_sec'] = self.conn_graph['arrival_time'].apply(time_to_normalized_sec)\n",
    "\n",
    "    def get_start_idx(self):\n",
    "        return -1\n",
    "\n",
    "    def add_conn(self, dep_time: int, conn: pd.Series, index: int):\n",
    "         self.conn_graph.loc[index] = pd.Series({'start_stop': conn['stop'], 'end_stop': conn['stop'], 'departure_sec': dep_time, 'arrival_sec': dep_time,\n",
    "                                                               'start_stop_lat': conn['stop_lat'], 'start_stop_lon': conn['stop_lon'],\n",
    "                                                               'end_stop_lat': conn['stop_lat'], 'end_stop_lon': conn['stop_lon']})\n",
    "\n",
    "    def get_possible_stops(self, stop: str):\n",
    "        return self.rename_stop(self.conn_graph[self.conn_graph['end_stop'] == stop].loc[:, ['end_stop', 'end_stop_lat', 'end_stop_lon']]).drop_duplicates()\n",
    "\n",
    "    # We could take as the initial stop the closest stop to the goal stop\n",
    "    def compute_stop_coords(self, stop: str):\n",
    "        stops = self.get_possible_stops(stop)\n",
    "        return stops.iloc[0][['stop_lat', 'stop_lon']]\n",
    "    \n",
    "    def get_end_stop(self, stop: str):\n",
    "        coords = self.compute_stop_coords(stop)\n",
    "        return pd.Series({'end_stop': stop, 'end_stop_lat': coords['end_stop_lat'], 'end_stop_lon': coords['end_stop_lon']})\n",
    "\n",
    "    def get_nodes(self):\n",
    "        '''should we also add end_stop?'''\n",
    "        return self.conn_graph.loc[:, ['start_stop', 'start_stop_lat', 'start_stop_lon']].drop_duplicates()\n",
    "    \n",
    "    def get_lines(self, start_stop, end_stop):\n",
    "        '''Returns lines connecting two stops'''\n",
    "        return self.conn_graph[(self.conn_graph['start_stop'] == start_stop) \n",
    "                               & (self.conn_graph['end_stop'] == end_stop)]['line'].unique()\n",
    "    \n",
    "    def get_stop_names(self):\n",
    "        '''? this may not make sense because sometimes the routes are different'''\n",
    "        return self.conn_graph['start_stop'].unique()\n",
    "    \n",
    "    def stop_as_tuple(self, stop):\n",
    "        return (stop['stop'], stop['stop_lat'], stop['stop_lon'])\n",
    "    \n",
    "    def is_start_equal_to(self, stop: pd.Series) -> pd.Series:\n",
    "        return (self.conn_graph['start_stop'] == stop['stop']) & (self.conn_graph['start_stop_lat'] == stop['stop_lat']) & (self.conn_graph['start_stop_lon'] == stop['stop_lon'])\n",
    "\n",
    "    def is_end_equal_to(self, stop: pd.Series) -> pd.Series:\n",
    "        return (self.conn_graph['end_stop'] == stop['stop']) & (self.conn_graph['end_stop_lat'] == stop['stop_lat']) & (self.conn_graph['end_stop_lon'] == stop['stop_lon'])\n",
    "\n",
    "    def rename_stop(self, stop):\n",
    "        if isinstance(stop, pd.DataFrame):\n",
    "            return stop.rename({'end_stop_lat': 'stop_lat', \n",
    "                                        'end_stop_lon': 'stop_lon', 'end_stop': 'stop'}, axis=1)\n",
    "        else: \n",
    "            return stop.rename({'end_stop_lat': 'stop_lat', \n",
    "                                        'end_stop_lon': 'stop_lon', 'end_stop': 'stop'})\n",
    "\n",
    "    def get_neighbour_stops(self, prev_conn: pd.Series) -> pd.Series:\n",
    "        '''Returns neighbouring end stops'''\n",
    "        # return self.conn_graph[self.conn_graph['start_stop'] == start_stop][['line', 'end_stop']].drop_duplicates()\n",
    "        return self.rename_stop(self.conn_graph[self.is_start_equal_to(prev_conn)][['end_stop', 'end_stop_lat', 'end_stop_lon']]).drop_duplicates()\n",
    "\n",
    "    \n",
    "\n",
    "    def get_conn_valid_time_arrivals(self, dep_time: int, prev_stop: pd.Series, next_stop: pd.Series) -> pd.Series:\n",
    "        conn = self.conn_graph[self.is_start_equal_to(prev_stop) \n",
    "                               & self.is_end_equal_to(next_stop)]\n",
    " \n",
    "        time_arrv_diff = diff(conn['arrival_sec'], dep_time)\n",
    "        time_dep_diff = diff(conn['departure_sec'], self.change_time_compute(dep_time, conn, prev_stop))\n",
    "        \n",
    "        differences = (time_arrv_diff - time_dep_diff) >= 0\n",
    "        valid_time_arrv_diff = time_arrv_diff[differences]\n",
    "\n",
    "        return conn, valid_time_arrv_diff\n",
    "\n",
    "    def get_sorted_conns(self, dep_time: int, start_stop: pd.Series, end_stop: pd.Series):\n",
    "        '''get all connections sorted by time arrival'''\n",
    "        conn, valid_time_arrv_diff = self.get_conn_valid_time_arrivals(dep_time, start_stop, end_stop)\n",
    "\n",
    "        return conn.loc[valid_time_arrv_diff.sort_values().index]\n",
    "\n",
    "    def get_earliest_conn(self, dep_time: int, start_stop: pd.Series, end_stop: pd.Series) -> pd.Series:\n",
    "        '''Returns the earliest connection between two stops'''\n",
    "        conn, valid_time_arrv_diff = self.get_conn_valid_time_arrivals(dep_time, start_stop, end_stop)\n",
    "\n",
    "        return conn.loc[valid_time_arrv_diff.idxmin()] if len(valid_time_arrv_diff) > 0 else pd.Series()\n",
    "    \n",
    "    def get_earliest_from(self, dep_time: int, start_stop: pd.Series):\n",
    "        '''Returns all earliest connections to all neighbouring stops'''\n",
    "        start_stop = self.rename_stop(start_stop)\n",
    "        possible_conns = [self.get_earliest_conn(dep_time, start_stop, end_stop) for \n",
    "                (i, end_stop) in self.get_neighbour_stops(start_stop).iterrows()]\n",
    "        return [conn for conn in possible_conns if len(conn) > 0]\n",
    "\n",
    "    def cost_getting_to(self, dep_time: int, next_idx: int, curr_idx: int = None) -> int:\n",
    "        cost = diff(self.conn_graph.loc[next_idx, 'arrival_sec'], dep_time)\n",
    "        return cost\n",
    "    \n",
    "    def conn_at_index(self, index: int) -> pd.Series:\n",
    "        return self.conn_graph.loc[index] "
   ]
  },
  {
   "cell_type": "code",
   "execution_count": 337,
   "metadata": {},
   "outputs": [],
   "source": [
    "def add_constant_change_time(dept_time, conns, stop):\n",
    "    line_cont = conns['line'] != stop['line']\n",
    "    dept_times = pd.Series(data=dept_time, index=conns.index)\n",
    "    dept_times.loc[line_cont] = (dept_times.loc[line_cont] + 60) % (24 * 3600)\n",
    "    return dept_times"
   ]
  },
  {
   "cell_type": "code",
   "execution_count": 338,
   "metadata": {},
   "outputs": [
    {
     "data": {
      "text/plain": [
       "65256    11\n",
       "65257    11\n",
       "65258    11\n",
       "dtype: int64"
      ]
     },
     "execution_count": 338,
     "metadata": {},
     "output_type": "execute_result"
    }
   ],
   "source": [
    "pd.Series(data=11, index=connection_graph.loc[65256:65258].index)"
   ]
  },
  {
   "cell_type": "code",
   "execution_count": 339,
   "metadata": {},
   "outputs": [
    {
     "data": {
      "text/html": [
       "<div>\n",
       "<style scoped>\n",
       "    .dataframe tbody tr th:only-of-type {\n",
       "        vertical-align: middle;\n",
       "    }\n",
       "\n",
       "    .dataframe tbody tr th {\n",
       "        vertical-align: top;\n",
       "    }\n",
       "\n",
       "    .dataframe thead th {\n",
       "        text-align: right;\n",
       "    }\n",
       "</style>\n",
       "<table border=\"1\" class=\"dataframe\">\n",
       "  <thead>\n",
       "    <tr style=\"text-align: right;\">\n",
       "      <th></th>\n",
       "      <th>line</th>\n",
       "      <th>departure_time</th>\n",
       "      <th>arrival_time</th>\n",
       "      <th>start_stop</th>\n",
       "      <th>end_stop</th>\n",
       "      <th>start_stop_lat</th>\n",
       "      <th>start_stop_lon</th>\n",
       "      <th>end_stop_lat</th>\n",
       "      <th>end_stop_lon</th>\n",
       "      <th>departure_sec</th>\n",
       "      <th>arrival_sec</th>\n",
       "    </tr>\n",
       "  </thead>\n",
       "  <tbody>\n",
       "    <tr>\n",
       "      <th>65256</th>\n",
       "      <td>2</td>\n",
       "      <td>23:59:00</td>\n",
       "      <td>24:00:00</td>\n",
       "      <td>Na Szańcach</td>\n",
       "      <td>Jedności Narodowej</td>\n",
       "      <td>51.118902</td>\n",
       "      <td>17.042041</td>\n",
       "      <td>51.121020</td>\n",
       "      <td>17.043260</td>\n",
       "      <td>86340</td>\n",
       "      <td>0</td>\n",
       "    </tr>\n",
       "    <tr>\n",
       "      <th>65257</th>\n",
       "      <td>2</td>\n",
       "      <td>24:00:00</td>\n",
       "      <td>24:02:00</td>\n",
       "      <td>Jedności Narodowej</td>\n",
       "      <td>Słowiańska</td>\n",
       "      <td>51.121020</td>\n",
       "      <td>17.043260</td>\n",
       "      <td>51.124070</td>\n",
       "      <td>17.042823</td>\n",
       "      <td>0</td>\n",
       "      <td>120</td>\n",
       "    </tr>\n",
       "    <tr>\n",
       "      <th>65258</th>\n",
       "      <td>2</td>\n",
       "      <td>24:02:00</td>\n",
       "      <td>24:03:00</td>\n",
       "      <td>Słowiańska</td>\n",
       "      <td>Zajezdnia OŁBIN</td>\n",
       "      <td>51.124070</td>\n",
       "      <td>17.042823</td>\n",
       "      <td>51.123839</td>\n",
       "      <td>17.041044</td>\n",
       "      <td>120</td>\n",
       "      <td>180</td>\n",
       "    </tr>\n",
       "  </tbody>\n",
       "</table>\n",
       "</div>"
      ],
      "text/plain": [
       "      line departure_time arrival_time          start_stop  \\\n",
       "65256    2       23:59:00     24:00:00         Na Szańcach   \n",
       "65257    2       24:00:00     24:02:00  Jedności Narodowej   \n",
       "65258    2       24:02:00     24:03:00          Słowiańska   \n",
       "\n",
       "                 end_stop  start_stop_lat  start_stop_lon  end_stop_lat  \\\n",
       "65256  Jedności Narodowej       51.118902       17.042041     51.121020   \n",
       "65257          Słowiańska       51.121020       17.043260     51.124070   \n",
       "65258     Zajezdnia OŁBIN       51.124070       17.042823     51.123839   \n",
       "\n",
       "       end_stop_lon  departure_sec  arrival_sec  \n",
       "65256     17.043260          86340            0  \n",
       "65257     17.042823              0          120  \n",
       "65258     17.041044            120          180  "
      ]
     },
     "execution_count": 339,
     "metadata": {},
     "output_type": "execute_result"
    }
   ],
   "source": [
    "connection_graph.loc[65256:65258]"
   ]
  },
  {
   "cell_type": "code",
   "execution_count": 340,
   "metadata": {},
   "outputs": [
    {
     "data": {
      "text/plain": [
       "line                                 A\n",
       "departure_time                20:53:00\n",
       "arrival_time                  20:54:00\n",
       "start_stop                    Paprotna\n",
       "end_stop          Obornicka (Wołowska)\n",
       "start_stop_lat               51.147752\n",
       "start_stop_lon               17.020539\n",
       "end_stop_lat                 51.144385\n",
       "end_stop_lon                 17.023735\n",
       "departure_sec                    75180\n",
       "arrival_sec                      75240\n",
       "Name: 1, dtype: object"
      ]
     },
     "execution_count": 340,
     "metadata": {},
     "output_type": "execute_result"
    }
   ],
   "source": [
    "connection_graph.loc[1]"
   ]
  },
  {
   "cell_type": "code",
   "execution_count": 343,
   "metadata": {},
   "outputs": [
    {
     "data": {
      "text/plain": [
       "65256    60\n",
       "65257    60\n",
       "65258    60\n",
       "dtype: int64"
      ]
     },
     "execution_count": 343,
     "metadata": {},
     "output_type": "execute_result"
    }
   ],
   "source": [
    "add_constant_change_time(time_to_normalized_sec('00:00:00'), \n",
    "                          connection_graph.loc[65256:65258], connection_graph.loc[1])"
   ]
  },
  {
   "cell_type": "code",
   "execution_count": 344,
   "metadata": {},
   "outputs": [],
   "source": [
    "g = Graph(connection_graph, add_constant_change_time)"
   ]
  },
  {
   "cell_type": "code",
   "execution_count": 351,
   "metadata": {},
   "outputs": [
    {
     "data": {
      "text/plain": [
       "[line                               105\n",
       " departure_time                21:09:00\n",
       " arrival_time                  21:10:00\n",
       " start_stop        Obornicka (Wołowska)\n",
       " end_stop                    Bezpieczna\n",
       " start_stop_lat               51.144385\n",
       " start_stop_lon               17.023735\n",
       " end_stop_lat                  51.14136\n",
       " end_stop_lon                 17.026376\n",
       " departure_sec                    76140\n",
       " arrival_sec                      76200\n",
       " Name: 449400, dtype: object,\n",
       " line                               602\n",
       " departure_time                21:16:00\n",
       " arrival_time                  21:17:00\n",
       " start_stop        Obornicka (Wołowska)\n",
       " end_stop                    Bezpieczna\n",
       " start_stop_lat               51.144385\n",
       " start_stop_lon               17.023735\n",
       " end_stop_lat                 51.141239\n",
       " end_stop_lon                 17.025075\n",
       " departure_sec                    76560\n",
       " arrival_sec                      76620\n",
       " Name: 934109, dtype: object]"
      ]
     },
     "execution_count": 351,
     "metadata": {},
     "output_type": "execute_result"
    }
   ],
   "source": [
    "g.get_earliest_from(time_to_normalized_sec('20:56:00'), g.conn_at_index(1))"
   ]
  },
  {
   "cell_type": "code",
   "execution_count": 139,
   "metadata": {},
   "outputs": [],
   "source": [
    "pl_grunw_stop = g.rename_stop(g.conn_at_index(71821))"
   ]
  },
  {
   "cell_type": "code",
   "execution_count": 187,
   "metadata": {},
   "outputs": [],
   "source": [
    "pl_grunw_stops = g.get_possible_stops('PL. GRUNWALDZKI')"
   ]
  },
  {
   "cell_type": "code",
   "execution_count": 188,
   "metadata": {},
   "outputs": [
    {
     "data": {
      "text/html": [
       "<div>\n",
       "<style scoped>\n",
       "    .dataframe tbody tr th:only-of-type {\n",
       "        vertical-align: middle;\n",
       "    }\n",
       "\n",
       "    .dataframe tbody tr th {\n",
       "        vertical-align: top;\n",
       "    }\n",
       "\n",
       "    .dataframe thead th {\n",
       "        text-align: right;\n",
       "    }\n",
       "</style>\n",
       "<table border=\"1\" class=\"dataframe\">\n",
       "  <thead>\n",
       "    <tr style=\"text-align: right;\">\n",
       "      <th></th>\n",
       "      <th>stop</th>\n",
       "      <th>stop_lat</th>\n",
       "      <th>stop_lon</th>\n",
       "    </tr>\n",
       "  </thead>\n",
       "  <tbody>\n",
       "    <tr>\n",
       "      <th>14026</th>\n",
       "      <td>PL. GRUNWALDZKI</td>\n",
       "      <td>51.111621</td>\n",
       "      <td>17.060086</td>\n",
       "    </tr>\n",
       "    <tr>\n",
       "      <th>14160</th>\n",
       "      <td>PL. GRUNWALDZKI</td>\n",
       "      <td>51.111700</td>\n",
       "      <td>17.060432</td>\n",
       "    </tr>\n",
       "    <tr>\n",
       "      <th>53998</th>\n",
       "      <td>PL. GRUNWALDZKI</td>\n",
       "      <td>51.111141</td>\n",
       "      <td>17.061193</td>\n",
       "    </tr>\n",
       "    <tr>\n",
       "      <th>54014</th>\n",
       "      <td>PL. GRUNWALDZKI</td>\n",
       "      <td>51.111157</td>\n",
       "      <td>17.061465</td>\n",
       "    </tr>\n",
       "    <tr>\n",
       "      <th>64755</th>\n",
       "      <td>PL. GRUNWALDZKI</td>\n",
       "      <td>51.111623</td>\n",
       "      <td>17.059965</td>\n",
       "    </tr>\n",
       "    <tr>\n",
       "      <th>64785</th>\n",
       "      <td>PL. GRUNWALDZKI</td>\n",
       "      <td>51.111452</td>\n",
       "      <td>17.060529</td>\n",
       "    </tr>\n",
       "    <tr>\n",
       "      <th>97769</th>\n",
       "      <td>PL. GRUNWALDZKI</td>\n",
       "      <td>51.111444</td>\n",
       "      <td>17.059960</td>\n",
       "    </tr>\n",
       "    <tr>\n",
       "      <th>217286</th>\n",
       "      <td>PL. GRUNWALDZKI</td>\n",
       "      <td>51.111611</td>\n",
       "      <td>17.060434</td>\n",
       "    </tr>\n",
       "    <tr>\n",
       "      <th>507196</th>\n",
       "      <td>PL. GRUNWALDZKI</td>\n",
       "      <td>51.112459</td>\n",
       "      <td>17.060828</td>\n",
       "    </tr>\n",
       "    <tr>\n",
       "      <th>548037</th>\n",
       "      <td>PL. GRUNWALDZKI</td>\n",
       "      <td>51.111438</td>\n",
       "      <td>17.060353</td>\n",
       "    </tr>\n",
       "    <tr>\n",
       "      <th>555983</th>\n",
       "      <td>PL. GRUNWALDZKI</td>\n",
       "      <td>51.111981</td>\n",
       "      <td>17.064034</td>\n",
       "    </tr>\n",
       "    <tr>\n",
       "      <th>555984</th>\n",
       "      <td>PL. GRUNWALDZKI</td>\n",
       "      <td>51.112057</td>\n",
       "      <td>17.062886</td>\n",
       "    </tr>\n",
       "    <tr>\n",
       "      <th>832620</th>\n",
       "      <td>PL. GRUNWALDZKI</td>\n",
       "      <td>51.111406</td>\n",
       "      <td>17.059852</td>\n",
       "    </tr>\n",
       "    <tr>\n",
       "      <th>868722</th>\n",
       "      <td>PL. GRUNWALDZKI</td>\n",
       "      <td>51.112189</td>\n",
       "      <td>17.063358</td>\n",
       "    </tr>\n",
       "    <tr>\n",
       "      <th>918817</th>\n",
       "      <td>PL. GRUNWALDZKI</td>\n",
       "      <td>51.111957</td>\n",
       "      <td>17.062550</td>\n",
       "    </tr>\n",
       "    <tr>\n",
       "      <th>960014</th>\n",
       "      <td>PL. GRUNWALDZKI</td>\n",
       "      <td>51.112714</td>\n",
       "      <td>17.065049</td>\n",
       "    </tr>\n",
       "  </tbody>\n",
       "</table>\n",
       "</div>"
      ],
      "text/plain": [
       "                   stop   stop_lat   stop_lon\n",
       "14026   PL. GRUNWALDZKI  51.111621  17.060086\n",
       "14160   PL. GRUNWALDZKI  51.111700  17.060432\n",
       "53998   PL. GRUNWALDZKI  51.111141  17.061193\n",
       "54014   PL. GRUNWALDZKI  51.111157  17.061465\n",
       "64755   PL. GRUNWALDZKI  51.111623  17.059965\n",
       "64785   PL. GRUNWALDZKI  51.111452  17.060529\n",
       "97769   PL. GRUNWALDZKI  51.111444  17.059960\n",
       "217286  PL. GRUNWALDZKI  51.111611  17.060434\n",
       "507196  PL. GRUNWALDZKI  51.112459  17.060828\n",
       "548037  PL. GRUNWALDZKI  51.111438  17.060353\n",
       "555983  PL. GRUNWALDZKI  51.111981  17.064034\n",
       "555984  PL. GRUNWALDZKI  51.112057  17.062886\n",
       "832620  PL. GRUNWALDZKI  51.111406  17.059852\n",
       "868722  PL. GRUNWALDZKI  51.112189  17.063358\n",
       "918817  PL. GRUNWALDZKI  51.111957  17.062550\n",
       "960014  PL. GRUNWALDZKI  51.112714  17.065049"
      ]
     },
     "execution_count": 188,
     "metadata": {},
     "output_type": "execute_result"
    }
   ],
   "source": [
    "pl_grunw_stops"
   ]
  },
  {
   "cell_type": "code",
   "execution_count": 161,
   "metadata": {},
   "outputs": [
    {
     "data": {
      "text/plain": [
       "line                            D\n",
       "departure_time           22:57:00\n",
       "arrival_time             23:01:00\n",
       "start_stop         Kochanowskiego\n",
       "end_stop          PL. GRUNWALDZKI\n",
       "start_stop_lat          51.115018\n",
       "start_stop_lon          17.073334\n",
       "end_stop_lat            51.111621\n",
       "end_stop_lon            17.060086\n",
       "departure_sec               82620\n",
       "arrival_sec                 82860\n",
       "Name: 14026, dtype: object"
      ]
     },
     "execution_count": 161,
     "metadata": {},
     "output_type": "execute_result"
    }
   ],
   "source": [
    "g.conn_at_index(14026)"
   ]
  },
  {
   "cell_type": "code",
   "execution_count": 162,
   "metadata": {},
   "outputs": [
    {
     "name": "stdout",
     "output_type": "stream",
     "text": [
      "line                             D\n",
      "departure_time            08:07:00\n",
      "arrival_time              08:09:00\n",
      "start_stop         PL. GRUNWALDZKI\n",
      "end_stop          most Grunwaldzki\n",
      "start_stop_lat           51.111621\n",
      "start_stop_lon           17.060086\n",
      "end_stop_lat             51.110136\n",
      "end_stop_lon             17.055093\n",
      "departure_sec                29220\n",
      "arrival_sec                  29340\n",
      "Name: 24547, dtype: object\n",
      "line                          111\n",
      "departure_time           08:03:00\n",
      "arrival_time             08:05:00\n",
      "start_stop        PL. GRUNWALDZKI\n",
      "end_stop                     Reja\n",
      "start_stop_lat          51.111621\n",
      "start_stop_lon          17.060086\n",
      "end_stop_lat            51.112243\n",
      "end_stop_lon            17.057503\n",
      "departure_sec               28980\n",
      "arrival_sec                 29100\n",
      "Name: 510690, dtype: object\n"
     ]
    }
   ],
   "source": [
    "dep_time = time_to_normalized_sec('08:03:00')\n",
    "for row in g.get_earliest_from(dep_time, g.conn_at_index(14026)):\n",
    "    print(row)"
   ]
  },
  {
   "cell_type": "code",
   "execution_count": null,
   "metadata": {},
   "outputs": [],
   "source": []
  },
  {
   "cell_type": "code",
   "execution_count": 165,
   "metadata": {},
   "outputs": [],
   "source": [
    "conn_lines = [g.get_earliest_from(dep_time, g.conn_at_index(idx)) for idx in pl_grunw_stops.index]"
   ]
  },
  {
   "cell_type": "code",
   "execution_count": 169,
   "metadata": {},
   "outputs": [],
   "source": [
    "max_conn = max(conn_lines, key=lambda x: len(x))"
   ]
  },
  {
   "cell_type": "code",
   "execution_count": 172,
   "metadata": {},
   "outputs": [
    {
     "data": {
      "text/plain": [
       "[line                          116\n",
       " departure_time           08:15:00\n",
       " arrival_time             08:18:00\n",
       " start_stop        PL. GRUNWALDZKI\n",
       " end_stop          PL. GRUNWALDZKI\n",
       " start_stop_lat          51.111981\n",
       " start_stop_lon          17.064034\n",
       " end_stop_lat            51.112057\n",
       " end_stop_lon            17.062886\n",
       " departure_sec               29700\n",
       " arrival_sec                 29880\n",
       " Name: 558565, dtype: object,\n",
       " line                          149\n",
       " departure_time           08:48:00\n",
       " arrival_time             08:50:00\n",
       " start_stop        PL. GRUNWALDZKI\n",
       " end_stop          PL. GRUNWALDZKI\n",
       " start_stop_lat          51.111981\n",
       " start_stop_lon          17.064034\n",
       " end_stop_lat            51.112189\n",
       " end_stop_lon            17.063358\n",
       " departure_sec               31680\n",
       " arrival_sec                 31800\n",
       " Name: 871107, dtype: object,\n",
       " line                                            253\n",
       " departure_time                             23:10:00\n",
       " arrival_time                               23:11:00\n",
       " start_stop                          PL. GRUNWALDZKI\n",
       " end_stop          Kliniki - Politechnika Wrocławska\n",
       " start_stop_lat                            51.111981\n",
       " start_stop_lon                            17.064034\n",
       " end_stop_lat                              51.109283\n",
       " end_stop_lon                              17.066162\n",
       " departure_sec                                 83400\n",
       " arrival_sec                                   83460\n",
       " Name: 918837, dtype: object]"
      ]
     },
     "execution_count": 172,
     "metadata": {},
     "output_type": "execute_result"
    }
   ],
   "source": [
    "max_conn"
   ]
  },
  {
   "cell_type": "code",
   "execution_count": 173,
   "metadata": {},
   "outputs": [
    {
     "data": {
      "text/html": [
       "<div>\n",
       "<style scoped>\n",
       "    .dataframe tbody tr th:only-of-type {\n",
       "        vertical-align: middle;\n",
       "    }\n",
       "\n",
       "    .dataframe tbody tr th {\n",
       "        vertical-align: top;\n",
       "    }\n",
       "\n",
       "    .dataframe thead th {\n",
       "        text-align: right;\n",
       "    }\n",
       "</style>\n",
       "<table border=\"1\" class=\"dataframe\">\n",
       "  <thead>\n",
       "    <tr style=\"text-align: right;\">\n",
       "      <th></th>\n",
       "      <th>end_stop</th>\n",
       "      <th>end_stop_lat</th>\n",
       "      <th>end_stop_lon</th>\n",
       "    </tr>\n",
       "  </thead>\n",
       "  <tbody>\n",
       "    <tr>\n",
       "      <th>54000</th>\n",
       "      <td>Hala Stulecia</td>\n",
       "      <td>51.106895</td>\n",
       "      <td>17.07372</td>\n",
       "    </tr>\n",
       "  </tbody>\n",
       "</table>\n",
       "</div>"
      ],
      "text/plain": [
       "            end_stop  end_stop_lat  end_stop_lon\n",
       "54000  Hala Stulecia     51.106895      17.07372"
      ]
     },
     "execution_count": 173,
     "metadata": {},
     "output_type": "execute_result"
    }
   ],
   "source": [
    "g.conn_graph[g.is_start_equal_to(pl_grunw_stop)][['end_stop', 'end_stop_lat', 'end_stop_lon']].drop_duplicates()"
   ]
  },
  {
   "cell_type": "code",
   "execution_count": 100,
   "metadata": {},
   "outputs": [
    {
     "data": {
      "text/plain": [
       "end_stop        PL. GRUNWALDZKI\n",
       "end_stop_lat          51.111621\n",
       "end_stop_lon          17.060086\n",
       "dtype: object"
      ]
     },
     "execution_count": 100,
     "metadata": {},
     "output_type": "execute_result"
    }
   ],
   "source": [
    "g.get_end_stop('PL. GRUNWALDZKI')"
   ]
  },
  {
   "cell_type": "code",
   "execution_count": 88,
   "metadata": {},
   "outputs": [],
   "source": [
    "dep_time = 8 * 3600"
   ]
  },
  {
   "cell_type": "code",
   "execution_count": 101,
   "metadata": {},
   "outputs": [
    {
     "data": {
      "text/plain": [
       "line                                              2\n",
       "departure_time                             08:02:00\n",
       "arrival_time                               08:04:00\n",
       "start_stop                          PL. GRUNWALDZKI\n",
       "end_stop          Kliniki - Politechnika Wrocławska\n",
       "start_stop_lat                            51.111452\n",
       "start_stop_lon                            17.060529\n",
       "end_stop_lat                              51.109206\n",
       "end_stop_lon                              17.066414\n",
       "departure_sec                                 28920\n",
       "arrival_sec                                   29040\n",
       "Name: 71821, dtype: object"
      ]
     },
     "execution_count": 101,
     "metadata": {},
     "output_type": "execute_result"
    }
   ],
   "source": [
    "g.conn_at_index(71821)"
   ]
  },
  {
   "cell_type": "code",
   "execution_count": 133,
   "metadata": {},
   "outputs": [
    {
     "data": {
      "text/html": [
       "<div>\n",
       "<style scoped>\n",
       "    .dataframe tbody tr th:only-of-type {\n",
       "        vertical-align: middle;\n",
       "    }\n",
       "\n",
       "    .dataframe tbody tr th {\n",
       "        vertical-align: top;\n",
       "    }\n",
       "\n",
       "    .dataframe thead th {\n",
       "        text-align: right;\n",
       "    }\n",
       "</style>\n",
       "<table border=\"1\" class=\"dataframe\">\n",
       "  <thead>\n",
       "    <tr style=\"text-align: right;\">\n",
       "      <th></th>\n",
       "      <th>line</th>\n",
       "      <th>departure_time</th>\n",
       "      <th>arrival_time</th>\n",
       "      <th>start_stop</th>\n",
       "      <th>end_stop</th>\n",
       "      <th>start_stop_lat</th>\n",
       "      <th>start_stop_lon</th>\n",
       "      <th>end_stop_lat</th>\n",
       "      <th>end_stop_lon</th>\n",
       "      <th>departure_sec</th>\n",
       "      <th>arrival_sec</th>\n",
       "    </tr>\n",
       "  </thead>\n",
       "  <tbody>\n",
       "    <tr>\n",
       "      <th>71820</th>\n",
       "      <td>2</td>\n",
       "      <td>07:59:00</td>\n",
       "      <td>08:02:00</td>\n",
       "      <td>Reja</td>\n",
       "      <td>PL. GRUNWALDZKI</td>\n",
       "      <td>51.112786</td>\n",
       "      <td>17.055565</td>\n",
       "      <td>51.111452</td>\n",
       "      <td>17.060529</td>\n",
       "      <td>28740</td>\n",
       "      <td>28920</td>\n",
       "    </tr>\n",
       "    <tr>\n",
       "      <th>71821</th>\n",
       "      <td>2</td>\n",
       "      <td>08:02:00</td>\n",
       "      <td>08:04:00</td>\n",
       "      <td>PL. GRUNWALDZKI</td>\n",
       "      <td>Kliniki - Politechnika Wrocławska</td>\n",
       "      <td>51.111452</td>\n",
       "      <td>17.060529</td>\n",
       "      <td>51.109206</td>\n",
       "      <td>17.066414</td>\n",
       "      <td>28920</td>\n",
       "      <td>29040</td>\n",
       "    </tr>\n",
       "    <tr>\n",
       "      <th>71822</th>\n",
       "      <td>2</td>\n",
       "      <td>08:04:00</td>\n",
       "      <td>08:06:00</td>\n",
       "      <td>Kliniki - Politechnika Wrocławska</td>\n",
       "      <td>Hala Stulecia</td>\n",
       "      <td>51.109206</td>\n",
       "      <td>17.066414</td>\n",
       "      <td>51.106895</td>\n",
       "      <td>17.073720</td>\n",
       "      <td>29040</td>\n",
       "      <td>29160</td>\n",
       "    </tr>\n",
       "    <tr>\n",
       "      <th>71823</th>\n",
       "      <td>2</td>\n",
       "      <td>08:06:00</td>\n",
       "      <td>08:07:00</td>\n",
       "      <td>Hala Stulecia</td>\n",
       "      <td>ZOO</td>\n",
       "      <td>51.106895</td>\n",
       "      <td>17.073720</td>\n",
       "      <td>51.105614</td>\n",
       "      <td>17.077418</td>\n",
       "      <td>29160</td>\n",
       "      <td>29220</td>\n",
       "    </tr>\n",
       "  </tbody>\n",
       "</table>\n",
       "</div>"
      ],
      "text/plain": [
       "      line departure_time arrival_time                         start_stop  \\\n",
       "71820    2       07:59:00     08:02:00                               Reja   \n",
       "71821    2       08:02:00     08:04:00                    PL. GRUNWALDZKI   \n",
       "71822    2       08:04:00     08:06:00  Kliniki - Politechnika Wrocławska   \n",
       "71823    2       08:06:00     08:07:00                      Hala Stulecia   \n",
       "\n",
       "                                end_stop  start_stop_lat  start_stop_lon  \\\n",
       "71820                    PL. GRUNWALDZKI       51.112786       17.055565   \n",
       "71821  Kliniki - Politechnika Wrocławska       51.111452       17.060529   \n",
       "71822                      Hala Stulecia       51.109206       17.066414   \n",
       "71823                                ZOO       51.106895       17.073720   \n",
       "\n",
       "       end_stop_lat  end_stop_lon  departure_sec  arrival_sec  \n",
       "71820     51.111452     17.060529          28740        28920  \n",
       "71821     51.109206     17.066414          28920        29040  \n",
       "71822     51.106895     17.073720          29040        29160  \n",
       "71823     51.105614     17.077418          29160        29220  "
      ]
     },
     "execution_count": 133,
     "metadata": {},
     "output_type": "execute_result"
    }
   ],
   "source": [
    "g.conn_graph.loc[71820:71823]"
   ]
  },
  {
   "cell_type": "code",
   "execution_count": 155,
   "metadata": {},
   "outputs": [
    {
     "name": "stdout",
     "output_type": "stream",
     "text": [
      "line                                              2\n",
      "departure_time                             08:02:00\n",
      "arrival_time                               08:04:00\n",
      "start_stop                          PL. GRUNWALDZKI\n",
      "end_stop          Kliniki - Politechnika Wrocławska\n",
      "start_stop_lat                            51.111452\n",
      "start_stop_lon                            17.060529\n",
      "end_stop_lat                              51.109206\n",
      "end_stop_lon                              17.066414\n",
      "departure_sec                                 28920\n",
      "arrival_sec                                   29040\n",
      "Name: 71821, dtype: object\n"
     ]
    }
   ],
   "source": [
    "for row in g.get_earliest_from(dep_time, g.conn_at_index(71820)):\n",
    "    print(row)"
   ]
  },
  {
   "cell_type": "code",
   "execution_count": 143,
   "metadata": {},
   "outputs": [
    {
     "data": {
      "text/html": [
       "<div>\n",
       "<style scoped>\n",
       "    .dataframe tbody tr th:only-of-type {\n",
       "        vertical-align: middle;\n",
       "    }\n",
       "\n",
       "    .dataframe tbody tr th {\n",
       "        vertical-align: top;\n",
       "    }\n",
       "\n",
       "    .dataframe thead th {\n",
       "        text-align: right;\n",
       "    }\n",
       "</style>\n",
       "<table border=\"1\" class=\"dataframe\">\n",
       "  <thead>\n",
       "    <tr style=\"text-align: right;\">\n",
       "      <th></th>\n",
       "      <th>stop</th>\n",
       "      <th>stop_lat</th>\n",
       "      <th>stop_lon</th>\n",
       "    </tr>\n",
       "  </thead>\n",
       "  <tbody>\n",
       "    <tr>\n",
       "      <th>54000</th>\n",
       "      <td>Hala Stulecia</td>\n",
       "      <td>51.106895</td>\n",
       "      <td>17.07372</td>\n",
       "    </tr>\n",
       "  </tbody>\n",
       "</table>\n",
       "</div>"
      ],
      "text/plain": [
       "                stop   stop_lat  stop_lon\n",
       "54000  Hala Stulecia  51.106895  17.07372"
      ]
     },
     "execution_count": 143,
     "metadata": {},
     "output_type": "execute_result"
    }
   ],
   "source": [
    "g.get_neighbour_stops(pl_grunw_stop)"
   ]
  },
  {
   "cell_type": "code",
   "execution_count": 147,
   "metadata": {},
   "outputs": [
    {
     "name": "stdout",
     "output_type": "stream",
     "text": [
      "line                                              2\n",
      "departure_time                             08:02:00\n",
      "arrival_time                               08:04:00\n",
      "start_stop                          PL. GRUNWALDZKI\n",
      "end_stop          Kliniki - Politechnika Wrocławska\n",
      "start_stop_lat                            51.111452\n",
      "start_stop_lon                            17.060529\n",
      "end_stop_lat                              51.109206\n",
      "end_stop_lon                              17.066414\n",
      "departure_sec                                 28920\n",
      "arrival_sec                                   29040\n",
      "Name: 71821, dtype: object\n"
     ]
    }
   ],
   "source": [
    "dep_time = time_to_normalized_sec('08:02:00')\n",
    "for row in g.get_earliest_from(dep_time, g.conn_at_index(71820)):\n",
    "    print(row)"
   ]
  },
  {
   "cell_type": "code",
   "execution_count": 104,
   "metadata": {},
   "outputs": [
    {
     "data": {
      "text/plain": [
       "line                          131\n",
       "departure_time           08:00:00\n",
       "arrival_time             08:02:00\n",
       "start_stop        PL. GRUNWALDZKI\n",
       "end_stop                     Reja\n",
       "start_stop_lat          51.111621\n",
       "start_stop_lon          17.060086\n",
       "end_stop_lat            51.112243\n",
       "end_stop_lon            17.057503\n",
       "departure_sec               28800\n",
       "arrival_sec                 28920\n",
       "Name: 723854, dtype: object"
      ]
     },
     "execution_count": 104,
     "metadata": {},
     "output_type": "execute_result"
    }
   ],
   "source": [
    "g.conn_at_index(723854)"
   ]
  },
  {
   "cell_type": "code",
   "execution_count": 152,
   "metadata": {},
   "outputs": [
    {
     "data": {
      "text/plain": [
       "[line                    111\n",
       " departure_time     08:05:00\n",
       " arrival_time       08:07:00\n",
       " start_stop             Reja\n",
       " end_stop            Katedra\n",
       " start_stop_lat    51.112243\n",
       " start_stop_lon    17.057503\n",
       " end_stop_lat      51.114199\n",
       " end_stop_lon      17.050798\n",
       " departure_sec         29100\n",
       " arrival_sec           29220\n",
       " Name: 510691, dtype: object,\n",
       " line                    253\n",
       " departure_time     23:41:00\n",
       " arrival_time       23:42:00\n",
       " start_stop             Reja\n",
       " end_stop            Katedra\n",
       " start_stop_lat    51.112243\n",
       " start_stop_lon    17.057503\n",
       " end_stop_lat      51.113306\n",
       " end_stop_lon      17.049847\n",
       " departure_sec         85260\n",
       " arrival_sec           85320\n",
       " Name: 918860, dtype: object]"
      ]
     },
     "execution_count": 152,
     "metadata": {},
     "output_type": "execute_result"
    }
   ],
   "source": [
    "dep_time = time_to_normalized_sec('08:05:00')\n",
    "g.get_earliest_from(dep_time, g.conn_at_index(723854))"
   ]
  },
  {
   "cell_type": "code",
   "execution_count": 58,
   "metadata": {},
   "outputs": [
    {
     "data": {
      "text/plain": [
       "240"
      ]
     },
     "execution_count": 58,
     "metadata": {},
     "output_type": "execute_result"
    }
   ],
   "source": [
    "# cost for the first node\n",
    "g.sub_cost(dep_time, 71821, -1)"
   ]
  },
  {
   "cell_type": "code",
   "execution_count": 59,
   "metadata": {},
   "outputs": [
    {
     "data": {
      "text/plain": [
       "end_stop_lat    51.117895\n",
       "end_stop_lon    17.030893\n",
       "Name: 14126, dtype: object"
      ]
     },
     "execution_count": 59,
     "metadata": {},
     "output_type": "execute_result"
    }
   ],
   "source": [
    "g.compute_stop_coords('Pomorska')"
   ]
  },
  {
   "cell_type": "code",
   "execution_count": 60,
   "metadata": {},
   "outputs": [
    {
     "data": {
      "text/plain": [
       "end_stop_lat    51.111621\n",
       "end_stop_lon    17.060086\n",
       "Name: 14026, dtype: object"
      ]
     },
     "execution_count": 60,
     "metadata": {},
     "output_type": "execute_result"
    }
   ],
   "source": [
    "g.compute_stop_coords('PL. GRUNWALDZKI')"
   ]
  },
  {
   "cell_type": "code",
   "execution_count": 61,
   "metadata": {},
   "outputs": [
    {
     "data": {
      "text/plain": [
       "line                      D\n",
       "departure_time     08:43:00\n",
       "arrival_time       08:44:00\n",
       "start_stop         Pomorska\n",
       "end_stop           Pomorska\n",
       "start_stop_lat    51.117895\n",
       "start_stop_lon    17.030893\n",
       "end_stop_lat      51.117267\n",
       "end_stop_lon      17.032001\n",
       "departure_sec         31380\n",
       "arrival_sec           31440\n",
       "Name: 14127, dtype: object"
      ]
     },
     "execution_count": 61,
     "metadata": {},
     "output_type": "execute_result"
    }
   ],
   "source": [
    "g.conn_at_index(14127)"
   ]
  },
  {
   "cell_type": "code",
   "execution_count": 62,
   "metadata": {},
   "outputs": [
    {
     "data": {
      "text/html": [
       "<div>\n",
       "<style scoped>\n",
       "    .dataframe tbody tr th:only-of-type {\n",
       "        vertical-align: middle;\n",
       "    }\n",
       "\n",
       "    .dataframe tbody tr th {\n",
       "        vertical-align: top;\n",
       "    }\n",
       "\n",
       "    .dataframe thead th {\n",
       "        text-align: right;\n",
       "    }\n",
       "</style>\n",
       "<table border=\"1\" class=\"dataframe\">\n",
       "  <thead>\n",
       "    <tr style=\"text-align: right;\">\n",
       "      <th></th>\n",
       "      <th>line</th>\n",
       "      <th>departure_time</th>\n",
       "      <th>arrival_time</th>\n",
       "      <th>start_stop</th>\n",
       "      <th>end_stop</th>\n",
       "      <th>start_stop_lat</th>\n",
       "      <th>start_stop_lon</th>\n",
       "      <th>end_stop_lat</th>\n",
       "      <th>end_stop_lon</th>\n",
       "      <th>departure_sec</th>\n",
       "      <th>arrival_sec</th>\n",
       "    </tr>\n",
       "  </thead>\n",
       "  <tbody>\n",
       "    <tr>\n",
       "      <th>71821</th>\n",
       "      <td>2</td>\n",
       "      <td>08:02:00</td>\n",
       "      <td>08:04:00</td>\n",
       "      <td>PL. GRUNWALDZKI</td>\n",
       "      <td>Kliniki - Politechnika Wrocławska</td>\n",
       "      <td>51.111452</td>\n",
       "      <td>17.060529</td>\n",
       "      <td>51.109206</td>\n",
       "      <td>17.066414</td>\n",
       "      <td>28920</td>\n",
       "      <td>29040</td>\n",
       "    </tr>\n",
       "    <tr>\n",
       "      <th>71822</th>\n",
       "      <td>2</td>\n",
       "      <td>08:04:00</td>\n",
       "      <td>08:06:00</td>\n",
       "      <td>Kliniki - Politechnika Wrocławska</td>\n",
       "      <td>Hala Stulecia</td>\n",
       "      <td>51.109206</td>\n",
       "      <td>17.066414</td>\n",
       "      <td>51.106895</td>\n",
       "      <td>17.073720</td>\n",
       "      <td>29040</td>\n",
       "      <td>29160</td>\n",
       "    </tr>\n",
       "  </tbody>\n",
       "</table>\n",
       "</div>"
      ],
      "text/plain": [
       "      line departure_time arrival_time                         start_stop  \\\n",
       "71821    2       08:02:00     08:04:00                    PL. GRUNWALDZKI   \n",
       "71822    2       08:04:00     08:06:00  Kliniki - Politechnika Wrocławska   \n",
       "\n",
       "                                end_stop  start_stop_lat  start_stop_lon  \\\n",
       "71821  Kliniki - Politechnika Wrocławska       51.111452       17.060529   \n",
       "71822                      Hala Stulecia       51.109206       17.066414   \n",
       "\n",
       "       end_stop_lat  end_stop_lon  departure_sec  arrival_sec  \n",
       "71821     51.109206     17.066414          28920        29040  \n",
       "71822     51.106895     17.073720          29040        29160  "
      ]
     },
     "execution_count": 62,
     "metadata": {},
     "output_type": "execute_result"
    }
   ],
   "source": [
    "g.conn_graph.loc[71821:71822]"
   ]
  },
  {
   "cell_type": "markdown",
   "metadata": {},
   "source": [
    "Od 8:00 dostaniemy się o 8:04, więc czas przejazdu - czyli koszt - to 240 sekund"
   ]
  },
  {
   "cell_type": "code",
   "execution_count": 175,
   "metadata": {},
   "outputs": [],
   "source": [
    "goal_stop_coors = g.compute_stop_coords('Tramwajowa')"
   ]
  },
  {
   "cell_type": "code",
   "execution_count": 176,
   "metadata": {},
   "outputs": [
    {
     "data": {
      "text/plain": [
       "1419.52"
      ]
     },
     "execution_count": 176,
     "metadata": {},
     "output_type": "execute_result"
    }
   ],
   "source": [
    "g.cost_getting_to(dep_time, 71821) + heuristic(g.conn_graph.loc[71821], goal_stop_coors)"
   ]
  },
  {
   "cell_type": "code",
   "execution_count": 65,
   "metadata": {},
   "outputs": [
    {
     "data": {
      "text/plain": [
       "[('Pomorska', 51.11789543, 17.03089346),\n",
       " ('Pomorska', 51.11726735, 17.03200135),\n",
       " ('Pomorska', 51.117339, 17.031928),\n",
       " ('Pomorska', 51.1180115, 17.03074525),\n",
       " ('Pomorska', 51.11789231, 17.03100195),\n",
       " ('Pomorska', 51.11805751, 17.03056017),\n",
       " ('Pomorska', 51.11726746, 17.03189917),\n",
       " ('Pomorska', 51.11723359, 17.03175552)]"
      ]
     },
     "execution_count": 65,
     "metadata": {},
     "output_type": "execute_result"
    }
   ],
   "source": [
    "g.get_possible_stops('Pomorska').apply(g.stop_as_tuple, axis=1).values.tolist()"
   ]
  },
  {
   "cell_type": "code",
   "execution_count": 66,
   "metadata": {},
   "outputs": [
    {
     "name": "stdout",
     "output_type": "stream",
     "text": [
      "(5, 3)\n",
      "(2, 8)\n"
     ]
    }
   ],
   "source": [
    "frontier = PriorityQueue()\n",
    "frontier.put((10, 1))\n",
    "frontier.put((5, 3))\n",
    "print(frontier.get())\n",
    "frontier.put((5, 3))\n",
    "frontier.put((2, 8))\n",
    "print(frontier.get())"
   ]
  },
  {
   "cell_type": "code",
   "execution_count": 67,
   "metadata": {},
   "outputs": [
    {
     "data": {
      "text/plain": [
       "(5, 3)"
      ]
     },
     "execution_count": 67,
     "metadata": {},
     "output_type": "execute_result"
    }
   ],
   "source": [
    "frontier.get()"
   ]
  },
  {
   "cell_type": "markdown",
   "metadata": {},
   "source": [
    "Krotka jest w formacie (priority, data)"
   ]
  },
  {
   "cell_type": "code",
   "execution_count": 353,
   "metadata": {},
   "outputs": [],
   "source": [
    "def print_info(conn, file=None):\n",
    "    print(f\"{conn['line']} goes from {conn['start_stop']} to {conn['end_stop']} and leaves at {conn['departure_time']}, arrives at {conn['arrival_time']}\", \n",
    "          file=file)"
   ]
  },
  {
   "cell_type": "code",
   "execution_count": 354,
   "metadata": {},
   "outputs": [],
   "source": [
    "def sec_to_time(seconds: int) -> str:\n",
    "    seconds = int(seconds)\n",
    "    hour = (seconds // 3600)\n",
    "    minutes = (seconds % 3600) // 60 \n",
    "    secs = (seconds % 3600) % 60 \n",
    "    return f'{hour:02d}:{minutes:02d}:{secs:02d}'"
   ]
  },
  {
   "cell_type": "code",
   "execution_count": 371,
   "metadata": {},
   "outputs": [],
   "source": [
    "def path_to_list(node: str, connections: dict):\n",
    "    path = [node]\n",
    "    while node:\n",
    "        node = connections[node]\n",
    "        path.append(node)\n",
    "    path.reverse()\n",
    "    return path[1:]\n",
    "\n",
    "def idxs_to_nodes(graph: Graph, goal_idx: int, conn_idxs: dict):\n",
    "    idx_path = path_to_list(goal_idx, conn_idxs)\n",
    "    return [graph.conn_at_index(idx) for idx in idx_path[1:]]\n",
    "\n",
    "def print_path(connections: dict):\n",
    "    for conn in connections:\n",
    "        print(f'{conn[\"start_stop\"]} [{conn[\"departure_time\"]}] --- {conn[\"line\"]} ---> {conn[\"end_stop\"]} [{conn[\"arrival_time\"]}]')\n",
    "\n",
    "\n",
    "def assert_connection_path(dept_time, connections):\n",
    "    if connections[0]['departure_sec'] < dept_time:\n",
    "        return False \n",
    "    for i in range(len(connections) - 1):\n",
    "        if diff(connections[i + 1]['departure_sec'], connections[i + 1]['arrival_sec']) < 0:\n",
    "            return False \n",
    "    return True "
   ]
  },
  {
   "cell_type": "code",
   "execution_count": 372,
   "metadata": {},
   "outputs": [],
   "source": [
    "def run_solution(find_path_function, start_stop: str, goal_stop: str, leave_hour: str, change_time=0):\n",
    "    start = timer()\n",
    "    connection_graph = pd.read_csv(DATA_DIR / 'connection_graph.csv', \n",
    "                               usecols=['line', 'departure_time', 'arrival_time', 'start_stop',\n",
    "       'end_stop', 'start_stop_lat', 'start_stop_lon', 'end_stop_lat', 'end_stop_lon'])\n",
    "    graph = Graph(connection_graph, add_constant_change_time)\n",
    "    goal_index, came_from, costs = find_path_function(graph, start_stop, goal_stop, leave_hour)\n",
    "    end = timer()\n",
    "    elapsed_time = (end - start)\n",
    "    solution_cost = costs[graph.stop_as_tuple(graph.rename_stop(graph.conn_at_index(goal_index)))]\n",
    "    return graph, goal_index, came_from, solution_cost, elapsed_time "
   ]
  },
  {
   "cell_type": "code",
   "execution_count": 386,
   "metadata": {},
   "outputs": [],
   "source": [
    "test_cases = pd.read_json(DATA_DIR / 'test_cases.json')\n",
    "test_cases['dept_time'] = test_cases['dept_time'].apply(lambda x: x.strftime('%H:%M:%S'))\n",
    "\n",
    "test_cases = test_cases.values"
   ]
  },
  {
   "cell_type": "code",
   "execution_count": 373,
   "metadata": {},
   "outputs": [],
   "source": [
    "def find_path(graph: Graph, start_stop: str, goal_stop: str, leave_hour: str):\n",
    "    \n",
    "    frontier = PriorityQueue()\n",
    "    dep_time = time_to_normalized_sec(leave_hour)\n",
    "    \n",
    "    print(f'STOP {start_stop} --> TO {goal_stop}')\n",
    "\n",
    "    cost_so_far = {}\n",
    "    # if commuting A -> B, then this will be came_from[B] = A so we can recreate the path\n",
    "    came_from = {}\n",
    "\n",
    "    # given only stop name consider all possible start stops??  \n",
    "    j = -1\n",
    "    for _, candidate_start_stop in graph.get_possible_stops(start_stop).iterrows():\n",
    "        candidate_stop_id = graph.stop_as_tuple(candidate_start_stop)\n",
    "        cost_so_far[candidate_stop_id] = 0\n",
    "        graph.add_conn(dep_time, candidate_start_stop, j)\n",
    "        came_from[j] = None\n",
    "        frontier.put((cost_so_far[candidate_stop_id], j))\n",
    "        j -= 1\n",
    "\n",
    "    with open(DATA_DIR / ('dijkstra_runs/' + re.sub(r\"\\W+\", \"\", start_stop) + '-' + re.sub(r\"\\W+\", \"\", goal_stop)), mode='w', encoding='utf-8') as f:\n",
    "\n",
    "        i = 0\n",
    "        while not frontier.empty():\n",
    "            # get the stop with the lowest cost \n",
    "            cost, index = frontier.get()\n",
    "\n",
    "            conn = graph.conn_at_index(index)\n",
    "            current = graph.stop_as_tuple(graph.rename_stop(conn))\n",
    "\n",
    "            # consider all possible end stops \n",
    "            if current[0] == goal_stop:\n",
    "                goal_stop_index = index\n",
    "                # theory - first found is the best\n",
    "                break \n",
    "\n",
    "            print(f'[{i}]', file=f)\n",
    "            for next_conn in graph.get_earliest_from(dep_time=dep_time + cost, start_stop=conn):\n",
    "                print_info(next_conn, file=f)\n",
    "                # cost of commuting start --> current and current --> next \n",
    "                new_cost = cost + graph.cost_getting_to(dep_time + cost, next_conn.name, conn.name)\n",
    "                next_stop_id = graph.stop_as_tuple(graph.rename_stop(next_conn))\n",
    "                if next_stop_id not in cost_so_far or new_cost < cost_so_far[next_stop_id]:\n",
    "                    print(f'We arrive from {start_stop} to {next_stop_id} at {sec_to_time(dep_time + new_cost)}', file=f)\n",
    "                    cost_so_far[next_stop_id] = new_cost\n",
    "                    frontier.put((new_cost, next_conn.name))\n",
    "                    came_from[next_conn.name] = index\n",
    "            i+=1\n",
    "\n",
    "    return goal_stop_index, came_from, cost_so_far"
   ]
  },
  {
   "cell_type": "markdown",
   "metadata": {},
   "source": [
    "('Zagłębiowska', 51.07275516, 17.08914075)"
   ]
  },
  {
   "cell_type": "code",
   "execution_count": 378,
   "metadata": {},
   "outputs": [],
   "source": [
    "def dijkstra(start_stop: str, goal_stop: str, leave_hour: str, change_time=0):\n",
    "    print(f'Commute from {start_stop} to {goal_stop} at {leave_hour}')\n",
    "    graph, goal_index, came_from, solution_cost, elapsed_time = run_solution(find_path, start_stop, goal_stop, leave_hour, change_time)\n",
    "    \n",
    "    connections = idxs_to_nodes(graph, goal_index, came_from)\n",
    "    assert assert_connection_path(time_to_normalized_sec(leave_hour), connections)\n",
    "    print_path(connections)\n",
    "    print(f'Total trip time is {sec_to_time(solution_cost)}')\n",
    "    print(f'Algorithm took {elapsed_time:.2f}s to execute')"
   ]
  },
  {
   "cell_type": "code",
   "execution_count": 379,
   "metadata": {},
   "outputs": [
    {
     "name": "stdout",
     "output_type": "stream",
     "text": [
      "Commute from PL. GRUNWALDZKI to most Grunwaldzki at 20:30:00\n"
     ]
    },
    {
     "name": "stderr",
     "output_type": "stream",
     "text": [
      "C:\\Users\\julia\\AppData\\Local\\Temp\\ipykernel_9516\\1196296920.py:3: DtypeWarning: Columns (2) have mixed types. Specify dtype option on import or set low_memory=False.\n",
      "  connection_graph = pd.read_csv(DATA_DIR / 'connection_graph.csv',\n"
     ]
    },
    {
     "name": "stdout",
     "output_type": "stream",
     "text": [
      "STOP PL. GRUNWALDZKI --> TO most Grunwaldzki\n",
      "PL. GRUNWALDZKI [20:32:00] --- 16 ---> most Grunwaldzki [20:33:00]\n",
      "Total trip time is 00:03:00\n",
      "Algorithm took 11.53s to execute\n"
     ]
    }
   ],
   "source": [
    "dijkstra(*test_cases[0])"
   ]
  },
  {
   "cell_type": "code",
   "execution_count": 380,
   "metadata": {},
   "outputs": [
    {
     "name": "stdout",
     "output_type": "stream",
     "text": [
      "Commute from KLECINA to OSIEDLE SOBIESKIEGO at 20:00:00\n"
     ]
    },
    {
     "name": "stderr",
     "output_type": "stream",
     "text": [
      "C:\\Users\\julia\\AppData\\Local\\Temp\\ipykernel_9516\\1196296920.py:3: DtypeWarning: Columns (2) have mixed types. Specify dtype option on import or set low_memory=False.\n",
      "  connection_graph = pd.read_csv(DATA_DIR / 'connection_graph.csv',\n"
     ]
    },
    {
     "name": "stdout",
     "output_type": "stream",
     "text": [
      "STOP KLECINA --> TO OSIEDLE SOBIESKIEGO\n",
      "KLECINA [20:01:00] --- 107 ---> Skarbowców [20:02:00]\n",
      "Skarbowców [20:02:00] --- 107 ---> Os. Przyjaźni [20:03:00]\n",
      "Os. Przyjaźni [20:03:00] --- 107 ---> Zimowa [20:04:00]\n",
      "Zimowa [20:10:00] --- D ---> KRZYKI [20:13:00]\n",
      "KRZYKI [20:13:00] --- D ---> Orla [20:14:00]\n",
      "Orla [20:14:00] --- D ---> Hallera [20:17:00]\n",
      "Hallera [20:17:00] --- D ---> Rondo [20:19:00]\n",
      "Rondo [20:19:00] --- D ---> Arkady (Capitol) [20:24:00]\n",
      "Arkady (Capitol) [20:24:00] --- D ---> GALERIA DOMINIKAŃSKA [20:29:00]\n",
      "GALERIA DOMINIKAŃSKA [20:29:00] --- D ---> Urząd Wojewódzki (Impart) [20:31:00]\n",
      "Urząd Wojewódzki (Impart) [20:31:00] --- D ---> most Grunwaldzki [20:32:00]\n",
      "most Grunwaldzki [20:32:00] --- D ---> PL. GRUNWALDZKI [20:34:00]\n",
      "PL. GRUNWALDZKI [20:34:00] --- D ---> Kochanowskiego [20:37:00]\n",
      "Kochanowskiego [20:37:00] --- D ---> Śniadeckich [20:38:00]\n",
      "Śniadeckich [20:38:00] --- D ---> Zacisze [20:39:00]\n",
      "Zacisze [20:39:00] --- D ---> Kwidzyńska [20:41:00]\n",
      "Kwidzyńska [20:41:00] --- D ---> Brücknera [20:42:00]\n",
      "Brücknera [20:42:00] --- D ---> Psie Pole [20:46:00]\n",
      "Psie Pole [20:46:00] --- D ---> Psie Pole (Rondo Lotników Polskich) [20:47:00]\n",
      "Psie Pole (Rondo Lotników Polskich) [20:47:00] --- D ---> Zakrzowska [20:48:00]\n",
      "Zakrzowska [20:48:00] --- D ---> Kopańskiego [20:49:00]\n",
      "Kopańskiego [20:49:00] --- D ---> Wallenroda [20:50:00]\n",
      "Wallenroda [20:50:00] --- D ---> Królewska [20:52:00]\n",
      "Królewska [20:52:00] --- D ---> OSIEDLE SOBIESKIEGO [20:54:00]\n",
      "Total trip time is 00:54:00\n",
      "Algorithm took 101.81s to execute\n"
     ]
    }
   ],
   "source": [
    "dijkstra(*test_cases[1])"
   ]
  },
  {
   "cell_type": "code",
   "execution_count": 381,
   "metadata": {},
   "outputs": [
    {
     "name": "stdout",
     "output_type": "stream",
     "text": [
      "Commute from Broniewskiego to Uniwersytet Ekonomiczny at 10:15:00\n"
     ]
    },
    {
     "name": "stderr",
     "output_type": "stream",
     "text": [
      "C:\\Users\\julia\\AppData\\Local\\Temp\\ipykernel_9516\\1196296920.py:3: DtypeWarning: Columns (2) have mixed types. Specify dtype option on import or set low_memory=False.\n",
      "  connection_graph = pd.read_csv(DATA_DIR / 'connection_graph.csv',\n"
     ]
    },
    {
     "name": "stdout",
     "output_type": "stream",
     "text": [
      "STOP Broniewskiego --> TO Uniwersytet Ekonomiczny\n",
      "Broniewskiego [10:22:00] --- 908 ---> Trzebnicka [10:24:00]\n",
      "Trzebnicka [10:24:00] --- 908 ---> DWORZEC NADODRZE [10:26:00]\n",
      "DWORZEC NADODRZE [10:27:00] --- 144 ---> Paulińska [10:29:00]\n",
      "Paulińska [10:29:00] --- 144 ---> Dubois [10:32:00]\n",
      "Dubois [10:32:00] --- 144 ---> Pomorska [10:34:00]\n",
      "Pomorska [10:34:00] --- 144 ---> Kępa Mieszczańska [10:36:00]\n",
      "Kępa Mieszczańska [10:36:00] --- 144 ---> PL. JANA PAWŁA II [10:38:00]\n",
      "PL. JANA PAWŁA II [10:38:00] --- 144 ---> pl. Orląt Lwowskich [10:40:00]\n",
      "pl. Orląt Lwowskich [10:41:00] --- 15 ---> pl. Legionów [10:43:00]\n",
      "pl. Legionów [10:43:00] --- 15 ---> Arkady (Capitol) [10:45:00]\n",
      "Arkady (Capitol) [10:45:00] --- 15 ---> DWORZEC AUTOBUSOWY [10:48:00]\n",
      "DWORZEC AUTOBUSOWY [10:48:00] --- 15 ---> Sanocka [10:50:00]\n",
      "Sanocka [10:50:00] --- 15 ---> Uniwersytet Ekonomiczny [10:52:00]\n",
      "Total trip time is 00:37:00\n",
      "Algorithm took 67.21s to execute\n"
     ]
    }
   ],
   "source": [
    "dijkstra(*test_cases[2])"
   ]
  },
  {
   "cell_type": "code",
   "execution_count": 382,
   "metadata": {},
   "outputs": [
    {
     "name": "stdout",
     "output_type": "stream",
     "text": [
      "Commute from POŚWIĘTNE to Młodych Techników at 15:30:00\n"
     ]
    },
    {
     "name": "stderr",
     "output_type": "stream",
     "text": [
      "C:\\Users\\julia\\AppData\\Local\\Temp\\ipykernel_9516\\1196296920.py:3: DtypeWarning: Columns (2) have mixed types. Specify dtype option on import or set low_memory=False.\n",
      "  connection_graph = pd.read_csv(DATA_DIR / 'connection_graph.csv',\n"
     ]
    },
    {
     "name": "stdout",
     "output_type": "stream",
     "text": [
      "STOP POŚWIĘTNE --> TO Młodych Techników\n",
      "POŚWIĘTNE [15:34:00] --- 908 ---> Wołowska [15:35:00]\n",
      "Wołowska [15:35:00] --- 908 ---> Kępińska [15:36:00]\n",
      "Kępińska [15:36:00] --- 908 ---> Kamieńskiego [15:38:00]\n",
      "Kamieńskiego [15:38:00] --- 908 ---> Broniewskiego [15:40:00]\n",
      "Broniewskiego [15:41:00] --- 132 ---> Trzebnicka [15:43:00]\n",
      "Trzebnicka [15:43:00] --- 132 ---> DWORZEC NADODRZE [15:45:00]\n",
      "DWORZEC NADODRZE [15:45:00] --- 132 ---> Paulińska [15:47:00]\n",
      "Paulińska [15:47:00] --- 132 ---> Dubois [15:49:00]\n",
      "Dubois [15:49:00] --- 132 ---> Rynek [15:53:00]\n",
      "Rynek [15:53:00] --- 132 ---> PL. JANA PAWŁA II [15:55:00]\n",
      "PL. JANA PAWŁA II [15:55:00] --- 132 ---> Młodych Techników [15:57:00]\n",
      "Total trip time is 00:27:00\n",
      "Algorithm took 14.20s to execute\n"
     ]
    }
   ],
   "source": [
    "dijkstra(*test_cases[3])"
   ]
  },
  {
   "cell_type": "code",
   "execution_count": 383,
   "metadata": {},
   "outputs": [
    {
     "name": "stdout",
     "output_type": "stream",
     "text": [
      "Commute from Śliczna to Marchewkowa at 23:50:00\n"
     ]
    },
    {
     "name": "stderr",
     "output_type": "stream",
     "text": [
      "C:\\Users\\julia\\AppData\\Local\\Temp\\ipykernel_9516\\1196296920.py:3: DtypeWarning: Columns (2) have mixed types. Specify dtype option on import or set low_memory=False.\n",
      "  connection_graph = pd.read_csv(DATA_DIR / 'connection_graph.csv',\n"
     ]
    },
    {
     "name": "stdout",
     "output_type": "stream",
     "text": [
      "STOP Śliczna --> TO Marchewkowa\n",
      "Śliczna [23:54:00] --- 255 ---> Uniwersytet Ekonomiczny [23:56:00]\n",
      "Uniwersytet Ekonomiczny [23:56:00] --- 255 ---> PETRUSEWICZA [23:57:00]\n",
      "PETRUSEWICZA [24:00:00] --- 249 ---> Borowska (Aquapark) [24:01:00]\n",
      "Borowska (Aquapark) [24:21:00] --- 253 ---> PETRUSEWICZA [24:23:00]\n",
      "PETRUSEWICZA [24:00:00] --- 253 ---> DWORZEC AUTOBUSOWY [24:03:00]\n",
      "DWORZEC AUTOBUSOWY [24:03:00] --- 253 ---> EPI [24:05:00]\n",
      "EPI [24:23:00] --- 257 ---> Zaolziańska [24:24:00]\n",
      "Zaolziańska [24:24:00] --- 257 ---> Wielka [24:25:00]\n",
      "Wielka [24:25:00] --- 257 ---> Rondo [24:26:00]\n",
      "Rondo [24:26:00] --- 257 ---> Sztabowa [24:27:00]\n",
      "Sztabowa [24:39:00] --- 247 ---> Hallera [24:40:00]\n",
      "Hallera [24:40:00] --- 247 ---> Jastrzębia [24:41:00]\n",
      "Jastrzębia [24:41:00] --- 247 ---> Orla [24:42:00]\n",
      "Orla [24:42:00] --- 247 ---> KRZYKI [24:43:00]\n",
      "KRZYKI [24:43:00] --- 247 ---> Radio i Telewizja [24:44:00]\n",
      "Radio i Telewizja [24:44:00] --- 247 ---> Przyjaźni [24:45:00]\n",
      "Przyjaźni [24:45:00] --- 247 ---> Zimowa [24:46:00]\n",
      "Zimowa [24:46:00] --- 247 ---> Os. Przyjaźni [24:46:00]\n",
      "Os. Przyjaźni [24:46:00] --- 247 ---> Skarbowców [24:47:00]\n",
      "Skarbowców [24:47:00] --- 247 ---> KLECINA [24:48:00]\n",
      "KLECINA [24:48:00] --- 247 ---> Kościelna [24:49:00]\n",
      "Kościelna [24:49:00] --- 247 ---> WAŁBRZYSKA [24:50:00]\n",
      "WAŁBRZYSKA [24:50:00] --- 247 ---> Marchewkowa [24:51:00]\n",
      "Total trip time is 01:01:00\n",
      "Algorithm took 113.83s to execute\n"
     ]
    }
   ],
   "source": [
    "dijkstra(*test_cases[4])"
   ]
  },
  {
   "cell_type": "code",
   "execution_count": 384,
   "metadata": {},
   "outputs": [
    {
     "name": "stdout",
     "output_type": "stream",
     "text": [
      "Commute from PL. GRUNWALDZKI to Renoma at 08:00:00\n"
     ]
    },
    {
     "name": "stderr",
     "output_type": "stream",
     "text": [
      "C:\\Users\\julia\\AppData\\Local\\Temp\\ipykernel_9516\\1196296920.py:3: DtypeWarning: Columns (2) have mixed types. Specify dtype option on import or set low_memory=False.\n",
      "  connection_graph = pd.read_csv(DATA_DIR / 'connection_graph.csv',\n"
     ]
    },
    {
     "name": "stdout",
     "output_type": "stream",
     "text": [
      "STOP PL. GRUNWALDZKI --> TO Renoma\n",
      "PL. GRUNWALDZKI [08:01:00] --- D ---> most Grunwaldzki [08:02:00]\n",
      "most Grunwaldzki [08:02:00] --- D ---> Poczta Główna [08:04:00]\n",
      "Poczta Główna [08:04:00] --- D ---> GALERIA DOMINIKAŃSKA [08:06:00]\n",
      "GALERIA DOMINIKAŃSKA [08:06:00] --- D ---> Renoma [08:09:00]\n",
      "Total trip time is 00:09:00\n",
      "Algorithm took 13.02s to execute\n"
     ]
    }
   ],
   "source": [
    "dijkstra(*test_cases[5])"
   ]
  },
  {
   "cell_type": "code",
   "execution_count": 385,
   "metadata": {},
   "outputs": [
    {
     "name": "stdout",
     "output_type": "stream",
     "text": [
      "Commute from KOSZAROWA (Szpital) to Buforowa-Rondo at 02:35:00\n"
     ]
    },
    {
     "name": "stderr",
     "output_type": "stream",
     "text": [
      "C:\\Users\\julia\\AppData\\Local\\Temp\\ipykernel_9516\\1196296920.py:3: DtypeWarning: Columns (2) have mixed types. Specify dtype option on import or set low_memory=False.\n",
      "  connection_graph = pd.read_csv(DATA_DIR / 'connection_graph.csv',\n"
     ]
    },
    {
     "name": "stdout",
     "output_type": "stream",
     "text": [
      "STOP KOSZAROWA (Szpital) --> TO Buforowa-Rondo\n",
      "KOSZAROWA (Szpital) [27:29:00] --- 246 ---> pl. Daniłowskiego [27:31:00]\n",
      "pl. Daniłowskiego [27:31:00] --- 246 ---> Kasprowicza [27:32:00]\n",
      "Kasprowicza [27:32:00] --- 246 ---> Berenta [27:33:00]\n",
      "Berenta [27:33:00] --- 246 ---> KROMERA [27:35:00]\n",
      "KROMERA [27:35:00] --- 246 ---> Mosty Warszawskie [27:37:00]\n",
      "Mosty Warszawskie [27:37:00] --- 246 ---> Wyszyńskiego [27:38:00]\n",
      "Wyszyńskiego [27:38:00] --- 246 ---> Ogród Botaniczny [27:40:00]\n",
      "Ogród Botaniczny [27:40:00] --- 246 ---> Katedra [27:41:00]\n",
      "Katedra [27:41:00] --- 246 ---> Urząd Wojewódzki (Muzeum Narodowe) [27:42:00]\n",
      "Urząd Wojewódzki (Muzeum Narodowe) [27:42:00] --- 246 ---> Poczta Główna [27:43:00]\n",
      "Poczta Główna [27:43:00] --- 246 ---> GALERIA DOMINIKAŃSKA [27:45:00]\n",
      "GALERIA DOMINIKAŃSKA [27:45:00] --- 246 ---> Wzgórze Partyzantów [27:46:00]\n",
      "Wzgórze Partyzantów [27:46:00] --- 246 ---> DWORZEC GŁÓWNY [27:47:00]\n",
      "DWORZEC GŁÓWNY [27:47:00] --- 246 ---> DWORZEC GŁÓWNY [27:48:00]\n",
      "DWORZEC GŁÓWNY [27:48:00] --- 246 ---> DWORZEC AUTOBUSOWY [27:50:00]\n",
      "DWORZEC AUTOBUSOWY [27:50:00] --- 246 ---> Dyrekcyjna [27:51:00]\n",
      "Dyrekcyjna [27:52:00] --- 253 ---> Borowska (Aquapark) [27:54:00]\n",
      "Borowska (Aquapark) [28:01:00] --- 249 ---> Śliczna [28:03:00]\n",
      "Śliczna [28:03:00] --- 249 ---> ROD Bajki [28:04:00]\n",
      "ROD Bajki [28:04:00] --- 249 ---> Działkowa [28:05:00]\n",
      "Działkowa [04:29:00] --- 136 ---> GAJ [04:31:00]\n",
      "GAJ [04:31:00] --- 136 ---> Świeradowska [04:32:00]\n",
      "Świeradowska [04:38:00] --- 145 ---> Morwowa [04:39:00]\n",
      "Morwowa [04:39:00] --- 145 ---> BARDZKA (Cmentarz) [04:40:00]\n",
      "BARDZKA (Cmentarz) [04:40:00] --- 145 ---> Buforowa-Rondo [04:41:00]\n",
      "Total trip time is 02:06:00\n",
      "Algorithm took 94.24s to execute\n"
     ]
    }
   ],
   "source": [
    "dijkstra(*test_cases[6])"
   ]
  },
  {
   "cell_type": "code",
   "execution_count": 387,
   "metadata": {},
   "outputs": [
    {
     "name": "stdout",
     "output_type": "stream",
     "text": [
      "Commute from Wilczyce - Dębowa to Marszowicka at 23:00:00\n"
     ]
    },
    {
     "name": "stderr",
     "output_type": "stream",
     "text": [
      "C:\\Users\\julia\\AppData\\Local\\Temp\\ipykernel_9516\\1196296920.py:3: DtypeWarning: Columns (2) have mixed types. Specify dtype option on import or set low_memory=False.\n",
      "  connection_graph = pd.read_csv(DATA_DIR / 'connection_graph.csv',\n"
     ]
    },
    {
     "name": "stdout",
     "output_type": "stream",
     "text": [
      "STOP Wilczyce - Dębowa --> TO Marszowicka\n",
      "Wilczyce - Dębowa [23:04:00] --- 911 ---> Wilczyce - Dworska [23:05:00]\n",
      "Wilczyce - Dworska [23:05:00] --- 911 ---> Wilczyce - Borowa [23:06:00]\n",
      "Wilczyce - Borowa [23:06:00] --- 911 ---> Wilczyce - Wrocławska (na wys. nr 1F) [23:07:00]\n",
      "Wilczyce - Wrocławska (na wys. nr 1F) [23:07:00] --- 911 ---> Wilczyce [23:07:00]\n",
      "Wilczyce [23:07:00] --- 911 ---> Mroźna [23:08:00]\n",
      "Mroźna [23:08:00] --- 911 ---> Kurlandzka [23:08:00]\n",
      "Kurlandzka [23:08:00] --- 911 ---> Zgorzelisko [23:09:00]\n",
      "Zgorzelisko [23:09:00] --- 911 ---> Palacha [23:10:00]\n",
      "Palacha [23:10:00] --- 911 ---> Szewczenki [23:11:00]\n",
      "Szewczenki [23:11:00] --- 911 ---> Gorlicka [23:12:00]\n",
      "Gorlicka [23:12:00] --- 911 ---> MULICKA [23:13:00]\n",
      "MULICKA [23:13:00] --- 911 ---> Psie Pole (Rondo Lotników Polskich) [23:14:00]\n",
      "Psie Pole (Rondo Lotników Polskich) [23:14:00] --- 911 ---> Psie Pole [23:15:00]\n",
      "Psie Pole [23:15:00] --- 911 ---> Zielna [23:15:00]\n",
      "Zielna [23:15:00] --- 911 ---> C.H. Korona [23:17:00]\n",
      "C.H. Korona [23:17:00] --- 911 ---> C.H. Korona [23:18:00]\n",
      "C.H. Korona [23:18:00] --- 911 ---> Brücknera [23:19:00]\n",
      "Brücknera [23:19:00] --- 911 ---> Kwidzyńska [23:20:00]\n",
      "Kwidzyńska [23:20:00] --- 911 ---> Zacisze [23:21:00]\n",
      "Zacisze [23:21:00] --- 911 ---> Śniadeckich [23:22:00]\n",
      "Śniadeckich [23:22:00] --- 911 ---> Kochanowskiego [23:23:00]\n",
      "Kochanowskiego [23:30:00] --- 131 ---> Bujwida [23:31:00]\n",
      "Bujwida [23:31:00] --- 131 ---> PL. GRUNWALDZKI [23:33:00]\n",
      "PL. GRUNWALDZKI [23:40:00] --- 241 ---> most Grunwaldzki [23:41:00]\n",
      "most Grunwaldzki [23:41:00] --- 241 ---> Poczta Główna [23:43:00]\n",
      "Poczta Główna [23:43:00] --- 241 ---> GALERIA DOMINIKAŃSKA [23:45:00]\n",
      "GALERIA DOMINIKAŃSKA [23:45:00] --- 241 ---> Wzgórze Partyzantów [23:46:00]\n",
      "Wzgórze Partyzantów [23:46:00] --- 241 ---> DWORZEC GŁÓWNY [23:47:00]\n",
      "DWORZEC GŁÓWNY [23:47:00] --- 241 ---> DWORZEC GŁÓWNY [23:48:00]\n",
      "DWORZEC GŁÓWNY [23:48:00] --- 241 ---> DWORZEC AUTOBUSOWY [23:50:00]\n",
      "DWORZEC AUTOBUSOWY [23:50:00] --- 241 ---> Dyrekcyjna [23:51:00]\n",
      "Dyrekcyjna [23:51:00] --- 241 ---> PETRUSEWICZA [23:53:00]\n",
      "PETRUSEWICZA [24:00:00] --- 241 ---> DWORZEC AUTOBUSOWY [24:03:00]\n",
      "DWORZEC AUTOBUSOWY [24:03:00] --- 241 ---> EPI [24:05:00]\n",
      "EPI [24:05:00] --- 241 ---> Gwiaździsta [24:06:00]\n",
      "Gwiaździsta [24:06:00] --- 241 ---> Zielińskiego [24:07:00]\n",
      "Zielińskiego [24:07:00] --- 241 ---> Zaporoska [24:09:00]\n",
      "Zaporoska [24:09:00] --- 241 ---> Krucza [24:10:00]\n",
      "Krucza [24:10:00] --- 241 ---> Krucza (Mielecka) [24:11:00]\n",
      "Krucza (Mielecka) [24:11:00] --- 241 ---> Kolbuszowska (Stadion) [24:12:00]\n",
      "Kolbuszowska (Stadion) [24:12:00] --- 241 ---> Inżynierska [24:13:00]\n",
      "Inżynierska [24:13:00] --- 241 ---> Aleja Pracy [24:15:00]\n",
      "Aleja Pracy [24:15:00] --- 241 ---> FAT [24:17:00]\n",
      "FAT [24:17:00] --- 241 ---> Ostrowskiego [24:18:00]\n",
      "Ostrowskiego [24:18:00] --- 241 ---> Końcowa [24:19:00]\n",
      "Końcowa [24:19:00] --- 241 ---> Krzemieniecka [24:20:00]\n",
      "Krzemieniecka [24:20:00] --- 241 ---> Trawowa [24:21:00]\n",
      "Trawowa [24:21:00] --- 241 ---> Stanisławowska (W.K. Formaty) [24:21:00]\n",
      "Stanisławowska (W.K. Formaty) [24:21:00] --- 241 ---> Muchobór Wielki [24:22:00]\n",
      "Muchobór Wielki [24:22:00] --- 241 ---> Muchobór Wielki (Roślinna) [24:23:00]\n",
      "Muchobór Wielki (Roślinna) [24:23:00] --- 241 ---> Tyrmanda [24:24:00]\n",
      "Tyrmanda [24:24:00] --- 241 ---> MIŃSKA (Rondo Rotm. Pileckiego) [24:25:00]\n",
      "MIŃSKA (Rondo Rotm. Pileckiego) [24:25:00] --- 241 ---> Rogowska (P+R) [24:27:00]\n",
      "Rogowska (P+R) [24:27:00] --- 241 ---> Strzegomska (krzyżówka) [24:28:00]\n",
      "Strzegomska (krzyżówka) [24:28:00] --- 241 ---> Chociebuska (C. K. Nowy Pafawag) [24:29:00]\n",
      "Chociebuska (C. K. Nowy Pafawag) [24:29:00] --- 241 ---> Rogowska (Ośrodek sportu) [24:30:00]\n",
      "Rogowska (Ośrodek sportu) [24:30:00] --- 241 ---> Wrocław Nowy Dwór (P+R) [24:31:00]\n",
      "Wrocław Nowy Dwór (P+R) [24:10:00] --- 241 ---> Rogowska (Ośrodek sportu) [24:11:00]\n",
      "Rogowska (Ośrodek sportu) [24:11:00] --- 241 ---> Hermanowska [24:13:00]\n",
      "Hermanowska [24:13:00] --- 241 ---> KUŹNIKI [24:14:00]\n",
      "KUŹNIKI [24:14:00] --- 241 ---> KUŹNIKI (Stacja kolejowa) [24:15:00]\n",
      "KUŹNIKI (Stacja kolejowa) [24:15:00] --- 241 ---> Bystrzycka [24:16:00]\n",
      "Bystrzycka [24:16:00] --- 241 ---> Bulwar Dedala [24:17:00]\n",
      "Bulwar Dedala [24:17:00] --- 241 ---> Szybowcowa [24:18:00]\n",
      "Szybowcowa [24:18:00] --- 241 ---> Bajana [24:19:00]\n",
      "Bajana [24:27:00] --- 253 ---> Metalowców [24:28:00]\n",
      "Metalowców [24:28:00] --- 253 ---> PILCZYCE [24:29:00]\n",
      "PILCZYCE [24:29:00] --- 253 ---> Tarczyński Arena (Lotnicza) [24:30:00]\n",
      "Tarczyński Arena (Lotnicza) [24:30:00] --- 253 ---> Glinianki [24:31:00]\n",
      "Glinianki [24:31:00] --- 253 ---> Aleja Architektów [24:31:00]\n",
      "Aleja Architektów [24:31:00] --- 253 ---> Grabowa [24:32:00]\n",
      "Grabowa [24:32:00] --- 253 ---> Kosmonautów (Szpital) [24:33:00]\n",
      "Kosmonautów (Szpital) [24:33:00] --- 253 ---> Kamiennogórska (Ośrodek dla niewidomych) [24:34:00]\n",
      "Kamiennogórska (Ośrodek dla niewidomych) [24:34:00] --- 253 ---> Małopolska (Ośrodek dla niewidomych) [24:35:00]\n",
      "Małopolska (Ośrodek dla niewidomych) [24:35:00] --- 253 ---> Złotniki [24:36:00]\n",
      "Złotniki [24:36:00] --- 253 ---> Wielkopolska [24:37:00]\n",
      "Wielkopolska [24:37:00] --- 253 ---> Złotnicka [24:38:00]\n",
      "Złotnicka [24:38:00] --- 253 ---> Wschowska [24:39:00]\n",
      "Wschowska [24:39:00] --- 253 ---> LEŚNICA [24:41:00]\n",
      "LEŚNICA [24:39:00] --- 253 ---> Średzka [24:40:00]\n",
      "Średzka [04:37:00] --- 123 ---> Wolska [04:39:00]\n",
      "Wolska [04:39:00] --- 123 ---> Polkowicka [04:41:00]\n",
      "Polkowicka [04:41:00] --- 123 ---> Hartmana [04:42:00]\n",
      "Hartmana [04:42:00] --- 123 ---> Marszowicka [04:42:00]\n",
      "Total trip time is 05:42:00\n",
      "Algorithm took 176.55s to execute\n"
     ]
    }
   ],
   "source": [
    "dijkstra(*test_cases[7])"
   ]
  },
  {
   "cell_type": "code",
   "execution_count": null,
   "metadata": {},
   "outputs": [],
   "source": [
    "def a_star_find_path(graph: Graph, start_stop: str, goal_stop: str, leave_hour: str):\n",
    "   \n",
    "    dep_time = time_to_normalized_sec(leave_hour)\n",
    "    graph.add_start_conn(dep_time, start_stop)\n",
    "\n",
    "    goal_stop_coords = graph.compute_stop_coords(goal_stop)\n",
    "\n",
    "    cost = {}\n",
    "    # if commuting A -> B, then this will be came_from[B] = A so we can recreate the path\n",
    "    came_from = {}\n",
    "    came_from[graph.get_start_idx()] = None\n",
    "    cost[start_stop] = 0\n",
    "\n",
    "    commute_so_far = {}\n",
    "    commute_so_far[start_stop] = 0\n",
    "\n",
    "    opened = [graph.get_start_idx()]\n",
    "    closed = [] \n",
    "\n",
    "    def update(next_conn, current):\n",
    "        next = next_conn['end_stop']\n",
    "        commute_so_far[next] = commute_so_far[current] + graph.sub_cost(dep_time + commute_so_far[current], next_conn.name)\n",
    "        cost[next] = commute_so_far[next] + heuristic(next_conn, goal_stop_coords)\n",
    "        came_from[next_conn.name] = curr_conn.name\n",
    "\n",
    "    with open(DATA_DIR / ('a_star_runs/' + re.sub(r\"\\W+\", \"\", start_stop) + '-' + re.sub(r\"\\W+\", \"\", goal_stop) + '.txt'), mode='w', encoding='utf-8') as f:\n",
    "        \n",
    "        i = 0\n",
    "        while len(opened) > 0:\n",
    "            print(f'[{i}]', file=f)\n",
    "            curr_idx = None \n",
    "            curr_cost = None \n",
    "\n",
    "            # choose node with the lowest cost: what if we choose a connection \n",
    "            # that ends at the particular stop?\n",
    "            for conn_idx in opened:\n",
    "                candidate_stop = graph.conn_at_index(conn_idx)['end_stop']\n",
    "                if curr_idx is None or cost[candidate_stop] < curr_cost:\n",
    "                    curr_idx = conn_idx \n",
    "                    curr_cost = cost[candidate_stop]\n",
    "                    \n",
    "            curr_conn = graph.conn_at_index(curr_idx)\n",
    "            current = curr_conn['end_stop']\n",
    "            if current == goal_stop:\n",
    "                goal_index = curr_conn.name \n",
    "                break \n",
    "\n",
    "            opened.remove(curr_idx)\n",
    "            closed.append(curr_idx)\n",
    "            \n",
    "            for next_conn in graph.get_earliest_from(dep_time=dep_time + commute_so_far[current], start_stop=current):\n",
    "                print_info(next_conn, file=f)\n",
    "                next = next_conn['end_stop']\n",
    "                if next_conn.name not in opened and next_conn.name not in closed:\n",
    "                    opened.append(next_conn.name)\n",
    "                    update(next_conn, current)\n",
    "                    print(f\"[NEW] We arrive from {start_stop} to {next} at {sec_to_time(dep_time + commute_so_far[next])}\", file=f)\n",
    "                else:\n",
    "                    if commute_so_far[next] > commute_so_far[current] + graph.sub_cost(dep_time + commute_so_far[current], next_conn.name):\n",
    "                        update(next_conn, current)\n",
    "                        print(f\"[UPDATED] We arrive from {start_stop} to {next} at {sec_to_time(dep_time + commute_so_far[next])}\", file=f)\n",
    "                        if next_conn.name in closed:\n",
    "                            closed.remove(next_conn.name)\n",
    "                            opened.append(next_conn.name)\n",
    "            print(f'OPENED = {opened}', file=f)\n",
    "            print(f'CLOSED = {closed}', file=f)\n",
    "            print(f'Commute so far = {commute_so_far}', file=f)\n",
    "            print(f'Cost = {cost}', file=f)\n",
    "            print(f'--------------[{i}]------------------', file=f)\n",
    "            i += 1\n",
    "    \n",
    "    return goal_index, came_from, cost\n"
   ]
  },
  {
   "cell_type": "code",
   "execution_count": null,
   "metadata": {},
   "outputs": [],
   "source": [
    "graph, goal_index, came_from, solution_cost, elapsed_time = run_solution(a_star_find_path, 'Pomorska', 'Pomorska', '16:00:00')"
   ]
  },
  {
   "cell_type": "code",
   "execution_count": null,
   "metadata": {},
   "outputs": [],
   "source": [
    "goal_index"
   ]
  },
  {
   "cell_type": "code",
   "execution_count": null,
   "metadata": {},
   "outputs": [],
   "source": [
    "def a_star(start_stop: str, goal_stop: str, leave_hour: str, change_time=0):\n",
    "    print(f'Commute from {start_stop} to {goal_stop} at {leave_hour}')\n",
    "    graph, goal_index, came_from, solution_cost, elapsed_time = run_solution(a_star_find_path, start_stop, goal_stop, leave_hour, change_time)\n",
    "    connections = idxs_to_nodes(graph, goal_index, came_from)\n",
    "    print_path(connections)\n",
    "    print(f'Solution cost is {solution_cost:.2f}')\n",
    "    commuting_time = sec_to_time(diff(connections[-1]['arrival_sec'], connections[0]['departure_sec']))\n",
    "    print(f\"Total time is {sec_to_time(diff(connections[-1]['arrival_sec'], time_to_normalized_sec(leave_hour)))}\")\n",
    "    print(f'Commuting takes {commuting_time}')\n",
    "    print(f'Algorithm took {elapsed_time:.2f}s to execute')"
   ]
  },
  {
   "cell_type": "code",
   "execution_count": null,
   "metadata": {},
   "outputs": [],
   "source": [
    "a_star('Pomorska', 'Pomorska', '16:00:00')"
   ]
  },
  {
   "cell_type": "code",
   "execution_count": null,
   "metadata": {},
   "outputs": [],
   "source": [
    "a_star(*test_cases[4])"
   ]
  },
  {
   "cell_type": "code",
   "execution_count": null,
   "metadata": {},
   "outputs": [],
   "source": [
    "a_star(*test_cases[0])"
   ]
  },
  {
   "cell_type": "code",
   "execution_count": null,
   "metadata": {},
   "outputs": [],
   "source": [
    "a_star(*test_cases[1])"
   ]
  },
  {
   "cell_type": "code",
   "execution_count": null,
   "metadata": {},
   "outputs": [],
   "source": [
    "a_star(*test_cases[2])"
   ]
  },
  {
   "cell_type": "code",
   "execution_count": null,
   "metadata": {},
   "outputs": [],
   "source": []
  },
  {
   "cell_type": "code",
   "execution_count": null,
   "metadata": {},
   "outputs": [],
   "source": [
    "a_star(*test_cases[3])"
   ]
  },
  {
   "cell_type": "code",
   "execution_count": 238,
   "metadata": {},
   "outputs": [
    {
     "name": "stderr",
     "output_type": "stream",
     "text": [
      "C:\\Users\\julia\\AppData\\Local\\Temp\\ipykernel_19180\\3766382681.py:3: DtypeWarning: Columns (2) have mixed types. Specify dtype option on import or set low_memory=False.\n",
      "  connection_graph = pd.read_csv(DATA_DIR / 'connection_graph.csv',\n"
     ]
    },
    {
     "name": "stdout",
     "output_type": "stream",
     "text": [
      "STOP PL. GRUNWALDZKI --> TO Renoma\n"
     ]
    }
   ],
   "source": [
    "graph, goal_index, came_from, solution_cost, elapsed_time = run_solution(find_path, *test_cases[4])"
   ]
  },
  {
   "cell_type": "code",
   "execution_count": 239,
   "metadata": {},
   "outputs": [
    {
     "data": {
      "text/plain": [
       "14560"
      ]
     },
     "execution_count": 239,
     "metadata": {},
     "output_type": "execute_result"
    }
   ],
   "source": [
    "goal_index"
   ]
  },
  {
   "cell_type": "code",
   "execution_count": 240,
   "metadata": {},
   "outputs": [
    {
     "data": {
      "text/plain": [
       "{-1: None,\n",
       " -2: None,\n",
       " -3: None,\n",
       " -4: None,\n",
       " -5: None,\n",
       " -6: None,\n",
       " -7: None,\n",
       " -8: None,\n",
       " -9: None,\n",
       " -10: None,\n",
       " -11: None,\n",
       " -12: None,\n",
       " -13: None,\n",
       " -14: None,\n",
       " -15: None,\n",
       " -16: None,\n",
       " 962747: -16,\n",
       " 849563: -13,\n",
       " 556876: -12,\n",
       " 918837: -11,\n",
       " 551172: -10,\n",
       " 915296: -9,\n",
       " 240333: -8,\n",
       " 278072: -8,\n",
       " 106752: -7,\n",
       " 71821: -6,\n",
       " 72378: -5,\n",
       " 326389: -4,\n",
       " 54062: -3,\n",
       " 22596: -2,\n",
       " 513060: -2,\n",
       " 723854: -1,\n",
       " 54063: 54062,\n",
       " 72379: 72378,\n",
       " 194986: 72378,\n",
       " 278073: 326389,\n",
       " 326390: 326389,\n",
       " 551173: 551172,\n",
       " 851073: 551172,\n",
       " 510691: 723854,\n",
       " 918860: 723854,\n",
       " 14558: 849563,\n",
       " 893890: 849563,\n",
       " 22597: 22596,\n",
       " 283: 14558,\n",
       " 14559: 14558,\n",
       " 54064: 54063,\n",
       " 72380: 72379,\n",
       " 326391: 326390,\n",
       " 551174: 551173,\n",
       " 932893: 551173,\n",
       " 22598: 22597,\n",
       " 932896: 22597,\n",
       " 54065: 54064,\n",
       " 106753: 106752,\n",
       " 240334: 240333,\n",
       " 551175: 551174,\n",
       " 284: 283,\n",
       " 459270: 283,\n",
       " 534766: 283,\n",
       " 849566: 283,\n",
       " 14560: 14559,\n",
       " 47739: 14559,\n",
       " 497759: 14559,\n",
       " 22599: 22598,\n",
       " 556879: 22598,\n",
       " 54066: 54065,\n",
       " 66676: 72380,\n",
       " 194988: 326391,\n",
       " 168454: 326391,\n",
       " 326392: 326391,\n",
       " 551176: 551175,\n",
       " 540349: 284,\n",
       " 54067: 54066,\n",
       " 106754: 106753,\n",
       " 240335: 240334,\n",
       " 47087: 510691,\n",
       " 510692: 510691,\n",
       " 551177: 551176,\n",
       " 805352: 551176,\n",
       " 22600: 22599,\n",
       " 54068: 54067,\n",
       " 132208: 326392,\n",
       " 551178: 551177,\n",
       " 932883: 551177}"
      ]
     },
     "execution_count": 240,
     "metadata": {},
     "output_type": "execute_result"
    }
   ],
   "source": [
    "came_from"
   ]
  },
  {
   "cell_type": "code",
   "execution_count": 241,
   "metadata": {},
   "outputs": [
    {
     "data": {
      "text/plain": [
       "540"
      ]
     },
     "execution_count": 241,
     "metadata": {},
     "output_type": "execute_result"
    }
   ],
   "source": [
    "solution_cost"
   ]
  },
  {
   "cell_type": "markdown",
   "metadata": {},
   "source": [
    "Przypadki testowe:\n"
   ]
  },
  {
   "cell_type": "code",
   "execution_count": 243,
   "metadata": {},
   "outputs": [
    {
     "name": "stdout",
     "output_type": "stream",
     "text": [
      "Commute from KLECINA to OSIEDLE SOBIESKIEGO at 20:00:00\n"
     ]
    },
    {
     "name": "stderr",
     "output_type": "stream",
     "text": [
      "C:\\Users\\julia\\AppData\\Local\\Temp\\ipykernel_19180\\3766382681.py:3: DtypeWarning: Columns (2) have mixed types. Specify dtype option on import or set low_memory=False.\n",
      "  connection_graph = pd.read_csv(DATA_DIR / 'connection_graph.csv',\n"
     ]
    },
    {
     "name": "stdout",
     "output_type": "stream",
     "text": [
      "STOP KLECINA --> TO OSIEDLE SOBIESKIEGO\n",
      "KLECINA [20:01:00] --- 107 ---> Skarbowców [20:02:00]\n",
      "Skarbowców [20:02:00] --- 107 ---> Os. Przyjaźni [20:03:00]\n",
      "Os. Przyjaźni [20:03:00] --- 107 ---> Zimowa [20:04:00]\n",
      "Zimowa [20:10:00] --- D ---> KRZYKI [20:13:00]\n",
      "KRZYKI [20:13:00] --- D ---> Orla [20:14:00]\n",
      "Orla [20:14:00] --- D ---> Hallera [20:17:00]\n",
      "Hallera [20:17:00] --- D ---> Rondo [20:19:00]\n",
      "Rondo [20:19:00] --- D ---> Arkady (Capitol) [20:24:00]\n",
      "Arkady (Capitol) [20:24:00] --- D ---> GALERIA DOMINIKAŃSKA [20:29:00]\n",
      "GALERIA DOMINIKAŃSKA [20:29:00] --- D ---> Urząd Wojewódzki (Impart) [20:31:00]\n",
      "Urząd Wojewódzki (Impart) [20:31:00] --- D ---> most Grunwaldzki [20:32:00]\n",
      "most Grunwaldzki [20:32:00] --- D ---> PL. GRUNWALDZKI [20:34:00]\n",
      "PL. GRUNWALDZKI [20:34:00] --- D ---> Kochanowskiego [20:37:00]\n",
      "Kochanowskiego [20:37:00] --- D ---> Śniadeckich [20:38:00]\n",
      "Śniadeckich [20:38:00] --- D ---> Zacisze [20:39:00]\n",
      "Zacisze [20:39:00] --- D ---> Kwidzyńska [20:41:00]\n",
      "Kwidzyńska [20:41:00] --- D ---> Brücknera [20:42:00]\n",
      "Brücknera [20:42:00] --- D ---> Psie Pole [20:46:00]\n",
      "Psie Pole [20:46:00] --- D ---> Psie Pole (Rondo Lotników Polskich) [20:47:00]\n",
      "Psie Pole (Rondo Lotników Polskich) [20:47:00] --- D ---> Zakrzowska [20:48:00]\n",
      "Zakrzowska [20:48:00] --- D ---> Kopańskiego [20:49:00]\n",
      "Kopańskiego [20:49:00] --- D ---> Wallenroda [20:50:00]\n",
      "Wallenroda [20:50:00] --- D ---> Królewska [20:52:00]\n",
      "Królewska [20:52:00] --- D ---> OSIEDLE SOBIESKIEGO [20:54:00]\n",
      "Total trip time is 00:54:00\n",
      "Commuting takes 00:53:00\n",
      "Algorithm took 80.69s to execute\n"
     ]
    }
   ],
   "source": [
    "dijkstra(*test_cases[0])"
   ]
  },
  {
   "cell_type": "code",
   "execution_count": 244,
   "metadata": {},
   "outputs": [
    {
     "name": "stdout",
     "output_type": "stream",
     "text": [
      "Commute from Broniewskiego to Uniwersytet Ekonomiczny at 10:15:00\n"
     ]
    },
    {
     "name": "stderr",
     "output_type": "stream",
     "text": [
      "C:\\Users\\julia\\AppData\\Local\\Temp\\ipykernel_19180\\3766382681.py:3: DtypeWarning: Columns (2) have mixed types. Specify dtype option on import or set low_memory=False.\n",
      "  connection_graph = pd.read_csv(DATA_DIR / 'connection_graph.csv',\n"
     ]
    },
    {
     "name": "stdout",
     "output_type": "stream",
     "text": [
      "STOP Broniewskiego --> TO Uniwersytet Ekonomiczny\n",
      "Broniewskiego [10:22:00] --- 908 ---> Trzebnicka [10:24:00]\n",
      "Trzebnicka [10:24:00] --- 908 ---> DWORZEC NADODRZE [10:26:00]\n",
      "DWORZEC NADODRZE [10:27:00] --- 144 ---> Paulińska [10:29:00]\n",
      "Paulińska [10:29:00] --- 144 ---> Dubois [10:32:00]\n",
      "Dubois [10:32:00] --- 144 ---> Pomorska [10:34:00]\n",
      "Pomorska [10:34:00] --- 144 ---> Kępa Mieszczańska [10:36:00]\n",
      "Kępa Mieszczańska [10:36:00] --- 144 ---> PL. JANA PAWŁA II [10:38:00]\n",
      "PL. JANA PAWŁA II [10:38:00] --- 144 ---> pl. Orląt Lwowskich [10:40:00]\n",
      "pl. Orląt Lwowskich [10:41:00] --- 15 ---> pl. Legionów [10:43:00]\n",
      "pl. Legionów [10:43:00] --- 15 ---> Arkady (Capitol) [10:45:00]\n",
      "Arkady (Capitol) [10:45:00] --- 15 ---> DWORZEC AUTOBUSOWY [10:48:00]\n",
      "DWORZEC AUTOBUSOWY [10:48:00] --- 15 ---> Sanocka [10:50:00]\n",
      "Sanocka [10:50:00] --- 15 ---> Uniwersytet Ekonomiczny [10:52:00]\n",
      "Total trip time is 00:37:00\n",
      "Commuting takes 00:30:00\n",
      "Algorithm took 62.97s to execute\n"
     ]
    }
   ],
   "source": [
    "dijkstra(*test_cases[1])"
   ]
  },
  {
   "cell_type": "code",
   "execution_count": 245,
   "metadata": {},
   "outputs": [
    {
     "name": "stdout",
     "output_type": "stream",
     "text": [
      "Commute from POŚWIĘTNE to Młodych Techników at 15:30:00\n"
     ]
    },
    {
     "name": "stderr",
     "output_type": "stream",
     "text": [
      "C:\\Users\\julia\\AppData\\Local\\Temp\\ipykernel_19180\\3766382681.py:3: DtypeWarning: Columns (2) have mixed types. Specify dtype option on import or set low_memory=False.\n",
      "  connection_graph = pd.read_csv(DATA_DIR / 'connection_graph.csv',\n"
     ]
    },
    {
     "name": "stdout",
     "output_type": "stream",
     "text": [
      "STOP POŚWIĘTNE --> TO Młodych Techników\n",
      "POŚWIĘTNE [15:34:00] --- 908 ---> Wołowska [15:35:00]\n",
      "Wołowska [15:35:00] --- 908 ---> Kępińska [15:36:00]\n",
      "Kępińska [15:36:00] --- 908 ---> Kamieńskiego [15:38:00]\n",
      "Kamieńskiego [15:38:00] --- 908 ---> Broniewskiego [15:40:00]\n",
      "Broniewskiego [15:41:00] --- 132 ---> Trzebnicka [15:43:00]\n",
      "Trzebnicka [15:43:00] --- 132 ---> DWORZEC NADODRZE [15:45:00]\n",
      "DWORZEC NADODRZE [15:45:00] --- 132 ---> Paulińska [15:47:00]\n",
      "Paulińska [15:47:00] --- 132 ---> Dubois [15:49:00]\n",
      "Dubois [15:49:00] --- 132 ---> Rynek [15:53:00]\n",
      "Rynek [15:53:00] --- 132 ---> PL. JANA PAWŁA II [15:55:00]\n",
      "PL. JANA PAWŁA II [15:55:00] --- 132 ---> Młodych Techników [15:57:00]\n",
      "Total trip time is 00:27:00\n",
      "Commuting takes 00:23:00\n",
      "Algorithm took 12.73s to execute\n"
     ]
    }
   ],
   "source": [
    "dijkstra(*test_cases[2])"
   ]
  },
  {
   "cell_type": "markdown",
   "metadata": {},
   "source": [
    "Zmien czas by dawal czas przejazdu bez czekania na poczatku"
   ]
  },
  {
   "cell_type": "code",
   "execution_count": 246,
   "metadata": {},
   "outputs": [
    {
     "name": "stdout",
     "output_type": "stream",
     "text": [
      "Commute from Śliczna to Marchewkowa at 23:50:00\n"
     ]
    },
    {
     "name": "stderr",
     "output_type": "stream",
     "text": [
      "C:\\Users\\julia\\AppData\\Local\\Temp\\ipykernel_19180\\3766382681.py:3: DtypeWarning: Columns (2) have mixed types. Specify dtype option on import or set low_memory=False.\n",
      "  connection_graph = pd.read_csv(DATA_DIR / 'connection_graph.csv',\n"
     ]
    },
    {
     "name": "stdout",
     "output_type": "stream",
     "text": [
      "STOP Śliczna --> TO Marchewkowa\n",
      "Śliczna [23:55:00] --- K ---> Borowska (Aquapark) [23:56:00]\n",
      "Borowska (Aquapark) [23:56:00] --- K ---> DWORZEC AUTOBUSOWY [23:58:00]\n",
      "DWORZEC AUTOBUSOWY [23:58:00] --- K ---> DWORZEC GŁÓWNY [24:00:00]\n",
      "DWORZEC GŁÓWNY [24:04:00] --- 243 ---> Wzgórze Partyzantów [24:06:00]\n",
      "Wzgórze Partyzantów [24:06:00] --- 251 ---> GALERIA DOMINIKAŃSKA [24:08:00]\n",
      "GALERIA DOMINIKAŃSKA [24:08:00] --- 251 ---> Hala Targowa [24:09:00]\n",
      "Hala Targowa [24:09:00] --- 251 ---> Dubois [24:11:00]\n",
      "Dubois [24:11:00] --- 251 ---> pl. Bema [24:13:00]\n",
      "pl. Bema [24:13:00] --- 251 ---> Na Szańcach [24:13:00]\n",
      "Na Szańcach [24:13:00] --- 251 ---> Jedności Narodowej [24:14:00]\n",
      "Jedności Narodowej [24:14:00] --- 251 ---> Nowowiejska [24:16:00]\n",
      "Nowowiejska [24:01:00] --- 242 ---> Daszyńskiego [24:02:00]\n",
      "Daszyńskiego [24:02:00] --- 242 ---> Mosty Warszawskie [24:03:00]\n",
      "Mosty Warszawskie [24:03:00] --- 242 ---> KROMERA [24:05:00]\n",
      "KROMERA [24:05:00] --- 242 ---> Kromera (Czajkowskiego) [24:06:00]\n",
      "Kromera (Czajkowskiego) [24:06:00] --- 242 ---> Grudziądzka [24:07:00]\n",
      "Grudziądzka [24:07:00] --- 242 ---> Brücknera [24:08:00]\n",
      "Brücknera [24:08:00] --- 242 ---> Olsztyńska [24:10:00]\n",
      "Olsztyńska [24:10:00] --- 242 ---> Kowalska 56 [24:11:00]\n",
      "Kowalska 56 [24:11:00] --- 242 ---> Kowale (Stacja kolejowa) [24:12:00]\n",
      "Kowale (Stacja kolejowa) [24:12:00] --- 242 ---> Działdowska [24:13:00]\n",
      "Działdowska [24:13:00] --- 242 ---> KOWALE [24:14:00]\n",
      "KOWALE [24:14:00] --- 242 ---> KOWALE [24:14:00]\n",
      "KOWALE [24:14:00] --- 242 ---> KOWALE [24:14:00]\n",
      "KOWALE [24:14:00] --- 242 ---> Działdowska [24:15:00]\n",
      "Działdowska [24:04:00] --- 143 ---> Kowale (Stacja kolejowa) [24:05:00]\n",
      "Kowale (Stacja kolejowa) [24:05:00] --- 143 ---> Kowalska 56 [24:06:00]\n",
      "Kowalska 56 [24:06:00] --- 143 ---> Olsztyńska [24:07:00]\n",
      "Olsztyńska [24:07:00] --- 143 ---> C.H. Korona [24:08:00]\n",
      "C.H. Korona [24:01:00] --- 251 ---> Brücknera [24:02:00]\n",
      "Brücknera [24:02:00] --- 251 ---> Grudziądzka [24:03:00]\n",
      "Grudziądzka [24:03:00] --- 251 ---> Kromera (Czajkowskiego) [24:04:00]\n",
      "Kromera (Czajkowskiego) [24:04:00] --- 251 ---> KROMERA [24:05:00]\n",
      "KROMERA [24:05:00] --- 251 ---> Mosty Warszawskie [24:06:00]\n",
      "Mosty Warszawskie [24:06:00] --- 251 ---> Daszyńskiego [24:07:00]\n",
      "Daszyńskiego [24:07:00] --- 251 ---> Nowowiejska [24:08:00]\n",
      "Nowowiejska [24:08:00] --- 251 ---> Jedności Narodowej [24:09:00]\n",
      "Jedności Narodowej [24:09:00] --- 251 ---> Na Szańcach [24:10:00]\n",
      "Na Szańcach [24:10:00] --- 251 ---> pl. Bema [24:11:00]\n",
      "pl. Bema [24:11:00] --- 251 ---> Dubois [24:13:00]\n",
      "Dubois [24:13:00] --- 251 ---> Hala Targowa [24:15:00]\n",
      "Hala Targowa [24:00:00] --- 244 ---> GALERIA DOMINIKAŃSKA [24:01:00]\n",
      "GALERIA DOMINIKAŃSKA [24:01:00] --- 244 ---> Wzgórze Partyzantów [24:02:00]\n",
      "Wzgórze Partyzantów [24:02:00] --- 244 ---> DWORZEC GŁÓWNY [24:03:00]\n",
      "DWORZEC GŁÓWNY [24:03:00] --- 244 ---> DWORZEC GŁÓWNY [24:04:00]\n",
      "DWORZEC GŁÓWNY [24:04:00] --- 244 ---> DWORZEC AUTOBUSOWY [24:06:00]\n",
      "DWORZEC AUTOBUSOWY [24:06:00] --- 244 ---> Dyrekcyjna [24:07:00]\n",
      "Dyrekcyjna [24:07:00] --- 244 ---> PETRUSEWICZA [24:09:00]\n",
      "PETRUSEWICZA [24:00:00] --- 241 ---> DWORZEC AUTOBUSOWY [24:03:00]\n",
      "DWORZEC AUTOBUSOWY [24:03:00] --- 241 ---> EPI [24:05:00]\n",
      "EPI [24:05:00] --- 248 ---> Zaolziańska [24:06:00]\n",
      "Zaolziańska [24:06:00] --- 248 ---> Wielka [24:07:00]\n",
      "Wielka [24:07:00] --- 248 ---> Rondo [24:08:00]\n",
      "Rondo [24:08:00] --- 248 ---> Sztabowa [24:09:00]\n",
      "Sztabowa [24:09:00] --- 248 ---> Hallera [24:10:00]\n",
      "Hallera [24:10:00] --- 248 ---> Jastrzębia [24:11:00]\n",
      "Jastrzębia [24:11:00] --- 248 ---> Orla [24:12:00]\n",
      "Orla [24:42:00] --- 247 ---> KRZYKI [24:43:00]\n",
      "KRZYKI [24:43:00] --- 247 ---> Radio i Telewizja [24:44:00]\n",
      "Radio i Telewizja [24:44:00] --- 247 ---> Przyjaźni [24:45:00]\n",
      "Przyjaźni [24:45:00] --- 247 ---> Zimowa [24:46:00]\n",
      "Zimowa [24:46:00] --- 247 ---> Os. Przyjaźni [24:46:00]\n",
      "Os. Przyjaźni [24:46:00] --- 247 ---> Skarbowców [24:47:00]\n",
      "Skarbowców [24:47:00] --- 247 ---> KLECINA [24:48:00]\n",
      "KLECINA [24:48:00] --- 247 ---> Kościelna [24:49:00]\n",
      "Kościelna [24:49:00] --- 247 ---> WAŁBRZYSKA [24:50:00]\n",
      "WAŁBRZYSKA [24:50:00] --- 247 ---> Marchewkowa [24:51:00]\n",
      "Total trip time is 01:01:00\n",
      "Commuting takes 00:56:00\n",
      "Algorithm took 108.53s to execute\n"
     ]
    }
   ],
   "source": [
    "dijkstra(*test_cases[3])"
   ]
  },
  {
   "cell_type": "code",
   "execution_count": 99,
   "metadata": {},
   "outputs": [
    {
     "name": "stderr",
     "output_type": "stream",
     "text": [
      "C:\\Users\\julia\\AppData\\Local\\Temp\\ipykernel_19180\\2581666429.py:3: DtypeWarning: Columns (2) have mixed types. Specify dtype option on import or set low_memory=False.\n",
      "  connection_graph = pd.read_csv(DATA_DIR / 'connection_graph.csv',\n"
     ]
    },
    {
     "ename": "NameError",
     "evalue": "name 'print_info' is not defined",
     "output_type": "error",
     "traceback": [
      "\u001b[1;31m---------------------------------------------------------------------------\u001b[0m",
      "\u001b[1;31mNameError\u001b[0m                                 Traceback (most recent call last)",
      "Cell \u001b[1;32mIn[99], line 1\u001b[0m\n\u001b[1;32m----> 1\u001b[0m graph, goal_index, came_from, solution_cost, elapsed_time \u001b[38;5;241m=\u001b[39m \u001b[43mrun_solution\u001b[49m\u001b[43m(\u001b[49m\u001b[43mfind_path\u001b[49m\u001b[43m,\u001b[49m\u001b[43m \u001b[49m\u001b[38;5;241;43m*\u001b[39;49m\u001b[43mtest_cases\u001b[49m\u001b[43m[\u001b[49m\u001b[38;5;241;43m4\u001b[39;49m\u001b[43m]\u001b[49m\u001b[43m)\u001b[49m\n",
      "Cell \u001b[1;32mIn[96], line 7\u001b[0m, in \u001b[0;36mrun_solution\u001b[1;34m(find_path_function, start_stop, goal_stop, leave_hour, change_time)\u001b[0m\n\u001b[0;32m      3\u001b[0m connection_graph \u001b[38;5;241m=\u001b[39m pd\u001b[38;5;241m.\u001b[39mread_csv(DATA_DIR \u001b[38;5;241m/\u001b[39m \u001b[38;5;124m'\u001b[39m\u001b[38;5;124mconnection_graph.csv\u001b[39m\u001b[38;5;124m'\u001b[39m, \n\u001b[0;32m      4\u001b[0m                            usecols\u001b[38;5;241m=\u001b[39m[\u001b[38;5;124m'\u001b[39m\u001b[38;5;124mline\u001b[39m\u001b[38;5;124m'\u001b[39m, \u001b[38;5;124m'\u001b[39m\u001b[38;5;124mdeparture_time\u001b[39m\u001b[38;5;124m'\u001b[39m, \u001b[38;5;124m'\u001b[39m\u001b[38;5;124marrival_time\u001b[39m\u001b[38;5;124m'\u001b[39m, \u001b[38;5;124m'\u001b[39m\u001b[38;5;124mstart_stop\u001b[39m\u001b[38;5;124m'\u001b[39m,\n\u001b[0;32m      5\u001b[0m    \u001b[38;5;124m'\u001b[39m\u001b[38;5;124mend_stop\u001b[39m\u001b[38;5;124m'\u001b[39m, \u001b[38;5;124m'\u001b[39m\u001b[38;5;124mstart_stop_lat\u001b[39m\u001b[38;5;124m'\u001b[39m, \u001b[38;5;124m'\u001b[39m\u001b[38;5;124mstart_stop_lon\u001b[39m\u001b[38;5;124m'\u001b[39m, \u001b[38;5;124m'\u001b[39m\u001b[38;5;124mend_stop_lat\u001b[39m\u001b[38;5;124m'\u001b[39m, \u001b[38;5;124m'\u001b[39m\u001b[38;5;124mend_stop_lon\u001b[39m\u001b[38;5;124m'\u001b[39m])\n\u001b[0;32m      6\u001b[0m graph \u001b[38;5;241m=\u001b[39m Graph(connection_graph, change_time)\n\u001b[1;32m----> 7\u001b[0m goal_index, came_from, costs \u001b[38;5;241m=\u001b[39m \u001b[43mfind_path_function\u001b[49m\u001b[43m(\u001b[49m\u001b[43mgraph\u001b[49m\u001b[43m,\u001b[49m\u001b[43m \u001b[49m\u001b[43mstart_stop\u001b[49m\u001b[43m,\u001b[49m\u001b[43m \u001b[49m\u001b[43mgoal_stop\u001b[49m\u001b[43m,\u001b[49m\u001b[43m \u001b[49m\u001b[43mleave_hour\u001b[49m\u001b[43m)\u001b[49m\n\u001b[0;32m      8\u001b[0m end \u001b[38;5;241m=\u001b[39m timer()\n\u001b[0;32m      9\u001b[0m elapsed_time \u001b[38;5;241m=\u001b[39m (end \u001b[38;5;241m-\u001b[39m start)\n",
      "Cell \u001b[1;32mIn[93], line 31\u001b[0m, in \u001b[0;36mfind_path\u001b[1;34m(graph, start_stop, goal_stop, leave_hour)\u001b[0m\n\u001b[0;32m     29\u001b[0m \u001b[38;5;28mprint\u001b[39m(\u001b[38;5;124mf\u001b[39m\u001b[38;5;124m'\u001b[39m\u001b[38;5;124m[\u001b[39m\u001b[38;5;132;01m{\u001b[39;00mi\u001b[38;5;132;01m}\u001b[39;00m\u001b[38;5;124m]\u001b[39m\u001b[38;5;124m'\u001b[39m, file\u001b[38;5;241m=\u001b[39mf)\n\u001b[0;32m     30\u001b[0m \u001b[38;5;28;01mfor\u001b[39;00m next_conn \u001b[38;5;129;01min\u001b[39;00m graph\u001b[38;5;241m.\u001b[39mget_earliest_from(dep_time\u001b[38;5;241m=\u001b[39mdep_time \u001b[38;5;241m+\u001b[39m cost, start_stop\u001b[38;5;241m=\u001b[39mconn):\n\u001b[1;32m---> 31\u001b[0m     \u001b[43mprint_info\u001b[49m(next_conn, file\u001b[38;5;241m=\u001b[39mf)\n\u001b[0;32m     32\u001b[0m     \u001b[38;5;66;03m# cost of commuting start --> current and current --> next \u001b[39;00m\n\u001b[0;32m     33\u001b[0m     new_cost \u001b[38;5;241m=\u001b[39m cost \u001b[38;5;241m+\u001b[39m graph\u001b[38;5;241m.\u001b[39msub_cost(dep_time \u001b[38;5;241m+\u001b[39m cost, next_conn\u001b[38;5;241m.\u001b[39mname, conn\u001b[38;5;241m.\u001b[39mname)\n",
      "\u001b[1;31mNameError\u001b[0m: name 'print_info' is not defined"
     ]
    }
   ],
   "source": [
    "graph, goal_index, came_from, solution_cost, elapsed_time = run_solution(find_path, *test_cases[4])"
   ]
  },
  {
   "cell_type": "code",
   "execution_count": null,
   "metadata": {},
   "outputs": [],
   "source": [
    "came_from"
   ]
  },
  {
   "cell_type": "code",
   "execution_count": null,
   "metadata": {},
   "outputs": [],
   "source": [
    "graph.conn_at_index(226197)"
   ]
  },
  {
   "cell_type": "code",
   "execution_count": null,
   "metadata": {},
   "outputs": [],
   "source": []
  },
  {
   "cell_type": "code",
   "execution_count": 70,
   "metadata": {},
   "outputs": [
    {
     "data": {
      "text/plain": [
       "array(['Zajezdnia Obornicka', 'Paprotna', 'Obornicka (Wołowska)',\n",
       "       'Bezpieczna', 'Bałtycka', 'Broniewskiego', 'Pola', 'Syrokomli',\n",
       "       'Kasprowicza', 'pl. Daniłowskiego', 'Przybyszewskiego',\n",
       "       'Czajkowskiego', 'KOSZAROWA (Uniwersytet)', 'KOSZAROWA (Szpital)',\n",
       "       'Berenta', 'KROMERA', 'Mosty Warszawskie', 'Wyszyńskiego',\n",
       "       'Ogród Botaniczny', 'Katedra',\n",
       "       'Urząd Wojewódzki (Muzeum Narodowe)', 'Poczta Główna',\n",
       "       'skwer Krasińskiego', 'Wzgórze Partyzantów', 'Renoma',\n",
       "       'Arkady (Capitol)', 'Pl. Hirszfelda', 'Krucza',\n",
       "       'Krucza (Mielecka)', 'Inżynierska', 'Aleja Pracy', 'FAT',\n",
       "       'GRABISZYŃSKA (Cmentarz)', 'Solskiego', 'Wiejska', 'Kadłubka',\n",
       "       'Stanki', 'Bukowskiego', 'RACŁAWICKA', 'Rymarska', 'Wawrzyniaka',\n",
       "       'Chłodna', 'Sowia', 'KRZYKI', 'Dworzec Główny (Dworcowa)',\n",
       "       'Krasińskiego', 'Damrota', 'Koszarowa', 'Sołtysowicka',\n",
       "       'Poprzeczna', 'Redycka', 'Bagatela', 'SOŁTYSOWICE', 'POŚWIĘTNE',\n",
       "       'Wołowska', 'Kępińska', 'Kamieńskiego', 'Grudziądzka', 'Brücknera',\n",
       "       'Psie Pole', 'Psie Pole (Rondo Lotników Polskich)', 'Zakrzowska',\n",
       "       'Kopańskiego', 'Wallenroda', 'Królewska', 'OSIEDLE SOBIESKIEGO',\n",
       "       'Kwidzyńska', 'Zacisze', 'Śniadeckich', 'Kochanowskiego',\n",
       "       'PL. GRUNWALDZKI', 'most Grunwaldzki', 'GALERIA DOMINIKAŃSKA',\n",
       "       'EPI', 'DWORZEC AUTOBUSOWY', 'Dyrekcyjna', 'Rondo', 'Hallera',\n",
       "       'Orla', 'Zimowa', 'Os. Przyjaźni', 'Skarbowców', 'KLECINA',\n",
       "       'Kościelna', 'WAŁBRZYSKA', 'Marchewkowa', 'Kleczkowska',\n",
       "       'pl. Strzelecki', 'Pomorska', 'Mosty Pomorskie', 'Rynek',\n",
       "       'Narodowe Forum Muzyki', 'GIEŁDOWA (Centrum Hurtu)',\n",
       "       'Urząd Wojewódzki (Impart)', 'Kromera (Czajkowskiego)',\n",
       "       'Świdnicka', 'Mochnackiego', 'Jutrosińska',\n",
       "       'Kamieńskiego (Szpital)', 'KAMIEŃSKIEGO (pętla)', 'Różanka',\n",
       "       'Łużycka', 'most Osobowicki', 'DWORZEC GŁÓWNY',\n",
       "       'Borowska (Aquapark)', 'Śliczna', 'Działkowa', 'GAJ',\n",
       "       'Świeradowska', 'GAJ - pętla', 'LITEWSKA', 'Inflancka',\n",
       "       'Kowieńska', 'Żmudzka', 'Kiełczowska', 'Poleska',\n",
       "       'KIEŁCZOWSKA (LZN)', 'PETRUSEWICZA', 'Trzebnicka',\n",
       "       'DWORZEC NADODRZE', 'Słowiańska', 'Nowowiejska', 'Prusa',\n",
       "       'Piastowska', 'Kliniki - Politechnika Wrocławska', 'Hala Stulecia',\n",
       "       'ZOO', 'Tramwajowa', 'Chełmońskiego',\n",
       "       'Piramowicza (Kampus Biskupin)', 'Spółdzielcza', 'BISKUPIN',\n",
       "       'Zajezdnia OŁBIN', 'Reja', 'Zaolziańska', 'Wielka', 'Sztabowa',\n",
       "       'Jastrzębia', 'Sanocka', 'Uniwersytet Ekonomiczny', 'pl. Bema',\n",
       "       'Na Szańcach', 'Jedności Narodowej', 'Zajezdnia GAJ', 'LEŚNICA',\n",
       "       'Jeleniogórska', 'Wschowska', 'Złotnicka',\n",
       "       'Kamiennogórska (Ośrodek dla niewidomych)',\n",
       "       'Kosmonautów (Szpital)', 'Grabowa', 'Aleja Architektów',\n",
       "       'Glinianki', 'Tarczyński Arena (Lotnicza)', 'PILCZYCE',\n",
       "       'Metalowców', 'Bajana', 'Park Zachodni', 'DH Astra', 'Kwiska',\n",
       "       'Małopanewska', 'Niedźwiedzia', 'Wrocław Mikołajów (Zachodnia)',\n",
       "       'pl. Strzegomski (Muzeum Współczesne)', 'Młodych Techników',\n",
       "       'PL. JANA PAWŁA II', 'Zamkowa', 'pl. Wróblewskiego',\n",
       "       'pl. Zgody (Muzeum Etnograficzne)', 'Na Niskich Łąkach',\n",
       "       'Krakowska', 'KRAKOWSKA (Centrum handlowe)', 'Armii Krajowej',\n",
       "       'Park Wschodni', 'Karwińska', 'Głubczycka', 'KSIĘŻE MAŁE',\n",
       "       'Komuny Paryskiej', 'Kościuszki', 'Pułaskiego',\n",
       "       'Park Staromiejski', 'ŚWIDNICKA (Dom Europy)', 'Opera',\n",
       "       'Zajezdnia BOREK', 'Oławska', 'Wita Stwosza',\n",
       "       'Ossolineum (Uniwersytecka)', 'Dubois', 'Paulińska',\n",
       "       'Uniwersytet Wrocławski', 'pl. Legionów', 'Kolejowa',\n",
       "       'Grabiszyńska', 'Pereca', 'Stalowa', 'pl. Srebrny',\n",
       "       'Bzowa (Centrum Historii Zajezdnia)', 'Hutmen', 'Fiołkowa',\n",
       "       'GRABISZYŃSKA (Cmentarz II)', 'OPORÓW', 'Gajowicka', 'Mielecka',\n",
       "       'Ojca Beyzyma', 'pl. Orląt Lwowskich', 'Kępa Mieszczańska',\n",
       "       'Dworzec Główny (Stawowa)', 'Daszyńskiego', 'Kętrzyńska', 'Gęsia',\n",
       "       'Bociania', 'KOWALE', 'Radio i Telewizja', 'Przyjaźni',\n",
       "       'Braterska', 'Sąsiedzka', 'Joannitów', 'Gajowa', 'Prudnicka',\n",
       "       'Kamienna', 'Bardzka', 'Nyska', 'Tarnogajska', 'Klimasa',\n",
       "       'TARNOGAJ', 'pl. Nowy Targ', 'Hala Targowa', 'KARŁOWICE',\n",
       "       'SĘPOLNO', 'Godebskiego (AWF Wrocław)', '8 Maja',\n",
       "       'Stadion Olimpijski', 'Karłowicza', 'Chopina', 'Grunwaldzka',\n",
       "       'Górnickiego', 'Wiśniowa', 'Jaworowa', 'Weigla (Szpital)',\n",
       "       'Pułtuska', 'PARK POŁUDNIOWY', 'Kolista', 'PILCZYCKA (Anima)',\n",
       "       'Modra', 'KOZANÓW (Dokerska)', 'Kozanowska', 'Bujwida', 'Dolmed',\n",
       "       'Śrubowa', 'Wrocławski Park Przemysłowy', 'Park Biznesu',\n",
       "       'Babimojska', 'Strzegomska 148', 'Nowodworska',\n",
       "       'Strzegomska (krzyżówka)', 'Rogowska (P+R)',\n",
       "       'Rogowska (ogrody działkowe)', 'Budziszyńska', 'Zemska',\n",
       "       'Park Tysiąclecia', 'Wrocław Nowy Dwór (P+R)', 'Hubska (Dawida)',\n",
       "       'Krynicka', 'Morwowa', 'Michalczyka', 'Wrocław Szczepin',\n",
       "       'Długa (ogrody działkowe)', 'Wrocław Popowice (17.południk)',\n",
       "       'Park Popowicki', 'Białowieska', 'Port Popowice',\n",
       "       'Wejherowska (Hala Orbita)', 'Górnicza', 'Dworska',\n",
       "       'TARCZYŃSKI ARENA (Królewiecka)', 'Smolecka', 'Dworzec Świebodzki',\n",
       "       'GRABISZYNEK', 'Złotostocka', 'Gazowa', 'Księska', 'Blizanowicka',\n",
       "       'Starodworska', 'Mokry Dwór - Starodworska', 'MOKRY DWÓR',\n",
       "       'Irysowa', 'Obornicka (Obwodnica)', 'most Milenijny',\n",
       "       'Milenijna (Hala Orbita)', 'Królewiecka', 'Warmińska',\n",
       "       'Królewiecka (Park)', 'Suwalska', 'Brodzka', 'Lubelska', 'Zbożowa',\n",
       "       'PRACZE ODRZAŃSKIE', 'PRACZE ODRZAŃSKIE (Stacja kolejowa)',\n",
       "       'STABŁOWICKA (Ośrodek zdrowia)', 'Główna', 'Park Stabłowicki',\n",
       "       'Stabłowice', 'Ciechocińska', 'Śnieżna', 'Średzka', 'Stabłowicka',\n",
       "       'Królewiecka (Staw)', 'Wiślańska', 'Dzielna', 'KOZANÓW',\n",
       "       'Maślicka (Osiedle)', 'Rędzińska (Cmentarz)',\n",
       "       'Maślice Małe (Brodnicka)', 'Śliwowa', 'Maślicka (Staw)',\n",
       "       'Północna', 'Kozia', 'Jędrzejowska', 'Chwałkowska', 'Wełniana',\n",
       "       'Wojanowska', 'Arachidowa', 'Olbrachtowska', 'Stoszowska',\n",
       "       'Fieldorfa', 'Fieldorfa (Szpital)', 'Głogowska', 'Szczepin',\n",
       "       'Inowrocławska', 'PL. SOLIDARNOŚCI', 'LITOMSKA (ZUS)',\n",
       "       'JANÓWEK (WOŚ)', 'Janówek', 'Turoszowska', 'RĘDZIŃSKA',\n",
       "       'OSOBOWICE', 'Jarocińska', 'Lipska', 'Witkowska', 'Góra Kapliczna',\n",
       "       'ŚLAZOWA', 'OSOBOWICKA (Cmentarz)', 'OSOBOWICKA (Cmentarz II)',\n",
       "       'Bałtycka (szkoła)', 'Ostowa (Muzeum Militarne)',\n",
       "       'Pełczyńska (Stacja kolejowa)', 'Kominiarska', 'Lipa Piotrowska',\n",
       "       'Perzowa', 'Zajączkowska', 'ŚWINIARY', 'Ćwiczebna',\n",
       "       'MIŃSKA (Rondo Rotm. Pileckiego)', 'Płaska', 'Zagłoby', 'Przybyły',\n",
       "       'Graniczna', 'Skarżyńskiego', 'Zarembowicza',\n",
       "       'Strachowice General Aviation', 'Graniczna (Strachowicka)',\n",
       "       'Rdestowa', 'PORT LOTNICZY', 'MUCHOBÓR MAŁY (Stacja kolejowa)',\n",
       "       'Gądowianka', 'Na Ostatnim Groszu', 'Morelowskiego',\n",
       "       'Adamieckiego', 'Ostrowskiego', 'Końcowa', 'Krzemieniecka',\n",
       "       'Trawowa', 'Stanisławowska (W.K. Formaty)', 'Muchobór Wielki',\n",
       "       'Muchobór Wielki (Roślinna)', 'Tyrmanda',\n",
       "       'Chociebuska (C. K. Nowy Pafawag)', 'Rogowska (Ośrodek sportu)',\n",
       "       'Kołobrzeska', 'Szczecińska', 'Żerniki', 'Strachowicka',\n",
       "       'Żernicka', 'Jerzmanowska nr 9', 'Jerzmanowska nr 17',\n",
       "       'Częstochowska', 'Halicka', 'Zagony', 'KLECINA (Stacja kolejowa)',\n",
       "       'Lawendowa', 'Rzemieślnicza', 'Kominiarska (plac sportowy)',\n",
       "       'PRACZE WIDAWSKIE', 'Iwiny - rondo', 'Vivaldiego', 'Kajdasza',\n",
       "       'Jagodzińska', 'Malinowskiego', 'Konduktorska', 'Buforowa-Rondo',\n",
       "       'BARDZKA (Cmentarz)', 'Iwiny - Kolejowa', 'Iwiny - Kościuszki 21',\n",
       "       'IWINY - pętla', 'Tymiankowa', 'Cynamonowa', 'Waniliowa',\n",
       "       'KMINKOWA', 'Zakładowa', 'Słonimskiego', 'C.H. Korona', 'Zielna',\n",
       "       'Świętokrzyska', 'Wyścigowa', 'Malinowa', 'Ożynowa',\n",
       "       'rondo Św. Ojca Pio', 'Wysoka - osiedle', 'Wysoka - Radosna',\n",
       "       'Wysoka - Chabrowa', 'Wysoka', 'ROD Storczyk', 'Kutrzeby',\n",
       "       'Ołtaszyn', 'Świt', 'Parafialna', 'Wojszyce', 'Przystankowa',\n",
       "       'Borowska (Szpital)', 'ROD Bajki', 'Oboźna', 'Gałczyńskiego',\n",
       "       'Grota-Roweckiego', 'Kurpiów', 'Strachowskiego', 'Husarska',\n",
       "       'Partynice (tor wyścigów konnych)', 'Świstackiego', 'Wiaduktowa',\n",
       "       'Topolowa', 'BROCHÓW (Stacja kolejowa)', 'Chińska', 'BROCHÓW',\n",
       "       'Ziemniaczana', 'Arabska', 'BIEŃKOWICE',\n",
       "       'Komuny Paryskiej (szkoła)', 'WOJNÓW (pętla)', 'Wojnów',\n",
       "       'Strumykowa', 'Smocza', 'Kmieca', 'Zagrodnicza',\n",
       "       'Niedziałkowskiego', 'Mikołowska', 'Swojczyce', 'Magellana',\n",
       "       'Kolumba', 'Monopolowa', 'Park Szczytnicki', 'Mickiewicza',\n",
       "       'RUBCZAKA (Stacja kolejowa)', 'Rubczaka', 'Serowarska',\n",
       "       'Trzmielowicka', 'Pustecka', 'Miodowa', 'Szkolna',\n",
       "       'Ratyń - skrzyżowanie', 'Gromadzka', 'RATYŃ', 'Rodła',\n",
       "       'Kośnego (Jerzmanowska)', 'Adamczewskich', 'Jasińskiej',\n",
       "       'Jerzmanowo (Cmentarz II)', 'Jerzmanowo (Cmentarz I)', 'Piołunowa',\n",
       "       'Eluarda', 'Brzezińska', 'Owczarska', 'Dolnobrzeska', 'Krępicka',\n",
       "       'RĘDZIN', 'Las Osobowicki', 'Olsztyńska', 'Kowalska 56',\n",
       "       'Kowale (Stacja kolejowa)', 'Działdowska', 'Tczewska', 'Kowalska',\n",
       "       'Kowalska I', 'Ceglana', 'Gospodarska', 'Miłoszycka', 'Volvo',\n",
       "       'Volvo - brama II', 'Szkocka', 'Awicenny (Stacja kolejowa)',\n",
       "       'Awicenny (Poczta Polska)', 'Awicenny', 'Rakowiecka',\n",
       "       'Międzyrzecka', 'Bierdzany', 'Nowy Dom', 'Opatowicka nr 59',\n",
       "       'Opatowicka nr 85', 'OPATOWICE', 'Opatowicka nr 127', 'Zalewowa',\n",
       "       'Trestno - świetlica', 'Trestno - kościół', 'TRESTNO (pętla)',\n",
       "       'BLIZANOWICE', 'MULICKA', 'Gorlicka', 'Szewczenki',\n",
       "       'Kiełczowska (Cmentarz)', 'Piłsudskiego', 'Gwiaździsta',\n",
       "       'Orlińskiego', 'Drzewieckiego', 'Hynka', 'Bystrzycka',\n",
       "       'KUŹNIKI (Stacja kolejowa)', 'KUŹNIKI', 'Hermanowska', 'Wolska',\n",
       "       'Polkowicka', 'Hartmana', 'Marszowicka', 'Bojanowska', 'Małomicka',\n",
       "       'Marszowice', 'Rękodzielnicza', 'KSIĘŻE WIELKIE', 'Brochowska',\n",
       "       'Sosnowiecka', 'Zagłębiowska', 'Wapienna', 'Drukarska', 'Grochowa',\n",
       "       'ROD Oświata', 'Wrocławski Park Technologiczny', 'Widna', 'Arena',\n",
       "       'Komandorska', 'Kolbuszowska (Stadion)', 'Jordanowska', 'Chachaja',\n",
       "       'Tyniecka', 'Kwiatkowskiego (Rondo)', 'TYNIECKA (pętla)',\n",
       "       'Zaporoska', 'Szybowcowa', 'Bulwar Dedala', 'Racławicka (szkoła)',\n",
       "       'Modlińska', 'Wojszycka', 'Gajowicka (szkoła)', 'ZWYCIĘSKA',\n",
       "       'Sudecka', 'Żelazna', 'Tęczowa', 'Przedwiośnie (Stacja kolejowa)',\n",
       "       'ZAKRZÓW', 'Żmigrodzka (Obwodnica)', 'Poświęcka',\n",
       "       'POŚWIĘCKA (Ośrodek zdrowia)', 'Serbska (C.K. Agora)',\n",
       "       'Kaczorowskiego', 'Jerzmanowo (Cmentarz)', 'Osiniecka',\n",
       "       'Gąsiorowskiego', 'Milicka', 'Kątowa', 'Ługowa', 'Starościńska',\n",
       "       'POLANOWICE', 'Strzegomska (Muzeum Współczesne)', 'Połabian',\n",
       "       'Słoneczna', 'Marcepanowa', 'Orzechowa', 'ROD Zgoda', 'Tunelowa',\n",
       "       'ROD Mieczyk', 'Park Brochowski', 'Semaforowa', 'ROD Bielany',\n",
       "       'C.H. Aleja Bielany', 'AUCHAN', 'Iwiny - Brochowska/Polna',\n",
       "       'Iwiny - Słoneczna', 'Armii Krajowej (Bogedaina)',\n",
       "       'SPISKA (Ośrodek sportu)', 'Grzybowa', 'Mokra', 'Las Mokrzański',\n",
       "       'Krępicka - szkoła', 'Zajazdowa', 'Leśnica - Hermes', 'Mokrzańska',\n",
       "       'ŻAR', 'Uniwersytet Dolnośląski DSW', 'Fabryczna', 'Otyńska',\n",
       "       'Krzeptowska', 'Jarnołtowska (Samotworska)', 'JARNOŁTÓW',\n",
       "       'Kośnego (Jarnołtowska)', 'Szkoła Żerniki', 'Biegasa',\n",
       "       'Dembowskiego (Kosiby)', 'Skierniewicka', 'Jarzębinowa',\n",
       "       'Zielińskiego', 'Libelta', 'Monte Cassino', 'Okrzei',\n",
       "       'Partyzantów', 'BARTOSZOWICE', 'Bacciarellego', 'Piwnika-Ponurego',\n",
       "       'ROD Źródło Zdrowia', 'ROD Pod Dębem', 'Białych Goździków',\n",
       "       'KŁOKOCZYCE', 'Psie Pole (Gorlicka)', 'Wielkopolska', 'Złotniki',\n",
       "       'Małopolska (Ośrodek dla niewidomych)',\n",
       "       'PSIE POLE (Stacja kolejowa)', 'Dobroszycka',\n",
       "       'BIERUTOWSKA (Ośrodek zdrowia)', 'Azaliowa', 'Pawłowice',\n",
       "       'Starodębowa', 'Pawłowicka', 'Przebiśniegowa',\n",
       "       'PAWŁOWICE (Widawska)', 'Malwowa', 'METALOWCÓW (Ośrodek sportu)',\n",
       "       'Aleja Wędrowców', 'Ślusarska', 'BLACHARSKA', 'Hippiczna',\n",
       "       'Moniuszki', 'Lutosławskiego', 'Asfaltowa (szkoła)', 'Klasztorna',\n",
       "       'Witelona', 'Biskupice Podg. LG Electronics',\n",
       "       'Biskupice Podg. LG Energy Solution Wr. I',\n",
       "       'Biskupice Podg. LG Chem', 'Biskupice Podg. LG Innotek',\n",
       "       'Biskupice Podg. DSC Poland/Dong Yang',\n",
       "       'Bielany Wrocławskie - Makro', 'Bielany Wrocławskie - Kościół',\n",
       "       'Bielany Wrocławskie - Boczna', 'Bielany Wrocławskie - Kwiatowa',\n",
       "       'Bielany Wrocławskie - skrzyżowanie', 'Bielany Wrocławskie - PKP',\n",
       "       'Ślęza - skrzyżowanie', 'Ślęza - Dębowa', 'Ślęza - autostrada',\n",
       "       'Sucha', 'Ślęza - Szyszkowa', 'PL. STASZICA',\n",
       "       'Żórawina - kościół Św. Trójcy', 'Żórawina - Orange',\n",
       "       'Żórawina - osiedle', 'Szukalice', 'Rzeplin - Al. Lipowa\\xa0',\n",
       "       'Suchy Dwór - skrzy. Mędłów',\n",
       "       'Suchy Dwór - skrzy. (Wrocławska/Główna)',\n",
       "       'Biestrzyków - Wrocławska', 'Żórawina - skrzy.', 'Łozina - skrzy.',\n",
       "       'Łozina - Cmentarz', 'Budziwojowice', 'Łosice - plac zabaw',\n",
       "       'Łosice', 'Dąbrowica', 'Dobroszów - skrzy. Węgierska',\n",
       "       'Dobroszów Oleśnicki', 'Januszkowice - Wrocławska',\n",
       "       'Szczodre - stawy', 'Szczodre - Szkoła',\n",
       "       'Domaszczyn - Wrocławska sklep', 'Domaszczyn - Kościół',\n",
       "       'Szczodre - pętla', 'Szczodre - Trzebnicka',\n",
       "       'Długołęka - Parkowa skrzy. Konopnicka',\n",
       "       'Długołęka - Parkowa/skrzy.', 'Długołęka - Kasztanowa',\n",
       "       'Długołęka - Wiejska', 'Mirków - Jagiellońska',\n",
       "       'Mirków - Sportowa', 'BIERUTOWSKA (Wiadukt)', 'Bierutowska 75',\n",
       "       'Bierutowska', 'Bierutowska 65',\n",
       "       'Szczodre - Trzebnicka (na wys. nr 3a)', 'Łozina - Kościół',\n",
       "       'Długołęka - SELGROS pętla', 'Januszkowice - Wierzbowa',\n",
       "       'Januszkowice - skrzy. Kępa', 'Jaksonowice (na wys. nr 27)',\n",
       "       'Pietrzykowice - Sportowa/pętla',\n",
       "       'Pietrzykowice - Sportowa/Główna',\n",
       "       'Pietrzykowice - Wrocławska/Stawowa', 'Jaszkotle - kościół',\n",
       "       'Cesarzowice skrz.', 'Mokronos Dolny - Parkowa/Stawowa',\n",
       "       'Jaszkotle - Palmowa', 'Gądów', 'Gądów - Świerkowa',\n",
       "       'Nowa Wieś Wr. - pętla',\n",
       "       'Nowa Wieś Wr. - Relaksowa (na wys. nr 13)',\n",
       "       'Pietrzykowice - zakład', 'Smolec - Główna/Dworcowa',\n",
       "       'Smolec - Chłopska/Główna', 'Lekarska', 'Rondo Obrońców Grodna',\n",
       "       'Konopackiej', 'Widawa', 'Psary - Wolności', 'Szymanów - skrzyż.',\n",
       "       'Szymanów (Widawska)', 'Szymanów', 'Szymanów (Letnia)',\n",
       "       'SZYMANÓW-pętla', 'Psary - Szkoła', 'Psary - Parkowa',\n",
       "       'KRZYŻANOWICE', 'Samotworska', 'Gałowska', 'Samotwór - Dębowa',\n",
       "       'Samotwór - Leśna', 'Skałka', 'Skałka - skrzy. W362', 'Kębłowice',\n",
       "       'Bielawa', 'Piecowice', 'Kiełczów - Akacjowa', 'Kiełczów - Boczna',\n",
       "       'Kiełczów - pętla (Plac Jana Gdaka)', 'Kiełczów - WODROL',\n",
       "       'Kiełczów - osiedle', 'Wilczyce - Sosnowa', 'Wilczyce - Dębowa',\n",
       "       'Wilczyce - Dworska', 'Wilczyce - Borowa',\n",
       "       'Wilczyce - Wrocławska (na wys. nr 1F)', 'Wilczyce', 'Mroźna',\n",
       "       'Kurlandzka', 'Zgorzelisko', 'Palacha', 'Wilczyce - szkoła',\n",
       "       'Kiełczów - cmentarz', 'Kiełczów - pętla/Wrocławska',\n",
       "       'Kiełczów - Zgodna', 'Raków - skrzy.', 'Raków - osiedle',\n",
       "       'Wysoka - Lipowa', 'Wysoka - Lipowa/Jeżynowa',\n",
       "       'Karwiany - skrzy. (Wrocławska/Majowa)', 'Komorowice',\n",
       "       'Rzeplin - pętla', 'Wysoka - Lipowa/Parkowa',\n",
       "       'Żórawina - Wrocławska', 'Żórawina - skrzy. Niepodległości',\n",
       "       'Domaszczyn - Wrocławska Skrzyżowanie', 'Domaszczyn - Stawowa',\n",
       "       'Pruszowice', 'Długołęka - Kościół', 'Długołęka - Nowy Urząd',\n",
       "       'Kamień - Bursztynowa', 'Kamień - skrzy.', 'Kamień - Diamentowa',\n",
       "       'Długołęka - Broniewskiego (na wys. nr 11)', 'Krajobrazowa',\n",
       "       'Las Ratyński', 'Ferma - stadnina koni', 'Gałów przy posesji nr 2',\n",
       "       'GAŁÓW (pętla)', 'Gałów Przedszkole', 'Okólna',\n",
       "       'Na Grobli (Hydropolis)', 'Śliwice', 'Pietrzykowice',\n",
       "       'Brzezia Łąka - cmentarz', 'Brzezia Łąka - Wrocławska',\n",
       "       'Brzezia Łąka - skrzy. Orzechowa', 'Brzezia Łąka - skrzy. Główna',\n",
       "       'Kątna', 'Oleśniczka', 'Brzezia Łąka - skrzy. Sportowa',\n",
       "       'Borowa - szkoła', 'Borowa - stacja kolejowa', 'Raków I',\n",
       "       'Raków II', 'Raków III', 'Raków IV', 'Oleśniczka - skrzy.',\n",
       "       'BRZEZINA (pętla)', 'Brzezina - Kościół',\n",
       "       'Brzezinka Średzka - ul. Główna',\n",
       "       'Brzezinka Średzka - ul. Kolejowa', 'Pisarzowice - Kolejowa',\n",
       "       'Pisarzowice - Szkolna', 'Pisarzowice - Odrzańska',\n",
       "       'Pisarzowice - Graniczna', 'Wilkszyn (pętla)', 'Wilkszyn - Polna',\n",
       "       'Wilkszyn - Miłoszyn', 'Łososiowicka', 'Wilkszyńska',\n",
       "       'Brzezinka Średzka - PKP', 'Brzezinka Średzka - ul. Parkowa',\n",
       "       'Byków - Ogrodowa', 'Byków - Jaśminowa', 'Borowa - skrzy.',\n",
       "       'Stępin', 'Stępin - Kościół', 'Kamień - skrzy. Rubinowa',\n",
       "       'Kamień - skrzy. Diamentowa', 'Kamień - skrzy. Kryształowa',\n",
       "       'Gagarina', 'Smolec - Chłopska/Wrzosowa',\n",
       "       'Smolec - Chłopska/Śliwkowa', 'Smolec - Chłopska/Cisowa',\n",
       "       'Smolec - Lipowa/pętla', 'Smolec - Dębowa (sklep)',\n",
       "       'Krzeptów - skrzy.', 'Krzeptów - Boisko',\n",
       "       'Krzeptów - Dolina Krzeptowa', 'Smolec - Wiśniowa',\n",
       "       'Krzeptów - pętla', 'Smolec - Główna (na wys. nr 83)',\n",
       "       'Smolec - Główna (na wys. nr 52)', 'Kiełczów - Sosnowa',\n",
       "       'Kiełczów - Biedronka', 'Kiełczów - Wrocławska',\n",
       "       'Kiełczów - Mleczna', 'Kiełczów - Ładna', 'Kiełczów - Rzeczna',\n",
       "       'Kiełczówek - Sielska Zagroda', 'Kiełczówek', 'Kiełczówek - pętla',\n",
       "       'Kiełczówek - skrzy. Imbirowa', 'Brzezia Łąka - Główna',\n",
       "       'Brzezia Łąka - Główna pętla', 'Wilczyce - Wilczycka (Clarena)',\n",
       "       'Wilczyce - Wilczycka (Stary Młyn)', 'Kwiatkowskiego',\n",
       "       'Zabrodzie - pętla', 'Pruszowice - las', 'Odolanowska',\n",
       "       'Odrodzenia Polski', 'Jaksonowice - skrzy.', 'Skała - wieś',\n",
       "       'Węgrów (na wys. nr 27)', 'Węgrów (na wys. nr 7)',\n",
       "       'Krakowiany - skrzy.', 'Zaprężyn', 'Bierzyce - wieś', 'Bierzyce',\n",
       "       'Łozina - Milicka/szkoła', 'Łozina - Milicka/poczta',\n",
       "       'Łozina - Wrocławska (na wys. nr 18)', 'Bąków',\n",
       "       'Bukowina - skrzy.', 'Domaszczyn - Trzebnicka',\n",
       "       'Domaszczyn - skrzy.', 'Bukowina', 'Godzieszowa - transformator',\n",
       "       'Godzieszowa (na wys. nr 3)', 'Siedlec - stacja',\n",
       "       'Siedlec - skrzy. Osiedlowa', 'Tokary - osiedle',\n",
       "       'Tokary - centrum', 'Łozina - Nowego Osiedla II',\n",
       "       'Łozina - Nowego Osiedla I', 'Pasikurowice - n/ż',\n",
       "       'Pasikurowice - Energetyczna', 'Pasikurowice - skrzy. Malinowa',\n",
       "       'Pasikurowice - cmentarz', 'Ramiszów Stacja', 'Ramiszów',\n",
       "       'Pasikurowice - Wrocławska (na wys. nr 14)',\n",
       "       'Siedlec - Wrocławska/szkoła', 'Godzieszowa (na wys. nr 8)',\n",
       "       'Mirków - Kiełczowska (na wys. nr 14)', 'Mirków - skrzy. Polna',\n",
       "       'Siedlec - Wrocławska/sklep', 'Brzezina - Biedronka',\n",
       "       'Brzezina - Zacisze', 'Brzezina - Osiedle',\n",
       "       'Brzezina - ul. Chrobrego', 'Wróblowice Innowacyjna',\n",
       "       'Lutynia Rondo', 'Lutynia Osiedle ul. Wschodnia',\n",
       "       'Lutynia Centrum', 'Krępice', 'Lutynia - Straż', 'Lutynia I',\n",
       "       'Lutynia - Kolonia', 'Radakowice - Świetlica', 'Łowęcice - Staw',\n",
       "       'Mokronos Dolny - Stawowa/Szczęśliwa',\n",
       "       'Mokronos Górny - Wrocławska/Gwarna', 'Smolec - Wrocławska',\n",
       "       'Skałka - skrzy. Małkowice', 'Małkowice - Główna', 'Wróblowice',\n",
       "       'Błonie', 'Źródła', 'Kadłub wieś', 'Kadłub NŻ',\n",
       "       'Miękinia Cegielnia', 'Miękinia - stacja PKP', 'Miękinia - pętla',\n",
       "       'Krępice - Wrocławska', 'Żurawiniec', 'Mrozów - Świetlica',\n",
       "       'Mrozów - Wyzwolenia', 'Miękinia - Urząd Gminy', 'Klęka',\n",
       "       'Zabór Wielki', 'Zabór Mały', 'Lubiatów', 'Głoska - ul. Średzka',\n",
       "       'Gąsiorów', 'Księginice ul. Sportowa', 'Księginice P&R'],\n",
       "      dtype=object)"
      ]
     },
     "execution_count": 70,
     "metadata": {},
     "output_type": "execute_result"
    }
   ],
   "source": [
    "Graph(pd.read_csv(DATA_DIR / 'connection_graph.csv', \n",
    "                               usecols=['line', 'departure_time', 'arrival_time', 'start_stop', 'end_stop'], \n",
    "                               dtype=str)).get_stop_names()"
   ]
  }
 ],
 "metadata": {
  "kernelspec": {
   "display_name": "DataCampTutorials",
   "language": "python",
   "name": "python3"
  },
  "language_info": {
   "codemirror_mode": {
    "name": "ipython",
    "version": 3
   },
   "file_extension": ".py",
   "mimetype": "text/x-python",
   "name": "python",
   "nbconvert_exporter": "python",
   "pygments_lexer": "ipython3",
   "version": "3.11.2"
  }
 },
 "nbformat": 4,
 "nbformat_minor": 2
}
