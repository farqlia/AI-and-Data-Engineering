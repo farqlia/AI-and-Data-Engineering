{
 "cells": [
  {
   "cell_type": "code",
   "outputs": [],
   "source": [
    "from enum import Enum\n",
    "\n",
    "import schema as s\n",
    "from experta import *\n",
    "from experta.fact import *"
   ],
   "metadata": {
    "collapsed": false,
    "ExecuteTime": {
     "end_time": "2024-05-16T13:28:40.618409800Z",
     "start_time": "2024-05-16T13:28:40.607984800Z"
    }
   },
   "id": "2696a440a268fef7",
   "execution_count": 7
  },
  {
   "cell_type": "code",
   "execution_count": 6,
   "id": "initial_id",
   "metadata": {
    "collapsed": true,
    "ExecuteTime": {
     "end_time": "2024-05-16T13:21:30.487227200Z",
     "start_time": "2024-05-16T13:21:30.196173600Z"
    }
   },
   "outputs": [
    {
     "ename": "TypeError",
     "evalue": "schema.Or() argument after ** must be a mapping, not list",
     "output_type": "error",
     "traceback": [
      "\u001B[1;31m---------------------------------------------------------------------------\u001B[0m",
      "\u001B[1;31mTypeError\u001B[0m                                 Traceback (most recent call last)",
      "Cell \u001B[1;32mIn[6], line 88\u001B[0m\n\u001B[0;32m     84\u001B[0m     act \u001B[38;5;241m=\u001B[39m \u001B[38;5;28mint\u001B[39m(\u001B[38;5;28minput\u001B[39m(\u001B[38;5;124m\"\u001B[39m\u001B[38;5;124mChoice: \u001B[39m\u001B[38;5;124m\"\u001B[39m))\n\u001B[0;32m     85\u001B[0m     \u001B[38;5;28;01mreturn\u001B[39;00m actions[act] \u001B[38;5;28;01mif\u001B[39;00m \u001B[38;5;241m0\u001B[39m \u001B[38;5;241m<\u001B[39m\u001B[38;5;241m=\u001B[39m act \u001B[38;5;241m<\u001B[39m \u001B[38;5;28mlen\u001B[39m(actions) \u001B[38;5;28;01melse\u001B[39;00m Actions\u001B[38;5;241m.\u001B[39mSTOP\n\u001B[1;32m---> 88\u001B[0m \u001B[38;5;28;01mclass\u001B[39;00m \u001B[38;5;21;01mUserInput\u001B[39;00m(Fact):\n\u001B[0;32m     89\u001B[0m \u001B[38;5;250m    \u001B[39m\u001B[38;5;124;03m\"\"\"A fact representing user input for the coffee machine.\"\"\"\u001B[39;00m\n\u001B[0;32m     90\u001B[0m     \u001B[38;5;66;03m# user can choose coffee, hot water or ex. system conservation\u001B[39;00m\n",
      "Cell \u001B[1;32mIn[6], line 91\u001B[0m, in \u001B[0;36mUserInput\u001B[1;34m()\u001B[0m\n\u001B[0;32m     89\u001B[0m \u001B[38;5;250m\u001B[39m\u001B[38;5;124;03m\"\"\"A fact representing user input for the coffee machine.\"\"\"\u001B[39;00m\n\u001B[0;32m     90\u001B[0m \u001B[38;5;66;03m# user can choose coffee, hot water or ex. system conservation\u001B[39;00m\n\u001B[1;32m---> 91\u001B[0m action \u001B[38;5;241m=\u001B[39m Field(s\u001B[38;5;241m.\u001B[39mOr(\u001B[38;5;241m*\u001B[39m\u001B[38;5;241m*\u001B[39mactions))\n",
      "\u001B[1;31mTypeError\u001B[0m: schema.Or() argument after ** must be a mapping, not list"
     ]
    }
   ],
   "source": [
    "class Actions(Enum):\n",
    "    MAKE_COFFEE = \"make coffee\"\n",
    "    CONSERVE = \"conserve\"\n",
    "    STOP = \"stop\"\n",
    "\n",
    "\n",
    "actions = [Actions.MAKE_COFFEE, Actions.CONSERVE, Actions.STOP]\n",
    "\n",
    "\n",
    "class CoffeeMachine(Fact):\n",
    "    \"\"\"A fact representing the coffee machine.\"\"\"\n",
    "    pass\n",
    "\n",
    "\n",
    "class Coffee(Fact):\n",
    "    needs_milk = Field(bool, mandatory=True)\n",
    "    water_use = Field((s.Use(float), lambda l: 0.0 <= l <= 1.0), default=1.0)\n",
    "\n",
    "\n",
    "class Espresso(Coffee):\n",
    "    needs_milk = False\n",
    "\n",
    "\n",
    "class Latte(Coffee):\n",
    "    needs_milk = True\n",
    "\n",
    "\n",
    "coffees = [Latte, Espresso]\n",
    "\n",
    "\n",
    "class Component(Fact):\n",
    "    \"\"\"A fact representing a component of the coffee machine.\"\"\"\n",
    "    pass\n",
    "\n",
    "\n",
    "class Water(Component):\n",
    "    \"\"\"A fact representing the water component.\"\"\"\n",
    "    level = Field(s.And(s.Use(float), lambda l: 0.0 <= l <= 1.0), default=1.0)\n",
    "    threshold = 0.2\n",
    "    # This should be set at the beginning\n",
    "    water_hardness = Field(s.Or(\"soft\", \"medium\", \"hard\"))\n",
    "\n",
    "\n",
    "class Milk(Component):\n",
    "    \"\"\"A fact representing the milk component.\"\"\"\n",
    "    level = Field(s.And(s.Use(float), lambda l: 0.0 <= l <= 1.0), default=1.0)\n",
    "    # Add state here too?\n",
    "\n",
    "\n",
    "class Grinder(Component):\n",
    "    \"\"\"A fact representing the grinder component.\"\"\"\n",
    "    filled = Field(bool, default=False)\n",
    "    state = Field(s.Or(\"grinding\", \"inactive\", \"glitch\"), default=\"inactive\")\n",
    "    degree = Field(s.And(s.Use(int), lambda x: 1 <= x <=5), default=1)\n",
    "\n",
    "\n",
    "class Heater(Component):\n",
    "    \"\"\"A fact representing the heater component.\"\"\"\n",
    "    temperature = Field(s.And(s.Use(float)))\n",
    "\n",
    "\n",
    "class Brew(Fact):\n",
    "    \"\"\"A fact representing the brewing process.\"\"\"\n",
    "    pass\n",
    "\n",
    "\n",
    "class Nozzle(Component):\n",
    "    \"\"\"A fact representing the nozzle for dispensing coffee.\"\"\"\n",
    "    status = Field(s.Or(\"blocked\", \"nozzling\", \"inactive\"))\n",
    "\n",
    "\n",
    "def get_user_coffee():\n",
    "    print(\"Choose coffee\")\n",
    "    for i, coffee in enumerate(coffees):\n",
    "        print(f\"[{i}] {coffee.__name__}\")\n",
    "    cof = int(input(\"Choice: \"))\n",
    "    return coffees[cof] if 0 <= cof < len(coffees) else None\n",
    "\n",
    "\n",
    "def get_user_input():\n",
    "    print(\"Choose from a set of possible actions\")\n",
    "    for i, action in enumerate(actions):\n",
    "        print(f\"[{i}] {action.value}\")\n",
    "    act = int(input(\"Choice: \"))\n",
    "    return actions[act] if 0 <= act < len(actions) else Actions.STOP\n",
    "\n",
    "\n",
    "class UserInput(Fact):\n",
    "    \"\"\"A fact representing user input for the coffee machine.\"\"\"\n",
    "    # user can choose coffee, hot water or ex. system conservation\n",
    "    action = Field(s.Or(**actions))"
   ]
  },
  {
   "cell_type": "code",
   "outputs": [],
   "source": [
    "class CoffeeMachineRules(KnowledgeEngine):\n",
    "    \"\"\"The rule-based system for the coffee machine.\"\"\"\n",
    "\n",
    "    @Rule(CoffeeMachine())\n",
    "    def startup(self):\n",
    "        print(\"Coffee machine started.\")\n",
    "\n",
    "    @Rule(AND(CoffeeMachine(), Component()))\n",
    "    def check_component(self):\n",
    "        print(\"Checking component:\", self.fact)\n",
    "\n",
    "    @Rule(AND(CoffeeMachine(), Water(level=P(lambda x: x <= 0))))\n",
    "    def add_water(self):\n",
    "        print(\"Add water to the coffee machine.\")\n",
    "\n",
    "    @Rule(AND(CoffeeMachine(), CoffeeBeans(amount=P(lambda x: x <= 0))))\n",
    "    def add_coffee(self):\n",
    "        print(\"Add coffee to the coffee machine.\")\n",
    "\n",
    "    @Rule(AND(CoffeeMachine(), Milk(amount=P(lambda x: x <= 0))))\n",
    "    def add_milk(self):\n",
    "        print(\"Add milk to the coffee machine.\")\n",
    "\n",
    "    @Rule(AND(CoffeeMachine(), Grinder(status=\"empty\")))\n",
    "    def fill_grinder(self):\n",
    "        print(\"Fill grinder with coffee beans.\")\n",
    "\n",
    "    @Rule(AND(CoffeeMachine(), Heater(status=\"off\")))\n",
    "    def turn_on_heater(self):\n",
    "        print(\"Turn on heater.\")\n",
    "\n",
    "    @Rule(AND(CoffeeMachine(), Brew(status=\"ready\")))\n",
    "    def start_brewing(self):\n",
    "        print(\"Start brewing.\")\n",
    "\n",
    "    @Rule(AND(CoffeeMachine(), Nozzle(status=\"blocked\")))\n",
    "    def clear_nozzle(self):\n",
    "        print(\"Clear nozzle for dispensing.\")\n",
    "\n",
    "    @Rule(AND(CoffeeMachine(), UserInput(action=\"make_coffee\")))\n",
    "    def make_coffee(self):\n",
    "        print(\"Coffee brewing process initiated.\")"
   ],
   "metadata": {
    "collapsed": false
   },
   "id": "c07d1195520f4b61"
  },
  {
   "cell_type": "code",
   "outputs": [],
   "source": [
    "# Creating a coffee machine instance\n",
    "coffee_machine = CoffeeMachine()\n",
    "\n",
    "# Initializing the rules engine\n",
    "engine = CoffeeMachineRules()\n",
    "engine.reset()\n",
    "engine.declare(coffee_machine)\n",
    "\n",
    "# Example usage: Simulate user making coffee\n",
    "engine.declare(UserInput(action=\"make_coffee\"))\n",
    "engine.run()"
   ],
   "metadata": {
    "collapsed": false
   },
   "id": "c7931caf594b5b1d"
  }
 ],
 "metadata": {
  "kernelspec": {
   "display_name": "Python 3",
   "language": "python",
   "name": "python3"
  },
  "language_info": {
   "codemirror_mode": {
    "name": "ipython",
    "version": 2
   },
   "file_extension": ".py",
   "mimetype": "text/x-python",
   "name": "python",
   "nbconvert_exporter": "python",
   "pygments_lexer": "ipython2",
   "version": "2.7.6"
  }
 },
 "nbformat": 4,
 "nbformat_minor": 5
}
