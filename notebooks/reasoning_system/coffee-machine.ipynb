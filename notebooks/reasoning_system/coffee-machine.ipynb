{
 "cells": [
  {
   "cell_type": "code",
   "outputs": [
    {
     "name": "stdout",
     "output_type": "stream",
     "text": [
      "Requirement already satisfied: experta in c:\\users\\julia\\vscode\\ai-and-data-engineering\\.venv\\lib\\site-packages (1.9.4)\n",
      "Requirement already satisfied: frozendict==1.2 in c:\\users\\julia\\vscode\\ai-and-data-engineering\\.venv\\lib\\site-packages (from experta) (1.2)\n",
      "Requirement already satisfied: schema==0.6.7 in c:\\users\\julia\\vscode\\ai-and-data-engineering\\.venv\\lib\\site-packages (from experta) (0.6.7)\n"
     ]
    }
   ],
   "source": [
    "!pip install experta"
   ],
   "metadata": {
    "collapsed": false,
    "ExecuteTime": {
     "end_time": "2024-05-16T08:33:35.682093900Z",
     "start_time": "2024-05-16T08:33:33.704140900Z"
    }
   },
   "id": "9180ce128247fc6e",
   "execution_count": 6
  },
  {
   "cell_type": "code",
   "outputs": [],
   "source": [],
   "metadata": {
    "collapsed": false
   },
   "id": "92d42d750908d5d6"
  },
  {
   "cell_type": "code",
   "outputs": [
    {
     "ename": "AttributeError",
     "evalue": "module 'collections' has no attribute 'Mapping'",
     "output_type": "error",
     "traceback": [
      "\u001B[1;31m---------------------------------------------------------------------------\u001B[0m",
      "\u001B[1;31mAttributeError\u001B[0m                            Traceback (most recent call last)",
      "Cell \u001B[1;32mIn[7], line 4\u001B[0m\n\u001B[0;32m      1\u001B[0m \u001B[38;5;28;01mfrom\u001B[39;00m \u001B[38;5;21;01menum\u001B[39;00m \u001B[38;5;28;01mimport\u001B[39;00m Enum\n\u001B[0;32m      3\u001B[0m \u001B[38;5;28;01mimport\u001B[39;00m \u001B[38;5;21;01mschema\u001B[39;00m \u001B[38;5;28;01mas\u001B[39;00m \u001B[38;5;21;01ms\u001B[39;00m\n\u001B[1;32m----> 4\u001B[0m \u001B[38;5;28;01mfrom\u001B[39;00m \u001B[38;5;21;01mexperta\u001B[39;00m \u001B[38;5;28;01mimport\u001B[39;00m \u001B[38;5;241m*\u001B[39m\n\u001B[0;32m      5\u001B[0m \u001B[38;5;28;01mfrom\u001B[39;00m \u001B[38;5;21;01mexperta\u001B[39;00m\u001B[38;5;21;01m.\u001B[39;00m\u001B[38;5;21;01mfact\u001B[39;00m \u001B[38;5;28;01mimport\u001B[39;00m \u001B[38;5;241m*\u001B[39m\n",
      "File \u001B[1;32m~\\VSCode\\AI-and-Data-Engineering\\.venv\\Lib\\site-packages\\experta\\__init__.py:5\u001B[0m\n\u001B[0;32m      3\u001B[0m \u001B[38;5;28;01mtry\u001B[39;00m:\n\u001B[0;32m      4\u001B[0m     \u001B[38;5;28;01mfrom\u001B[39;00m \u001B[38;5;21;01m.\u001B[39;00m\u001B[38;5;21;01mconditionalelement\u001B[39;00m \u001B[38;5;28;01mimport\u001B[39;00m AND, OR, NOT, TEST, EXISTS, FORALL\n\u001B[1;32m----> 5\u001B[0m     \u001B[38;5;28;01mfrom\u001B[39;00m \u001B[38;5;21;01m.\u001B[39;00m\u001B[38;5;21;01mengine\u001B[39;00m \u001B[38;5;28;01mimport\u001B[39;00m KnowledgeEngine\n\u001B[0;32m      6\u001B[0m     \u001B[38;5;28;01mfrom\u001B[39;00m \u001B[38;5;21;01m.\u001B[39;00m\u001B[38;5;21;01mfact\u001B[39;00m \u001B[38;5;28;01mimport\u001B[39;00m Fact, InitialFact, Field\n\u001B[0;32m      7\u001B[0m     \u001B[38;5;28;01mfrom\u001B[39;00m \u001B[38;5;21;01m.\u001B[39;00m\u001B[38;5;21;01mfieldconstraint\u001B[39;00m \u001B[38;5;28;01mimport\u001B[39;00m L, W, P\n",
      "File \u001B[1;32m~\\VSCode\\AI-and-Data-Engineering\\.venv\\Lib\\site-packages\\experta\\engine.py:13\u001B[0m\n\u001B[0;32m     10\u001B[0m \u001B[38;5;28;01mfrom\u001B[39;00m \u001B[38;5;21;01mexperta\u001B[39;00m \u001B[38;5;28;01mimport\u001B[39;00m abstract\n\u001B[0;32m     12\u001B[0m \u001B[38;5;28;01mfrom\u001B[39;00m \u001B[38;5;21;01mexperta\u001B[39;00m\u001B[38;5;21;01m.\u001B[39;00m\u001B[38;5;21;01magenda\u001B[39;00m \u001B[38;5;28;01mimport\u001B[39;00m Agenda\n\u001B[1;32m---> 13\u001B[0m \u001B[38;5;28;01mfrom\u001B[39;00m \u001B[38;5;21;01mexperta\u001B[39;00m\u001B[38;5;21;01m.\u001B[39;00m\u001B[38;5;21;01mfact\u001B[39;00m \u001B[38;5;28;01mimport\u001B[39;00m InitialFact\n\u001B[0;32m     14\u001B[0m \u001B[38;5;28;01mfrom\u001B[39;00m \u001B[38;5;21;01mexperta\u001B[39;00m\u001B[38;5;21;01m.\u001B[39;00m\u001B[38;5;21;01mfactlist\u001B[39;00m \u001B[38;5;28;01mimport\u001B[39;00m FactList\n\u001B[0;32m     15\u001B[0m \u001B[38;5;28;01mfrom\u001B[39;00m \u001B[38;5;21;01mexperta\u001B[39;00m\u001B[38;5;21;01m.\u001B[39;00m\u001B[38;5;21;01mrule\u001B[39;00m \u001B[38;5;28;01mimport\u001B[39;00m Rule\n",
      "File \u001B[1;32m~\\VSCode\\AI-and-Data-Engineering\\.venv\\Lib\\site-packages\\experta\\fact.py:9\u001B[0m\n\u001B[0;32m      6\u001B[0m \u001B[38;5;28;01mfrom\u001B[39;00m \u001B[38;5;21;01mschema\u001B[39;00m \u001B[38;5;28;01mimport\u001B[39;00m Schema\n\u001B[0;32m      8\u001B[0m \u001B[38;5;28;01mfrom\u001B[39;00m \u001B[38;5;21;01mexperta\u001B[39;00m\u001B[38;5;21;01m.\u001B[39;00m\u001B[38;5;21;01mpattern\u001B[39;00m \u001B[38;5;28;01mimport\u001B[39;00m Bindable\n\u001B[1;32m----> 9\u001B[0m \u001B[38;5;28;01mfrom\u001B[39;00m \u001B[38;5;21;01mexperta\u001B[39;00m\u001B[38;5;21;01m.\u001B[39;00m\u001B[38;5;21;01mutils\u001B[39;00m \u001B[38;5;28;01mimport\u001B[39;00m freeze, unfreeze\n\u001B[0;32m     10\u001B[0m \u001B[38;5;28;01mfrom\u001B[39;00m \u001B[38;5;21;01mexperta\u001B[39;00m\u001B[38;5;21;01m.\u001B[39;00m\u001B[38;5;21;01mconditionalelement\u001B[39;00m \u001B[38;5;28;01mimport\u001B[39;00m OperableCE\n\u001B[0;32m     11\u001B[0m \u001B[38;5;28;01mfrom\u001B[39;00m \u001B[38;5;21;01mexperta\u001B[39;00m\u001B[38;5;21;01m.\u001B[39;00m\u001B[38;5;21;01mconditionalelement\u001B[39;00m \u001B[38;5;28;01mimport\u001B[39;00m ConditionalElement\n",
      "File \u001B[1;32m~\\VSCode\\AI-and-Data-Engineering\\.venv\\Lib\\site-packages\\experta\\utils.py:4\u001B[0m\n\u001B[0;32m      1\u001B[0m \u001B[38;5;28;01mfrom\u001B[39;00m \u001B[38;5;21;01mfunctools\u001B[39;00m \u001B[38;5;28;01mimport\u001B[39;00m singledispatch\n\u001B[0;32m      2\u001B[0m \u001B[38;5;28;01mimport\u001B[39;00m \u001B[38;5;21;01mcollections\u001B[39;00m\u001B[38;5;21;01m.\u001B[39;00m\u001B[38;5;21;01mabc\u001B[39;00m\n\u001B[1;32m----> 4\u001B[0m \u001B[38;5;28;01mfrom\u001B[39;00m \u001B[38;5;21;01mfrozendict\u001B[39;00m \u001B[38;5;28;01mimport\u001B[39;00m frozendict\n\u001B[0;32m      6\u001B[0m \u001B[38;5;28;01mfrom\u001B[39;00m \u001B[38;5;21;01m.\u001B[39;00m\u001B[38;5;21;01mfieldconstraint\u001B[39;00m \u001B[38;5;28;01mimport\u001B[39;00m P\n\u001B[0;32m      9\u001B[0m \u001B[38;5;28;01mclass\u001B[39;00m \u001B[38;5;21;01mfrozenlist\u001B[39;00m(\u001B[38;5;28mtuple\u001B[39m):\n",
      "File \u001B[1;32m~\\VSCode\\AI-and-Data-Engineering\\.venv\\Lib\\site-packages\\frozendict\\__init__.py:16\u001B[0m\n\u001B[0;32m     10\u001B[0m     OrderedDict \u001B[38;5;241m=\u001B[39m \u001B[38;5;28mNotImplemented\u001B[39m\n\u001B[0;32m     13\u001B[0m iteritems \u001B[38;5;241m=\u001B[39m \u001B[38;5;28mgetattr\u001B[39m(\u001B[38;5;28mdict\u001B[39m, \u001B[38;5;124m'\u001B[39m\u001B[38;5;124miteritems\u001B[39m\u001B[38;5;124m'\u001B[39m, \u001B[38;5;28mdict\u001B[39m\u001B[38;5;241m.\u001B[39mitems) \u001B[38;5;66;03m# py2-3 compatibility\u001B[39;00m\n\u001B[1;32m---> 16\u001B[0m \u001B[38;5;28;01mclass\u001B[39;00m \u001B[38;5;21;01mfrozendict\u001B[39;00m(\u001B[43mcollections\u001B[49m\u001B[38;5;241;43m.\u001B[39;49m\u001B[43mMapping\u001B[49m):\n\u001B[0;32m     17\u001B[0m \u001B[38;5;250m    \u001B[39m\u001B[38;5;124;03m\"\"\"\u001B[39;00m\n\u001B[0;32m     18\u001B[0m \u001B[38;5;124;03m    An immutable wrapper around dictionaries that implements the complete :py:class:`collections.Mapping`\u001B[39;00m\n\u001B[0;32m     19\u001B[0m \u001B[38;5;124;03m    interface. It can be used as a drop-in replacement for dictionaries where immutability is desired.\u001B[39;00m\n\u001B[0;32m     20\u001B[0m \u001B[38;5;124;03m    \"\"\"\u001B[39;00m\n\u001B[0;32m     22\u001B[0m     dict_cls \u001B[38;5;241m=\u001B[39m \u001B[38;5;28mdict\u001B[39m\n",
      "\u001B[1;31mAttributeError\u001B[0m: module 'collections' has no attribute 'Mapping'"
     ]
    }
   ],
   "source": [
    "from enum import Enum\n",
    "\n",
    "import schema as s\n",
    "from experta import *\n",
    "from experta.fact import *"
   ],
   "metadata": {
    "collapsed": false,
    "ExecuteTime": {
     "end_time": "2024-05-16T08:33:42.806737300Z",
     "start_time": "2024-05-16T08:33:42.722902500Z"
    }
   },
   "id": "2696a440a268fef7",
   "execution_count": 7
  },
  {
   "cell_type": "code",
   "execution_count": null,
   "id": "initial_id",
   "metadata": {
    "collapsed": true,
    "ExecuteTime": {
     "end_time": "2024-05-16T08:31:10.738053Z",
     "start_time": "2024-05-16T08:31:10.736981700Z"
    }
   },
   "outputs": [],
   "source": [
    "class Actions(Enum):\n",
    "    MAKE_COFFEE = \"make coffee\"\n",
    "    CONSERVE = \"conserve\"\n",
    "    STOP = \"stop\"\n",
    "\n",
    "\n",
    "actions = [Actions.MAKE_COFFEE, Actions.CONSERVE, Actions.STOP]\n",
    "\n",
    "\n",
    "class CoffeeMachine(Fact):\n",
    "    \"\"\"A fact representing the coffee machine.\"\"\"\n",
    "    pass\n",
    "\n",
    "\n",
    "class Coffee(Fact):\n",
    "    needs_milk = Field(bool, mandatory=True)\n",
    "    water_use = Field((s.Use(float), lambda l: 0.0 <= l <= 1.0), default=1.0)\n",
    "\n",
    "\n",
    "class Espresso(Coffee):\n",
    "    needs_milk = False\n",
    "\n",
    "\n",
    "class Latte(Coffee):\n",
    "    needs_milk = True\n",
    "\n",
    "\n",
    "coffees = [Latte, Espresso]\n",
    "\n",
    "\n",
    "class Component(Fact):\n",
    "    \"\"\"A fact representing a component of the coffee machine.\"\"\"\n",
    "    pass\n",
    "\n",
    "\n",
    "class Water(Component):\n",
    "    \"\"\"A fact representing the water component.\"\"\"\n",
    "    level = Field(s.And(s.Use(float), lambda l: 0.0 <= l <= 1.0), default=1.0)\n",
    "    threshold = 0.2\n",
    "    # This should be set at the beginning\n",
    "    water_hardness = Field(s.Or(\"soft\", \"medium\", \"hard\"))\n",
    "\n",
    "\n",
    "class Milk(Component):\n",
    "    \"\"\"A fact representing the milk component.\"\"\"\n",
    "    level = Field(s.And(s.Use(float), lambda l: 0.0 <= l <= 1.0), default=1.0)\n",
    "    # Add state here too?\n",
    "\n",
    "\n",
    "class Grinder(Component):\n",
    "    \"\"\"A fact representing the grinder component.\"\"\"\n",
    "    filled = Field(bool, default=False)\n",
    "    state = Field(s.Or(\"grinding\", \"inactive\", \"glitch\"), default=\"inactive\")\n",
    "    degree = Field(s.And(s.Use(int), lambda x: 1 <= x <=5), default=1)\n",
    "\n",
    "\n",
    "class Heater(Component):\n",
    "    \"\"\"A fact representing the heater component.\"\"\"\n",
    "    temperature = Field(s.And(s.Use(float)))\n",
    "\n",
    "\n",
    "class Brew(Fact):\n",
    "    \"\"\"A fact representing the brewing process.\"\"\"\n",
    "    pass\n",
    "\n",
    "\n",
    "class Nozzle(Component):\n",
    "    \"\"\"A fact representing the nozzle for dispensing coffee.\"\"\"\n",
    "    status = Field(s.Or(\"blocked\", \"nozzling\", \"inactive\"))\n",
    "\n",
    "\n",
    "def get_user_coffee():\n",
    "    print(\"Choose coffee\")\n",
    "    for i, coffee in enumerate(coffees):\n",
    "        print(f\"[{i}] {coffee.__name__}\")\n",
    "    cof = int(input(\"Choice: \"))\n",
    "    return coffees[cof] if 0 <= cof < len(coffees) else None\n",
    "\n",
    "\n",
    "def get_user_input():\n",
    "    print(\"Choose from a set of possible actions\")\n",
    "    for i, action in enumerate(actions):\n",
    "        print(f\"[{i}] {action.value}\")\n",
    "    act = int(input(\"Choice: \"))\n",
    "    return actions[act] if 0 <= act < len(actions) else Actions.STOP\n",
    "\n",
    "\n",
    "class UserInput(Fact):\n",
    "    \"\"\"A fact representing user input for the coffee machine.\"\"\"\n",
    "    # user can choose coffee, hot water or ex. system conservation\n",
    "    action = Field(s.Or(**actions))"
   ]
  },
  {
   "cell_type": "code",
   "outputs": [],
   "source": [
    "class CoffeeMachineRules(KnowledgeEngine):\n",
    "    \"\"\"The rule-based system for the coffee machine.\"\"\"\n",
    "\n",
    "    @Rule(CoffeeMachine())\n",
    "    def startup(self):\n",
    "        print(\"Coffee machine started.\")\n",
    "\n",
    "    @Rule(AND(CoffeeMachine(), Component()))\n",
    "    def check_component(self):\n",
    "        print(\"Checking component:\", self.fact)\n",
    "\n",
    "    @Rule(AND(CoffeeMachine(), Water(level=P(lambda x: x <= 0))))\n",
    "    def add_water(self):\n",
    "        print(\"Add water to the coffee machine.\")\n",
    "\n",
    "    @Rule(AND(CoffeeMachine(), CoffeeBeans(amount=P(lambda x: x <= 0))))\n",
    "    def add_coffee(self):\n",
    "        print(\"Add coffee to the coffee machine.\")\n",
    "\n",
    "    @Rule(AND(CoffeeMachine(), Milk(amount=P(lambda x: x <= 0))))\n",
    "    def add_milk(self):\n",
    "        print(\"Add milk to the coffee machine.\")\n",
    "\n",
    "    @Rule(AND(CoffeeMachine(), Grinder(status=\"empty\")))\n",
    "    def fill_grinder(self):\n",
    "        print(\"Fill grinder with coffee beans.\")\n",
    "\n",
    "    @Rule(AND(CoffeeMachine(), Heater(status=\"off\")))\n",
    "    def turn_on_heater(self):\n",
    "        print(\"Turn on heater.\")\n",
    "\n",
    "    @Rule(AND(CoffeeMachine(), Brew(status=\"ready\")))\n",
    "    def start_brewing(self):\n",
    "        print(\"Start brewing.\")\n",
    "\n",
    "    @Rule(AND(CoffeeMachine(), Nozzle(status=\"blocked\")))\n",
    "    def clear_nozzle(self):\n",
    "        print(\"Clear nozzle for dispensing.\")\n",
    "\n",
    "    @Rule(AND(CoffeeMachine(), UserInput(action=\"make_coffee\")))\n",
    "    def make_coffee(self):\n",
    "        print(\"Coffee brewing process initiated.\")"
   ],
   "metadata": {
    "collapsed": false
   },
   "id": "c07d1195520f4b61"
  },
  {
   "cell_type": "code",
   "outputs": [],
   "source": [
    "# Creating a coffee machine instance\n",
    "coffee_machine = CoffeeMachine()\n",
    "\n",
    "# Initializing the rules engine\n",
    "engine = CoffeeMachineRules()\n",
    "engine.reset()\n",
    "engine.declare(coffee_machine)\n",
    "\n",
    "# Example usage: Simulate user making coffee\n",
    "engine.declare(UserInput(action=\"make_coffee\"))\n",
    "engine.run()"
   ],
   "metadata": {
    "collapsed": false
   },
   "id": "c7931caf594b5b1d"
  }
 ],
 "metadata": {
  "kernelspec": {
   "display_name": "Python 3",
   "language": "python",
   "name": "python3"
  },
  "language_info": {
   "codemirror_mode": {
    "name": "ipython",
    "version": 2
   },
   "file_extension": ".py",
   "mimetype": "text/x-python",
   "name": "python",
   "nbconvert_exporter": "python",
   "pygments_lexer": "ipython2",
   "version": "2.7.6"
  }
 },
 "nbformat": 4,
 "nbformat_minor": 5
}
