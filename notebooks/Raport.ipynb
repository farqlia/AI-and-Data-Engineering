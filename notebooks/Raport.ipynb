{
 "cells": [
  {
   "cell_type": "markdown",
   "source": [
    "### Optymalizacja - problem przeszukiwania\n",
    "\n",
    "Lista skupia się na implementacji dwóch algorytmów z wykorzystaniem heurystyk i jednej metaheurystyki w problemie odnajdywania najkrótszych ścieżek"
   ],
   "metadata": {
    "collapsed": false
   },
   "id": "9a89342d1d7dec26"
  },
  {
   "cell_type": "markdown",
   "source": [
    "#### 1. Dijkstra \n",
    "\n",
    "Jest to algorytm zachłanny wybierający zawsze węzeł o najmniejszej wartości funkcji kosztu $f$. W tym przypadku wykorzystana została zmodyfikowana implementacja, która jest oparta na kolejce priorytetowej. Modyfikacja polega na tym, że \n",
    "1. Nie inicjalizujemy kolejki wszystkimi wierzchołkami, lecz tylko tymi początkowymi \n",
    "hm no wlasnie \n",
    "2. Nie przetrzymujemy listy odwiedzonych wierzchołków - może to powodować oddwiedzanie już wcześniej przebytych węzłów, ale w tym ??"
   ],
   "metadata": {
    "collapsed": false
   },
   "id": "237120253924f7d5"
  }
 ],
 "metadata": {
  "kernelspec": {
   "display_name": "Python 3",
   "language": "python",
   "name": "python3"
  },
  "language_info": {
   "codemirror_mode": {
    "name": "ipython",
    "version": 2
   },
   "file_extension": ".py",
   "mimetype": "text/x-python",
   "name": "python",
   "nbconvert_exporter": "python",
   "pygments_lexer": "ipython2",
   "version": "2.7.6"
  }
 },
 "nbformat": 4,
 "nbformat_minor": 5
}
